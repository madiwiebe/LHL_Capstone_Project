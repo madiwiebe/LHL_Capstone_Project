{
 "cells": [
  {
   "cell_type": "code",
   "execution_count": 1,
   "metadata": {},
   "outputs": [],
   "source": [
    "import pandas as pd\n",
    "import os\n",
    "import functions\n",
    "import psycopg2"
   ]
  },
  {
   "cell_type": "code",
   "execution_count": 2,
   "metadata": {},
   "outputs": [],
   "source": [
    "path_2 = '../data'"
   ]
  },
  {
   "cell_type": "code",
   "execution_count": 3,
   "metadata": {},
   "outputs": [],
   "source": [
    "# define an explicit path variable for processed data (required for pgAdmin4 to locate system files)\n",
    "path_3 = r\"D:\\School\\LHL\\capstone_project_data\\LHL_Capstone_Project\\data\""
   ]
  },
  {
   "cell_type": "markdown",
   "metadata": {},
   "source": [
    "FLNRO_WMB data cleaning (data too large to clean with Pandas)\n",
    "- only wind data available (no solar)\n",
    "\n",
    "Steps:\n",
    "- load into pgAdmin\n",
    "- remove irrelevant columns\n",
    "- rename relevant columns\n",
    "- drop rows without windspeed values\n",
    "- convert windspeed from km/h to m/s\n",
    "- remove rows with values outside of reasonable range\n",
    "- replace \"-\" with \"_\" in station_id column\n",
    "- add to wind_data_final"
   ]
  },
  {
   "cell_type": "code",
   "execution_count": 4,
   "metadata": {},
   "outputs": [
    {
     "name": "stdout",
     "output_type": "stream",
     "text": [
      "Creating FLNRO_WMB_data in database\n"
     ]
    }
   ],
   "source": [
    "# create FLNRO_WMB table in pgAdmin\n",
    "functions.create_sql_table('FLNRO_WMB_data.csv')"
   ]
  },
  {
   "cell_type": "code",
   "execution_count": 5,
   "metadata": {},
   "outputs": [
    {
     "name": "stdout",
     "output_type": "stream",
     "text": [
      "Adding columns to FLNRO_WMB_data\n",
      "Adding columns to FLNRO_WMB_data\n",
      "Adding columns to FLNRO_WMB_data\n",
      "Adding columns to FLNRO_WMB_data\n",
      "Adding columns to FLNRO_WMB_data\n",
      "Adding columns to FLNRO_WMB_data\n",
      "Adding columns to FLNRO_WMB_data\n",
      "Adding columns to FLNRO_WMB_data\n",
      "Adding columns to FLNRO_WMB_data\n",
      "Adding columns to FLNRO_WMB_data\n",
      "Adding columns to FLNRO_WMB_data\n",
      "Adding columns to FLNRO_WMB_data\n",
      "Adding columns to FLNRO_WMB_data\n",
      "Adding columns to FLNRO_WMB_data\n",
      "Adding columns to FLNRO_WMB_data\n",
      "Adding columns to FLNRO_WMB_data\n"
     ]
    }
   ],
   "source": [
    "# add column names\n",
    "functions.add_sql_columms('FLNRO_WMB_data.csv', path_3)"
   ]
  },
  {
   "cell_type": "code",
   "execution_count": 6,
   "metadata": {},
   "outputs": [
    {
     "name": "stdout",
     "output_type": "stream",
     "text": [
      "Adding values to FLNRO_WMB_data\n"
     ]
    }
   ],
   "source": [
    "# add values\n",
    "functions.add_values('FLNRO_WMB_data.csv', path_3)"
   ]
  },
  {
   "cell_type": "code",
   "execution_count": null,
   "metadata": {},
   "outputs": [
    {
     "data": {
      "text/plain": [
       "'\\nselect key as column, count(*) as null_values\\nfrom my_table t\\ncross join jsonb_each_text(to_jsonb(t))\\nwhere value is null\\ngroup by key;\\n'"
      ]
     },
     "metadata": {},
     "output_type": "display_data"
    }
   ],
   "source": [
    "# count nulls in each column\n",
    "# \"\"\"\n",
    "# select key as column, count(*) as null_values\n",
    "# from my_table t\n",
    "# cross join jsonb_each_text(to_jsonb(t))\n",
    "# where value is null\n",
    "# group by key;\n",
    "# \"\"\""
   ]
  },
  {
   "cell_type": "markdown",
   "metadata": {},
   "source": [
    "Output:\n",
    "\"column\"\t                \"null_values\"\n",
    "\"air_temp\"\t                47714451\n",
    "\"avg_wnd_dir_10m_pst10mts\"\t47683610\n",
    "\"avg_wnd_spd_10m_pst10mts\"\t48113491\n",
    "\"dwpt_temp\"\t                47739012\n",
    "\"precipitation\"\t            528426\n",
    "\"rel_hum\"\t                47636480\n",
    "\"relative_humidity\"\t        576502\n",
    "\"rnfl_amt_pst1hr\"\t        47636005\n",
    "\"rnfl_amt_pst24hrs\"\t        48040073\n",
    "\"snw_dpth\"\t                51832134\n",
    "\"temperature\"\t            916768\n",
    "\"wind_direction\"\t        677900\n",
    "\"wind_speed\"\t            567310"
   ]
  },
  {
   "cell_type": "code",
   "execution_count": 7,
   "metadata": {},
   "outputs": [
    {
     "name": "stdout",
     "output_type": "stream",
     "text": [
      "Converting 'time' column in flnro_wmb_data to timestamp\n"
     ]
    }
   ],
   "source": [
    "# drop everything except wind_speed, time, station_id, network_id\n",
    "postgres_password = os.environ['POSTGRES_PASS']\n",
    "con = psycopg2.connect(\n",
    "    database='lhl_capstone_project',\n",
    "    user='postgres',\n",
    "    password=f'{postgres_password}',\n",
    "    host='localhost',\n",
    "    port='5432'\n",
    ")\n",
    "con.rollback()\n",
    "cursor = con.cursor()\n",
    "\n",
    "table_name = 'flnro_wmb_data.csv'.split('.csv')[0]\n",
    "sql1 = f\"\"\"ALTER TABLE {table_name}\n",
    "        ALTER COLUMN time\n",
    "        TYPE timestamp\n",
    "        USING time::timestamp without time zone;\n",
    "\"\"\"\n",
    "print(f\"Converting 'time' column in {table_name} to timestamp\")\n",
    "cursor.execute(sql1)\n",
    "con.commit()\n"
   ]
  },
  {
   "cell_type": "code",
   "execution_count": 8,
   "metadata": {},
   "outputs": [
    {
     "name": "stdout",
     "output_type": "stream",
     "text": [
      "Creating flnro_wmb_wind table\n"
     ]
    }
   ],
   "source": [
    "# create flnro_wmb_wind table\n",
    "postgres_password = os.environ['POSTGRES_PASS']\n",
    "con = psycopg2.connect(\n",
    "    database='lhl_capstone_project',\n",
    "    user='postgres',\n",
    "    password=f'{postgres_password}',\n",
    "    host='localhost',\n",
    "    port='5432'\n",
    ")\n",
    "con.rollback()\n",
    "cursor = con.cursor()\n",
    "\n",
    "sql2 = f\"\"\"\n",
    "DROP TABLE IF EXISTS flnro_wmb_wind;\n",
    "CREATE TABLE flnro_wmb_wind\n",
    "(LIKE flnro_fern_wind);\n",
    "\"\"\"\n",
    "print(f\"Creating flnro_wmb_wind table\")\n",
    "cursor.execute(sql2)\n",
    "con.commit()"
   ]
  },
  {
   "cell_type": "code",
   "execution_count": 9,
   "metadata": {},
   "outputs": [
    {
     "name": "stdout",
     "output_type": "stream",
     "text": [
      "Adding values from flnro_wmb_data to flnro_wmb_wind\n",
      "Successfully added values\n"
     ]
    }
   ],
   "source": [
    "# copy relevant values into flnro_wmb_wind\n",
    "postgres_password = os.environ['POSTGRES_PASS']\n",
    "con = psycopg2.connect(\n",
    "    database='lhl_capstone_project',\n",
    "    user='postgres',\n",
    "    password=f'{postgres_password}',\n",
    "    host='localhost',\n",
    "    port='5432'\n",
    ")\n",
    "con.rollback()\n",
    "cursor = con.cursor()\n",
    "\n",
    "sql3 = f\"\"\"\n",
    "    INSERT INTO flnro_wmb_wind(wind_speed, time, station_id, network_id)\n",
    "    SELECT wind_speed, time, station_id, network_id \n",
    "    FROM flnro_wmb_data;\n",
    "\"\"\"\n",
    "print(f\"Adding values from flnro_wmb_data to flnro_wmb_wind\")\n",
    "\n",
    "cursor.execute(sql3)\n",
    "con.commit()\n",
    "print(f\"Successfully added values\")"
   ]
  },
  {
   "cell_type": "code",
   "execution_count": 10,
   "metadata": {},
   "outputs": [
    {
     "name": "stdout",
     "output_type": "stream",
     "text": [
      "Deleting rows from flnro_wmb_wind where wind_speed is null\n",
      "Rows successfully deleted\n"
     ]
    }
   ],
   "source": [
    "# drop rows where wind_speed is null\n",
    "# initial count of fnlro_wmb_wind: 53568449\n",
    "postgres_password = os.environ['POSTGRES_PASS']\n",
    "con = psycopg2.connect(\n",
    "    database='lhl_capstone_project',\n",
    "    user='postgres',\n",
    "    password=f'{postgres_password}',\n",
    "    host='localhost',\n",
    "    port='5432'\n",
    ")\n",
    "con.rollback()\n",
    "cursor = con.cursor()\n",
    "\n",
    "sql = f\"\"\"\n",
    "    DELETE FROM flnro_wmb_wind\n",
    "    WHERE wind_speed IS NULL;\n",
    "\"\"\"\n",
    "print(f\"Deleting rows from flnro_wmb_wind where wind_speed is null\")\n",
    "\n",
    "cursor.execute(sql)\n",
    "con.commit()\n",
    "\n",
    "print(\"Rows successfully deleted\")"
   ]
  },
  {
   "cell_type": "markdown",
   "metadata": {},
   "source": [
    "Row count after deleting: 53001139"
   ]
  },
  {
   "cell_type": "code",
   "execution_count": 11,
   "metadata": {},
   "outputs": [
    {
     "name": "stdout",
     "output_type": "stream",
     "text": [
      "Converting wind_speed to m/s\n",
      "Column successfully converted\n"
     ]
    }
   ],
   "source": [
    "# convert wind speed from km/h to m/s\n",
    "postgres_password = os.environ['POSTGRES_PASS']\n",
    "con = psycopg2.connect(\n",
    "    database='lhl_capstone_project',\n",
    "    user='postgres',\n",
    "    password=f'{postgres_password}',\n",
    "    host='localhost',\n",
    "    port='5432'\n",
    ")\n",
    "con.rollback()\n",
    "cursor = con.cursor()\n",
    "\n",
    "sql = \"\"\"UPDATE flnro_wmb_wind SET wind_speed = wind_speed / 3.6\"\"\"\n",
    "\n",
    "print('Converting wind_speed to m/s')\n",
    "\n",
    "cursor.execute(sql)\n",
    "con.commit()\n",
    "\n",
    "print('Column successfully converted')"
   ]
  },
  {
   "cell_type": "code",
   "execution_count": 12,
   "metadata": {},
   "outputs": [
    {
     "name": "stdout",
     "output_type": "stream",
     "text": [
      "Deleting rows where wind_speed values are out of reasonable range\n",
      "Rows successfully deleted\n"
     ]
    }
   ],
   "source": [
    "# remove values outside of reasonable range\n",
    "postgres_password = os.environ['POSTGRES_PASS']\n",
    "con = psycopg2.connect(\n",
    "    database='lhl_capstone_project',\n",
    "    user='postgres',\n",
    "    password=f'{postgres_password}',\n",
    "    host='localhost',\n",
    "    port='5432'\n",
    ")\n",
    "con.rollback()\n",
    "cursor = con.cursor()\n",
    "\n",
    "sql = \"\"\"DELETE FROM flnro_wmb_wind \n",
    "        WHERE wind_speed > 65 OR wind_speed < 0\n",
    "\"\"\"\n",
    "\n",
    "print('Deleting rows where wind_speed values are out of reasonable range')\n",
    "\n",
    "cursor.execute(sql)\n",
    "con.commit()\n",
    "\n",
    "print('Rows successfully deleted')"
   ]
  },
  {
   "cell_type": "code",
   "execution_count": 13,
   "metadata": {},
   "outputs": [
    {
     "name": "stdout",
     "output_type": "stream",
     "text": [
      "Converting FLNRO-WMB to FLNRO_WMB\n",
      "Network ID successfully converted\n"
     ]
    }
   ],
   "source": [
    "# convert network_id from FLNRO-WMB to FLNRO_WMB\n",
    "postgres_password = os.environ['POSTGRES_PASS']\n",
    "con = psycopg2.connect(\n",
    "    database='lhl_capstone_project',\n",
    "    user='postgres',\n",
    "    password=f'{postgres_password}',\n",
    "    host='localhost',\n",
    "    port='5432'\n",
    ")\n",
    "con.rollback()\n",
    "cursor = con.cursor()\n",
    "\n",
    "sql = \"\"\"UPDATE flnro_wmb_wind SET network_id = REPLACE(network_id, 'FLNRO-WMB', 'FLNRO_WMB')\"\"\"\n",
    "\n",
    "print('Converting FLNRO-WMB to FLNRO_WMB')\n",
    "\n",
    "cursor.execute(sql)\n",
    "con.commit()\n",
    "\n",
    "print('Network ID successfully converted')"
   ]
  },
  {
   "cell_type": "code",
   "execution_count": 15,
   "metadata": {},
   "outputs": [
    {
     "name": "stdout",
     "output_type": "stream",
     "text": [
      "Copying flnro_wmb_wind values to wind_data\n",
      "Successfully copied values\n"
     ]
    }
   ],
   "source": [
    "# add values to wind_data\n",
    "postgres_password = os.environ['POSTGRES_PASS']\n",
    "con = psycopg2.connect(\n",
    "    database='lhl_capstone_project',\n",
    "    user='postgres',\n",
    "    password=f'{postgres_password}',\n",
    "    host='localhost',\n",
    "    port='5432'\n",
    ")\n",
    "con.rollback()\n",
    "cursor = con.cursor()\n",
    "\n",
    "sql = \"\"\"INSERT INTO wind_data(wind_speed, time, station_id, network_id)\n",
    "        SELECT wind_speed, time, station_id, network_id\n",
    "        FROM flnro_wmb_wind\n",
    "\"\"\"\n",
    "\n",
    "print('Copying flnro_wmb_wind values to wind_data')\n",
    "cursor.execute(sql)\n",
    "con.commit()\n",
    "print('Successfully copied values')"
   ]
  },
  {
   "cell_type": "markdown",
   "metadata": {},
   "source": []
  }
 ],
 "metadata": {
  "kernelspec": {
   "display_name": "lhl_env",
   "language": "python",
   "name": "python3"
  },
  "language_info": {
   "codemirror_mode": {
    "name": "ipython",
    "version": 3
   },
   "file_extension": ".py",
   "mimetype": "text/x-python",
   "name": "python",
   "nbconvert_exporter": "python",
   "pygments_lexer": "ipython3",
   "version": "3.11.5"
  }
 },
 "nbformat": 4,
 "nbformat_minor": 2
}
