{
 "cells": [
  {
   "cell_type": "code",
   "execution_count": 1,
   "metadata": {},
   "outputs": [],
   "source": [
    "import pandas as pd\n",
    "import os\n",
    "import functions\n",
    "import psycopg2"
   ]
  },
  {
   "cell_type": "code",
   "execution_count": null,
   "metadata": {},
   "outputs": [],
   "source": [
    "# delete rows in wind_data_final where wind_speed is null\n",
    "postgres_password = os.environ['POSTGRES_PASS']\n",
    "con = psycopg2.connect(\n",
    "    database='lhl_capstone_project',\n",
    "    user='postgres',\n",
    "    password=f'{postgres_password}',\n",
    "    host='localhost',\n",
    "    port='5432'\n",
    ")\n",
    "con.rollback()\n",
    "cursor = con.cursor()\n",
    "\n",
    "sql = f\"\"\"\n",
    "DELETE\n",
    "FROM wind_data_final\n",
    "WHERE wind_speed IS NULL;\n",
    "\"\"\"\n",
    "\n",
    "cursor.execute(sql)\n",
    "con.commit()\n",
    "print(\"Successfully deleted rows where wind_speed is null\")"
   ]
  },
  {
   "cell_type": "code",
   "execution_count": 2,
   "metadata": {},
   "outputs": [
    {
     "name": "stdout",
     "output_type": "stream",
     "text": [
      "Successfully deleted rows where solar_radiation is null\n"
     ]
    }
   ],
   "source": [
    "# delete rows in solar_data_final where solar_radiation is null\n",
    "postgres_password = os.environ['POSTGRES_PASS']\n",
    "con = psycopg2.connect(\n",
    "    database='lhl_capstone_project',\n",
    "    user='postgres',\n",
    "    password=f'{postgres_password}',\n",
    "    host='localhost',\n",
    "    port='5432'\n",
    ")\n",
    "con.rollback()\n",
    "cursor = con.cursor()\n",
    "\n",
    "sql = f\"\"\"\n",
    "DELETE\n",
    "FROM solar_data_final\n",
    "WHERE solar_radiation IS NULL;\n",
    "\"\"\"\n",
    "\n",
    "cursor.execute(sql)\n",
    "con.commit()\n",
    "print(\"Successfully deleted rows where solar_radiation is null\")"
   ]
  },
  {
   "cell_type": "code",
   "execution_count": null,
   "metadata": {},
   "outputs": [],
   "source": [
    "# check for negative values in solar_radiation\n",
    "postgres_password = os.environ['POSTGRES_PASS']\n",
    "con = psycopg2.connect(\n",
    "    database='lhl_capstone_project',\n",
    "    user='postgres',\n",
    "    password=f'{postgres_password}',\n",
    "    host='localhost',\n",
    "    port='5432'\n",
    ")\n",
    "con.rollback()\n",
    "cursor = con.cursor()\n",
    "\n",
    "sql = f\"\"\"\n",
    "DELETE\n",
    "FROM solar_data_final\n",
    "WHERE solar_radiation < 0;\n",
    "\"\"\"\n",
    "\n",
    "cursor.execute(sql)\n",
    "con.commit()\n",
    "print(\"Successfully deleted rows where solar_radiation is null\")"
   ]
  },
  {
   "cell_type": "markdown",
   "metadata": {},
   "source": [
    "Check for rows where solar_radiation is negative:\n",
    "```\n",
    "SELECT COUNT(*)\n",
    "FROM solar_data_final\n",
    "WHERE solar_radiation < 0;\n",
    "```"
   ]
  },
  {
   "cell_type": "markdown",
   "metadata": {},
   "source": [
    "Output: 58129"
   ]
  },
  {
   "cell_type": "code",
   "execution_count": 3,
   "metadata": {},
   "outputs": [
    {
     "name": "stdout",
     "output_type": "stream",
     "text": [
      "Successfully deleted rows where solar_radiation is null\n"
     ]
    }
   ],
   "source": [
    "# drop rows where solar_radiation is negative\n",
    "postgres_password = os.environ['POSTGRES_PASS']\n",
    "con = psycopg2.connect(\n",
    "    database='lhl_capstone_project',\n",
    "    user='postgres',\n",
    "    password=f'{postgres_password}',\n",
    "    host='localhost',\n",
    "    port='5432'\n",
    ")\n",
    "con.rollback()\n",
    "cursor = con.cursor()\n",
    "\n",
    "sql = f\"\"\"\n",
    "DELETE\n",
    "FROM solar_data_final\n",
    "WHERE solar_radiation < 0;\n",
    "\"\"\"\n",
    "\n",
    "cursor.execute(sql)\n",
    "con.commit()\n",
    "print(\"Successfully deleted rows where solar_radiation is negative\")"
   ]
  },
  {
   "cell_type": "markdown",
   "metadata": {},
   "source": [
    "Check for rows where wind_speed is negative:\n",
    "```\n",
    "SELECT COUNT(*)\n",
    "FROM wind_data_final\n",
    "WHERE wind_speed < 0;\n",
    "```"
   ]
  },
  {
   "cell_type": "markdown",
   "metadata": {},
   "source": [
    "Output: 39243"
   ]
  },
  {
   "cell_type": "code",
   "execution_count": 4,
   "metadata": {},
   "outputs": [
    {
     "name": "stdout",
     "output_type": "stream",
     "text": [
      "Successfully deleted rows where wind_speed is negative\n"
     ]
    }
   ],
   "source": [
    "# drop rows where wind_speed is negative\n",
    "postgres_password = os.environ['POSTGRES_PASS']\n",
    "con = psycopg2.connect(\n",
    "    database='lhl_capstone_project',\n",
    "    user='postgres',\n",
    "    password=f'{postgres_password}',\n",
    "    host='localhost',\n",
    "    port='5432'\n",
    ")\n",
    "con.rollback()\n",
    "cursor = con.cursor()\n",
    "\n",
    "sql = f\"\"\"\n",
    "DELETE\n",
    "FROM wind_data_final\n",
    "WHERE wind_speed < 0;\n",
    "\"\"\"\n",
    "\n",
    "cursor.execute(sql)\n",
    "con.commit()\n",
    "print(\"Successfully deleted rows where wind_speed is negative\")"
   ]
  },
  {
   "cell_type": "markdown",
   "metadata": {},
   "source": []
  },
  {
   "cell_type": "markdown",
   "metadata": {},
   "source": [
    "### Examine column stats to inform null value handling for air_pressure, air_temperature, and relative_humidity"
   ]
  },
  {
   "cell_type": "code",
   "execution_count": 2,
   "metadata": {},
   "outputs": [
    {
     "name": "stdout",
     "output_type": "stream",
     "text": [
      "Fetching results for air_pressure...\n",
      "air_pressure max, min, avg: (1323.0, -10000.0, 879.7074028176639)\n",
      "Fetching results for air_temperature...\n",
      "air_temperature max, min, avg: (99.6, -7999.0, 7.627473827299756)\n",
      "Fetching results for relative_humidity...\n",
      "relative_humidity max, min, avg: (950.0, -8190.0, 72.48144837430874)\n"
     ]
    }
   ],
   "source": [
    "for column_name in ['air_pressure', 'air_temperature', 'relative_humidity']:\n",
    "    stats = functions.max_min_avg('wind_data_final', column_name)\n",
    "    print(f\"{column_name} max, min, avg: {stats}\")"
   ]
  },
  {
   "cell_type": "markdown",
   "metadata": {},
   "source": [
    "Count rows where values exceed reasonable ranges:\n",
    "- relative_humidity is less than zero or greater than 100\n",
    "- air_temperature is greater than 50 or less than -60\n",
    "    - highest recorded temperature ever in Canada was 49.6 C (Lytton, BC, June 29 2021)\n",
    "    - lowest recorded temperature in Canada was -63.0 C (Takhini, YK, Feb 3 1947)\n",
    "- air_pressure is greater than 1100 or less than 900\n",
    "    - 1071.9 mb highest recorded (Whitehorse, YK, Feb 1989)\n",
    "    - 940.2 mb lowest recorded (St Anthony, NL, March 13 2022)"
   ]
  },
  {
   "cell_type": "markdown",
   "metadata": {},
   "source": [
    "SQL queries:\n",
    "\n",
    "```\n",
    "SELECT COUNT(air_pressure)\n",
    "FROM wind_data_final\n",
    "WHERE air_pressure > 1100 OR air_pressure < 900\n",
    ";\n",
    "\n",
    "SELECT COUNT(air_temperature)\n",
    "FROM wind_data_final\n",
    "WHERE air_temperature > 50 OR air_temperature < -60\n",
    ";\n",
    "\n",
    "SELECT COUNT(relative_humidity)\n",
    "FROM wind_data_final\n",
    "WHERE relative_humidity > 100 OR relative_humidity < 0\n",
    ";\n",
    "\n",
    "SELECT COUNT(*)\n",
    "FROM wind_data_final\n",
    ";\n",
    "```"
   ]
  },
  {
   "cell_type": "markdown",
   "metadata": {},
   "source": [
    "Counts:\n",
    "- air_temperature: 25035\n",
    "- air_pressure: 1863499\n",
    "- relative_humidity: 943685\n",
    "- total rows: 39981579"
   ]
  },
  {
   "cell_type": "code",
   "execution_count": 3,
   "metadata": {},
   "outputs": [
    {
     "name": "stdout",
     "output_type": "stream",
     "text": [
      "Successfully deleted rows where variables were out of reasonable range\n"
     ]
    }
   ],
   "source": [
    "# drop rows where values are out of reasonable range:\n",
    "postgres_password = os.environ['POSTGRES_PASS']\n",
    "con = psycopg2.connect(\n",
    "    database='lhl_capstone_project',\n",
    "    user='postgres',\n",
    "    password=f'{postgres_password}',\n",
    "    host='localhost',\n",
    "    port='5432'\n",
    ")\n",
    "con.rollback()\n",
    "cursor = con.cursor()\n",
    "\n",
    "sql = f\"\"\"\n",
    "DELETE\n",
    "FROM wind_data_final\n",
    "WHERE (air_pressure > 1100 OR air_pressure < 900) \n",
    "    OR (air_temperature > 50 OR air_temperature < -60) \n",
    "    OR (relative_humidity > 100 OR relative_humidity < 0);\n",
    "\"\"\"\n",
    "\n",
    "cursor.execute(sql)\n",
    "con.commit()\n",
    "print(\"Successfully deleted rows where variables were out of reasonable range\")"
   ]
  },
  {
   "cell_type": "markdown",
   "metadata": {},
   "source": [
    "Number of rows deleted: 2571092"
   ]
  },
  {
   "cell_type": "code",
   "execution_count": 4,
   "metadata": {},
   "outputs": [
    {
     "name": "stdout",
     "output_type": "stream",
     "text": [
      "Fetching results for air_pressure...\n",
      "air_pressure max, min, avg: (1100.0, 900.0, 949.014924843145)\n",
      "Fetching results for air_temperature...\n",
      "air_temperature max, min, avg: (49.98, -59.64, 8.066938445934394)\n",
      "Fetching results for relative_humidity...\n",
      "relative_humidity max, min, avg: (100.0, 0.0, 72.00040252533972)\n"
     ]
    }
   ],
   "source": [
    "# check refreshed max, min, avg values\n",
    "for column_name in ['air_pressure', 'air_temperature', 'relative_humidity']:\n",
    "    stats = functions.max_min_avg('wind_data_final', column_name)\n",
    "    print(f\"{column_name} max, min, avg: {stats}\")"
   ]
  },
  {
   "cell_type": "markdown",
   "metadata": {},
   "source": [
    "*Note: these values are still rather suspicious, especially those for air_pressure. With more time, a more thorough investigation should occur, but in the interest of time, the approach to outlier values has been to remove them.*"
   ]
  },
  {
   "cell_type": "markdown",
   "metadata": {},
   "source": [
    "### Fill null values in air_pressure, air_temperature, relative_humidity with averages"
   ]
  },
  {
   "cell_type": "code",
   "execution_count": 2,
   "metadata": {},
   "outputs": [
    {
     "name": "stdout",
     "output_type": "stream",
     "text": [
      "Counting null values for air_pressure...\n",
      "Number of null values in air_pressure: 34482464\n",
      "Counting null values for air_temperature...\n",
      "Number of null values in air_temperature: 708658\n",
      "Counting null values for relative_humidity...\n",
      "Number of null values in relative_humidity: 1735228\n"
     ]
    }
   ],
   "source": [
    "# count null values in each column\n",
    "for column_name in ['air_pressure', 'air_temperature', 'relative_humidity']:\n",
    "    null_count = functions.count_na('wind_data_final', column_name)\n",
    "    print(f\"Number of null values in {column_name}: {null_count}\")"
   ]
  },
  {
   "cell_type": "code",
   "execution_count": 2,
   "metadata": {},
   "outputs": [
    {
     "name": "stdout",
     "output_type": "stream",
     "text": [
      "Calculating average for air_pressure...\n",
      "Filling null values for air_pressure...\n",
      "Calculating average for air_temperature...\n",
      "Filling null values for air_temperature...\n",
      "Calculating average for relative_humidity...\n",
      "Filling null values for relative_humidity...\n"
     ]
    }
   ],
   "source": [
    "for column_name in ['air_pressure', 'air_temperature', 'relative_humidity']:\n",
    "    functions.fill_na_with_avg('wind_data_final', column_name)"
   ]
  },
  {
   "cell_type": "code",
   "execution_count": 3,
   "metadata": {},
   "outputs": [
    {
     "name": "stdout",
     "output_type": "stream",
     "text": [
      "Counting null values for air_pressure...\n",
      "Number of null values in air_pressure: 0\n",
      "Counting null values for air_temperature...\n",
      "Number of null values in air_temperature: 0\n",
      "Counting null values for relative_humidity...\n",
      "Number of null values in relative_humidity: 0\n"
     ]
    }
   ],
   "source": [
    "# check again for null values\n",
    "for column_name in ['air_pressure', 'air_temperature', 'relative_humidity']:\n",
    "    null_count = functions.count_na('wind_data_final', column_name)\n",
    "    print(f\"Number of null values in {column_name}: {null_count}\")"
   ]
  },
  {
   "cell_type": "markdown",
   "metadata": {},
   "source": [
    "Export database tables to .csv, then begin visualizations in Tableau."
   ]
  }
 ],
 "metadata": {
  "kernelspec": {
   "display_name": "lhl_env",
   "language": "python",
   "name": "python3"
  },
  "language_info": {
   "codemirror_mode": {
    "name": "ipython",
    "version": 3
   },
   "file_extension": ".py",
   "mimetype": "text/x-python",
   "name": "python",
   "nbconvert_exporter": "python",
   "pygments_lexer": "ipython3",
   "version": "3.11.5"
  }
 },
 "nbformat": 4,
 "nbformat_minor": 2
}
