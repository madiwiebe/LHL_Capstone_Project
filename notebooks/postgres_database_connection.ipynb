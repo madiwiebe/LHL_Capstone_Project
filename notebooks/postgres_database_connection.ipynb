{
 "cells": [
  {
   "cell_type": "code",
   "execution_count": 1,
   "metadata": {},
   "outputs": [],
   "source": [
    "import pandas as pd\n",
    "import os\n",
    "import functions\n",
    "import psycopg2"
   ]
  },
  {
   "cell_type": "code",
   "execution_count": 2,
   "metadata": {},
   "outputs": [],
   "source": [
    "# define path variable for data folder containing concatenated .csv files\n",
    "path_2 = '../data'"
   ]
  },
  {
   "cell_type": "code",
   "execution_count": 3,
   "metadata": {},
   "outputs": [],
   "source": [
    "# define an explicit path variable for processed data (required for pgAdmin4 to locate system files)\n",
    "path_3 = r\"D:\\School\\LHL\\capstone_project_data\\LHL_Capstone_Project\\data\""
   ]
  },
  {
   "cell_type": "code",
   "execution_count": 4,
   "metadata": {},
   "outputs": [
    {
     "data": {
      "text/plain": [
       "['BCH_data_clean.csv',\n",
       " 'BCH_solar.csv',\n",
       " 'BCH_wind.csv',\n",
       " 'CRD_data_clean.csv',\n",
       " 'CRD_solar.csv',\n",
       " 'CRD_wind.csv',\n",
       " 'EC_raw_data_clean.csv',\n",
       " 'EC_raw_wind.csv',\n",
       " 'ENV_AQN_data_clean.csv',\n",
       " 'ENV_AQN_wind.csv',\n",
       " 'final_tables',\n",
       " 'FLNRO_FERN_data.csv',\n",
       " 'FLNRO_FERN_solar.csv',\n",
       " 'FLNRO_FERN_wind.csv',\n",
       " 'FLNRO_WMB_data.csv',\n",
       " 'metadata',\n",
       " 'MoTIe_data_clean.csv',\n",
       " 'MoTIe_wind.csv',\n",
       " 'MoTIm_data_clean.csv',\n",
       " 'MoTIm_wind.csv',\n",
       " 'MVan_data_clean.csv',\n",
       " 'MVan_wind.csv',\n",
       " 'UNBC_CAM_data_clean.csv',\n",
       " 'UNBC_CAM_solar.csv',\n",
       " 'UNBC_CAM_wind.csv']"
      ]
     },
     "execution_count": 4,
     "metadata": {},
     "output_type": "execute_result"
    }
   ],
   "source": [
    "# create list of files\n",
    "files = os.listdir(path_2)\n",
    "files"
   ]
  },
  {
   "cell_type": "code",
   "execution_count": 7,
   "metadata": {},
   "outputs": [
    {
     "data": {
      "text/plain": [
       "['BCH_data_clean.csv',\n",
       " 'BCH_solar.csv',\n",
       " 'BCH_wind.csv',\n",
       " 'CRD_data_clean.csv',\n",
       " 'CRD_solar.csv',\n",
       " 'CRD_wind.csv',\n",
       " 'EC_raw_data_clean.csv',\n",
       " 'EC_raw_wind.csv',\n",
       " 'ENV_AQN_data_clean.csv',\n",
       " 'ENV_AQN_wind.csv',\n",
       " 'FLNRO_FERN_data.csv',\n",
       " 'FLNRO_FERN_solar.csv',\n",
       " 'FLNRO_FERN_wind.csv',\n",
       " 'FLNRO_WMB_data.csv',\n",
       " 'MoTIe_data_clean.csv',\n",
       " 'MoTIe_wind.csv',\n",
       " 'MoTIm_data_clean.csv',\n",
       " 'MoTIm_wind.csv',\n",
       " 'MVan_data_clean.csv',\n",
       " 'MVan_wind.csv',\n",
       " 'UNBC_CAM_data_clean.csv',\n",
       " 'UNBC_CAM_solar.csv',\n",
       " 'UNBC_CAM_wind.csv']"
      ]
     },
     "execution_count": 7,
     "metadata": {},
     "output_type": "execute_result"
    }
   ],
   "source": [
    "# remove 'metadata' and 'final_tables' from list\n",
    "files.remove('metadata')\n",
    "files.remove('final_tables')\n",
    "files"
   ]
  },
  {
   "cell_type": "markdown",
   "metadata": {},
   "source": [
    "### Create tables in Postgres database"
   ]
  },
  {
   "cell_type": "code",
   "execution_count": 8,
   "metadata": {},
   "outputs": [
    {
     "name": "stdout",
     "output_type": "stream",
     "text": [
      "Creating BCH_data_clean in database\n",
      "Creating BCH_solar in database\n",
      "Creating BCH_wind in database\n",
      "Creating CRD_data_clean in database\n",
      "Creating CRD_solar in database\n",
      "Creating CRD_wind in database\n",
      "Creating EC_raw_data_clean in database\n",
      "Creating EC_raw_wind in database\n",
      "Creating ENV_AQN_data_clean in database\n",
      "Creating ENV_AQN_wind in database\n",
      "Creating FLNRO_FERN_data in database\n",
      "Creating FLNRO_FERN_solar in database\n",
      "Creating FLNRO_FERN_wind in database\n",
      "Creating FLNRO_WMB_data in database\n",
      "Creating MoTIe_data_clean in database\n",
      "Creating MoTIe_wind in database\n",
      "Creating MoTIm_data_clean in database\n",
      "Creating MoTIm_wind in database\n",
      "Creating MVan_data_clean in database\n",
      "Creating MVan_wind in database\n",
      "Creating UNBC_CAM_data_clean in database\n",
      "Creating UNBC_CAM_solar in database\n",
      "Creating UNBC_CAM_wind in database\n"
     ]
    }
   ],
   "source": [
    "for file in files:\n",
    "    functions.create_sql_table(file)"
   ]
  },
  {
   "cell_type": "markdown",
   "metadata": {},
   "source": [
    "### Create columns in Postgres tables"
   ]
  },
  {
   "cell_type": "code",
   "execution_count": 11,
   "metadata": {},
   "outputs": [
    {
     "name": "stdout",
     "output_type": "stream",
     "text": [
      "Adding columns to BCH_data_clean\n",
      "Adding columns to BCH_data_clean\n",
      "Adding columns to BCH_data_clean\n",
      "Adding columns to BCH_data_clean\n",
      "Adding columns to BCH_data_clean\n",
      "Adding columns to BCH_data_clean\n",
      "Adding columns to BCH_data_clean\n",
      "Adding columns to BCH_data_clean\n",
      "Adding columns to BCH_data_clean\n",
      "Adding columns to BCH_data_clean\n",
      "Adding columns to BCH_data_clean\n",
      "Adding columns to BCH_data_clean\n",
      "Adding columns to BCH_data_clean\n",
      "Adding columns to BCH_data_clean\n",
      "Adding columns to BCH_data_clean\n",
      "Adding columns to BCH_data_clean\n",
      "Adding columns to BCH_data_clean\n",
      "Adding columns to BCH_data_clean\n",
      "Adding columns to BCH_data_clean\n",
      "Adding columns to BCH_data_clean\n",
      "Adding columns to BCH_data_clean\n",
      "Adding columns to BCH_data_clean\n",
      "Adding columns to BCH_data_clean\n",
      "Adding columns to BCH_data_clean\n",
      "Adding columns to BCH_data_clean\n",
      "Adding columns to BCH_data_clean\n",
      "Adding columns to BCH_data_clean\n",
      "Adding columns to BCH_solar\n",
      "Adding columns to BCH_solar\n",
      "Adding columns to BCH_solar\n",
      "Adding columns to BCH_solar\n",
      "Adding columns to BCH_wind\n",
      "Adding columns to BCH_wind\n",
      "Adding columns to BCH_wind\n",
      "Adding columns to BCH_wind\n",
      "Adding columns to CRD_data_clean\n",
      "Adding columns to CRD_data_clean\n",
      "Adding columns to CRD_data_clean\n",
      "Adding columns to CRD_data_clean\n",
      "Adding columns to CRD_data_clean\n",
      "Adding columns to CRD_data_clean\n",
      "Adding columns to CRD_data_clean\n",
      "Adding columns to CRD_data_clean\n",
      "Adding columns to CRD_data_clean\n",
      "Adding columns to CRD_data_clean\n",
      "Adding columns to CRD_data_clean\n",
      "Adding columns to CRD_data_clean\n",
      "Adding columns to CRD_solar\n",
      "Adding columns to CRD_solar\n",
      "Adding columns to CRD_solar\n",
      "Adding columns to CRD_solar\n",
      "Adding columns to CRD_wind\n",
      "Adding columns to CRD_wind\n",
      "Adding columns to CRD_wind\n",
      "Adding columns to CRD_wind\n",
      "Adding columns to EC_raw_data_clean\n",
      "Adding columns to EC_raw_data_clean\n",
      "Adding columns to EC_raw_data_clean\n",
      "Adding columns to EC_raw_data_clean\n",
      "Adding columns to EC_raw_data_clean\n",
      "Adding columns to EC_raw_data_clean\n",
      "Adding columns to EC_raw_data_clean\n",
      "Adding columns to EC_raw_data_clean\n",
      "Adding columns to EC_raw_data_clean\n",
      "Adding columns to EC_raw_data_clean\n",
      "Adding columns to EC_raw_data_clean\n",
      "Adding columns to EC_raw_data_clean\n",
      "Adding columns to EC_raw_data_clean\n",
      "Adding columns to EC_raw_data_clean\n",
      "Adding columns to EC_raw_data_clean\n",
      "Adding columns to EC_raw_data_clean\n",
      "Adding columns to EC_raw_wind\n",
      "Adding columns to EC_raw_wind\n",
      "Adding columns to EC_raw_wind\n",
      "Adding columns to EC_raw_wind\n",
      "Adding columns to ENV_AQN_data_clean\n",
      "Adding columns to ENV_AQN_data_clean\n",
      "Adding columns to ENV_AQN_data_clean\n",
      "Adding columns to ENV_AQN_data_clean\n",
      "Adding columns to ENV_AQN_data_clean\n",
      "Adding columns to ENV_AQN_data_clean\n",
      "Adding columns to ENV_AQN_data_clean\n",
      "Adding columns to ENV_AQN_data_clean\n",
      "Adding columns to ENV_AQN_data_clean\n",
      "Adding columns to ENV_AQN_data_clean\n",
      "Adding columns to ENV_AQN_data_clean\n",
      "Adding columns to ENV_AQN_wind\n",
      "Adding columns to ENV_AQN_wind\n",
      "Adding columns to ENV_AQN_wind\n",
      "Adding columns to ENV_AQN_wind\n",
      "Adding columns to FLNRO_FERN_data\n",
      "Adding columns to FLNRO_FERN_data\n",
      "Adding columns to FLNRO_FERN_data\n",
      "Adding columns to FLNRO_FERN_data\n",
      "Adding columns to FLNRO_FERN_data\n",
      "Adding columns to FLNRO_FERN_data\n",
      "Adding columns to FLNRO_FERN_data\n",
      "Adding columns to FLNRO_FERN_data\n",
      "Adding columns to FLNRO_FERN_data\n",
      "Adding columns to FLNRO_FERN_data\n",
      "Adding columns to FLNRO_FERN_data\n",
      "Adding columns to FLNRO_FERN_data\n",
      "Adding columns to FLNRO_FERN_data\n",
      "Adding columns to FLNRO_FERN_data\n",
      "Adding columns to FLNRO_FERN_data\n",
      "Adding columns to FLNRO_FERN_data\n",
      "Adding columns to FLNRO_FERN_data\n",
      "Adding columns to FLNRO_FERN_data\n",
      "Adding columns to FLNRO_FERN_solar\n",
      "Adding columns to FLNRO_FERN_solar\n",
      "Adding columns to FLNRO_FERN_solar\n",
      "Adding columns to FLNRO_FERN_solar\n",
      "Adding columns to FLNRO_FERN_wind\n",
      "Adding columns to FLNRO_FERN_wind\n",
      "Adding columns to FLNRO_FERN_wind\n",
      "Adding columns to FLNRO_FERN_wind\n",
      "Adding columns to FLNRO_WMB_data\n",
      "Adding columns to FLNRO_WMB_data\n",
      "Adding columns to FLNRO_WMB_data\n",
      "Adding columns to FLNRO_WMB_data\n",
      "Adding columns to FLNRO_WMB_data\n",
      "Adding columns to FLNRO_WMB_data\n",
      "Adding columns to FLNRO_WMB_data\n",
      "Adding columns to FLNRO_WMB_data\n",
      "Adding columns to FLNRO_WMB_data\n",
      "Adding columns to FLNRO_WMB_data\n",
      "Adding columns to FLNRO_WMB_data\n",
      "Adding columns to FLNRO_WMB_data\n",
      "Adding columns to FLNRO_WMB_data\n",
      "Adding columns to FLNRO_WMB_data\n",
      "Adding columns to FLNRO_WMB_data\n",
      "Adding columns to FLNRO_WMB_data\n",
      "Adding columns to MoTIe_data_clean\n",
      "Adding columns to MoTIe_data_clean\n",
      "Adding columns to MoTIe_data_clean\n",
      "Adding columns to MoTIe_data_clean\n",
      "Adding columns to MoTIe_data_clean\n",
      "Adding columns to MoTIe_data_clean\n",
      "Adding columns to MoTIe_data_clean\n",
      "Adding columns to MoTIe_data_clean\n",
      "Adding columns to MoTIe_data_clean\n",
      "Adding columns to MoTIe_data_clean\n",
      "Adding columns to MoTIe_data_clean\n",
      "Adding columns to MoTIe_data_clean\n",
      "Adding columns to MoTIe_data_clean\n",
      "Adding columns to MoTIe_data_clean\n",
      "Adding columns to MoTIe_data_clean\n",
      "Adding columns to MoTIe_data_clean\n",
      "Adding columns to MoTIe_data_clean\n",
      "Adding columns to MoTIe_data_clean\n",
      "Adding columns to MoTIe_data_clean\n",
      "Adding columns to MoTIe_data_clean\n",
      "Adding columns to MoTIe_data_clean\n",
      "Adding columns to MoTIe_data_clean\n",
      "Adding columns to MoTIe_data_clean\n",
      "Adding columns to MoTIe_data_clean\n",
      "Adding columns to MoTIe_data_clean\n",
      "Adding columns to MoTIe_data_clean\n",
      "Adding columns to MoTIe_data_clean\n",
      "Adding columns to MoTIe_data_clean\n",
      "Adding columns to MoTIe_data_clean\n",
      "Adding columns to MoTIe_data_clean\n",
      "Adding columns to MoTIe_data_clean\n",
      "Adding columns to MoTIe_data_clean\n",
      "Adding columns to MoTIe_data_clean\n",
      "Adding columns to MoTIe_data_clean\n",
      "Adding columns to MoTIe_wind\n",
      "Adding columns to MoTIe_wind\n",
      "Adding columns to MoTIe_wind\n",
      "Adding columns to MoTIe_wind\n",
      "Adding columns to MoTIm_data_clean\n",
      "Adding columns to MoTIm_data_clean\n",
      "Adding columns to MoTIm_data_clean\n",
      "Adding columns to MoTIm_data_clean\n",
      "Adding columns to MoTIm_data_clean\n",
      "Adding columns to MoTIm_data_clean\n",
      "Adding columns to MoTIm_data_clean\n",
      "Adding columns to MoTIm_data_clean\n",
      "Adding columns to MoTIm_data_clean\n",
      "Adding columns to MoTIm_data_clean\n",
      "Adding columns to MoTIm_data_clean\n",
      "Adding columns to MoTIm_data_clean\n",
      "Adding columns to MoTIm_data_clean\n",
      "Adding columns to MoTIm_data_clean\n",
      "Adding columns to MoTIm_wind\n",
      "Adding columns to MoTIm_wind\n",
      "Adding columns to MoTIm_wind\n",
      "Adding columns to MoTIm_wind\n",
      "Adding columns to MVan_data_clean\n",
      "Adding columns to MVan_data_clean\n",
      "Adding columns to MVan_data_clean\n",
      "Adding columns to MVan_data_clean\n",
      "Adding columns to MVan_data_clean\n",
      "Adding columns to MVan_data_clean\n",
      "Adding columns to MVan_wind\n",
      "Adding columns to MVan_wind\n",
      "Adding columns to MVan_wind\n",
      "Adding columns to MVan_wind\n",
      "Adding columns to UNBC_CAM_data_clean\n",
      "Adding columns to UNBC_CAM_data_clean\n",
      "Adding columns to UNBC_CAM_data_clean\n",
      "Adding columns to UNBC_CAM_data_clean\n",
      "Adding columns to UNBC_CAM_data_clean\n",
      "Adding columns to UNBC_CAM_data_clean\n",
      "Adding columns to UNBC_CAM_data_clean\n",
      "Adding columns to UNBC_CAM_data_clean\n",
      "Adding columns to UNBC_CAM_data_clean\n",
      "Adding columns to UNBC_CAM_data_clean\n",
      "Adding columns to UNBC_CAM_data_clean\n",
      "Adding columns to UNBC_CAM_data_clean\n",
      "Adding columns to UNBC_CAM_data_clean\n",
      "Adding columns to UNBC_CAM_data_clean\n",
      "Adding columns to UNBC_CAM_data_clean\n",
      "Adding columns to UNBC_CAM_data_clean\n",
      "Adding columns to UNBC_CAM_data_clean\n",
      "Adding columns to UNBC_CAM_data_clean\n",
      "Adding columns to UNBC_CAM_solar\n",
      "Adding columns to UNBC_CAM_solar\n",
      "Adding columns to UNBC_CAM_solar\n",
      "Adding columns to UNBC_CAM_solar\n",
      "Adding columns to UNBC_CAM_wind\n",
      "Adding columns to UNBC_CAM_wind\n",
      "Adding columns to UNBC_CAM_wind\n",
      "Adding columns to UNBC_CAM_wind\n"
     ]
    }
   ],
   "source": [
    "for file in files:\n",
    "    functions.add_sql_columms(file, path_3)"
   ]
  },
  {
   "cell_type": "markdown",
   "metadata": {},
   "source": [
    "### Add column values from csv files"
   ]
  },
  {
   "cell_type": "code",
   "execution_count": 12,
   "metadata": {},
   "outputs": [
    {
     "name": "stdout",
     "output_type": "stream",
     "text": [
      "Adding values to BCH_data_clean\n",
      "Adding values to BCH_solar\n",
      "Adding values to BCH_wind\n",
      "Adding values to CRD_data_clean\n",
      "Adding values to CRD_solar\n",
      "Adding values to CRD_wind\n",
      "Adding values to EC_raw_data_clean\n",
      "Adding values to EC_raw_wind\n",
      "Adding values to ENV_AQN_data_clean\n",
      "Adding values to ENV_AQN_wind\n",
      "Adding values to FLNRO_FERN_data\n",
      "Adding values to FLNRO_FERN_solar\n",
      "Adding values to FLNRO_FERN_wind\n",
      "Adding values to FLNRO_WMB_data\n",
      "Adding values to MoTIe_data_clean\n",
      "Adding values to MoTIe_wind\n",
      "Adding values to MoTIm_data_clean\n",
      "Adding values to MoTIm_wind\n",
      "Adding values to MVan_data_clean\n",
      "Adding values to MVan_wind\n",
      "Adding values to UNBC_CAM_data_clean\n",
      "Adding values to UNBC_CAM_solar\n",
      "Adding values to UNBC_CAM_wind\n"
     ]
    }
   ],
   "source": [
    "for file in files:\n",
    "    functions.add_values(file, path_3)"
   ]
  },
  {
   "cell_type": "markdown",
   "metadata": {},
   "source": [
    "*Note: manually added a destination table in pgAdmin for solar_data and wind_data*"
   ]
  },
  {
   "cell_type": "markdown",
   "metadata": {},
   "source": [
    "### Copying data from network tables to destination tables\n",
    "\n",
    "Goals:\n",
    "- insert all solar data records into solar_data\n",
    "- insert all wind data records into wind_data\n",
    "- join data with station metadata to attach location data"
   ]
  },
  {
   "cell_type": "code",
   "execution_count": 13,
   "metadata": {},
   "outputs": [
    {
     "name": "stdout",
     "output_type": "stream",
     "text": [
      "solar files: ['BCH_solar.csv', 'CRD_solar.csv', 'FLNRO_FERN_solar.csv', 'UNBC_CAM_solar.csv']\n",
      "wind files: ['BCH_wind.csv', 'CRD_wind.csv', 'EC_raw_wind.csv', 'ENV_AQN_wind.csv', 'FLNRO_FERN_wind.csv', 'MoTIe_wind.csv', 'MoTIm_wind.csv', 'MVan_wind.csv', 'UNBC_CAM_wind.csv']\n"
     ]
    }
   ],
   "source": [
    "# Create list of wind and solar filenames\n",
    "\n",
    "keywords = ['wind', 'solar']\n",
    "# create list to store wind records\n",
    "wind_files = []\n",
    "# create list to store solar records\n",
    "solar_files = []\n",
    "# create list of files in data folder\n",
    "file_names = os.listdir(f\"{path_2}\")\n",
    "# iterate through files in data folder\n",
    "for file_name in file_names:\n",
    "    # match against keywords\n",
    "    if keywords[0] in file_name:\n",
    "        wind_files.append(file_name)\n",
    "    elif keywords[1] in file_name:\n",
    "        solar_files.append(file_name)\n",
    "    else: continue\n",
    "\n",
    "print(f\"solar files: {solar_files}\")\n",
    "print(f\"wind files: {wind_files}\")"
   ]
  },
  {
   "cell_type": "code",
   "execution_count": 14,
   "metadata": {},
   "outputs": [
    {
     "name": "stdout",
     "output_type": "stream",
     "text": [
      "Converting 'time' column in BCH_solar to timestamp\n",
      "Adding values from BCH_solar to solar_data\n",
      "Converting 'time' column in CRD_solar to timestamp\n",
      "Adding values from CRD_solar to solar_data\n",
      "Converting 'time' column in FLNRO_FERN_solar to timestamp\n",
      "Adding values from FLNRO_FERN_solar to solar_data\n",
      "Converting 'time' column in UNBC_CAM_solar to timestamp\n",
      "Adding values from UNBC_CAM_solar to solar_data\n"
     ]
    }
   ],
   "source": [
    "# add solar files to solar_data\n",
    "functions.merge_tables(solar_files, \"solar_data\")"
   ]
  },
  {
   "cell_type": "code",
   "execution_count": 15,
   "metadata": {},
   "outputs": [
    {
     "name": "stdout",
     "output_type": "stream",
     "text": [
      "Converting 'time' column in BCH_wind to timestamp\n",
      "Adding values from BCH_wind to wind_data\n",
      "Converting 'time' column in CRD_wind to timestamp\n",
      "Adding values from CRD_wind to wind_data\n",
      "Converting 'time' column in EC_raw_wind to timestamp\n",
      "Adding values from EC_raw_wind to wind_data\n",
      "Converting 'time' column in ENV_AQN_wind to timestamp\n",
      "Adding values from ENV_AQN_wind to wind_data\n",
      "Converting 'time' column in FLNRO_FERN_wind to timestamp\n",
      "Adding values from FLNRO_FERN_wind to wind_data\n",
      "Converting 'time' column in MoTIe_wind to timestamp\n",
      "Adding values from MoTIe_wind to wind_data\n",
      "Converting 'time' column in MoTIm_wind to timestamp\n",
      "Adding values from MoTIm_wind to wind_data\n",
      "Converting 'time' column in MVan_wind to timestamp\n",
      "Adding values from MVan_wind to wind_data\n",
      "Converting 'time' column in UNBC_CAM_wind to timestamp\n",
      "Adding values from UNBC_CAM_wind to wind_data\n"
     ]
    }
   ],
   "source": [
    "# add wind files to wind_data\n",
    "functions.merge_tables(wind_files, \"wind_data\")"
   ]
  },
  {
   "cell_type": "markdown",
   "metadata": {},
   "source": [
    "*Proceed to clean FLNRO_WMB data in pgAdmin, then add FLNRO_WMB_wind values to wind_data*"
   ]
  },
  {
   "cell_type": "markdown",
   "metadata": {},
   "source": [
    "### Add metadata to database"
   ]
  },
  {
   "cell_type": "code",
   "execution_count": 4,
   "metadata": {},
   "outputs": [],
   "source": [
    "# add explicit path to system file location that pgAdmin can read\n",
    "path_3 = r\"D:\\School\\LHL\\capstone_project_data\\LHL_Capstone_Project\\data\""
   ]
  },
  {
   "cell_type": "code",
   "execution_count": 9,
   "metadata": {},
   "outputs": [
    {
     "name": "stdout",
     "output_type": "stream",
     "text": [
      "Creating station_metadata_clean in database\n"
     ]
    }
   ],
   "source": [
    "# upload station metadata to pgAdmin server\n",
    "functions.create_sql_table('station_metadata_clean.csv')\n"
   ]
  },
  {
   "cell_type": "code",
   "execution_count": 10,
   "metadata": {},
   "outputs": [
    {
     "name": "stdout",
     "output_type": "stream",
     "text": [
      "Adding columns to station_metadata_clean\n",
      "Adding columns to station_metadata_clean\n",
      "Adding columns to station_metadata_clean\n",
      "Adding columns to station_metadata_clean\n",
      "Adding columns to station_metadata_clean\n"
     ]
    }
   ],
   "source": [
    "# add columns with appropriate dtypes\n",
    "functions.add_sql_columms('station_metadata_clean.csv', f'{path_2}/metadata/')"
   ]
  },
  {
   "cell_type": "code",
   "execution_count": 11,
   "metadata": {},
   "outputs": [
    {
     "name": "stdout",
     "output_type": "stream",
     "text": [
      "Adding values to station_metadata_clean\n"
     ]
    }
   ],
   "source": [
    "# add values\n",
    "functions.add_values('station_metadata_clean.csv', f'{path_3}/metadata/')"
   ]
  },
  {
   "cell_type": "markdown",
   "metadata": {},
   "source": [
    "### Create new database tables for wind/solar data joined with station metadata\n",
    "Final table names:\n",
    "- solar_data_final\n",
    "- wind_data_final"
   ]
  },
  {
   "cell_type": "code",
   "execution_count": 16,
   "metadata": {},
   "outputs": [
    {
     "name": "stdout",
     "output_type": "stream",
     "text": [
      "Successfully joined metadata with solar_data\n"
     ]
    }
   ],
   "source": [
    "functions.create_joined_table(\"solar_data\")"
   ]
  },
  {
   "cell_type": "code",
   "execution_count": 17,
   "metadata": {},
   "outputs": [
    {
     "name": "stdout",
     "output_type": "stream",
     "text": [
      "Successfully joined metadata with wind_data\n"
     ]
    }
   ],
   "source": [
    "functions.create_joined_table(\"wind_data\")"
   ]
  },
  {
   "cell_type": "markdown",
   "metadata": {},
   "source": [
    "### Close connection to database"
   ]
  },
  {
   "cell_type": "code",
   "execution_count": 18,
   "metadata": {},
   "outputs": [],
   "source": [
    "functions.close_conn()"
   ]
  },
  {
   "cell_type": "markdown",
   "metadata": {},
   "source": [
    "### Export pgAdmin tables\n",
    "- save to .csv\n",
    "- import to Tableau"
   ]
  },
  {
   "cell_type": "code",
   "execution_count": null,
   "metadata": {},
   "outputs": [],
   "source": []
  }
 ],
 "metadata": {
  "kernelspec": {
   "display_name": "lhl_env",
   "language": "python",
   "name": "python3"
  },
  "language_info": {
   "codemirror_mode": {
    "name": "ipython",
    "version": 3
   },
   "file_extension": ".py",
   "mimetype": "text/x-python",
   "name": "python",
   "nbconvert_exporter": "python",
   "pygments_lexer": "ipython3",
   "version": "3.11.5"
  }
 },
 "nbformat": 4,
 "nbformat_minor": 2
}
