{
 "cells": [
  {
   "cell_type": "markdown",
   "metadata": {},
   "source": [
    "### Initializing"
   ]
  },
  {
   "cell_type": "code",
   "execution_count": 1,
   "metadata": {},
   "outputs": [],
   "source": [
    "import pandas as pd\n",
    "import os \n",
    "import functions"
   ]
  },
  {
   "cell_type": "code",
   "execution_count": 2,
   "metadata": {},
   "outputs": [
    {
     "name": "stdout",
     "output_type": "stream",
     "text": [
      "hello\n"
     ]
    }
   ],
   "source": [
    "# test for proper access to functions module\n",
    "functions.temp()"
   ]
  },
  {
   "cell_type": "code",
   "execution_count": 3,
   "metadata": {},
   "outputs": [],
   "source": [
    "# define path variable for data folder containing concatenated .csv files\n",
    "path_2 = '../data'"
   ]
  },
  {
   "cell_type": "markdown",
   "metadata": {},
   "source": [
    "### Data cleaning\n",
    "Objectives:\n",
    "- create separate files for wind and solar data from each weather station network\n",
    "- keep only columns associated with wind power generation\n",
    "    - wind speed\n",
    "    - [air density\n",
    "        - air pressure\n",
    "        - air temperature\n",
    "        - relative humidity] -> *These variables were initially included in the interest of representing wind energy potential more accurately, but were later omitted due to inconsistent availability within the dataset. A standard value for air density (1.225 kg/m^3) was used in wind energy calculations.*\n",
    "- keep only columns associated with solar power generation\n",
    "    - solar radiation\n",
    "- standardize column data with common variables (units, format)\n",
    "    - convert wind speeds measured in km/h to m/s\n",
    "- remove data with observations outside of a reasonable range \n",
    "    - wind speed > 65 m/s\n",
    "        - highest recorded wind speed in Canada is 233 km/h (64.7222 m/s)\n",
    "    - wind speed < 0 m/s\n",
    "        - wind speed cannot be negative\n",
    "    - solar radiation > 950 W/m^2\n",
    "        - solar radiation before passing through the atmosphere is ~1360 W/m^2\n",
    "        - midlatitude regions typically receive ~70% of solar energy compared to the equator (https://earthobservatory.nasa.gov/features/EnergyBalance/page2.php#:~:text=At%20Earth's%20average%20distance%20from,most%20recent%20NASA%20satellite%20missions.)\n",
    "    - solar radiation < 0 W/m^2\n",
    "        - solar radiation cannot be negative\n",
    "- replace \"-\" with \"_\" in network_id column values"
   ]
  },
  {
   "cell_type": "markdown",
   "metadata": {},
   "source": [
    "#### BCH Data Cleaning"
   ]
  },
  {
   "cell_type": "code",
   "execution_count": 4,
   "metadata": {},
   "outputs": [
    {
     "data": {
      "text/plain": [
       "['windspeed',\n",
       " 'time',\n",
       " 'winddirection',\n",
       " 'station_id',\n",
       " 'network_id',\n",
       " 'l_down_corr_avg',\n",
       " 'hft3_1_avg',\n",
       " 'l_up_avg',\n",
       " 'one_day_snow',\n",
       " 'k_up_avg',\n",
       " 'l_up_corr_avg',\n",
       " 'airtemp',\n",
       " 'l_down_avg',\n",
       " 'hft3_2_avg',\n",
       " 'k_down_avg',\n",
       " 'barometricpressure',\n",
       " 'soilvolumetricwatercontent',\n",
       " 'relativehumidity',\n",
       " 'tsoil_avg',\n",
       " 'vis',\n",
       " 'one_day_rain',\n",
       " 'one_day_precipitation',\n",
       " 'min_temp',\n",
       " 'max_temp',\n",
       " 'snow_we',\n",
       " 'snow_on_the_ground',\n",
       " 'netrad']"
      ]
     },
     "execution_count": 4,
     "metadata": {},
     "output_type": "execute_result"
    }
   ],
   "source": [
    "BCH_data_clean = functions.to_df('BCH_data_clean.csv')\n",
    "functions.list_columns(BCH_data_clean)"
   ]
  },
  {
   "cell_type": "code",
   "execution_count": 5,
   "metadata": {},
   "outputs": [],
   "source": [
    "# only include variables of interest\n",
    "BCH_data_wind = BCH_data_clean.loc[:,('time', 'windspeed', 'station_id', 'network_id')]\n",
    "BCH_data_solar = BCH_data_clean.loc[:,('time', 'netrad', 'station_id', 'network_id')]"
   ]
  },
  {
   "cell_type": "markdown",
   "metadata": {},
   "source": [
    "##### BCH Wind Data Cleaning"
   ]
  },
  {
   "cell_type": "code",
   "execution_count": 6,
   "metadata": {},
   "outputs": [
    {
     "data": {
      "text/plain": [
       "time                0\n",
       "windspeed     6797851\n",
       "station_id          0\n",
       "network_id          0\n",
       "dtype: int64"
      ]
     },
     "execution_count": 6,
     "metadata": {},
     "output_type": "execute_result"
    }
   ],
   "source": [
    "# count null values in wind data\n",
    "BCH_data_wind.isna().sum()"
   ]
  },
  {
   "cell_type": "code",
   "execution_count": 13,
   "metadata": {},
   "outputs": [
    {
     "data": {
      "text/plain": [
       "time          0\n",
       "windspeed     0\n",
       "station_id    0\n",
       "network_id    0\n",
       "dtype: int64"
      ]
     },
     "execution_count": 13,
     "metadata": {},
     "output_type": "execute_result"
    }
   ],
   "source": [
    "# drop rows in wind data that do not have a wind speed value\n",
    "# wind speed is a key variable that is critical for location-specific energy calculations\n",
    "BCH_data_wind_clean = BCH_data_wind.dropna(subset=['windspeed'])\n",
    "BCH_data_wind_clean.isna().sum()"
   ]
  },
  {
   "cell_type": "code",
   "execution_count": 14,
   "metadata": {},
   "outputs": [
    {
     "data": {
      "text/plain": [
       "Index([], dtype='int64')"
      ]
     },
     "execution_count": 14,
     "metadata": {},
     "output_type": "execute_result"
    }
   ],
   "source": [
    "# check for duplicates\n",
    "duplicate_rows = BCH_data_wind_clean.duplicated()\n",
    "duplicate_rows[duplicate_rows].index"
   ]
  },
  {
   "cell_type": "code",
   "execution_count": null,
   "metadata": {},
   "outputs": [],
   "source": [
    "# check windspeed units\n",
    "# BCH_variables.csv records state that wind speed is recorded in m/s"
   ]
  },
  {
   "cell_type": "code",
   "execution_count": 15,
   "metadata": {},
   "outputs": [],
   "source": [
    "# remove values outside of reasonable range\n",
    "BCH_data_wind_clean = BCH_data_wind_clean[BCH_data_wind_clean['windspeed'] < 65]\n",
    "BCH_data_wind_clean = BCH_data_wind_clean[BCH_data_wind_clean['windspeed'] >= 0]"
   ]
  },
  {
   "cell_type": "code",
   "execution_count": 16,
   "metadata": {},
   "outputs": [
    {
     "data": {
      "text/html": [
       "<div>\n",
       "<style scoped>\n",
       "    .dataframe tbody tr th:only-of-type {\n",
       "        vertical-align: middle;\n",
       "    }\n",
       "\n",
       "    .dataframe tbody tr th {\n",
       "        vertical-align: top;\n",
       "    }\n",
       "\n",
       "    .dataframe thead th {\n",
       "        text-align: right;\n",
       "    }\n",
       "</style>\n",
       "<table border=\"1\" class=\"dataframe\">\n",
       "  <thead>\n",
       "    <tr style=\"text-align: right;\">\n",
       "      <th></th>\n",
       "      <th>time</th>\n",
       "      <th>wind_speed</th>\n",
       "      <th>station_id</th>\n",
       "      <th>network_id</th>\n",
       "    </tr>\n",
       "  </thead>\n",
       "  <tbody>\n",
       "    <tr>\n",
       "      <th>0</th>\n",
       "      <td>2017-01-01 01:00:00</td>\n",
       "      <td>5.7</td>\n",
       "      <td>85A</td>\n",
       "      <td>BCH</td>\n",
       "    </tr>\n",
       "    <tr>\n",
       "      <th>1</th>\n",
       "      <td>2017-01-01 02:00:00</td>\n",
       "      <td>5.9</td>\n",
       "      <td>85A</td>\n",
       "      <td>BCH</td>\n",
       "    </tr>\n",
       "    <tr>\n",
       "      <th>2</th>\n",
       "      <td>2017-01-01 03:00:00</td>\n",
       "      <td>5.8</td>\n",
       "      <td>85A</td>\n",
       "      <td>BCH</td>\n",
       "    </tr>\n",
       "    <tr>\n",
       "      <th>3</th>\n",
       "      <td>2017-01-01 04:00:00</td>\n",
       "      <td>4.7</td>\n",
       "      <td>85A</td>\n",
       "      <td>BCH</td>\n",
       "    </tr>\n",
       "    <tr>\n",
       "      <th>4</th>\n",
       "      <td>2017-01-01 05:00:00</td>\n",
       "      <td>4.8</td>\n",
       "      <td>85A</td>\n",
       "      <td>BCH</td>\n",
       "    </tr>\n",
       "    <tr>\n",
       "      <th>...</th>\n",
       "      <td>...</td>\n",
       "      <td>...</td>\n",
       "      <td>...</td>\n",
       "      <td>...</td>\n",
       "    </tr>\n",
       "    <tr>\n",
       "      <th>6280365</th>\n",
       "      <td>2020-06-30 20:00:00</td>\n",
       "      <td>1.6</td>\n",
       "      <td>TEC</td>\n",
       "      <td>BCH</td>\n",
       "    </tr>\n",
       "    <tr>\n",
       "      <th>6280366</th>\n",
       "      <td>2020-06-30 21:00:00</td>\n",
       "      <td>1.7</td>\n",
       "      <td>TEC</td>\n",
       "      <td>BCH</td>\n",
       "    </tr>\n",
       "    <tr>\n",
       "      <th>6280367</th>\n",
       "      <td>2020-06-30 22:00:00</td>\n",
       "      <td>0.8</td>\n",
       "      <td>TEC</td>\n",
       "      <td>BCH</td>\n",
       "    </tr>\n",
       "    <tr>\n",
       "      <th>6280368</th>\n",
       "      <td>2020-06-30 23:00:00</td>\n",
       "      <td>1.7</td>\n",
       "      <td>TEC</td>\n",
       "      <td>BCH</td>\n",
       "    </tr>\n",
       "    <tr>\n",
       "      <th>6280369</th>\n",
       "      <td>2020-07-01 00:00:00</td>\n",
       "      <td>2.5</td>\n",
       "      <td>TEC</td>\n",
       "      <td>BCH</td>\n",
       "    </tr>\n",
       "  </tbody>\n",
       "</table>\n",
       "<p>218988 rows × 4 columns</p>\n",
       "</div>"
      ],
      "text/plain": [
       "                         time  wind_speed station_id network_id\n",
       "0         2017-01-01 01:00:00         5.7        85A        BCH\n",
       "1         2017-01-01 02:00:00         5.9        85A        BCH\n",
       "2         2017-01-01 03:00:00         5.8        85A        BCH\n",
       "3         2017-01-01 04:00:00         4.7        85A        BCH\n",
       "4         2017-01-01 05:00:00         4.8        85A        BCH\n",
       "...                       ...         ...        ...        ...\n",
       "6280365   2020-06-30 20:00:00         1.6        TEC        BCH\n",
       "6280366   2020-06-30 21:00:00         1.7        TEC        BCH\n",
       "6280367   2020-06-30 22:00:00         0.8        TEC        BCH\n",
       "6280368   2020-06-30 23:00:00         1.7        TEC        BCH\n",
       "6280369   2020-07-01 00:00:00         2.5        TEC        BCH\n",
       "\n",
       "[218988 rows x 4 columns]"
      ]
     },
     "execution_count": 16,
     "metadata": {},
     "output_type": "execute_result"
    }
   ],
   "source": [
    "# rename columns\n",
    "BCH_wind = BCH_data_wind_clean.rename(columns={\"windspeed\": \"wind_speed\"})\n",
    "BCH_wind"
   ]
  },
  {
   "cell_type": "code",
   "execution_count": null,
   "metadata": {},
   "outputs": [],
   "source": [
    "# replace \"-\" with \"_\" in station_id values if necessary\n",
    "# not necessary here"
   ]
  },
  {
   "cell_type": "code",
   "execution_count": 17,
   "metadata": {},
   "outputs": [],
   "source": [
    "# save to csv\n",
    "BCH_wind.to_csv('../data/BCH_wind.csv', index=False)"
   ]
  },
  {
   "cell_type": "markdown",
   "metadata": {},
   "source": [
    "##### BCH Solar Data Cleaning"
   ]
  },
  {
   "cell_type": "code",
   "execution_count": 18,
   "metadata": {},
   "outputs": [
    {
     "data": {
      "text/plain": [
       "time                0\n",
       "netrad        6928912\n",
       "station_id          0\n",
       "network_id          0\n",
       "dtype: int64"
      ]
     },
     "execution_count": 18,
     "metadata": {},
     "output_type": "execute_result"
    }
   ],
   "source": [
    "# count null values in solar data\n",
    "BCH_data_solar.isna().sum()"
   ]
  },
  {
   "cell_type": "code",
   "execution_count": 19,
   "metadata": {},
   "outputs": [
    {
     "data": {
      "text/plain": [
       "time          0\n",
       "netrad        0\n",
       "station_id    0\n",
       "network_id    0\n",
       "dtype: int64"
      ]
     },
     "execution_count": 19,
     "metadata": {},
     "output_type": "execute_result"
    }
   ],
   "source": [
    "# drop rows in solar data that do not have a NetRad value\n",
    "BCH_data_solar_clean = BCH_data_solar.dropna(subset=['netrad'])\n",
    "BCH_data_solar_clean.isna().sum()"
   ]
  },
  {
   "cell_type": "code",
   "execution_count": null,
   "metadata": {},
   "outputs": [
    {
     "data": {
      "text/plain": [
       "Index([], dtype='int64')"
      ]
     },
     "metadata": {},
     "output_type": "display_data"
    }
   ],
   "source": [
    "# check for duplicates\n",
    "duplicate_rows = BCH_data_solar_clean.duplicated()\n",
    "duplicate_rows[duplicate_rows].index"
   ]
  },
  {
   "cell_type": "code",
   "execution_count": 20,
   "metadata": {},
   "outputs": [],
   "source": [
    "# remove values outside reasonable range\n",
    "BCH_data_solar_clean = BCH_data_solar_clean[BCH_data_solar_clean['netrad'] < 950]\n",
    "BCH_data_solar_clean = BCH_data_solar_clean[BCH_data_solar_clean['netrad'] >= 0]"
   ]
  },
  {
   "cell_type": "code",
   "execution_count": 21,
   "metadata": {},
   "outputs": [
    {
     "data": {
      "text/html": [
       "<div>\n",
       "<style scoped>\n",
       "    .dataframe tbody tr th:only-of-type {\n",
       "        vertical-align: middle;\n",
       "    }\n",
       "\n",
       "    .dataframe tbody tr th {\n",
       "        vertical-align: top;\n",
       "    }\n",
       "\n",
       "    .dataframe thead th {\n",
       "        text-align: right;\n",
       "    }\n",
       "</style>\n",
       "<table border=\"1\" class=\"dataframe\">\n",
       "  <thead>\n",
       "    <tr style=\"text-align: right;\">\n",
       "      <th></th>\n",
       "      <th>time</th>\n",
       "      <th>solar_radiation</th>\n",
       "      <th>station_id</th>\n",
       "      <th>network_id</th>\n",
       "    </tr>\n",
       "  </thead>\n",
       "  <tbody>\n",
       "    <tr>\n",
       "      <th>495016</th>\n",
       "      <td>2017-09-29 13:00:00</td>\n",
       "      <td>275.2</td>\n",
       "      <td>ATP</td>\n",
       "      <td>BCH</td>\n",
       "    </tr>\n",
       "    <tr>\n",
       "      <th>495017</th>\n",
       "      <td>2017-09-29 14:00:00</td>\n",
       "      <td>222.4</td>\n",
       "      <td>ATP</td>\n",
       "      <td>BCH</td>\n",
       "    </tr>\n",
       "    <tr>\n",
       "      <th>495018</th>\n",
       "      <td>2017-09-29 15:00:00</td>\n",
       "      <td>86.3</td>\n",
       "      <td>ATP</td>\n",
       "      <td>BCH</td>\n",
       "    </tr>\n",
       "    <tr>\n",
       "      <th>495019</th>\n",
       "      <td>2017-09-29 16:00:00</td>\n",
       "      <td>14.0</td>\n",
       "      <td>ATP</td>\n",
       "      <td>BCH</td>\n",
       "    </tr>\n",
       "    <tr>\n",
       "      <th>495020</th>\n",
       "      <td>2017-09-29 17:00:00</td>\n",
       "      <td>1.7</td>\n",
       "      <td>ATP</td>\n",
       "      <td>BCH</td>\n",
       "    </tr>\n",
       "    <tr>\n",
       "      <th>...</th>\n",
       "      <td>...</td>\n",
       "      <td>...</td>\n",
       "      <td>...</td>\n",
       "      <td>...</td>\n",
       "    </tr>\n",
       "    <tr>\n",
       "      <th>6258056</th>\n",
       "      <td>2020-06-30 15:00:00</td>\n",
       "      <td>296.5</td>\n",
       "      <td>TAB</td>\n",
       "      <td>BCH</td>\n",
       "    </tr>\n",
       "    <tr>\n",
       "      <th>6258057</th>\n",
       "      <td>2020-06-30 16:00:00</td>\n",
       "      <td>66.9</td>\n",
       "      <td>TAB</td>\n",
       "      <td>BCH</td>\n",
       "    </tr>\n",
       "    <tr>\n",
       "      <th>6258058</th>\n",
       "      <td>2020-06-30 17:00:00</td>\n",
       "      <td>138.1</td>\n",
       "      <td>TAB</td>\n",
       "      <td>BCH</td>\n",
       "    </tr>\n",
       "    <tr>\n",
       "      <th>6258059</th>\n",
       "      <td>2020-06-30 18:00:00</td>\n",
       "      <td>31.1</td>\n",
       "      <td>TAB</td>\n",
       "      <td>BCH</td>\n",
       "    </tr>\n",
       "    <tr>\n",
       "      <th>6258060</th>\n",
       "      <td>2020-06-30 19:00:00</td>\n",
       "      <td>18.7</td>\n",
       "      <td>TAB</td>\n",
       "      <td>BCH</td>\n",
       "    </tr>\n",
       "  </tbody>\n",
       "</table>\n",
       "<p>29798 rows × 4 columns</p>\n",
       "</div>"
      ],
      "text/plain": [
       "                         time  solar_radiation station_id network_id\n",
       "495016    2017-09-29 13:00:00            275.2        ATP        BCH\n",
       "495017    2017-09-29 14:00:00            222.4        ATP        BCH\n",
       "495018    2017-09-29 15:00:00             86.3        ATP        BCH\n",
       "495019    2017-09-29 16:00:00             14.0        ATP        BCH\n",
       "495020    2017-09-29 17:00:00              1.7        ATP        BCH\n",
       "...                       ...              ...        ...        ...\n",
       "6258056   2020-06-30 15:00:00            296.5        TAB        BCH\n",
       "6258057   2020-06-30 16:00:00             66.9        TAB        BCH\n",
       "6258058   2020-06-30 17:00:00            138.1        TAB        BCH\n",
       "6258059   2020-06-30 18:00:00             31.1        TAB        BCH\n",
       "6258060   2020-06-30 19:00:00             18.7        TAB        BCH\n",
       "\n",
       "[29798 rows x 4 columns]"
      ]
     },
     "execution_count": 21,
     "metadata": {},
     "output_type": "execute_result"
    }
   ],
   "source": [
    "# rename columns\n",
    "BCH_solar = BCH_data_solar_clean.rename(columns={\"netrad\": \"solar_radiation\"})\n",
    "BCH_solar"
   ]
  },
  {
   "cell_type": "code",
   "execution_count": 22,
   "metadata": {},
   "outputs": [],
   "source": [
    "# save BCH solar data to csv\n",
    "BCH_solar.to_csv('../data/BCH_solar.csv', index=False)"
   ]
  },
  {
   "cell_type": "markdown",
   "metadata": {},
   "source": [
    "#### CRD Data Cleaning"
   ]
  },
  {
   "cell_type": "code",
   "execution_count": 23,
   "metadata": {},
   "outputs": [],
   "source": [
    "CRD_data = functions.to_df('CRD_data_clean.csv')"
   ]
  },
  {
   "cell_type": "code",
   "execution_count": 24,
   "metadata": {},
   "outputs": [],
   "source": [
    "# condense intial steps of identifying column names, number of null values, and any duplicate rows into one function\n",
    "column_names, column_nulls, duplicate_row_index = functions.start_cleaning(CRD_data)"
   ]
  },
  {
   "cell_type": "code",
   "execution_count": 25,
   "metadata": {},
   "outputs": [
    {
     "name": "stdout",
     "output_type": "stream",
     "text": [
      "column names: ['solarradiation', 'airtemperature', 'precipitation', 'rain', 'windspeed', 'snowdepth', 'time', 'winddirection', 'relativehumidity', 'station_id', 'network_id', 'snowwaterequivalent']\n",
      "column nulls: solarradiation         4090779\n",
      "airtemperature          180523\n",
      "precipitation          3328235\n",
      "rain                    438757\n",
      "windspeed               655130\n",
      "snowdepth              3711426\n",
      "time                         0\n",
      "winddirection           658523\n",
      "relativehumidity        591010\n",
      "station_id                   0\n",
      "network_id                   0\n",
      "snowwaterequivalent    4078683\n",
      "dtype: int64\n",
      "duplicate rows: Index([], dtype='int64')\n"
     ]
    },
    {
     "data": {
      "text/plain": [
       "(4100571, 12)"
      ]
     },
     "execution_count": 25,
     "metadata": {},
     "output_type": "execute_result"
    }
   ],
   "source": [
    "print(f'column names: {column_names}')\n",
    "print(f'column nulls: {column_nulls}')\n",
    "print(f'duplicate rows: {duplicate_row_index}')\n",
    "CRD_data.shape"
   ]
  },
  {
   "cell_type": "code",
   "execution_count": 26,
   "metadata": {},
   "outputs": [],
   "source": [
    "# only keep variables of interest\n",
    "CRD_data_solar = CRD_data.loc[:,('time', 'solarradiation', 'station_id', 'network_id')]\n",
    "CRD_data_wind = CRD_data.loc[:,('time', 'windspeed', 'station_id', 'network_id')]"
   ]
  },
  {
   "cell_type": "code",
   "execution_count": 27,
   "metadata": {},
   "outputs": [
    {
     "data": {
      "text/plain": [
       "time              0\n",
       "solarradiation    0\n",
       "station_id        0\n",
       "network_id        0\n",
       "dtype: int64"
      ]
     },
     "execution_count": 27,
     "metadata": {},
     "output_type": "execute_result"
    }
   ],
   "source": [
    "# drop rows in solar data that do not have solar radiation values\n",
    "CRD_data_solar_clean = CRD_data_solar.dropna(subset=['solarradiation'])\n",
    "CRD_data_solar_clean.isna().sum()"
   ]
  },
  {
   "cell_type": "code",
   "execution_count": 28,
   "metadata": {},
   "outputs": [],
   "source": [
    "# remove values outside reasonable range\n",
    "CRD_data_solar_clean = CRD_data_solar_clean[CRD_data_solar_clean['solarradiation'] < 950]\n",
    "CRD_data_solar_clean = CRD_data_solar_clean[CRD_data_solar_clean['solarradiation'] >= 0]"
   ]
  },
  {
   "cell_type": "code",
   "execution_count": 29,
   "metadata": {},
   "outputs": [],
   "source": [
    "# rename columns\n",
    "CRD_solar = CRD_data_solar_clean.rename(columns={\"solarradiation\": \"solar_radiation\"})"
   ]
  },
  {
   "cell_type": "code",
   "execution_count": null,
   "metadata": {},
   "outputs": [],
   "source": [
    "# rename station_id values if necessary\n",
    "# not necessary here"
   ]
  },
  {
   "cell_type": "code",
   "execution_count": 30,
   "metadata": {},
   "outputs": [],
   "source": [
    "# save to csv\n",
    "CRD_solar.to_csv(f'{path_2}/CRD_solar.csv', index=False)"
   ]
  },
  {
   "cell_type": "code",
   "execution_count": 31,
   "metadata": {},
   "outputs": [
    {
     "data": {
      "text/plain": [
       "time               0\n",
       "windspeed     655130\n",
       "station_id         0\n",
       "network_id         0\n",
       "dtype: int64"
      ]
     },
     "execution_count": 31,
     "metadata": {},
     "output_type": "execute_result"
    }
   ],
   "source": [
    "# count null values in wind data\n",
    "CRD_data_wind.isna().sum()"
   ]
  },
  {
   "cell_type": "code",
   "execution_count": 32,
   "metadata": {},
   "outputs": [
    {
     "data": {
      "text/plain": [
       "time          0\n",
       "windspeed     0\n",
       "station_id    0\n",
       "network_id    0\n",
       "dtype: int64"
      ]
     },
     "execution_count": 32,
     "metadata": {},
     "output_type": "execute_result"
    }
   ],
   "source": [
    "# drop rows in wind data that do not have wind speed values\n",
    "CRD_data_wind_clean = CRD_data_wind.dropna(subset=['windspeed'])\n",
    "CRD_data_wind_clean.isna().sum()"
   ]
  },
  {
   "cell_type": "code",
   "execution_count": 33,
   "metadata": {},
   "outputs": [
    {
     "data": {
      "text/html": [
       "<div>\n",
       "<style scoped>\n",
       "    .dataframe tbody tr th:only-of-type {\n",
       "        vertical-align: middle;\n",
       "    }\n",
       "\n",
       "    .dataframe tbody tr th {\n",
       "        vertical-align: top;\n",
       "    }\n",
       "\n",
       "    .dataframe thead th {\n",
       "        text-align: right;\n",
       "    }\n",
       "</style>\n",
       "<table border=\"1\" class=\"dataframe\">\n",
       "  <thead>\n",
       "    <tr style=\"text-align: right;\">\n",
       "      <th></th>\n",
       "      <th>time</th>\n",
       "      <th>windspeed</th>\n",
       "      <th>station_id</th>\n",
       "      <th>network_id</th>\n",
       "    </tr>\n",
       "  </thead>\n",
       "  <tbody>\n",
       "    <tr>\n",
       "      <th>0</th>\n",
       "      <td>1998-04-17 00:00:00</td>\n",
       "      <td>0.0</td>\n",
       "      <td>FW001</td>\n",
       "      <td>CRD</td>\n",
       "    </tr>\n",
       "    <tr>\n",
       "      <th>1</th>\n",
       "      <td>1998-04-17 01:00:00</td>\n",
       "      <td>0.0</td>\n",
       "      <td>FW001</td>\n",
       "      <td>CRD</td>\n",
       "    </tr>\n",
       "    <tr>\n",
       "      <th>2</th>\n",
       "      <td>1998-04-17 02:00:00</td>\n",
       "      <td>0.0</td>\n",
       "      <td>FW001</td>\n",
       "      <td>CRD</td>\n",
       "    </tr>\n",
       "    <tr>\n",
       "      <th>3</th>\n",
       "      <td>1998-04-17 03:00:00</td>\n",
       "      <td>0.0</td>\n",
       "      <td>FW001</td>\n",
       "      <td>CRD</td>\n",
       "    </tr>\n",
       "    <tr>\n",
       "      <th>4</th>\n",
       "      <td>1998-04-17 04:00:00</td>\n",
       "      <td>0.0</td>\n",
       "      <td>FW001</td>\n",
       "      <td>CRD</td>\n",
       "    </tr>\n",
       "    <tr>\n",
       "      <th>5</th>\n",
       "      <td>1998-04-17 05:00:00</td>\n",
       "      <td>0.0</td>\n",
       "      <td>FW001</td>\n",
       "      <td>CRD</td>\n",
       "    </tr>\n",
       "    <tr>\n",
       "      <th>6</th>\n",
       "      <td>1998-04-17 06:00:00</td>\n",
       "      <td>0.0</td>\n",
       "      <td>FW001</td>\n",
       "      <td>CRD</td>\n",
       "    </tr>\n",
       "    <tr>\n",
       "      <th>7</th>\n",
       "      <td>1998-04-17 07:00:00</td>\n",
       "      <td>0.0</td>\n",
       "      <td>FW001</td>\n",
       "      <td>CRD</td>\n",
       "    </tr>\n",
       "    <tr>\n",
       "      <th>8</th>\n",
       "      <td>1998-04-17 08:00:00</td>\n",
       "      <td>0.0</td>\n",
       "      <td>FW001</td>\n",
       "      <td>CRD</td>\n",
       "    </tr>\n",
       "    <tr>\n",
       "      <th>9</th>\n",
       "      <td>1998-04-17 09:00:00</td>\n",
       "      <td>3.8</td>\n",
       "      <td>FW001</td>\n",
       "      <td>CRD</td>\n",
       "    </tr>\n",
       "    <tr>\n",
       "      <th>10</th>\n",
       "      <td>1998-04-17 10:00:00</td>\n",
       "      <td>3.9</td>\n",
       "      <td>FW001</td>\n",
       "      <td>CRD</td>\n",
       "    </tr>\n",
       "    <tr>\n",
       "      <th>11</th>\n",
       "      <td>1998-04-17 11:00:00</td>\n",
       "      <td>0.0</td>\n",
       "      <td>FW001</td>\n",
       "      <td>CRD</td>\n",
       "    </tr>\n",
       "    <tr>\n",
       "      <th>12</th>\n",
       "      <td>1998-04-17 12:00:00</td>\n",
       "      <td>6.6</td>\n",
       "      <td>FW001</td>\n",
       "      <td>CRD</td>\n",
       "    </tr>\n",
       "    <tr>\n",
       "      <th>13</th>\n",
       "      <td>1998-04-17 13:00:00</td>\n",
       "      <td>10.9</td>\n",
       "      <td>FW001</td>\n",
       "      <td>CRD</td>\n",
       "    </tr>\n",
       "    <tr>\n",
       "      <th>14</th>\n",
       "      <td>1998-04-17 14:00:00</td>\n",
       "      <td>8.4</td>\n",
       "      <td>FW001</td>\n",
       "      <td>CRD</td>\n",
       "    </tr>\n",
       "  </tbody>\n",
       "</table>\n",
       "</div>"
      ],
      "text/plain": [
       "                    time  windspeed station_id network_id\n",
       "0    1998-04-17 00:00:00        0.0      FW001        CRD\n",
       "1    1998-04-17 01:00:00        0.0      FW001        CRD\n",
       "2    1998-04-17 02:00:00        0.0      FW001        CRD\n",
       "3    1998-04-17 03:00:00        0.0      FW001        CRD\n",
       "4    1998-04-17 04:00:00        0.0      FW001        CRD\n",
       "5    1998-04-17 05:00:00        0.0      FW001        CRD\n",
       "6    1998-04-17 06:00:00        0.0      FW001        CRD\n",
       "7    1998-04-17 07:00:00        0.0      FW001        CRD\n",
       "8    1998-04-17 08:00:00        0.0      FW001        CRD\n",
       "9    1998-04-17 09:00:00        3.8      FW001        CRD\n",
       "10   1998-04-17 10:00:00        3.9      FW001        CRD\n",
       "11   1998-04-17 11:00:00        0.0      FW001        CRD\n",
       "12   1998-04-17 12:00:00        6.6      FW001        CRD\n",
       "13   1998-04-17 13:00:00       10.9      FW001        CRD\n",
       "14   1998-04-17 14:00:00        8.4      FW001        CRD"
      ]
     },
     "execution_count": 33,
     "metadata": {},
     "output_type": "execute_result"
    }
   ],
   "source": [
    "# check wind speed values, units\n",
    "# CRD station variables state values are recorded in km/h \n",
    "CRD_data_wind_clean.head(15)"
   ]
  },
  {
   "cell_type": "code",
   "execution_count": 34,
   "metadata": {},
   "outputs": [
    {
     "data": {
      "text/html": [
       "<div>\n",
       "<style scoped>\n",
       "    .dataframe tbody tr th:only-of-type {\n",
       "        vertical-align: middle;\n",
       "    }\n",
       "\n",
       "    .dataframe tbody tr th {\n",
       "        vertical-align: top;\n",
       "    }\n",
       "\n",
       "    .dataframe thead th {\n",
       "        text-align: right;\n",
       "    }\n",
       "</style>\n",
       "<table border=\"1\" class=\"dataframe\">\n",
       "  <thead>\n",
       "    <tr style=\"text-align: right;\">\n",
       "      <th></th>\n",
       "      <th>time</th>\n",
       "      <th>windspeed</th>\n",
       "      <th>station_id</th>\n",
       "      <th>network_id</th>\n",
       "    </tr>\n",
       "  </thead>\n",
       "  <tbody>\n",
       "    <tr>\n",
       "      <th>0</th>\n",
       "      <td>1998-04-17 00:00:00</td>\n",
       "      <td>0.000000</td>\n",
       "      <td>FW001</td>\n",
       "      <td>CRD</td>\n",
       "    </tr>\n",
       "    <tr>\n",
       "      <th>1</th>\n",
       "      <td>1998-04-17 01:00:00</td>\n",
       "      <td>0.000000</td>\n",
       "      <td>FW001</td>\n",
       "      <td>CRD</td>\n",
       "    </tr>\n",
       "    <tr>\n",
       "      <th>2</th>\n",
       "      <td>1998-04-17 02:00:00</td>\n",
       "      <td>0.000000</td>\n",
       "      <td>FW001</td>\n",
       "      <td>CRD</td>\n",
       "    </tr>\n",
       "    <tr>\n",
       "      <th>3</th>\n",
       "      <td>1998-04-17 03:00:00</td>\n",
       "      <td>0.000000</td>\n",
       "      <td>FW001</td>\n",
       "      <td>CRD</td>\n",
       "    </tr>\n",
       "    <tr>\n",
       "      <th>4</th>\n",
       "      <td>1998-04-17 04:00:00</td>\n",
       "      <td>0.000000</td>\n",
       "      <td>FW001</td>\n",
       "      <td>CRD</td>\n",
       "    </tr>\n",
       "    <tr>\n",
       "      <th>5</th>\n",
       "      <td>1998-04-17 05:00:00</td>\n",
       "      <td>0.000000</td>\n",
       "      <td>FW001</td>\n",
       "      <td>CRD</td>\n",
       "    </tr>\n",
       "    <tr>\n",
       "      <th>6</th>\n",
       "      <td>1998-04-17 06:00:00</td>\n",
       "      <td>0.000000</td>\n",
       "      <td>FW001</td>\n",
       "      <td>CRD</td>\n",
       "    </tr>\n",
       "    <tr>\n",
       "      <th>7</th>\n",
       "      <td>1998-04-17 07:00:00</td>\n",
       "      <td>0.000000</td>\n",
       "      <td>FW001</td>\n",
       "      <td>CRD</td>\n",
       "    </tr>\n",
       "    <tr>\n",
       "      <th>8</th>\n",
       "      <td>1998-04-17 08:00:00</td>\n",
       "      <td>0.000000</td>\n",
       "      <td>FW001</td>\n",
       "      <td>CRD</td>\n",
       "    </tr>\n",
       "    <tr>\n",
       "      <th>9</th>\n",
       "      <td>1998-04-17 09:00:00</td>\n",
       "      <td>1.055556</td>\n",
       "      <td>FW001</td>\n",
       "      <td>CRD</td>\n",
       "    </tr>\n",
       "    <tr>\n",
       "      <th>10</th>\n",
       "      <td>1998-04-17 10:00:00</td>\n",
       "      <td>1.083333</td>\n",
       "      <td>FW001</td>\n",
       "      <td>CRD</td>\n",
       "    </tr>\n",
       "    <tr>\n",
       "      <th>11</th>\n",
       "      <td>1998-04-17 11:00:00</td>\n",
       "      <td>0.000000</td>\n",
       "      <td>FW001</td>\n",
       "      <td>CRD</td>\n",
       "    </tr>\n",
       "    <tr>\n",
       "      <th>12</th>\n",
       "      <td>1998-04-17 12:00:00</td>\n",
       "      <td>1.833333</td>\n",
       "      <td>FW001</td>\n",
       "      <td>CRD</td>\n",
       "    </tr>\n",
       "    <tr>\n",
       "      <th>13</th>\n",
       "      <td>1998-04-17 13:00:00</td>\n",
       "      <td>3.027778</td>\n",
       "      <td>FW001</td>\n",
       "      <td>CRD</td>\n",
       "    </tr>\n",
       "    <tr>\n",
       "      <th>14</th>\n",
       "      <td>1998-04-17 14:00:00</td>\n",
       "      <td>2.333333</td>\n",
       "      <td>FW001</td>\n",
       "      <td>CRD</td>\n",
       "    </tr>\n",
       "  </tbody>\n",
       "</table>\n",
       "</div>"
      ],
      "text/plain": [
       "                    time  windspeed station_id network_id\n",
       "0    1998-04-17 00:00:00   0.000000      FW001        CRD\n",
       "1    1998-04-17 01:00:00   0.000000      FW001        CRD\n",
       "2    1998-04-17 02:00:00   0.000000      FW001        CRD\n",
       "3    1998-04-17 03:00:00   0.000000      FW001        CRD\n",
       "4    1998-04-17 04:00:00   0.000000      FW001        CRD\n",
       "5    1998-04-17 05:00:00   0.000000      FW001        CRD\n",
       "6    1998-04-17 06:00:00   0.000000      FW001        CRD\n",
       "7    1998-04-17 07:00:00   0.000000      FW001        CRD\n",
       "8    1998-04-17 08:00:00   0.000000      FW001        CRD\n",
       "9    1998-04-17 09:00:00   1.055556      FW001        CRD\n",
       "10   1998-04-17 10:00:00   1.083333      FW001        CRD\n",
       "11   1998-04-17 11:00:00   0.000000      FW001        CRD\n",
       "12   1998-04-17 12:00:00   1.833333      FW001        CRD\n",
       "13   1998-04-17 13:00:00   3.027778      FW001        CRD\n",
       "14   1998-04-17 14:00:00   2.333333      FW001        CRD"
      ]
     },
     "execution_count": 34,
     "metadata": {},
     "output_type": "execute_result"
    }
   ],
   "source": [
    "# convert windspeed values from km/h to m/s by dividing values by 3.6\n",
    "CRD_data_wind_clean.loc[:,'windspeed'] = CRD_data_wind_clean.loc[:,'windspeed'].div(3.6)\n",
    "CRD_data_wind_clean.head(15)"
   ]
  },
  {
   "cell_type": "code",
   "execution_count": 35,
   "metadata": {},
   "outputs": [],
   "source": [
    "# remove values outside of reasonable range\n",
    "CRD_data_wind_clean = CRD_data_wind_clean[CRD_data_wind_clean['windspeed'] < 65]\n",
    "CRD_data_wind_clean = CRD_data_wind_clean[CRD_data_wind_clean['windspeed'] >= 0]"
   ]
  },
  {
   "cell_type": "code",
   "execution_count": 36,
   "metadata": {},
   "outputs": [],
   "source": [
    "# rename columns\n",
    "CRD_wind = CRD_data_wind_clean.rename(columns={\"windspeed\":\"wind_speed\"})"
   ]
  },
  {
   "cell_type": "code",
   "execution_count": 37,
   "metadata": {},
   "outputs": [],
   "source": [
    "# save to csv\n",
    "CRD_wind.to_csv(f'{path_2}/CRD_wind.csv', index=False)"
   ]
  },
  {
   "cell_type": "markdown",
   "metadata": {},
   "source": [
    "#### EC_raw Data Cleaning"
   ]
  },
  {
   "cell_type": "code",
   "execution_count": 38,
   "metadata": {},
   "outputs": [
    {
     "name": "stderr",
     "output_type": "stream",
     "text": [
      "d:\\School\\LHL\\capstone_project_data\\LHL_Capstone_Project\\notebooks\\functions.py:149: DtypeWarning: Columns (11) have mixed types. Specify dtype option on import or set low_memory=False.\n",
      "  df_name = pd.read_csv(f'{path_2}/{data_name}.csv')\n"
     ]
    }
   ],
   "source": [
    "EC_raw_data = functions.to_df('EC_raw_data_clean.csv')"
   ]
  },
  {
   "cell_type": "code",
   "execution_count": 39,
   "metadata": {},
   "outputs": [],
   "source": [
    "column_names, column_nulls, duplicate_row_index = functions.start_cleaning(EC_raw_data)"
   ]
  },
  {
   "cell_type": "code",
   "execution_count": 40,
   "metadata": {},
   "outputs": [
    {
     "name": "stdout",
     "output_type": "stream",
     "text": [
      "column names: ['wind_speed', 'mean_sea_level', 'dew_point', 'wind_direction', 'relative_humidity', 'air_temperature', 'time', 'air_temperature_yesterday_low', 'wind_gust_speed', 'air_temperature_yesterday_high', 'tendency_amount', 'station_id', 'network_id', 'total_precipitation', 'snow_amount', 'total_cloud_cover']\n",
      "column nulls: wind_speed                         1012435\n",
      "mean_sea_level                     1326710\n",
      "dew_point                           932842\n",
      "wind_direction                     1834304\n",
      "relative_humidity                   935655\n",
      "air_temperature                     411231\n",
      "time                                     0\n",
      "air_temperature_yesterday_low     12391030\n",
      "wind_gust_speed                   11440570\n",
      "air_temperature_yesterday_high    12390760\n",
      "tendency_amount                    2839650\n",
      "station_id                               0\n",
      "network_id                               0\n",
      "total_precipitation               12295547\n",
      "snow_amount                       12736774\n",
      "total_cloud_cover                  9324595\n",
      "dtype: int64\n",
      "duplicate rows: Index([], dtype='int64')\n"
     ]
    }
   ],
   "source": [
    "print(f'column names: {column_names}')\n",
    "print(f'column nulls: {column_nulls}')\n",
    "print(f'duplicate rows: {duplicate_row_index}')"
   ]
  },
  {
   "cell_type": "code",
   "execution_count": 41,
   "metadata": {},
   "outputs": [],
   "source": [
    "# only keep variables of interest\n",
    "# no solar data available from this network\n",
    "EC_raw_data_wind = EC_raw_data.loc[:,('time', 'wind_speed', 'station_id', 'network_id')]"
   ]
  },
  {
   "cell_type": "code",
   "execution_count": 42,
   "metadata": {},
   "outputs": [
    {
     "data": {
      "text/plain": [
       "time                0\n",
       "wind_speed    1012435\n",
       "station_id          0\n",
       "network_id          0\n",
       "dtype: int64"
      ]
     },
     "execution_count": 42,
     "metadata": {},
     "output_type": "execute_result"
    }
   ],
   "source": [
    "# count null values in wind data\n",
    "EC_raw_data_wind.isna().sum()"
   ]
  },
  {
   "cell_type": "code",
   "execution_count": 43,
   "metadata": {},
   "outputs": [
    {
     "data": {
      "text/plain": [
       "time          0\n",
       "wind_speed    0\n",
       "station_id    0\n",
       "network_id    0\n",
       "dtype: int64"
      ]
     },
     "execution_count": 43,
     "metadata": {},
     "output_type": "execute_result"
    }
   ],
   "source": [
    "# drop rows in wind data that do not have values in windspeed column\n",
    "EC_raw_data_wind_clean = EC_raw_data_wind.dropna(subset=['wind_speed'])\n",
    "EC_raw_data_wind_clean.isna().sum()"
   ]
  },
  {
   "cell_type": "code",
   "execution_count": 44,
   "metadata": {},
   "outputs": [
    {
     "data": {
      "text/html": [
       "<div>\n",
       "<style scoped>\n",
       "    .dataframe tbody tr th:only-of-type {\n",
       "        vertical-align: middle;\n",
       "    }\n",
       "\n",
       "    .dataframe tbody tr th {\n",
       "        vertical-align: top;\n",
       "    }\n",
       "\n",
       "    .dataframe thead th {\n",
       "        text-align: right;\n",
       "    }\n",
       "</style>\n",
       "<table border=\"1\" class=\"dataframe\">\n",
       "  <thead>\n",
       "    <tr style=\"text-align: right;\">\n",
       "      <th></th>\n",
       "      <th>time</th>\n",
       "      <th>wind_speed</th>\n",
       "      <th>station_id</th>\n",
       "      <th>network_id</th>\n",
       "    </tr>\n",
       "  </thead>\n",
       "  <tbody>\n",
       "    <tr>\n",
       "      <th>138</th>\n",
       "      <td>2011-10-16 00:00:00</td>\n",
       "      <td>16.9</td>\n",
       "      <td>1012475</td>\n",
       "      <td>EC_raw</td>\n",
       "    </tr>\n",
       "    <tr>\n",
       "      <th>139</th>\n",
       "      <td>2011-10-16 01:00:00</td>\n",
       "      <td>16.2</td>\n",
       "      <td>1012475</td>\n",
       "      <td>EC_raw</td>\n",
       "    </tr>\n",
       "    <tr>\n",
       "      <th>140</th>\n",
       "      <td>2011-10-16 02:00:00</td>\n",
       "      <td>10.4</td>\n",
       "      <td>1012475</td>\n",
       "      <td>EC_raw</td>\n",
       "    </tr>\n",
       "    <tr>\n",
       "      <th>141</th>\n",
       "      <td>2011-10-16 03:00:00</td>\n",
       "      <td>9.4</td>\n",
       "      <td>1012475</td>\n",
       "      <td>EC_raw</td>\n",
       "    </tr>\n",
       "    <tr>\n",
       "      <th>142</th>\n",
       "      <td>2011-10-16 04:00:00</td>\n",
       "      <td>13.3</td>\n",
       "      <td>1012475</td>\n",
       "      <td>EC_raw</td>\n",
       "    </tr>\n",
       "    <tr>\n",
       "      <th>143</th>\n",
       "      <td>2011-10-16 05:00:00</td>\n",
       "      <td>15.5</td>\n",
       "      <td>1012475</td>\n",
       "      <td>EC_raw</td>\n",
       "    </tr>\n",
       "    <tr>\n",
       "      <th>144</th>\n",
       "      <td>2011-10-16 06:00:00</td>\n",
       "      <td>17.3</td>\n",
       "      <td>1012475</td>\n",
       "      <td>EC_raw</td>\n",
       "    </tr>\n",
       "    <tr>\n",
       "      <th>145</th>\n",
       "      <td>2011-10-16 07:00:00</td>\n",
       "      <td>16.9</td>\n",
       "      <td>1012475</td>\n",
       "      <td>EC_raw</td>\n",
       "    </tr>\n",
       "    <tr>\n",
       "      <th>146</th>\n",
       "      <td>2011-10-16 08:00:00</td>\n",
       "      <td>16.2</td>\n",
       "      <td>1012475</td>\n",
       "      <td>EC_raw</td>\n",
       "    </tr>\n",
       "    <tr>\n",
       "      <th>147</th>\n",
       "      <td>2011-10-16 09:00:00</td>\n",
       "      <td>8.3</td>\n",
       "      <td>1012475</td>\n",
       "      <td>EC_raw</td>\n",
       "    </tr>\n",
       "    <tr>\n",
       "      <th>148</th>\n",
       "      <td>2011-10-16 10:00:00</td>\n",
       "      <td>7.6</td>\n",
       "      <td>1012475</td>\n",
       "      <td>EC_raw</td>\n",
       "    </tr>\n",
       "    <tr>\n",
       "      <th>149</th>\n",
       "      <td>2011-10-16 11:00:00</td>\n",
       "      <td>8.6</td>\n",
       "      <td>1012475</td>\n",
       "      <td>EC_raw</td>\n",
       "    </tr>\n",
       "    <tr>\n",
       "      <th>150</th>\n",
       "      <td>2011-10-16 12:00:00</td>\n",
       "      <td>8.6</td>\n",
       "      <td>1012475</td>\n",
       "      <td>EC_raw</td>\n",
       "    </tr>\n",
       "    <tr>\n",
       "      <th>151</th>\n",
       "      <td>2011-10-16 13:00:00</td>\n",
       "      <td>9.7</td>\n",
       "      <td>1012475</td>\n",
       "      <td>EC_raw</td>\n",
       "    </tr>\n",
       "    <tr>\n",
       "      <th>152</th>\n",
       "      <td>2011-10-16 14:00:00</td>\n",
       "      <td>8.6</td>\n",
       "      <td>1012475</td>\n",
       "      <td>EC_raw</td>\n",
       "    </tr>\n",
       "  </tbody>\n",
       "</table>\n",
       "</div>"
      ],
      "text/plain": [
       "                     time  wind_speed station_id network_id\n",
       "138   2011-10-16 00:00:00        16.9    1012475     EC_raw\n",
       "139   2011-10-16 01:00:00        16.2    1012475     EC_raw\n",
       "140   2011-10-16 02:00:00        10.4    1012475     EC_raw\n",
       "141   2011-10-16 03:00:00         9.4    1012475     EC_raw\n",
       "142   2011-10-16 04:00:00        13.3    1012475     EC_raw\n",
       "143   2011-10-16 05:00:00        15.5    1012475     EC_raw\n",
       "144   2011-10-16 06:00:00        17.3    1012475     EC_raw\n",
       "145   2011-10-16 07:00:00        16.9    1012475     EC_raw\n",
       "146   2011-10-16 08:00:00        16.2    1012475     EC_raw\n",
       "147   2011-10-16 09:00:00         8.3    1012475     EC_raw\n",
       "148   2011-10-16 10:00:00         7.6    1012475     EC_raw\n",
       "149   2011-10-16 11:00:00         8.6    1012475     EC_raw\n",
       "150   2011-10-16 12:00:00         8.6    1012475     EC_raw\n",
       "151   2011-10-16 13:00:00         9.7    1012475     EC_raw\n",
       "152   2011-10-16 14:00:00         8.6    1012475     EC_raw"
      ]
     },
     "execution_count": 44,
     "metadata": {},
     "output_type": "execute_result"
    }
   ],
   "source": [
    "# check windspeed units\n",
    "EC_raw_data_wind_clean.head(15)\n",
    "# station metadata states km/h"
   ]
  },
  {
   "cell_type": "code",
   "execution_count": 45,
   "metadata": {},
   "outputs": [
    {
     "data": {
      "text/html": [
       "<div>\n",
       "<style scoped>\n",
       "    .dataframe tbody tr th:only-of-type {\n",
       "        vertical-align: middle;\n",
       "    }\n",
       "\n",
       "    .dataframe tbody tr th {\n",
       "        vertical-align: top;\n",
       "    }\n",
       "\n",
       "    .dataframe thead th {\n",
       "        text-align: right;\n",
       "    }\n",
       "</style>\n",
       "<table border=\"1\" class=\"dataframe\">\n",
       "  <thead>\n",
       "    <tr style=\"text-align: right;\">\n",
       "      <th></th>\n",
       "      <th>time</th>\n",
       "      <th>wind_speed</th>\n",
       "      <th>station_id</th>\n",
       "      <th>network_id</th>\n",
       "    </tr>\n",
       "  </thead>\n",
       "  <tbody>\n",
       "    <tr>\n",
       "      <th>138</th>\n",
       "      <td>2011-10-16 00:00:00</td>\n",
       "      <td>4.694444</td>\n",
       "      <td>1012475</td>\n",
       "      <td>EC_raw</td>\n",
       "    </tr>\n",
       "    <tr>\n",
       "      <th>139</th>\n",
       "      <td>2011-10-16 01:00:00</td>\n",
       "      <td>4.500000</td>\n",
       "      <td>1012475</td>\n",
       "      <td>EC_raw</td>\n",
       "    </tr>\n",
       "    <tr>\n",
       "      <th>140</th>\n",
       "      <td>2011-10-16 02:00:00</td>\n",
       "      <td>2.888889</td>\n",
       "      <td>1012475</td>\n",
       "      <td>EC_raw</td>\n",
       "    </tr>\n",
       "    <tr>\n",
       "      <th>141</th>\n",
       "      <td>2011-10-16 03:00:00</td>\n",
       "      <td>2.611111</td>\n",
       "      <td>1012475</td>\n",
       "      <td>EC_raw</td>\n",
       "    </tr>\n",
       "    <tr>\n",
       "      <th>142</th>\n",
       "      <td>2011-10-16 04:00:00</td>\n",
       "      <td>3.694444</td>\n",
       "      <td>1012475</td>\n",
       "      <td>EC_raw</td>\n",
       "    </tr>\n",
       "    <tr>\n",
       "      <th>143</th>\n",
       "      <td>2011-10-16 05:00:00</td>\n",
       "      <td>4.305556</td>\n",
       "      <td>1012475</td>\n",
       "      <td>EC_raw</td>\n",
       "    </tr>\n",
       "    <tr>\n",
       "      <th>144</th>\n",
       "      <td>2011-10-16 06:00:00</td>\n",
       "      <td>4.805556</td>\n",
       "      <td>1012475</td>\n",
       "      <td>EC_raw</td>\n",
       "    </tr>\n",
       "    <tr>\n",
       "      <th>145</th>\n",
       "      <td>2011-10-16 07:00:00</td>\n",
       "      <td>4.694444</td>\n",
       "      <td>1012475</td>\n",
       "      <td>EC_raw</td>\n",
       "    </tr>\n",
       "    <tr>\n",
       "      <th>146</th>\n",
       "      <td>2011-10-16 08:00:00</td>\n",
       "      <td>4.500000</td>\n",
       "      <td>1012475</td>\n",
       "      <td>EC_raw</td>\n",
       "    </tr>\n",
       "    <tr>\n",
       "      <th>147</th>\n",
       "      <td>2011-10-16 09:00:00</td>\n",
       "      <td>2.305556</td>\n",
       "      <td>1012475</td>\n",
       "      <td>EC_raw</td>\n",
       "    </tr>\n",
       "    <tr>\n",
       "      <th>148</th>\n",
       "      <td>2011-10-16 10:00:00</td>\n",
       "      <td>2.111111</td>\n",
       "      <td>1012475</td>\n",
       "      <td>EC_raw</td>\n",
       "    </tr>\n",
       "    <tr>\n",
       "      <th>149</th>\n",
       "      <td>2011-10-16 11:00:00</td>\n",
       "      <td>2.388889</td>\n",
       "      <td>1012475</td>\n",
       "      <td>EC_raw</td>\n",
       "    </tr>\n",
       "    <tr>\n",
       "      <th>150</th>\n",
       "      <td>2011-10-16 12:00:00</td>\n",
       "      <td>2.388889</td>\n",
       "      <td>1012475</td>\n",
       "      <td>EC_raw</td>\n",
       "    </tr>\n",
       "    <tr>\n",
       "      <th>151</th>\n",
       "      <td>2011-10-16 13:00:00</td>\n",
       "      <td>2.694444</td>\n",
       "      <td>1012475</td>\n",
       "      <td>EC_raw</td>\n",
       "    </tr>\n",
       "    <tr>\n",
       "      <th>152</th>\n",
       "      <td>2011-10-16 14:00:00</td>\n",
       "      <td>2.388889</td>\n",
       "      <td>1012475</td>\n",
       "      <td>EC_raw</td>\n",
       "    </tr>\n",
       "  </tbody>\n",
       "</table>\n",
       "</div>"
      ],
      "text/plain": [
       "                     time  wind_speed station_id network_id\n",
       "138   2011-10-16 00:00:00    4.694444    1012475     EC_raw\n",
       "139   2011-10-16 01:00:00    4.500000    1012475     EC_raw\n",
       "140   2011-10-16 02:00:00    2.888889    1012475     EC_raw\n",
       "141   2011-10-16 03:00:00    2.611111    1012475     EC_raw\n",
       "142   2011-10-16 04:00:00    3.694444    1012475     EC_raw\n",
       "143   2011-10-16 05:00:00    4.305556    1012475     EC_raw\n",
       "144   2011-10-16 06:00:00    4.805556    1012475     EC_raw\n",
       "145   2011-10-16 07:00:00    4.694444    1012475     EC_raw\n",
       "146   2011-10-16 08:00:00    4.500000    1012475     EC_raw\n",
       "147   2011-10-16 09:00:00    2.305556    1012475     EC_raw\n",
       "148   2011-10-16 10:00:00    2.111111    1012475     EC_raw\n",
       "149   2011-10-16 11:00:00    2.388889    1012475     EC_raw\n",
       "150   2011-10-16 12:00:00    2.388889    1012475     EC_raw\n",
       "151   2011-10-16 13:00:00    2.694444    1012475     EC_raw\n",
       "152   2011-10-16 14:00:00    2.388889    1012475     EC_raw"
      ]
     },
     "execution_count": 45,
     "metadata": {},
     "output_type": "execute_result"
    }
   ],
   "source": [
    "# convert windspeed values from km/h to m/s by dividing values by 3.6\n",
    "EC_raw_data_wind_clean.loc[:,('wind_speed')] = EC_raw_data_wind_clean.loc[:,('wind_speed')].div(3.6)\n",
    "EC_raw_data_wind_clean.head(15)"
   ]
  },
  {
   "cell_type": "code",
   "execution_count": 46,
   "metadata": {},
   "outputs": [],
   "source": [
    "# remove values outside reasonable range\n",
    "EC_raw_data_wind_clean = EC_raw_data_wind_clean[EC_raw_data_wind_clean['wind_speed'] < 65]\n",
    "EC_raw_data_wind_clean = EC_raw_data_wind_clean[EC_raw_data_wind_clean['wind_speed'] >= 0]"
   ]
  },
  {
   "cell_type": "code",
   "execution_count": null,
   "metadata": {},
   "outputs": [],
   "source": [
    "# rename columns\n",
    "# not required"
   ]
  },
  {
   "cell_type": "code",
   "execution_count": null,
   "metadata": {},
   "outputs": [],
   "source": [
    "# replace station_id values if necessary\n",
    "# not necessary"
   ]
  },
  {
   "cell_type": "code",
   "execution_count": 47,
   "metadata": {},
   "outputs": [],
   "source": [
    "# save to csv\n",
    "EC_raw_data_wind_clean.to_csv(f'{path_2}/EC_raw_wind.csv', index=False)"
   ]
  },
  {
   "cell_type": "markdown",
   "metadata": {},
   "source": [
    "#### ENV_AQN Data Cleaning"
   ]
  },
  {
   "cell_type": "code",
   "execution_count": 48,
   "metadata": {},
   "outputs": [
    {
     "name": "stderr",
     "output_type": "stream",
     "text": [
      "d:\\School\\LHL\\capstone_project_data\\LHL_Capstone_Project\\notebooks\\functions.py:149: DtypeWarning: Columns (8) have mixed types. Specify dtype option on import or set low_memory=False.\n",
      "  df_name = pd.read_csv(f'{path_2}/{data_name}.csv')\n"
     ]
    }
   ],
   "source": [
    "ENV_AQN_data = functions.to_df('ENV_AQN_data_clean.csv')"
   ]
  },
  {
   "cell_type": "code",
   "execution_count": 49,
   "metadata": {},
   "outputs": [],
   "source": [
    "column_names, column_nulls, duplicate_row_index = functions.start_cleaning(ENV_AQN_data)"
   ]
  },
  {
   "cell_type": "code",
   "execution_count": 50,
   "metadata": {},
   "outputs": [
    {
     "name": "stdout",
     "output_type": "stream",
     "text": [
      "column names: ['wdir_vect', 'temp_mean', 'wspd_sclr', 'precip_total', 'avg_rel_hum_pst1hr', 'time', 'humidity', 'avg_air_temp_pst1hr', 'station_id', 'network_id', 'bar_press']\n",
      "column nulls: wdir_vect               6568691\n",
      "temp_mean               5413225\n",
      "wspd_sclr               2296217\n",
      "precip_total           12783840\n",
      "avg_rel_hum_pst1hr      8968906\n",
      "time                          0\n",
      "humidity                8688631\n",
      "avg_air_temp_pst1hr     7985418\n",
      "station_id                    0\n",
      "network_id                    0\n",
      "bar_press              12962966\n",
      "dtype: int64\n",
      "duplicate rows: Index([], dtype='int64')\n"
     ]
    }
   ],
   "source": [
    "print(f'column names: {column_names}')\n",
    "print(f'column nulls: {column_nulls}')\n",
    "print(f'duplicate rows: {duplicate_row_index}')"
   ]
  },
  {
   "cell_type": "code",
   "execution_count": 51,
   "metadata": {},
   "outputs": [],
   "source": [
    "# only keep variables of interest\n",
    "# no solar data available for this network\n",
    "ENV_AQN_data_wind = ENV_AQN_data.loc[:,('time', 'wspd_sclr', 'station_id', 'network_id')] "
   ]
  },
  {
   "cell_type": "code",
   "execution_count": 52,
   "metadata": {},
   "outputs": [
    {
     "data": {
      "text/plain": [
       "time                0\n",
       "wspd_sclr     2296217\n",
       "station_id          0\n",
       "network_id          0\n",
       "dtype: int64"
      ]
     },
     "execution_count": 52,
     "metadata": {},
     "output_type": "execute_result"
    }
   ],
   "source": [
    "# count null values in wind data\n",
    "ENV_AQN_data_wind.isna().sum()"
   ]
  },
  {
   "cell_type": "code",
   "execution_count": 53,
   "metadata": {},
   "outputs": [
    {
     "data": {
      "text/plain": [
       "time          0\n",
       "wspd_sclr     0\n",
       "station_id    0\n",
       "network_id    0\n",
       "dtype: int64"
      ]
     },
     "execution_count": 53,
     "metadata": {},
     "output_type": "execute_result"
    }
   ],
   "source": [
    "# drop rows in wind data that do not have windspeed values\n",
    "ENV_AQN_data_wind_clean = ENV_AQN_data_wind.dropna(subset=['wspd_sclr'])\n",
    "ENV_AQN_data_wind_clean.isna().sum()"
   ]
  },
  {
   "cell_type": "code",
   "execution_count": 54,
   "metadata": {},
   "outputs": [
    {
     "data": {
      "text/html": [
       "<div>\n",
       "<style scoped>\n",
       "    .dataframe tbody tr th:only-of-type {\n",
       "        vertical-align: middle;\n",
       "    }\n",
       "\n",
       "    .dataframe tbody tr th {\n",
       "        vertical-align: top;\n",
       "    }\n",
       "\n",
       "    .dataframe thead th {\n",
       "        text-align: right;\n",
       "    }\n",
       "</style>\n",
       "<table border=\"1\" class=\"dataframe\">\n",
       "  <thead>\n",
       "    <tr style=\"text-align: right;\">\n",
       "      <th></th>\n",
       "      <th>time</th>\n",
       "      <th>wspd_sclr</th>\n",
       "      <th>station_id</th>\n",
       "      <th>network_id</th>\n",
       "    </tr>\n",
       "  </thead>\n",
       "  <tbody>\n",
       "    <tr>\n",
       "      <th>0</th>\n",
       "      <td>1998-03-12 15:00:00</td>\n",
       "      <td>1.044</td>\n",
       "      <td>110031</td>\n",
       "      <td>ENV-AQN</td>\n",
       "    </tr>\n",
       "    <tr>\n",
       "      <th>1</th>\n",
       "      <td>1998-03-12 16:00:00</td>\n",
       "      <td>2.518</td>\n",
       "      <td>110031</td>\n",
       "      <td>ENV-AQN</td>\n",
       "    </tr>\n",
       "    <tr>\n",
       "      <th>2</th>\n",
       "      <td>1998-03-12 17:00:00</td>\n",
       "      <td>1.028</td>\n",
       "      <td>110031</td>\n",
       "      <td>ENV-AQN</td>\n",
       "    </tr>\n",
       "    <tr>\n",
       "      <th>3</th>\n",
       "      <td>1998-03-12 18:00:00</td>\n",
       "      <td>0.704</td>\n",
       "      <td>110031</td>\n",
       "      <td>ENV-AQN</td>\n",
       "    </tr>\n",
       "    <tr>\n",
       "      <th>4</th>\n",
       "      <td>1998-03-12 19:00:00</td>\n",
       "      <td>0.208</td>\n",
       "      <td>110031</td>\n",
       "      <td>ENV-AQN</td>\n",
       "    </tr>\n",
       "    <tr>\n",
       "      <th>5</th>\n",
       "      <td>1998-03-12 20:00:00</td>\n",
       "      <td>0.140</td>\n",
       "      <td>110031</td>\n",
       "      <td>ENV-AQN</td>\n",
       "    </tr>\n",
       "    <tr>\n",
       "      <th>6</th>\n",
       "      <td>1998-03-12 21:00:00</td>\n",
       "      <td>0.534</td>\n",
       "      <td>110031</td>\n",
       "      <td>ENV-AQN</td>\n",
       "    </tr>\n",
       "    <tr>\n",
       "      <th>7</th>\n",
       "      <td>1998-03-12 22:00:00</td>\n",
       "      <td>0.457</td>\n",
       "      <td>110031</td>\n",
       "      <td>ENV-AQN</td>\n",
       "    </tr>\n",
       "    <tr>\n",
       "      <th>8</th>\n",
       "      <td>1998-03-12 23:00:00</td>\n",
       "      <td>0.916</td>\n",
       "      <td>110031</td>\n",
       "      <td>ENV-AQN</td>\n",
       "    </tr>\n",
       "    <tr>\n",
       "      <th>9</th>\n",
       "      <td>1998-03-13 00:00:00</td>\n",
       "      <td>0.303</td>\n",
       "      <td>110031</td>\n",
       "      <td>ENV-AQN</td>\n",
       "    </tr>\n",
       "    <tr>\n",
       "      <th>10</th>\n",
       "      <td>1998-03-13 01:00:00</td>\n",
       "      <td>0.403</td>\n",
       "      <td>110031</td>\n",
       "      <td>ENV-AQN</td>\n",
       "    </tr>\n",
       "    <tr>\n",
       "      <th>11</th>\n",
       "      <td>1998-03-13 02:00:00</td>\n",
       "      <td>0.378</td>\n",
       "      <td>110031</td>\n",
       "      <td>ENV-AQN</td>\n",
       "    </tr>\n",
       "    <tr>\n",
       "      <th>12</th>\n",
       "      <td>1998-03-13 03:00:00</td>\n",
       "      <td>0.750</td>\n",
       "      <td>110031</td>\n",
       "      <td>ENV-AQN</td>\n",
       "    </tr>\n",
       "    <tr>\n",
       "      <th>13</th>\n",
       "      <td>1998-03-13 04:00:00</td>\n",
       "      <td>0.576</td>\n",
       "      <td>110031</td>\n",
       "      <td>ENV-AQN</td>\n",
       "    </tr>\n",
       "    <tr>\n",
       "      <th>14</th>\n",
       "      <td>1998-03-13 05:00:00</td>\n",
       "      <td>0.224</td>\n",
       "      <td>110031</td>\n",
       "      <td>ENV-AQN</td>\n",
       "    </tr>\n",
       "  </tbody>\n",
       "</table>\n",
       "</div>"
      ],
      "text/plain": [
       "                    time  wspd_sclr station_id network_id\n",
       "0    1998-03-12 15:00:00      1.044     110031    ENV-AQN\n",
       "1    1998-03-12 16:00:00      2.518     110031    ENV-AQN\n",
       "2    1998-03-12 17:00:00      1.028     110031    ENV-AQN\n",
       "3    1998-03-12 18:00:00      0.704     110031    ENV-AQN\n",
       "4    1998-03-12 19:00:00      0.208     110031    ENV-AQN\n",
       "5    1998-03-12 20:00:00      0.140     110031    ENV-AQN\n",
       "6    1998-03-12 21:00:00      0.534     110031    ENV-AQN\n",
       "7    1998-03-12 22:00:00      0.457     110031    ENV-AQN\n",
       "8    1998-03-12 23:00:00      0.916     110031    ENV-AQN\n",
       "9    1998-03-13 00:00:00      0.303     110031    ENV-AQN\n",
       "10   1998-03-13 01:00:00      0.403     110031    ENV-AQN\n",
       "11   1998-03-13 02:00:00      0.378     110031    ENV-AQN\n",
       "12   1998-03-13 03:00:00      0.750     110031    ENV-AQN\n",
       "13   1998-03-13 04:00:00      0.576     110031    ENV-AQN\n",
       "14   1998-03-13 05:00:00      0.224     110031    ENV-AQN"
      ]
     },
     "execution_count": 54,
     "metadata": {},
     "output_type": "execute_result"
    }
   ],
   "source": [
    "# check windspeed values, units\n",
    "# no units specified in ENV_AQN station data file\n",
    "ENV_AQN_data_wind_clean.head(15)"
   ]
  },
  {
   "cell_type": "code",
   "execution_count": 55,
   "metadata": {},
   "outputs": [
    {
     "data": {
      "text/html": [
       "<div>\n",
       "<style scoped>\n",
       "    .dataframe tbody tr th:only-of-type {\n",
       "        vertical-align: middle;\n",
       "    }\n",
       "\n",
       "    .dataframe tbody tr th {\n",
       "        vertical-align: top;\n",
       "    }\n",
       "\n",
       "    .dataframe thead th {\n",
       "        text-align: right;\n",
       "    }\n",
       "</style>\n",
       "<table border=\"1\" class=\"dataframe\">\n",
       "  <thead>\n",
       "    <tr style=\"text-align: right;\">\n",
       "      <th></th>\n",
       "      <th>time</th>\n",
       "      <th>wspd_sclr</th>\n",
       "      <th>station_id</th>\n",
       "      <th>network_id</th>\n",
       "    </tr>\n",
       "  </thead>\n",
       "  <tbody>\n",
       "    <tr>\n",
       "      <th>5579171</th>\n",
       "      <td>2009-01-03 00:00:00</td>\n",
       "      <td>299.872</td>\n",
       "      <td>E257415</td>\n",
       "      <td>ENV-AQN</td>\n",
       "    </tr>\n",
       "    <tr>\n",
       "      <th>5579165</th>\n",
       "      <td>2009-01-02 18:00:00</td>\n",
       "      <td>299.676</td>\n",
       "      <td>E257415</td>\n",
       "      <td>ENV-AQN</td>\n",
       "    </tr>\n",
       "    <tr>\n",
       "      <th>5579168</th>\n",
       "      <td>2009-01-02 21:00:00</td>\n",
       "      <td>299.667</td>\n",
       "      <td>E257415</td>\n",
       "      <td>ENV-AQN</td>\n",
       "    </tr>\n",
       "    <tr>\n",
       "      <th>5579169</th>\n",
       "      <td>2009-01-02 22:00:00</td>\n",
       "      <td>299.666</td>\n",
       "      <td>E257415</td>\n",
       "      <td>ENV-AQN</td>\n",
       "    </tr>\n",
       "    <tr>\n",
       "      <th>5579170</th>\n",
       "      <td>2009-01-02 23:00:00</td>\n",
       "      <td>299.666</td>\n",
       "      <td>E257415</td>\n",
       "      <td>ENV-AQN</td>\n",
       "    </tr>\n",
       "    <tr>\n",
       "      <th>5579167</th>\n",
       "      <td>2009-01-02 20:00:00</td>\n",
       "      <td>299.660</td>\n",
       "      <td>E257415</td>\n",
       "      <td>ENV-AQN</td>\n",
       "    </tr>\n",
       "    <tr>\n",
       "      <th>5579166</th>\n",
       "      <td>2009-01-02 19:00:00</td>\n",
       "      <td>299.659</td>\n",
       "      <td>E257415</td>\n",
       "      <td>ENV-AQN</td>\n",
       "    </tr>\n",
       "    <tr>\n",
       "      <th>5579151</th>\n",
       "      <td>2009-01-02 04:00:00</td>\n",
       "      <td>299.542</td>\n",
       "      <td>E257415</td>\n",
       "      <td>ENV-AQN</td>\n",
       "    </tr>\n",
       "    <tr>\n",
       "      <th>5580311</th>\n",
       "      <td>2009-02-19 12:00:00</td>\n",
       "      <td>299.351</td>\n",
       "      <td>E257415</td>\n",
       "      <td>ENV-AQN</td>\n",
       "    </tr>\n",
       "    <tr>\n",
       "      <th>5580052</th>\n",
       "      <td>2009-02-08 17:00:00</td>\n",
       "      <td>298.838</td>\n",
       "      <td>E257415</td>\n",
       "      <td>ENV-AQN</td>\n",
       "    </tr>\n",
       "    <tr>\n",
       "      <th>5579968</th>\n",
       "      <td>2009-02-05 05:00:00</td>\n",
       "      <td>296.863</td>\n",
       "      <td>E257415</td>\n",
       "      <td>ENV-AQN</td>\n",
       "    </tr>\n",
       "    <tr>\n",
       "      <th>5579668</th>\n",
       "      <td>2009-01-23 17:00:00</td>\n",
       "      <td>296.197</td>\n",
       "      <td>E257415</td>\n",
       "      <td>ENV-AQN</td>\n",
       "    </tr>\n",
       "    <tr>\n",
       "      <th>5580384</th>\n",
       "      <td>2009-02-22 13:00:00</td>\n",
       "      <td>295.689</td>\n",
       "      <td>E257415</td>\n",
       "      <td>ENV-AQN</td>\n",
       "    </tr>\n",
       "    <tr>\n",
       "      <th>5579514</th>\n",
       "      <td>2009-01-17 07:00:00</td>\n",
       "      <td>295.527</td>\n",
       "      <td>E257415</td>\n",
       "      <td>ENV-AQN</td>\n",
       "    </tr>\n",
       "    <tr>\n",
       "      <th>5579545</th>\n",
       "      <td>2009-01-18 14:00:00</td>\n",
       "      <td>293.812</td>\n",
       "      <td>E257415</td>\n",
       "      <td>ENV-AQN</td>\n",
       "    </tr>\n",
       "    <tr>\n",
       "      <th>5580076</th>\n",
       "      <td>2009-02-09 17:00:00</td>\n",
       "      <td>293.099</td>\n",
       "      <td>E257415</td>\n",
       "      <td>ENV-AQN</td>\n",
       "    </tr>\n",
       "    <tr>\n",
       "      <th>5580471</th>\n",
       "      <td>2009-02-26 04:00:00</td>\n",
       "      <td>292.888</td>\n",
       "      <td>E257415</td>\n",
       "      <td>ENV-AQN</td>\n",
       "    </tr>\n",
       "    <tr>\n",
       "      <th>5580148</th>\n",
       "      <td>2009-02-12 17:00:00</td>\n",
       "      <td>292.455</td>\n",
       "      <td>E257415</td>\n",
       "      <td>ENV-AQN</td>\n",
       "    </tr>\n",
       "    <tr>\n",
       "      <th>5579305</th>\n",
       "      <td>2009-01-08 14:00:00</td>\n",
       "      <td>291.368</td>\n",
       "      <td>E257415</td>\n",
       "      <td>ENV-AQN</td>\n",
       "    </tr>\n",
       "    <tr>\n",
       "      <th>5579712</th>\n",
       "      <td>2009-01-25 13:00:00</td>\n",
       "      <td>290.505</td>\n",
       "      <td>E257415</td>\n",
       "      <td>ENV-AQN</td>\n",
       "    </tr>\n",
       "    <tr>\n",
       "      <th>5579426</th>\n",
       "      <td>2009-01-13 15:00:00</td>\n",
       "      <td>290.167</td>\n",
       "      <td>E257415</td>\n",
       "      <td>ENV-AQN</td>\n",
       "    </tr>\n",
       "    <tr>\n",
       "      <th>5579931</th>\n",
       "      <td>2009-02-03 16:00:00</td>\n",
       "      <td>289.841</td>\n",
       "      <td>E257415</td>\n",
       "      <td>ENV-AQN</td>\n",
       "    </tr>\n",
       "    <tr>\n",
       "      <th>5579704</th>\n",
       "      <td>2009-01-25 05:00:00</td>\n",
       "      <td>286.462</td>\n",
       "      <td>E257415</td>\n",
       "      <td>ENV-AQN</td>\n",
       "    </tr>\n",
       "    <tr>\n",
       "      <th>5579574</th>\n",
       "      <td>2009-01-19 19:00:00</td>\n",
       "      <td>286.409</td>\n",
       "      <td>E257415</td>\n",
       "      <td>ENV-AQN</td>\n",
       "    </tr>\n",
       "    <tr>\n",
       "      <th>5580317</th>\n",
       "      <td>2009-02-19 18:00:00</td>\n",
       "      <td>284.545</td>\n",
       "      <td>E257415</td>\n",
       "      <td>ENV-AQN</td>\n",
       "    </tr>\n",
       "    <tr>\n",
       "      <th>5579539</th>\n",
       "      <td>2009-01-18 08:00:00</td>\n",
       "      <td>284.400</td>\n",
       "      <td>E257415</td>\n",
       "      <td>ENV-AQN</td>\n",
       "    </tr>\n",
       "    <tr>\n",
       "      <th>5580107</th>\n",
       "      <td>2009-02-11 00:00:00</td>\n",
       "      <td>282.595</td>\n",
       "      <td>E257415</td>\n",
       "      <td>ENV-AQN</td>\n",
       "    </tr>\n",
       "    <tr>\n",
       "      <th>5579548</th>\n",
       "      <td>2009-01-18 17:00:00</td>\n",
       "      <td>282.556</td>\n",
       "      <td>E257415</td>\n",
       "      <td>ENV-AQN</td>\n",
       "    </tr>\n",
       "    <tr>\n",
       "      <th>5580190</th>\n",
       "      <td>2009-02-14 11:00:00</td>\n",
       "      <td>279.669</td>\n",
       "      <td>E257415</td>\n",
       "      <td>ENV-AQN</td>\n",
       "    </tr>\n",
       "    <tr>\n",
       "      <th>5580245</th>\n",
       "      <td>2009-02-16 18:00:00</td>\n",
       "      <td>279.206</td>\n",
       "      <td>E257415</td>\n",
       "      <td>ENV-AQN</td>\n",
       "    </tr>\n",
       "    <tr>\n",
       "      <th>5579952</th>\n",
       "      <td>2009-02-04 13:00:00</td>\n",
       "      <td>279.141</td>\n",
       "      <td>E257415</td>\n",
       "      <td>ENV-AQN</td>\n",
       "    </tr>\n",
       "    <tr>\n",
       "      <th>5579576</th>\n",
       "      <td>2009-01-19 21:00:00</td>\n",
       "      <td>277.069</td>\n",
       "      <td>E257415</td>\n",
       "      <td>ENV-AQN</td>\n",
       "    </tr>\n",
       "    <tr>\n",
       "      <th>5580189</th>\n",
       "      <td>2009-02-14 10:00:00</td>\n",
       "      <td>275.627</td>\n",
       "      <td>E257415</td>\n",
       "      <td>ENV-AQN</td>\n",
       "    </tr>\n",
       "    <tr>\n",
       "      <th>5579543</th>\n",
       "      <td>2009-01-18 12:00:00</td>\n",
       "      <td>274.619</td>\n",
       "      <td>E257415</td>\n",
       "      <td>ENV-AQN</td>\n",
       "    </tr>\n",
       "    <tr>\n",
       "      <th>5580077</th>\n",
       "      <td>2009-02-09 18:00:00</td>\n",
       "      <td>271.138</td>\n",
       "      <td>E257415</td>\n",
       "      <td>ENV-AQN</td>\n",
       "    </tr>\n",
       "    <tr>\n",
       "      <th>5579716</th>\n",
       "      <td>2009-01-25 17:00:00</td>\n",
       "      <td>266.059</td>\n",
       "      <td>E257415</td>\n",
       "      <td>ENV-AQN</td>\n",
       "    </tr>\n",
       "    <tr>\n",
       "      <th>5579587</th>\n",
       "      <td>2009-01-20 08:00:00</td>\n",
       "      <td>256.839</td>\n",
       "      <td>E257415</td>\n",
       "      <td>ENV-AQN</td>\n",
       "    </tr>\n",
       "    <tr>\n",
       "      <th>5579581</th>\n",
       "      <td>2009-01-20 02:00:00</td>\n",
       "      <td>256.584</td>\n",
       "      <td>E257415</td>\n",
       "      <td>ENV-AQN</td>\n",
       "    </tr>\n",
       "    <tr>\n",
       "      <th>5580103</th>\n",
       "      <td>2009-02-10 20:00:00</td>\n",
       "      <td>255.733</td>\n",
       "      <td>E257415</td>\n",
       "      <td>ENV-AQN</td>\n",
       "    </tr>\n",
       "    <tr>\n",
       "      <th>5580005</th>\n",
       "      <td>2009-02-06 18:00:00</td>\n",
       "      <td>249.466</td>\n",
       "      <td>E257415</td>\n",
       "      <td>ENV-AQN</td>\n",
       "    </tr>\n",
       "    <tr>\n",
       "      <th>5579701</th>\n",
       "      <td>2009-01-25 02:00:00</td>\n",
       "      <td>247.975</td>\n",
       "      <td>E257415</td>\n",
       "      <td>ENV-AQN</td>\n",
       "    </tr>\n",
       "    <tr>\n",
       "      <th>5580197</th>\n",
       "      <td>2009-02-14 18:00:00</td>\n",
       "      <td>246.183</td>\n",
       "      <td>E257415</td>\n",
       "      <td>ENV-AQN</td>\n",
       "    </tr>\n",
       "    <tr>\n",
       "      <th>5579958</th>\n",
       "      <td>2009-02-04 19:00:00</td>\n",
       "      <td>244.035</td>\n",
       "      <td>E257415</td>\n",
       "      <td>ENV-AQN</td>\n",
       "    </tr>\n",
       "    <tr>\n",
       "      <th>5579700</th>\n",
       "      <td>2009-01-25 01:00:00</td>\n",
       "      <td>243.176</td>\n",
       "      <td>E257415</td>\n",
       "      <td>ENV-AQN</td>\n",
       "    </tr>\n",
       "    <tr>\n",
       "      <th>5580315</th>\n",
       "      <td>2009-02-19 16:00:00</td>\n",
       "      <td>242.969</td>\n",
       "      <td>E257415</td>\n",
       "      <td>ENV-AQN</td>\n",
       "    </tr>\n",
       "    <tr>\n",
       "      <th>5579706</th>\n",
       "      <td>2009-01-25 07:00:00</td>\n",
       "      <td>242.159</td>\n",
       "      <td>E257415</td>\n",
       "      <td>ENV-AQN</td>\n",
       "    </tr>\n",
       "    <tr>\n",
       "      <th>5579152</th>\n",
       "      <td>2009-01-02 05:00:00</td>\n",
       "      <td>241.698</td>\n",
       "      <td>E257415</td>\n",
       "      <td>ENV-AQN</td>\n",
       "    </tr>\n",
       "    <tr>\n",
       "      <th>5580173</th>\n",
       "      <td>2009-02-13 18:00:00</td>\n",
       "      <td>241.577</td>\n",
       "      <td>E257415</td>\n",
       "      <td>ENV-AQN</td>\n",
       "    </tr>\n",
       "    <tr>\n",
       "      <th>5579713</th>\n",
       "      <td>2009-01-25 14:00:00</td>\n",
       "      <td>241.185</td>\n",
       "      <td>E257415</td>\n",
       "      <td>ENV-AQN</td>\n",
       "    </tr>\n",
       "    <tr>\n",
       "      <th>5579640</th>\n",
       "      <td>2009-01-22 13:00:00</td>\n",
       "      <td>240.148</td>\n",
       "      <td>E257415</td>\n",
       "      <td>ENV-AQN</td>\n",
       "    </tr>\n",
       "  </tbody>\n",
       "</table>\n",
       "</div>"
      ],
      "text/plain": [
       "                         time  wspd_sclr station_id network_id\n",
       "5579171   2009-01-03 00:00:00    299.872    E257415    ENV-AQN\n",
       "5579165   2009-01-02 18:00:00    299.676    E257415    ENV-AQN\n",
       "5579168   2009-01-02 21:00:00    299.667    E257415    ENV-AQN\n",
       "5579169   2009-01-02 22:00:00    299.666    E257415    ENV-AQN\n",
       "5579170   2009-01-02 23:00:00    299.666    E257415    ENV-AQN\n",
       "5579167   2009-01-02 20:00:00    299.660    E257415    ENV-AQN\n",
       "5579166   2009-01-02 19:00:00    299.659    E257415    ENV-AQN\n",
       "5579151   2009-01-02 04:00:00    299.542    E257415    ENV-AQN\n",
       "5580311   2009-02-19 12:00:00    299.351    E257415    ENV-AQN\n",
       "5580052   2009-02-08 17:00:00    298.838    E257415    ENV-AQN\n",
       "5579968   2009-02-05 05:00:00    296.863    E257415    ENV-AQN\n",
       "5579668   2009-01-23 17:00:00    296.197    E257415    ENV-AQN\n",
       "5580384   2009-02-22 13:00:00    295.689    E257415    ENV-AQN\n",
       "5579514   2009-01-17 07:00:00    295.527    E257415    ENV-AQN\n",
       "5579545   2009-01-18 14:00:00    293.812    E257415    ENV-AQN\n",
       "5580076   2009-02-09 17:00:00    293.099    E257415    ENV-AQN\n",
       "5580471   2009-02-26 04:00:00    292.888    E257415    ENV-AQN\n",
       "5580148   2009-02-12 17:00:00    292.455    E257415    ENV-AQN\n",
       "5579305   2009-01-08 14:00:00    291.368    E257415    ENV-AQN\n",
       "5579712   2009-01-25 13:00:00    290.505    E257415    ENV-AQN\n",
       "5579426   2009-01-13 15:00:00    290.167    E257415    ENV-AQN\n",
       "5579931   2009-02-03 16:00:00    289.841    E257415    ENV-AQN\n",
       "5579704   2009-01-25 05:00:00    286.462    E257415    ENV-AQN\n",
       "5579574   2009-01-19 19:00:00    286.409    E257415    ENV-AQN\n",
       "5580317   2009-02-19 18:00:00    284.545    E257415    ENV-AQN\n",
       "5579539   2009-01-18 08:00:00    284.400    E257415    ENV-AQN\n",
       "5580107   2009-02-11 00:00:00    282.595    E257415    ENV-AQN\n",
       "5579548   2009-01-18 17:00:00    282.556    E257415    ENV-AQN\n",
       "5580190   2009-02-14 11:00:00    279.669    E257415    ENV-AQN\n",
       "5580245   2009-02-16 18:00:00    279.206    E257415    ENV-AQN\n",
       "5579952   2009-02-04 13:00:00    279.141    E257415    ENV-AQN\n",
       "5579576   2009-01-19 21:00:00    277.069    E257415    ENV-AQN\n",
       "5580189   2009-02-14 10:00:00    275.627    E257415    ENV-AQN\n",
       "5579543   2009-01-18 12:00:00    274.619    E257415    ENV-AQN\n",
       "5580077   2009-02-09 18:00:00    271.138    E257415    ENV-AQN\n",
       "5579716   2009-01-25 17:00:00    266.059    E257415    ENV-AQN\n",
       "5579587   2009-01-20 08:00:00    256.839    E257415    ENV-AQN\n",
       "5579581   2009-01-20 02:00:00    256.584    E257415    ENV-AQN\n",
       "5580103   2009-02-10 20:00:00    255.733    E257415    ENV-AQN\n",
       "5580005   2009-02-06 18:00:00    249.466    E257415    ENV-AQN\n",
       "5579701   2009-01-25 02:00:00    247.975    E257415    ENV-AQN\n",
       "5580197   2009-02-14 18:00:00    246.183    E257415    ENV-AQN\n",
       "5579958   2009-02-04 19:00:00    244.035    E257415    ENV-AQN\n",
       "5579700   2009-01-25 01:00:00    243.176    E257415    ENV-AQN\n",
       "5580315   2009-02-19 16:00:00    242.969    E257415    ENV-AQN\n",
       "5579706   2009-01-25 07:00:00    242.159    E257415    ENV-AQN\n",
       "5579152   2009-01-02 05:00:00    241.698    E257415    ENV-AQN\n",
       "5580173   2009-02-13 18:00:00    241.577    E257415    ENV-AQN\n",
       "5579713   2009-01-25 14:00:00    241.185    E257415    ENV-AQN\n",
       "5579640   2009-01-22 13:00:00    240.148    E257415    ENV-AQN"
      ]
     },
     "execution_count": 55,
     "metadata": {},
     "output_type": "execute_result"
    }
   ],
   "source": [
    "# check windspeed max values\n",
    "ENV_AQN_data_wind_clean.nlargest(50, 'wspd_sclr')\n"
   ]
  },
  {
   "cell_type": "code",
   "execution_count": 56,
   "metadata": {},
   "outputs": [
    {
     "data": {
      "text/plain": [
       "wspd_sclr    1.84\n",
       "dtype: float64"
      ]
     },
     "execution_count": 56,
     "metadata": {},
     "output_type": "execute_result"
    }
   ],
   "source": [
    "# check windspeed median value\n",
    "ENV_AQN_data_wind_clean.median(numeric_only=True)"
   ]
  },
  {
   "cell_type": "code",
   "execution_count": null,
   "metadata": {},
   "outputs": [],
   "source": [
    "# based on median value, assumed units were m/s\n",
    "# assumed that max values were errors/outliers"
   ]
  },
  {
   "cell_type": "code",
   "execution_count": 58,
   "metadata": {},
   "outputs": [],
   "source": [
    "# remove values outside of reasonable range\n",
    "ENV_AQN_data_wind_clean = ENV_AQN_data_wind_clean[ENV_AQN_data_wind_clean['wspd_sclr'] < 65]\n",
    "ENV_AQN_data_wind_clean = ENV_AQN_data_wind_clean[ENV_AQN_data_wind_clean['wspd_sclr'] >= 0]"
   ]
  },
  {
   "cell_type": "code",
   "execution_count": 59,
   "metadata": {},
   "outputs": [],
   "source": [
    "# rename columns\n",
    "ENV_AQN_wind = ENV_AQN_data_wind_clean.rename(columns={\"wspd_sclr\": \"wind_speed\"})"
   ]
  },
  {
   "cell_type": "code",
   "execution_count": 60,
   "metadata": {},
   "outputs": [
    {
     "data": {
      "text/html": [
       "<div>\n",
       "<style scoped>\n",
       "    .dataframe tbody tr th:only-of-type {\n",
       "        vertical-align: middle;\n",
       "    }\n",
       "\n",
       "    .dataframe tbody tr th {\n",
       "        vertical-align: top;\n",
       "    }\n",
       "\n",
       "    .dataframe thead th {\n",
       "        text-align: right;\n",
       "    }\n",
       "</style>\n",
       "<table border=\"1\" class=\"dataframe\">\n",
       "  <thead>\n",
       "    <tr style=\"text-align: right;\">\n",
       "      <th></th>\n",
       "      <th>time</th>\n",
       "      <th>wind_speed</th>\n",
       "      <th>station_id</th>\n",
       "      <th>network_id</th>\n",
       "    </tr>\n",
       "  </thead>\n",
       "  <tbody>\n",
       "    <tr>\n",
       "      <th>0</th>\n",
       "      <td>1998-03-12 15:00:00</td>\n",
       "      <td>1.044</td>\n",
       "      <td>110031</td>\n",
       "      <td>ENV_AQN</td>\n",
       "    </tr>\n",
       "    <tr>\n",
       "      <th>1</th>\n",
       "      <td>1998-03-12 16:00:00</td>\n",
       "      <td>2.518</td>\n",
       "      <td>110031</td>\n",
       "      <td>ENV_AQN</td>\n",
       "    </tr>\n",
       "    <tr>\n",
       "      <th>2</th>\n",
       "      <td>1998-03-12 17:00:00</td>\n",
       "      <td>1.028</td>\n",
       "      <td>110031</td>\n",
       "      <td>ENV_AQN</td>\n",
       "    </tr>\n",
       "    <tr>\n",
       "      <th>3</th>\n",
       "      <td>1998-03-12 18:00:00</td>\n",
       "      <td>0.704</td>\n",
       "      <td>110031</td>\n",
       "      <td>ENV_AQN</td>\n",
       "    </tr>\n",
       "    <tr>\n",
       "      <th>4</th>\n",
       "      <td>1998-03-12 19:00:00</td>\n",
       "      <td>0.208</td>\n",
       "      <td>110031</td>\n",
       "      <td>ENV_AQN</td>\n",
       "    </tr>\n",
       "    <tr>\n",
       "      <th>...</th>\n",
       "      <td>...</td>\n",
       "      <td>...</td>\n",
       "      <td>...</td>\n",
       "      <td>...</td>\n",
       "    </tr>\n",
       "    <tr>\n",
       "      <th>10772977</th>\n",
       "      <td>1999-10-31 19:00:00</td>\n",
       "      <td>10.490</td>\n",
       "      <td>M120001</td>\n",
       "      <td>ENV_AQN</td>\n",
       "    </tr>\n",
       "    <tr>\n",
       "      <th>10772978</th>\n",
       "      <td>1999-10-31 20:00:00</td>\n",
       "      <td>9.610</td>\n",
       "      <td>M120001</td>\n",
       "      <td>ENV_AQN</td>\n",
       "    </tr>\n",
       "    <tr>\n",
       "      <th>10772979</th>\n",
       "      <td>1999-10-31 21:00:00</td>\n",
       "      <td>13.410</td>\n",
       "      <td>M120001</td>\n",
       "      <td>ENV_AQN</td>\n",
       "    </tr>\n",
       "    <tr>\n",
       "      <th>10772980</th>\n",
       "      <td>1999-10-31 22:00:00</td>\n",
       "      <td>11.520</td>\n",
       "      <td>M120001</td>\n",
       "      <td>ENV_AQN</td>\n",
       "    </tr>\n",
       "    <tr>\n",
       "      <th>10772981</th>\n",
       "      <td>1999-10-31 23:00:00</td>\n",
       "      <td>0.000</td>\n",
       "      <td>M120001</td>\n",
       "      <td>ENV_AQN</td>\n",
       "    </tr>\n",
       "  </tbody>\n",
       "</table>\n",
       "<p>10772982 rows × 4 columns</p>\n",
       "</div>"
      ],
      "text/plain": [
       "                          time  wind_speed station_id network_id\n",
       "0          1998-03-12 15:00:00       1.044     110031    ENV_AQN\n",
       "1          1998-03-12 16:00:00       2.518     110031    ENV_AQN\n",
       "2          1998-03-12 17:00:00       1.028     110031    ENV_AQN\n",
       "3          1998-03-12 18:00:00       0.704     110031    ENV_AQN\n",
       "4          1998-03-12 19:00:00       0.208     110031    ENV_AQN\n",
       "...                        ...         ...        ...        ...\n",
       "10772977   1999-10-31 19:00:00      10.490    M120001    ENV_AQN\n",
       "10772978   1999-10-31 20:00:00       9.610    M120001    ENV_AQN\n",
       "10772979   1999-10-31 21:00:00      13.410    M120001    ENV_AQN\n",
       "10772980   1999-10-31 22:00:00      11.520    M120001    ENV_AQN\n",
       "10772981   1999-10-31 23:00:00       0.000    M120001    ENV_AQN\n",
       "\n",
       "[10772982 rows x 4 columns]"
      ]
     },
     "execution_count": 60,
     "metadata": {},
     "output_type": "execute_result"
    }
   ],
   "source": [
    "# replace \"-\" in network_id values with \"_\"\n",
    "ENV_AQN_wind.loc[:,(\"network_id\")] = ENV_AQN_wind.loc[:,(\"network_id\")].replace(\"-\",\"_\", regex=True)\n",
    "# reset index\n",
    "ENV_AQN_wind = ENV_AQN_wind.reset_index(drop=True)\n",
    "ENV_AQN_wind"
   ]
  },
  {
   "cell_type": "code",
   "execution_count": 61,
   "metadata": {},
   "outputs": [],
   "source": [
    "# save to csv\n",
    "ENV_AQN_wind.to_csv(f'{path_2}/ENV_AQN_wind.csv', index=False)"
   ]
  },
  {
   "cell_type": "markdown",
   "metadata": {},
   "source": [
    "#### FLNRO_FERN Data Cleaning"
   ]
  },
  {
   "cell_type": "code",
   "execution_count": 62,
   "metadata": {},
   "outputs": [
    {
     "name": "stderr",
     "output_type": "stream",
     "text": [
      "d:\\School\\LHL\\capstone_project_data\\LHL_Capstone_Project\\notebooks\\functions.py:149: DtypeWarning: Columns (10) have mixed types. Specify dtype option on import or set low_memory=False.\n",
      "  df_name = pd.read_csv(f'{path_2}/{data_name}.csv')\n"
     ]
    }
   ],
   "source": [
    "FLNRO_FERN_data = functions.to_df('FLNRO_FERN_data.csv')"
   ]
  },
  {
   "cell_type": "code",
   "execution_count": 63,
   "metadata": {},
   "outputs": [],
   "source": [
    "column_names, column_nulls, duplicate_row_index = functions.start_cleaning(FLNRO_FERN_data)"
   ]
  },
  {
   "cell_type": "code",
   "execution_count": 64,
   "metadata": {},
   "outputs": [
    {
     "name": "stdout",
     "output_type": "stream",
     "text": [
      "column names: ['tempc', 'solarradiationwm', 'rh', 'windspeedms', 'pressurembar', 'rainmm', 'gustspeedms', 'time', 'winddirection', 'dewptc', 'station_id', 'network_id', 'wetness', 'tx', 'tn', 'rhx', 'tm', 'rhn']\n",
      "column nulls: tempc                 78077\n",
      "solarradiationwm     155467\n",
      "rh                    76028\n",
      "windspeedms          159515\n",
      "pressurembar         143098\n",
      "rainmm               163976\n",
      "gustspeedms          171360\n",
      "time                      0\n",
      "winddirection        398990\n",
      "dewptc               187998\n",
      "station_id                0\n",
      "network_id                0\n",
      "wetness             1441326\n",
      "tx                  2310484\n",
      "tn                  2310515\n",
      "rhx                 2331262\n",
      "tm                  2319798\n",
      "rhn                 2331284\n",
      "dtype: int64\n",
      "duplicate rows: Index([], dtype='int64')\n"
     ]
    }
   ],
   "source": [
    "print(f'column names: {column_names}')\n",
    "print(f'column nulls: {column_nulls}')\n",
    "print(f'duplicate rows: {duplicate_row_index}')"
   ]
  },
  {
   "cell_type": "code",
   "execution_count": 65,
   "metadata": {},
   "outputs": [],
   "source": [
    "# only keep variables of interest\n",
    "FLNRO_FERN_data_solar = FLNRO_FERN_data.loc[:,('time', 'solarradiationwm', 'station_id', 'network_id')]\n",
    "FLNRO_FERN_data_wind = FLNRO_FERN_data.loc[:,('time', 'windspeedms', 'station_id', 'network_id')]"
   ]
  },
  {
   "cell_type": "code",
   "execution_count": 66,
   "metadata": {},
   "outputs": [
    {
     "data": {
      "text/plain": [
       "time                0\n",
       "solarradiationwm    0\n",
       "station_id          0\n",
       "network_id          0\n",
       "dtype: int64"
      ]
     },
     "execution_count": 66,
     "metadata": {},
     "output_type": "execute_result"
    }
   ],
   "source": [
    "# drop rows in solar data that do not have solar radiation values\n",
    "FLNRO_FERN_data_solar_clean = FLNRO_FERN_data_solar.dropna(subset=['solarradiationwm'])\n",
    "FLNRO_FERN_data_solar_clean.isna().sum()"
   ]
  },
  {
   "cell_type": "code",
   "execution_count": 67,
   "metadata": {},
   "outputs": [],
   "source": [
    "# remove values outside reasonable range\n",
    "FLNRO_FERN_data_solar_clean = FLNRO_FERN_data_solar_clean[FLNRO_FERN_data_solar_clean['solarradiationwm'] < 950]\n",
    "FLNRO_FERN_data_solar_clean = FLNRO_FERN_data_solar_clean[FLNRO_FERN_data_solar_clean['solarradiationwm'] >= 0]"
   ]
  },
  {
   "cell_type": "code",
   "execution_count": 68,
   "metadata": {},
   "outputs": [],
   "source": [
    "# rename columns\n",
    "FLNRO_FERN_solar = FLNRO_FERN_data_solar_clean.rename(columns={\"solarradiationwm\": \"solar_radiation\"})"
   ]
  },
  {
   "cell_type": "code",
   "execution_count": 69,
   "metadata": {},
   "outputs": [
    {
     "data": {
      "text/html": [
       "<div>\n",
       "<style scoped>\n",
       "    .dataframe tbody tr th:only-of-type {\n",
       "        vertical-align: middle;\n",
       "    }\n",
       "\n",
       "    .dataframe tbody tr th {\n",
       "        vertical-align: top;\n",
       "    }\n",
       "\n",
       "    .dataframe thead th {\n",
       "        text-align: right;\n",
       "    }\n",
       "</style>\n",
       "<table border=\"1\" class=\"dataframe\">\n",
       "  <thead>\n",
       "    <tr style=\"text-align: right;\">\n",
       "      <th></th>\n",
       "      <th>time</th>\n",
       "      <th>solar_radiation</th>\n",
       "      <th>station_id</th>\n",
       "      <th>network_id</th>\n",
       "    </tr>\n",
       "  </thead>\n",
       "  <tbody>\n",
       "    <tr>\n",
       "      <th>0</th>\n",
       "      <td>2007-07-31 15:00:00</td>\n",
       "      <td>703.1</td>\n",
       "      <td>1095439</td>\n",
       "      <td>FLNRO_FERN</td>\n",
       "    </tr>\n",
       "    <tr>\n",
       "      <th>1</th>\n",
       "      <td>2007-07-31 16:00:00</td>\n",
       "      <td>298.1</td>\n",
       "      <td>1095439</td>\n",
       "      <td>FLNRO_FERN</td>\n",
       "    </tr>\n",
       "    <tr>\n",
       "      <th>2</th>\n",
       "      <td>2007-07-31 17:00:00</td>\n",
       "      <td>125.6</td>\n",
       "      <td>1095439</td>\n",
       "      <td>FLNRO_FERN</td>\n",
       "    </tr>\n",
       "    <tr>\n",
       "      <th>3</th>\n",
       "      <td>2007-07-31 18:00:00</td>\n",
       "      <td>114.4</td>\n",
       "      <td>1095439</td>\n",
       "      <td>FLNRO_FERN</td>\n",
       "    </tr>\n",
       "    <tr>\n",
       "      <th>4</th>\n",
       "      <td>2007-07-31 19:00:00</td>\n",
       "      <td>20.6</td>\n",
       "      <td>1095439</td>\n",
       "      <td>FLNRO_FERN</td>\n",
       "    </tr>\n",
       "    <tr>\n",
       "      <th>...</th>\n",
       "      <td>...</td>\n",
       "      <td>...</td>\n",
       "      <td>...</td>\n",
       "      <td>...</td>\n",
       "    </tr>\n",
       "    <tr>\n",
       "      <th>2165045</th>\n",
       "      <td>2018-10-31 07:00:00</td>\n",
       "      <td>3.1</td>\n",
       "      <td>McBridePeak</td>\n",
       "      <td>FLNRO_FERN</td>\n",
       "    </tr>\n",
       "    <tr>\n",
       "      <th>2165046</th>\n",
       "      <td>2018-10-31 08:00:00</td>\n",
       "      <td>29.4</td>\n",
       "      <td>McBridePeak</td>\n",
       "      <td>FLNRO_FERN</td>\n",
       "    </tr>\n",
       "    <tr>\n",
       "      <th>2165047</th>\n",
       "      <td>2018-10-31 09:00:00</td>\n",
       "      <td>54.4</td>\n",
       "      <td>McBridePeak</td>\n",
       "      <td>FLNRO_FERN</td>\n",
       "    </tr>\n",
       "    <tr>\n",
       "      <th>2165048</th>\n",
       "      <td>2018-10-31 10:00:00</td>\n",
       "      <td>100.6</td>\n",
       "      <td>McBridePeak</td>\n",
       "      <td>FLNRO_FERN</td>\n",
       "    </tr>\n",
       "    <tr>\n",
       "      <th>2165049</th>\n",
       "      <td>2018-10-31 11:00:00</td>\n",
       "      <td>120.6</td>\n",
       "      <td>McBridePeak</td>\n",
       "      <td>FLNRO_FERN</td>\n",
       "    </tr>\n",
       "  </tbody>\n",
       "</table>\n",
       "<p>2165050 rows × 4 columns</p>\n",
       "</div>"
      ],
      "text/plain": [
       "                         time  solar_radiation   station_id  network_id\n",
       "0         2007-07-31 15:00:00            703.1      1095439  FLNRO_FERN\n",
       "1         2007-07-31 16:00:00            298.1      1095439  FLNRO_FERN\n",
       "2         2007-07-31 17:00:00            125.6      1095439  FLNRO_FERN\n",
       "3         2007-07-31 18:00:00            114.4      1095439  FLNRO_FERN\n",
       "4         2007-07-31 19:00:00             20.6      1095439  FLNRO_FERN\n",
       "...                       ...              ...          ...         ...\n",
       "2165045   2018-10-31 07:00:00              3.1  McBridePeak  FLNRO_FERN\n",
       "2165046   2018-10-31 08:00:00             29.4  McBridePeak  FLNRO_FERN\n",
       "2165047   2018-10-31 09:00:00             54.4  McBridePeak  FLNRO_FERN\n",
       "2165048   2018-10-31 10:00:00            100.6  McBridePeak  FLNRO_FERN\n",
       "2165049   2018-10-31 11:00:00            120.6  McBridePeak  FLNRO_FERN\n",
       "\n",
       "[2165050 rows x 4 columns]"
      ]
     },
     "execution_count": 69,
     "metadata": {},
     "output_type": "execute_result"
    }
   ],
   "source": [
    "# replace \"-\" in network_id values with \"_\"\n",
    "FLNRO_FERN_solar.loc[:,(\"network_id\")] = FLNRO_FERN_solar.loc[:,(\"network_id\")].replace(\"-\",\"_\", regex=True)\n",
    "# reset index\n",
    "FLNRO_FERN_solar = FLNRO_FERN_solar.reset_index(drop=True)\n",
    "FLNRO_FERN_solar"
   ]
  },
  {
   "cell_type": "code",
   "execution_count": 70,
   "metadata": {},
   "outputs": [],
   "source": [
    "FLNRO_FERN_solar.to_csv(f'{path_2}/FLNRO_FERN_solar.csv', index=False)"
   ]
  },
  {
   "cell_type": "code",
   "execution_count": 71,
   "metadata": {},
   "outputs": [
    {
     "data": {
      "text/plain": [
       "time                0\n",
       "windspeedms    159515\n",
       "station_id          0\n",
       "network_id          0\n",
       "dtype: int64"
      ]
     },
     "execution_count": 71,
     "metadata": {},
     "output_type": "execute_result"
    }
   ],
   "source": [
    "# count null values in wind data\n",
    "FLNRO_FERN_data_wind.isna().sum()"
   ]
  },
  {
   "cell_type": "code",
   "execution_count": 72,
   "metadata": {},
   "outputs": [
    {
     "data": {
      "text/plain": [
       "time           0\n",
       "windspeedms    0\n",
       "station_id     0\n",
       "network_id     0\n",
       "dtype: int64"
      ]
     },
     "execution_count": 72,
     "metadata": {},
     "output_type": "execute_result"
    }
   ],
   "source": [
    "# drop rows in wind data that do not have WindSpeed values\n",
    "FLNRO_FERN_data_wind_clean = FLNRO_FERN_data_wind.dropna(subset=['windspeedms'])\n",
    "FLNRO_FERN_data_wind_clean.isna().sum()"
   ]
  },
  {
   "cell_type": "code",
   "execution_count": null,
   "metadata": {},
   "outputs": [],
   "source": [
    "# check windspeed units\n",
    "# station data file states units are m/s\n",
    "# no conversion necessary"
   ]
  },
  {
   "cell_type": "code",
   "execution_count": 74,
   "metadata": {},
   "outputs": [],
   "source": [
    "# remove values outside reasonable range\n",
    "FLNRO_FERN_data_wind_clean = FLNRO_FERN_data_wind_clean[FLNRO_FERN_data_wind_clean['windspeedms'] < 65]\n",
    "FLNRO_FERN_data_wind_clean = FLNRO_FERN_data_wind_clean[FLNRO_FERN_data_wind_clean['windspeedms'] >= 0]"
   ]
  },
  {
   "cell_type": "code",
   "execution_count": 77,
   "metadata": {},
   "outputs": [],
   "source": [
    "# rename columns\n",
    "FLNRO_FERN_wind = FLNRO_FERN_data_wind_clean.rename(columns={\"windspeedms\": \"wind_speed\"})"
   ]
  },
  {
   "cell_type": "code",
   "execution_count": null,
   "metadata": {},
   "outputs": [],
   "source": [
    "# replace \"-\" in network_id values with \"_\"\n",
    "FLNRO_FERN_wind.loc[:,(\"network_id\")] = FLNRO_FERN_wind.loc[:,(\"network_id\")].replace(\"-\",\"_\", regex=True)\n",
    "# reset index\n",
    "FLNRO_FERN_wind = FLNRO_FERN_wind.reset_index(drop=True)\n",
    "FLNRO_FERN_wind"
   ]
  },
  {
   "cell_type": "code",
   "execution_count": 78,
   "metadata": {},
   "outputs": [],
   "source": [
    "# save to csv\n",
    "FLNRO_FERN_wind.to_csv(f'{path_2}/FLNRO_FERN_wind.csv', index=False)"
   ]
  },
  {
   "cell_type": "markdown",
   "metadata": {},
   "source": [
    "#### FLNRO_WMB Data Cleaning"
   ]
  },
  {
   "cell_type": "markdown",
   "metadata": {},
   "source": [
    "*Note: memory error occurred when trying to import data. Will import directly to pgAdmin and perform cleaning steps there*"
   ]
  },
  {
   "cell_type": "markdown",
   "metadata": {},
   "source": [
    "#### MoTIe Data Cleaning"
   ]
  },
  {
   "cell_type": "code",
   "execution_count": 79,
   "metadata": {},
   "outputs": [],
   "source": [
    "MoTIe_col_names = pd.read_csv(f'{path_2}/MoTIe_data_clean.csv', index_col=0, nrows=0)"
   ]
  },
  {
   "cell_type": "code",
   "execution_count": 80,
   "metadata": {},
   "outputs": [
    {
     "data": {
      "text/plain": [
       "['standard_snow',\n",
       " 'minimum_air_temperature',\n",
       " 'max_wnd_spd_10m_pst1hr',\n",
       " 'measured_wind_speed1',\n",
       " 'measured_wind_direction1',\n",
       " 'dwpt_temp',\n",
       " 'min_air_temp_snc_last_reset',\n",
       " 'dew_point',\n",
       " 'atmospheric_pressure',\n",
       " 'avg_wnd_dir_10m_pst10mts',\n",
       " 'actual_wind_direction',\n",
       " 'maximum_air_temperature',\n",
       " 'snw_dpth',\n",
       " 'maximum_measured_wind_speed1',\n",
       " 'height_of_snow',\n",
       " 'pcpn_amt_pst24hrs',\n",
       " 'current_air_temperature2',\n",
       " 'current_air_temperature1',\n",
       " 'precipitation_new',\n",
       " 'max_air_temp_snc_last_reset',\n",
       " 'precip_detector_ratio',\n",
       " 'actual_wind_speed',\n",
       " 'wind_direction_std_deviation1',\n",
       " 'avg_wnd_spd_10m_pst10mts',\n",
       " 'air_temp',\n",
       " 'mslp',\n",
       " 'pcpn_amt_pst1hr',\n",
       " 'snwfl_amt_pst1hr',\n",
       " 'rel_hum',\n",
       " 'time',\n",
       " 'stn_pres',\n",
       " 'station_id',\n",
       " 'network_id']"
      ]
     },
     "execution_count": 80,
     "metadata": {},
     "output_type": "execute_result"
    }
   ],
   "source": [
    "list(MoTIe_col_names)"
   ]
  },
  {
   "cell_type": "code",
   "execution_count": null,
   "metadata": {},
   "outputs": [],
   "source": [
    "# # Note: MemoryError/kernel crashed when attempting to import entire csv at once. Only import columns of interest.\n",
    "# MoTIe_data = functions.to_df('MoTIe_data_clean.csv')"
   ]
  },
  {
   "cell_type": "code",
   "execution_count": 81,
   "metadata": {},
   "outputs": [],
   "source": [
    "# limit which columns are included in the read_csv function in order to combat memory error\n",
    "MoTIe_data = pd.read_csv(f'{path_2}/MoTIe_data_clean.csv', usecols=['time', 'actual_wind_speed', 'measured_wind_speed1', 'station_id', 'network_id'])"
   ]
  },
  {
   "cell_type": "code",
   "execution_count": 82,
   "metadata": {},
   "outputs": [],
   "source": [
    "column_names, column_nulls, duplicate_row_index = functions.start_cleaning(MoTIe_data)"
   ]
  },
  {
   "cell_type": "code",
   "execution_count": 83,
   "metadata": {},
   "outputs": [
    {
     "name": "stdout",
     "output_type": "stream",
     "text": [
      "column names: ['measured_wind_speed1', 'actual_wind_speed', 'time', 'station_id', 'network_id']\n",
      "column nulls: measured_wind_speed1     7597565\n",
      "actual_wind_speed       17764947\n",
      "time                           0\n",
      "station_id                     0\n",
      "network_id                     0\n",
      "dtype: int64\n",
      "duplicate rows: Index([], dtype='int64')\n"
     ]
    },
    {
     "data": {
      "text/plain": [
       "(23833427, 5)"
      ]
     },
     "execution_count": 83,
     "metadata": {},
     "output_type": "execute_result"
    }
   ],
   "source": [
    "print(f'column names: {column_names}')\n",
    "print(f'column nulls: {column_nulls}')\n",
    "print(f'duplicate rows: {duplicate_row_index}')\n",
    "MoTIe_data.shape"
   ]
  },
  {
   "cell_type": "code",
   "execution_count": 84,
   "metadata": {},
   "outputs": [
    {
     "data": {
      "text/plain": [
       "measured_wind_speed1        5861\n",
       "actual_wind_speed       10173243\n",
       "time                           0\n",
       "station_id                     0\n",
       "network_id                     0\n",
       "dtype: int64"
      ]
     },
     "execution_count": 84,
     "metadata": {},
     "output_type": "execute_result"
    }
   ],
   "source": [
    "# drop rows in wind data that do not have any wind speed values\n",
    "MoTIe_data_wind = MoTIe_data.dropna(subset=['actual_wind_speed', 'measured_wind_speed1'], how='all')\n",
    "MoTIe_data_wind.isna().sum()"
   ]
  },
  {
   "cell_type": "markdown",
   "metadata": {},
   "source": [
    "Compare values between columns that are measuring the same variable"
   ]
  },
  {
   "cell_type": "code",
   "execution_count": 87,
   "metadata": {},
   "outputs": [
    {
     "name": "stdout",
     "output_type": "stream",
     "text": [
      "6062619\n"
     ]
    }
   ],
   "source": [
    "# check whether columns measuring the same value have any overlap\n",
    "\n",
    "# wind speed\n",
    "# create a mask where column with the fewest nulls has no null values\n",
    "not_null_value = MoTIe_data_wind['measured_wind_speed1'].notnull()\n",
    "not_null_value_df = MoTIe_data_wind[not_null_value]\n",
    "\n",
    "# check for rows where both columns contain a value\n",
    "print(not_null_value_df['actual_wind_speed'].notnull().sum())"
   ]
  },
  {
   "cell_type": "code",
   "execution_count": 88,
   "metadata": {},
   "outputs": [],
   "source": [
    "# narrow dataset down to one column for wind speed\n",
    "# rationale: use variable with least number of nulls\n",
    "MoTIe_data_wind_clean = MoTIe_data_wind.loc[:, ('time', 'measured_wind_speed1', 'station_id', 'network_id')]"
   ]
  },
  {
   "cell_type": "code",
   "execution_count": 89,
   "metadata": {},
   "outputs": [
    {
     "data": {
      "text/html": [
       "<div>\n",
       "<style scoped>\n",
       "    .dataframe tbody tr th:only-of-type {\n",
       "        vertical-align: middle;\n",
       "    }\n",
       "\n",
       "    .dataframe tbody tr th {\n",
       "        vertical-align: top;\n",
       "    }\n",
       "\n",
       "    .dataframe thead th {\n",
       "        text-align: right;\n",
       "    }\n",
       "</style>\n",
       "<table border=\"1\" class=\"dataframe\">\n",
       "  <thead>\n",
       "    <tr style=\"text-align: right;\">\n",
       "      <th></th>\n",
       "      <th>time</th>\n",
       "      <th>measured_wind_speed1</th>\n",
       "      <th>station_id</th>\n",
       "      <th>network_id</th>\n",
       "    </tr>\n",
       "  </thead>\n",
       "  <tbody>\n",
       "    <tr>\n",
       "      <th>0</th>\n",
       "      <td>2001-01-22 13:00:00</td>\n",
       "      <td>7.0</td>\n",
       "      <td>11091</td>\n",
       "      <td>MoTIe</td>\n",
       "    </tr>\n",
       "    <tr>\n",
       "      <th>1</th>\n",
       "      <td>2001-01-22 14:00:00</td>\n",
       "      <td>8.0</td>\n",
       "      <td>11091</td>\n",
       "      <td>MoTIe</td>\n",
       "    </tr>\n",
       "    <tr>\n",
       "      <th>2</th>\n",
       "      <td>2001-01-22 15:00:00</td>\n",
       "      <td>8.0</td>\n",
       "      <td>11091</td>\n",
       "      <td>MoTIe</td>\n",
       "    </tr>\n",
       "    <tr>\n",
       "      <th>3</th>\n",
       "      <td>2001-01-22 16:00:00</td>\n",
       "      <td>8.0</td>\n",
       "      <td>11091</td>\n",
       "      <td>MoTIe</td>\n",
       "    </tr>\n",
       "    <tr>\n",
       "      <th>4</th>\n",
       "      <td>2001-01-22 17:00:00</td>\n",
       "      <td>10.0</td>\n",
       "      <td>11091</td>\n",
       "      <td>MoTIe</td>\n",
       "    </tr>\n",
       "    <tr>\n",
       "      <th>5</th>\n",
       "      <td>2001-01-22 18:00:00</td>\n",
       "      <td>9.0</td>\n",
       "      <td>11091</td>\n",
       "      <td>MoTIe</td>\n",
       "    </tr>\n",
       "    <tr>\n",
       "      <th>6</th>\n",
       "      <td>2001-01-22 19:00:00</td>\n",
       "      <td>8.0</td>\n",
       "      <td>11091</td>\n",
       "      <td>MoTIe</td>\n",
       "    </tr>\n",
       "    <tr>\n",
       "      <th>7</th>\n",
       "      <td>2001-01-22 20:00:00</td>\n",
       "      <td>9.0</td>\n",
       "      <td>11091</td>\n",
       "      <td>MoTIe</td>\n",
       "    </tr>\n",
       "    <tr>\n",
       "      <th>8</th>\n",
       "      <td>2001-01-22 21:00:00</td>\n",
       "      <td>9.0</td>\n",
       "      <td>11091</td>\n",
       "      <td>MoTIe</td>\n",
       "    </tr>\n",
       "    <tr>\n",
       "      <th>9</th>\n",
       "      <td>2001-01-22 22:00:00</td>\n",
       "      <td>10.0</td>\n",
       "      <td>11091</td>\n",
       "      <td>MoTIe</td>\n",
       "    </tr>\n",
       "    <tr>\n",
       "      <th>10</th>\n",
       "      <td>2001-01-22 23:00:00</td>\n",
       "      <td>9.0</td>\n",
       "      <td>11091</td>\n",
       "      <td>MoTIe</td>\n",
       "    </tr>\n",
       "    <tr>\n",
       "      <th>11</th>\n",
       "      <td>2001-01-23 00:00:00</td>\n",
       "      <td>9.0</td>\n",
       "      <td>11091</td>\n",
       "      <td>MoTIe</td>\n",
       "    </tr>\n",
       "    <tr>\n",
       "      <th>12</th>\n",
       "      <td>2001-01-23 01:00:00</td>\n",
       "      <td>10.0</td>\n",
       "      <td>11091</td>\n",
       "      <td>MoTIe</td>\n",
       "    </tr>\n",
       "    <tr>\n",
       "      <th>13</th>\n",
       "      <td>2001-01-23 02:00:00</td>\n",
       "      <td>9.0</td>\n",
       "      <td>11091</td>\n",
       "      <td>MoTIe</td>\n",
       "    </tr>\n",
       "    <tr>\n",
       "      <th>14</th>\n",
       "      <td>2001-01-23 03:00:00</td>\n",
       "      <td>10.0</td>\n",
       "      <td>11091</td>\n",
       "      <td>MoTIe</td>\n",
       "    </tr>\n",
       "  </tbody>\n",
       "</table>\n",
       "</div>"
      ],
      "text/plain": [
       "                    time  measured_wind_speed1  station_id network_id\n",
       "0    2001-01-22 13:00:00                   7.0       11091      MoTIe\n",
       "1    2001-01-22 14:00:00                   8.0       11091      MoTIe\n",
       "2    2001-01-22 15:00:00                   8.0       11091      MoTIe\n",
       "3    2001-01-22 16:00:00                   8.0       11091      MoTIe\n",
       "4    2001-01-22 17:00:00                  10.0       11091      MoTIe\n",
       "5    2001-01-22 18:00:00                   9.0       11091      MoTIe\n",
       "6    2001-01-22 19:00:00                   8.0       11091      MoTIe\n",
       "7    2001-01-22 20:00:00                   9.0       11091      MoTIe\n",
       "8    2001-01-22 21:00:00                   9.0       11091      MoTIe\n",
       "9    2001-01-22 22:00:00                  10.0       11091      MoTIe\n",
       "10   2001-01-22 23:00:00                   9.0       11091      MoTIe\n",
       "11   2001-01-23 00:00:00                   9.0       11091      MoTIe\n",
       "12   2001-01-23 01:00:00                  10.0       11091      MoTIe\n",
       "13   2001-01-23 02:00:00                   9.0       11091      MoTIe\n",
       "14   2001-01-23 03:00:00                  10.0       11091      MoTIe"
      ]
     },
     "execution_count": 89,
     "metadata": {},
     "output_type": "execute_result"
    }
   ],
   "source": [
    "# check values and units of wind speed columns\n",
    "# station data file states values are in km/h\n",
    "MoTIe_data_wind_clean.head(15)"
   ]
  },
  {
   "cell_type": "code",
   "execution_count": 90,
   "metadata": {},
   "outputs": [
    {
     "data": {
      "text/html": [
       "<div>\n",
       "<style scoped>\n",
       "    .dataframe tbody tr th:only-of-type {\n",
       "        vertical-align: middle;\n",
       "    }\n",
       "\n",
       "    .dataframe tbody tr th {\n",
       "        vertical-align: top;\n",
       "    }\n",
       "\n",
       "    .dataframe thead th {\n",
       "        text-align: right;\n",
       "    }\n",
       "</style>\n",
       "<table border=\"1\" class=\"dataframe\">\n",
       "  <thead>\n",
       "    <tr style=\"text-align: right;\">\n",
       "      <th></th>\n",
       "      <th>time</th>\n",
       "      <th>measured_wind_speed1</th>\n",
       "      <th>station_id</th>\n",
       "      <th>network_id</th>\n",
       "    </tr>\n",
       "  </thead>\n",
       "  <tbody>\n",
       "    <tr>\n",
       "      <th>0</th>\n",
       "      <td>2001-01-22 13:00:00</td>\n",
       "      <td>1.944444</td>\n",
       "      <td>11091</td>\n",
       "      <td>MoTIe</td>\n",
       "    </tr>\n",
       "    <tr>\n",
       "      <th>1</th>\n",
       "      <td>2001-01-22 14:00:00</td>\n",
       "      <td>2.222222</td>\n",
       "      <td>11091</td>\n",
       "      <td>MoTIe</td>\n",
       "    </tr>\n",
       "    <tr>\n",
       "      <th>2</th>\n",
       "      <td>2001-01-22 15:00:00</td>\n",
       "      <td>2.222222</td>\n",
       "      <td>11091</td>\n",
       "      <td>MoTIe</td>\n",
       "    </tr>\n",
       "    <tr>\n",
       "      <th>3</th>\n",
       "      <td>2001-01-22 16:00:00</td>\n",
       "      <td>2.222222</td>\n",
       "      <td>11091</td>\n",
       "      <td>MoTIe</td>\n",
       "    </tr>\n",
       "    <tr>\n",
       "      <th>4</th>\n",
       "      <td>2001-01-22 17:00:00</td>\n",
       "      <td>2.777778</td>\n",
       "      <td>11091</td>\n",
       "      <td>MoTIe</td>\n",
       "    </tr>\n",
       "    <tr>\n",
       "      <th>5</th>\n",
       "      <td>2001-01-22 18:00:00</td>\n",
       "      <td>2.500000</td>\n",
       "      <td>11091</td>\n",
       "      <td>MoTIe</td>\n",
       "    </tr>\n",
       "    <tr>\n",
       "      <th>6</th>\n",
       "      <td>2001-01-22 19:00:00</td>\n",
       "      <td>2.222222</td>\n",
       "      <td>11091</td>\n",
       "      <td>MoTIe</td>\n",
       "    </tr>\n",
       "    <tr>\n",
       "      <th>7</th>\n",
       "      <td>2001-01-22 20:00:00</td>\n",
       "      <td>2.500000</td>\n",
       "      <td>11091</td>\n",
       "      <td>MoTIe</td>\n",
       "    </tr>\n",
       "    <tr>\n",
       "      <th>8</th>\n",
       "      <td>2001-01-22 21:00:00</td>\n",
       "      <td>2.500000</td>\n",
       "      <td>11091</td>\n",
       "      <td>MoTIe</td>\n",
       "    </tr>\n",
       "    <tr>\n",
       "      <th>9</th>\n",
       "      <td>2001-01-22 22:00:00</td>\n",
       "      <td>2.777778</td>\n",
       "      <td>11091</td>\n",
       "      <td>MoTIe</td>\n",
       "    </tr>\n",
       "    <tr>\n",
       "      <th>10</th>\n",
       "      <td>2001-01-22 23:00:00</td>\n",
       "      <td>2.500000</td>\n",
       "      <td>11091</td>\n",
       "      <td>MoTIe</td>\n",
       "    </tr>\n",
       "    <tr>\n",
       "      <th>11</th>\n",
       "      <td>2001-01-23 00:00:00</td>\n",
       "      <td>2.500000</td>\n",
       "      <td>11091</td>\n",
       "      <td>MoTIe</td>\n",
       "    </tr>\n",
       "    <tr>\n",
       "      <th>12</th>\n",
       "      <td>2001-01-23 01:00:00</td>\n",
       "      <td>2.777778</td>\n",
       "      <td>11091</td>\n",
       "      <td>MoTIe</td>\n",
       "    </tr>\n",
       "    <tr>\n",
       "      <th>13</th>\n",
       "      <td>2001-01-23 02:00:00</td>\n",
       "      <td>2.500000</td>\n",
       "      <td>11091</td>\n",
       "      <td>MoTIe</td>\n",
       "    </tr>\n",
       "    <tr>\n",
       "      <th>14</th>\n",
       "      <td>2001-01-23 03:00:00</td>\n",
       "      <td>2.777778</td>\n",
       "      <td>11091</td>\n",
       "      <td>MoTIe</td>\n",
       "    </tr>\n",
       "  </tbody>\n",
       "</table>\n",
       "</div>"
      ],
      "text/plain": [
       "                    time  measured_wind_speed1  station_id network_id\n",
       "0    2001-01-22 13:00:00              1.944444       11091      MoTIe\n",
       "1    2001-01-22 14:00:00              2.222222       11091      MoTIe\n",
       "2    2001-01-22 15:00:00              2.222222       11091      MoTIe\n",
       "3    2001-01-22 16:00:00              2.222222       11091      MoTIe\n",
       "4    2001-01-22 17:00:00              2.777778       11091      MoTIe\n",
       "5    2001-01-22 18:00:00              2.500000       11091      MoTIe\n",
       "6    2001-01-22 19:00:00              2.222222       11091      MoTIe\n",
       "7    2001-01-22 20:00:00              2.500000       11091      MoTIe\n",
       "8    2001-01-22 21:00:00              2.500000       11091      MoTIe\n",
       "9    2001-01-22 22:00:00              2.777778       11091      MoTIe\n",
       "10   2001-01-22 23:00:00              2.500000       11091      MoTIe\n",
       "11   2001-01-23 00:00:00              2.500000       11091      MoTIe\n",
       "12   2001-01-23 01:00:00              2.777778       11091      MoTIe\n",
       "13   2001-01-23 02:00:00              2.500000       11091      MoTIe\n",
       "14   2001-01-23 03:00:00              2.777778       11091      MoTIe"
      ]
     },
     "execution_count": 90,
     "metadata": {},
     "output_type": "execute_result"
    }
   ],
   "source": [
    "# convert windspeed values from km/h to m/s by dividing values by 3.6\n",
    "MoTIe_data_wind_clean.loc[:,('measured_wind_speed1')] = MoTIe_data_wind_clean.loc[:,('measured_wind_speed1')].div(3.6)\n",
    "MoTIe_data_wind_clean.head(15)"
   ]
  },
  {
   "cell_type": "code",
   "execution_count": 91,
   "metadata": {},
   "outputs": [],
   "source": [
    "# remove values outside reasonable range\n",
    "MoTIe_data_wind_clean = MoTIe_data_wind_clean[MoTIe_data_wind_clean['measured_wind_speed1'] < 65]\n",
    "MoTIe_data_wind_clean = MoTIe_data_wind_clean[MoTIe_data_wind_clean['measured_wind_speed1'] >= 0]"
   ]
  },
  {
   "cell_type": "code",
   "execution_count": 92,
   "metadata": {},
   "outputs": [],
   "source": [
    "# rename columns\n",
    "MoTIe_wind = MoTIe_data_wind_clean.rename(columns={\"measured_wind_speed1\": \"wind_speed\"})"
   ]
  },
  {
   "cell_type": "code",
   "execution_count": null,
   "metadata": {},
   "outputs": [],
   "source": [
    "# replace station_id values if necessary\n",
    "# not necessary"
   ]
  },
  {
   "cell_type": "code",
   "execution_count": 93,
   "metadata": {},
   "outputs": [
    {
     "data": {
      "text/html": [
       "<div>\n",
       "<style scoped>\n",
       "    .dataframe tbody tr th:only-of-type {\n",
       "        vertical-align: middle;\n",
       "    }\n",
       "\n",
       "    .dataframe tbody tr th {\n",
       "        vertical-align: top;\n",
       "    }\n",
       "\n",
       "    .dataframe thead th {\n",
       "        text-align: right;\n",
       "    }\n",
       "</style>\n",
       "<table border=\"1\" class=\"dataframe\">\n",
       "  <thead>\n",
       "    <tr style=\"text-align: right;\">\n",
       "      <th></th>\n",
       "      <th>time</th>\n",
       "      <th>wind_speed</th>\n",
       "      <th>station_id</th>\n",
       "      <th>network_id</th>\n",
       "    </tr>\n",
       "  </thead>\n",
       "  <tbody>\n",
       "    <tr>\n",
       "      <th>0</th>\n",
       "      <td>2001-01-22 13:00:00</td>\n",
       "      <td>1.944444</td>\n",
       "      <td>11091</td>\n",
       "      <td>MoTIe</td>\n",
       "    </tr>\n",
       "    <tr>\n",
       "      <th>1</th>\n",
       "      <td>2001-01-22 14:00:00</td>\n",
       "      <td>2.222222</td>\n",
       "      <td>11091</td>\n",
       "      <td>MoTIe</td>\n",
       "    </tr>\n",
       "    <tr>\n",
       "      <th>2</th>\n",
       "      <td>2001-01-22 15:00:00</td>\n",
       "      <td>2.222222</td>\n",
       "      <td>11091</td>\n",
       "      <td>MoTIe</td>\n",
       "    </tr>\n",
       "    <tr>\n",
       "      <th>3</th>\n",
       "      <td>2001-01-22 16:00:00</td>\n",
       "      <td>2.222222</td>\n",
       "      <td>11091</td>\n",
       "      <td>MoTIe</td>\n",
       "    </tr>\n",
       "    <tr>\n",
       "      <th>4</th>\n",
       "      <td>2001-01-22 17:00:00</td>\n",
       "      <td>2.777778</td>\n",
       "      <td>11091</td>\n",
       "      <td>MoTIe</td>\n",
       "    </tr>\n",
       "    <tr>\n",
       "      <th>5</th>\n",
       "      <td>2001-01-22 18:00:00</td>\n",
       "      <td>2.500000</td>\n",
       "      <td>11091</td>\n",
       "      <td>MoTIe</td>\n",
       "    </tr>\n",
       "    <tr>\n",
       "      <th>6</th>\n",
       "      <td>2001-01-22 19:00:00</td>\n",
       "      <td>2.222222</td>\n",
       "      <td>11091</td>\n",
       "      <td>MoTIe</td>\n",
       "    </tr>\n",
       "    <tr>\n",
       "      <th>7</th>\n",
       "      <td>2001-01-22 20:00:00</td>\n",
       "      <td>2.500000</td>\n",
       "      <td>11091</td>\n",
       "      <td>MoTIe</td>\n",
       "    </tr>\n",
       "    <tr>\n",
       "      <th>8</th>\n",
       "      <td>2001-01-22 21:00:00</td>\n",
       "      <td>2.500000</td>\n",
       "      <td>11091</td>\n",
       "      <td>MoTIe</td>\n",
       "    </tr>\n",
       "    <tr>\n",
       "      <th>9</th>\n",
       "      <td>2001-01-22 22:00:00</td>\n",
       "      <td>2.777778</td>\n",
       "      <td>11091</td>\n",
       "      <td>MoTIe</td>\n",
       "    </tr>\n",
       "  </tbody>\n",
       "</table>\n",
       "</div>"
      ],
      "text/plain": [
       "                   time  wind_speed  station_id network_id\n",
       "0   2001-01-22 13:00:00    1.944444       11091      MoTIe\n",
       "1   2001-01-22 14:00:00    2.222222       11091      MoTIe\n",
       "2   2001-01-22 15:00:00    2.222222       11091      MoTIe\n",
       "3   2001-01-22 16:00:00    2.222222       11091      MoTIe\n",
       "4   2001-01-22 17:00:00    2.777778       11091      MoTIe\n",
       "5   2001-01-22 18:00:00    2.500000       11091      MoTIe\n",
       "6   2001-01-22 19:00:00    2.222222       11091      MoTIe\n",
       "7   2001-01-22 20:00:00    2.500000       11091      MoTIe\n",
       "8   2001-01-22 21:00:00    2.500000       11091      MoTIe\n",
       "9   2001-01-22 22:00:00    2.777778       11091      MoTIe"
      ]
     },
     "execution_count": 93,
     "metadata": {},
     "output_type": "execute_result"
    }
   ],
   "source": [
    "MoTIe_wind.head(10)"
   ]
  },
  {
   "cell_type": "code",
   "execution_count": 94,
   "metadata": {},
   "outputs": [],
   "source": [
    "# save to csv\n",
    "MoTIe_wind.to_csv(f'{path_2}/MoTIe_wind.csv', index=False)"
   ]
  },
  {
   "cell_type": "markdown",
   "metadata": {},
   "source": [
    "#### MoTIm Data Cleaning"
   ]
  },
  {
   "cell_type": "code",
   "execution_count": 96,
   "metadata": {},
   "outputs": [],
   "source": [
    "MoTIm_data = functions.to_df('MoTIm_data_clean.csv')"
   ]
  },
  {
   "cell_type": "code",
   "execution_count": 97,
   "metadata": {},
   "outputs": [],
   "source": [
    "column_names, column_nulls, duplicate_row_index = functions.start_cleaning(MoTIm_data)"
   ]
  },
  {
   "cell_type": "code",
   "execution_count": 98,
   "metadata": {},
   "outputs": [
    {
     "name": "stdout",
     "output_type": "stream",
     "text": [
      "column names: ['current_air_temperature1', 'relative_humidity1', 'storm_snow', 'standard_snow', 'minimum_air_temperature', 'maximum_air_temperature', 'time', 'precipitation_new', 'height_of_snow', 'station_id', 'network_id', 'interval_snow', 'measured_wind_speed1', 'measured_wind_direction1']\n",
      "column nulls: current_air_temperature1      9742\n",
      "relative_humidity1          409244\n",
      "storm_snow                  466916\n",
      "standard_snow               208950\n",
      "minimum_air_temperature      32973\n",
      "maximum_air_temperature      33700\n",
      "time                             0\n",
      "precipitation_new           432471\n",
      "height_of_snow              106445\n",
      "station_id                       0\n",
      "network_id                       0\n",
      "interval_snow               685431\n",
      "measured_wind_speed1        746336\n",
      "measured_wind_direction1    763853\n",
      "dtype: int64\n",
      "duplicate rows: Index([], dtype='int64')\n"
     ]
    },
    {
     "data": {
      "text/plain": [
       "(769279, 14)"
      ]
     },
     "execution_count": 98,
     "metadata": {},
     "output_type": "execute_result"
    }
   ],
   "source": [
    "print(f'column names: {column_names}')\n",
    "print(f'column nulls: {column_nulls}')\n",
    "print(f'duplicate rows: {duplicate_row_index}')\n",
    "MoTIm_data.shape"
   ]
  },
  {
   "cell_type": "code",
   "execution_count": 99,
   "metadata": {},
   "outputs": [],
   "source": [
    "# only keep variables of interest\n",
    "# no solar data available from this network\n",
    "MoTIm_data_wind = MoTIm_data.loc[:,('time', 'measured_wind_speed1', 'station_id', 'network_id')] "
   ]
  },
  {
   "cell_type": "code",
   "execution_count": 109,
   "metadata": {},
   "outputs": [
    {
     "data": {
      "text/plain": [
       "time                         0\n",
       "measured_wind_speed1    746336\n",
       "station_id                   0\n",
       "network_id                   0\n",
       "dtype: int64"
      ]
     },
     "execution_count": 109,
     "metadata": {},
     "output_type": "execute_result"
    }
   ],
   "source": [
    "# count null values in wind data\n",
    "MoTIm_data_wind.isna().sum()"
   ]
  },
  {
   "cell_type": "code",
   "execution_count": 110,
   "metadata": {},
   "outputs": [
    {
     "data": {
      "text/plain": [
       "time                    0\n",
       "measured_wind_speed1    0\n",
       "station_id              0\n",
       "network_id              0\n",
       "dtype: int64"
      ]
     },
     "execution_count": 110,
     "metadata": {},
     "output_type": "execute_result"
    }
   ],
   "source": [
    "# drop rows in wind data that do not have wind speed values\n",
    "MoTIm_data_wind_clean = MoTIm_data_wind.dropna(subset=['measured_wind_speed1'])\n",
    "MoTIm_data_wind_clean.isna().sum()"
   ]
  },
  {
   "cell_type": "code",
   "execution_count": 111,
   "metadata": {},
   "outputs": [
    {
     "data": {
      "text/plain": [
       "5667     5.0\n",
       "6865     5.0\n",
       "6867     5.0\n",
       "6872     1.0\n",
       "6875     1.0\n",
       "6881     5.0\n",
       "6889     5.0\n",
       "6893     5.0\n",
       "7318     5.0\n",
       "7326     2.0\n",
       "7327     2.0\n",
       "7329    12.0\n",
       "7340    30.0\n",
       "7343     2.0\n",
       "7347     5.0\n",
       "Name: measured_wind_speed1, dtype: float64"
      ]
     },
     "execution_count": 111,
     "metadata": {},
     "output_type": "execute_result"
    }
   ],
   "source": [
    "# check wind speed values, units\n",
    "# no units recorded in station data file\n",
    "MoTIm_data_wind_clean['measured_wind_speed1'].head(15)"
   ]
  },
  {
   "cell_type": "code",
   "execution_count": 112,
   "metadata": {},
   "outputs": [
    {
     "data": {
      "text/html": [
       "<div>\n",
       "<style scoped>\n",
       "    .dataframe tbody tr th:only-of-type {\n",
       "        vertical-align: middle;\n",
       "    }\n",
       "\n",
       "    .dataframe tbody tr th {\n",
       "        vertical-align: top;\n",
       "    }\n",
       "\n",
       "    .dataframe thead th {\n",
       "        text-align: right;\n",
       "    }\n",
       "</style>\n",
       "<table border=\"1\" class=\"dataframe\">\n",
       "  <thead>\n",
       "    <tr style=\"text-align: right;\">\n",
       "      <th></th>\n",
       "      <th>time</th>\n",
       "      <th>measured_wind_speed1</th>\n",
       "      <th>station_id</th>\n",
       "      <th>network_id</th>\n",
       "    </tr>\n",
       "  </thead>\n",
       "  <tbody>\n",
       "    <tr>\n",
       "      <th>515430</th>\n",
       "      <td>1986-12-11 05:30:00</td>\n",
       "      <td>80.0</td>\n",
       "      <td>43101</td>\n",
       "      <td>MoTIm</td>\n",
       "    </tr>\n",
       "    <tr>\n",
       "      <th>662478</th>\n",
       "      <td>1985-11-09 07:00:00</td>\n",
       "      <td>80.0</td>\n",
       "      <td>53001</td>\n",
       "      <td>MoTIm</td>\n",
       "    </tr>\n",
       "    <tr>\n",
       "      <th>392116</th>\n",
       "      <td>1984-12-29 06:00:00</td>\n",
       "      <td>70.0</td>\n",
       "      <td>38001</td>\n",
       "      <td>MoTIm</td>\n",
       "    </tr>\n",
       "  </tbody>\n",
       "</table>\n",
       "</div>"
      ],
      "text/plain": [
       "                        time  measured_wind_speed1  station_id network_id\n",
       "515430   1986-12-11 05:30:00                  80.0       43101      MoTIm\n",
       "662478   1985-11-09 07:00:00                  80.0       53001      MoTIm\n",
       "392116   1984-12-29 06:00:00                  70.0       38001      MoTIm"
      ]
     },
     "execution_count": 112,
     "metadata": {},
     "output_type": "execute_result"
    }
   ],
   "source": [
    "# check wind speed max values\n",
    "MoTIm_data_wind_clean.nlargest(3, 'measured_wind_speed1')\n"
   ]
  },
  {
   "cell_type": "code",
   "execution_count": 113,
   "metadata": {},
   "outputs": [
    {
     "data": {
      "text/plain": [
       "measured_wind_speed1        0.0\n",
       "station_id              26101.0\n",
       "dtype: float64"
      ]
     },
     "execution_count": 113,
     "metadata": {},
     "output_type": "execute_result"
    }
   ],
   "source": [
    "# check windspeed median value\n",
    "MoTIm_data_wind_clean.median(numeric_only=True)"
   ]
  },
  {
   "cell_type": "code",
   "execution_count": 114,
   "metadata": {},
   "outputs": [
    {
     "data": {
      "text/plain": [
       "measured_wind_speed1        5.128405\n",
       "station_id              26449.262520\n",
       "dtype: float64"
      ]
     },
     "execution_count": 114,
     "metadata": {},
     "output_type": "execute_result"
    }
   ],
   "source": [
    "# check windspeed mean value\n",
    "MoTIm_data_wind_clean.mean(numeric_only=True)"
   ]
  },
  {
   "cell_type": "code",
   "execution_count": null,
   "metadata": {},
   "outputs": [],
   "source": [
    "# based on max outside of reasonable range, and over half of the values recorded = 0 (indicated by median = 0), assumed wind speed units were km/h"
   ]
  },
  {
   "cell_type": "code",
   "execution_count": 115,
   "metadata": {},
   "outputs": [
    {
     "data": {
      "text/html": [
       "<div>\n",
       "<style scoped>\n",
       "    .dataframe tbody tr th:only-of-type {\n",
       "        vertical-align: middle;\n",
       "    }\n",
       "\n",
       "    .dataframe tbody tr th {\n",
       "        vertical-align: top;\n",
       "    }\n",
       "\n",
       "    .dataframe thead th {\n",
       "        text-align: right;\n",
       "    }\n",
       "</style>\n",
       "<table border=\"1\" class=\"dataframe\">\n",
       "  <thead>\n",
       "    <tr style=\"text-align: right;\">\n",
       "      <th></th>\n",
       "      <th>time</th>\n",
       "      <th>measured_wind_speed1</th>\n",
       "      <th>station_id</th>\n",
       "      <th>network_id</th>\n",
       "    </tr>\n",
       "  </thead>\n",
       "  <tbody>\n",
       "    <tr>\n",
       "      <th>5667</th>\n",
       "      <td>1980-01-30 05:30:00</td>\n",
       "      <td>1.388889</td>\n",
       "      <td>11101</td>\n",
       "      <td>MoTIm</td>\n",
       "    </tr>\n",
       "    <tr>\n",
       "      <th>6865</th>\n",
       "      <td>1986-03-09 16:00:00</td>\n",
       "      <td>1.388889</td>\n",
       "      <td>11101</td>\n",
       "      <td>MoTIm</td>\n",
       "    </tr>\n",
       "    <tr>\n",
       "      <th>6867</th>\n",
       "      <td>1986-03-10 16:00:00</td>\n",
       "      <td>1.388889</td>\n",
       "      <td>11101</td>\n",
       "      <td>MoTIm</td>\n",
       "    </tr>\n",
       "    <tr>\n",
       "      <th>6872</th>\n",
       "      <td>1986-03-13 06:00:00</td>\n",
       "      <td>0.277778</td>\n",
       "      <td>11101</td>\n",
       "      <td>MoTIm</td>\n",
       "    </tr>\n",
       "    <tr>\n",
       "      <th>6875</th>\n",
       "      <td>1986-03-14 16:00:00</td>\n",
       "      <td>0.277778</td>\n",
       "      <td>11101</td>\n",
       "      <td>MoTIm</td>\n",
       "    </tr>\n",
       "  </tbody>\n",
       "</table>\n",
       "</div>"
      ],
      "text/plain": [
       "                      time  measured_wind_speed1  station_id network_id\n",
       "5667   1980-01-30 05:30:00              1.388889       11101      MoTIm\n",
       "6865   1986-03-09 16:00:00              1.388889       11101      MoTIm\n",
       "6867   1986-03-10 16:00:00              1.388889       11101      MoTIm\n",
       "6872   1986-03-13 06:00:00              0.277778       11101      MoTIm\n",
       "6875   1986-03-14 16:00:00              0.277778       11101      MoTIm"
      ]
     },
     "execution_count": 115,
     "metadata": {},
     "output_type": "execute_result"
    }
   ],
   "source": [
    "# convert windspeed values from km/h to m/s by dividing values by 3.6\n",
    "MoTIm_data_wind_clean.loc[:,'measured_wind_speed1'] = MoTIm_data_wind_clean.loc[:,'measured_wind_speed1'].div(3.6)\n",
    "MoTIm_data_wind_clean.head(5)"
   ]
  },
  {
   "cell_type": "code",
   "execution_count": 116,
   "metadata": {},
   "outputs": [],
   "source": [
    "# remove values outside of reasonable range\n",
    "MoTIm_data_wind_clean = MoTIm_data_wind_clean[MoTIm_data_wind_clean['measured_wind_speed1'] < 65]\n",
    "MoTIm_data_wind_clean = MoTIm_data_wind_clean[MoTIm_data_wind_clean['measured_wind_speed1'] >= 0]"
   ]
  },
  {
   "cell_type": "code",
   "execution_count": 117,
   "metadata": {},
   "outputs": [],
   "source": [
    "# rename columns\n",
    "MoTIm_wind = MoTIm_data_wind_clean.rename(columns={\"measured_wind_speed1\": \"wind_speed\"})"
   ]
  },
  {
   "cell_type": "code",
   "execution_count": null,
   "metadata": {},
   "outputs": [],
   "source": [
    "# replace station_id values if necessary\n",
    "# not necessary"
   ]
  },
  {
   "cell_type": "code",
   "execution_count": 118,
   "metadata": {},
   "outputs": [],
   "source": [
    "# save to csv\n",
    "MoTIm_wind.to_csv(f'{path_2}/MoTIm_wind.csv', index=False)"
   ]
  },
  {
   "cell_type": "markdown",
   "metadata": {},
   "source": [
    "#### MVan Data Cleaning"
   ]
  },
  {
   "cell_type": "code",
   "execution_count": 119,
   "metadata": {},
   "outputs": [],
   "source": [
    "MVan_data = functions.to_df('MVan_data_clean.csv')"
   ]
  },
  {
   "cell_type": "code",
   "execution_count": 120,
   "metadata": {},
   "outputs": [],
   "source": [
    "column_names, column_nulls, duplicate_row_index = functions.start_cleaning(MVan_data)"
   ]
  },
  {
   "cell_type": "code",
   "execution_count": 121,
   "metadata": {},
   "outputs": [
    {
     "name": "stdout",
     "output_type": "stream",
     "text": [
      "column names: ['wdir_vect', 'time', 'wspd_sclr', 'humidity', 'station_id', 'network_id']\n",
      "column nulls: wdir_vect       6022\n",
      "time               0\n",
      "wspd_sclr     157014\n",
      "humidity      104506\n",
      "station_id         0\n",
      "network_id         0\n",
      "dtype: int64\n",
      "duplicate rows: Index([], dtype='int64')\n"
     ]
    },
    {
     "data": {
      "text/plain": [
       "(283907, 6)"
      ]
     },
     "execution_count": 121,
     "metadata": {},
     "output_type": "execute_result"
    }
   ],
   "source": [
    "print(f'column names: {column_names}')\n",
    "print(f'column nulls: {column_nulls}')\n",
    "print(f'duplicate rows: {duplicate_row_index}')\n",
    "MVan_data.shape"
   ]
  },
  {
   "cell_type": "code",
   "execution_count": 122,
   "metadata": {},
   "outputs": [],
   "source": [
    "# only keep variables of interest\n",
    "# no solar data available from this network\n",
    "MVan_data_wind = MVan_data.loc[:,('time', 'wspd_sclr', 'station_id', 'network_id')]"
   ]
  },
  {
   "cell_type": "code",
   "execution_count": 123,
   "metadata": {},
   "outputs": [
    {
     "data": {
      "text/plain": [
       "time               0\n",
       "wspd_sclr     157014\n",
       "station_id         0\n",
       "network_id         0\n",
       "dtype: int64"
      ]
     },
     "execution_count": 123,
     "metadata": {},
     "output_type": "execute_result"
    }
   ],
   "source": [
    "# count null values in wind data\n",
    "MVan_data_wind.isna().sum()"
   ]
  },
  {
   "cell_type": "code",
   "execution_count": 124,
   "metadata": {},
   "outputs": [
    {
     "data": {
      "text/plain": [
       "time          0\n",
       "wspd_sclr     0\n",
       "station_id    0\n",
       "network_id    0\n",
       "dtype: int64"
      ]
     },
     "execution_count": 124,
     "metadata": {},
     "output_type": "execute_result"
    }
   ],
   "source": [
    "# drop rows in wind data that do not have WindSpeed values\n",
    "MVan_data_wind_clean = MVan_data_wind.dropna(subset=['wspd_sclr'])\n",
    "MVan_data_wind_clean.isna().sum()"
   ]
  },
  {
   "cell_type": "code",
   "execution_count": 125,
   "metadata": {},
   "outputs": [
    {
     "data": {
      "text/html": [
       "<div>\n",
       "<style scoped>\n",
       "    .dataframe tbody tr th:only-of-type {\n",
       "        vertical-align: middle;\n",
       "    }\n",
       "\n",
       "    .dataframe tbody tr th {\n",
       "        vertical-align: top;\n",
       "    }\n",
       "\n",
       "    .dataframe thead th {\n",
       "        text-align: right;\n",
       "    }\n",
       "</style>\n",
       "<table border=\"1\" class=\"dataframe\">\n",
       "  <thead>\n",
       "    <tr style=\"text-align: right;\">\n",
       "      <th></th>\n",
       "      <th>time</th>\n",
       "      <th>wspd_sclr</th>\n",
       "      <th>station_id</th>\n",
       "      <th>network_id</th>\n",
       "    </tr>\n",
       "  </thead>\n",
       "  <tbody>\n",
       "    <tr>\n",
       "      <th>0</th>\n",
       "      <td>2000-01-01 00:00:00</td>\n",
       "      <td>1.38889</td>\n",
       "      <td>T12</td>\n",
       "      <td>MVan</td>\n",
       "    </tr>\n",
       "    <tr>\n",
       "      <th>1</th>\n",
       "      <td>2000-01-01 01:00:00</td>\n",
       "      <td>3.33334</td>\n",
       "      <td>T12</td>\n",
       "      <td>MVan</td>\n",
       "    </tr>\n",
       "    <tr>\n",
       "      <th>2</th>\n",
       "      <td>2000-01-01 02:00:00</td>\n",
       "      <td>1.66667</td>\n",
       "      <td>T12</td>\n",
       "      <td>MVan</td>\n",
       "    </tr>\n",
       "    <tr>\n",
       "      <th>3</th>\n",
       "      <td>2000-01-01 03:00:00</td>\n",
       "      <td>2.22222</td>\n",
       "      <td>T12</td>\n",
       "      <td>MVan</td>\n",
       "    </tr>\n",
       "    <tr>\n",
       "      <th>4</th>\n",
       "      <td>2000-01-01 04:00:00</td>\n",
       "      <td>1.94445</td>\n",
       "      <td>T12</td>\n",
       "      <td>MVan</td>\n",
       "    </tr>\n",
       "  </tbody>\n",
       "</table>\n",
       "</div>"
      ],
      "text/plain": [
       "                   time  wspd_sclr station_id network_id\n",
       "0   2000-01-01 00:00:00    1.38889        T12       MVan\n",
       "1   2000-01-01 01:00:00    3.33334        T12       MVan\n",
       "2   2000-01-01 02:00:00    1.66667        T12       MVan\n",
       "3   2000-01-01 03:00:00    2.22222        T12       MVan\n",
       "4   2000-01-01 04:00:00    1.94445        T12       MVan"
      ]
     },
     "execution_count": 125,
     "metadata": {},
     "output_type": "execute_result"
    }
   ],
   "source": [
    "# check wind speed values, units\n",
    "# station data file indicates units are km/h\n",
    "MVan_data_wind_clean.head(5)"
   ]
  },
  {
   "cell_type": "code",
   "execution_count": 126,
   "metadata": {},
   "outputs": [
    {
     "data": {
      "text/html": [
       "<div>\n",
       "<style scoped>\n",
       "    .dataframe tbody tr th:only-of-type {\n",
       "        vertical-align: middle;\n",
       "    }\n",
       "\n",
       "    .dataframe tbody tr th {\n",
       "        vertical-align: top;\n",
       "    }\n",
       "\n",
       "    .dataframe thead th {\n",
       "        text-align: right;\n",
       "    }\n",
       "</style>\n",
       "<table border=\"1\" class=\"dataframe\">\n",
       "  <thead>\n",
       "    <tr style=\"text-align: right;\">\n",
       "      <th></th>\n",
       "      <th>time</th>\n",
       "      <th>wspd_sclr</th>\n",
       "      <th>station_id</th>\n",
       "      <th>network_id</th>\n",
       "    </tr>\n",
       "  </thead>\n",
       "  <tbody>\n",
       "    <tr>\n",
       "      <th>0</th>\n",
       "      <td>2000-01-01 00:00:00</td>\n",
       "      <td>0.385803</td>\n",
       "      <td>T12</td>\n",
       "      <td>MVan</td>\n",
       "    </tr>\n",
       "    <tr>\n",
       "      <th>1</th>\n",
       "      <td>2000-01-01 01:00:00</td>\n",
       "      <td>0.925928</td>\n",
       "      <td>T12</td>\n",
       "      <td>MVan</td>\n",
       "    </tr>\n",
       "    <tr>\n",
       "      <th>2</th>\n",
       "      <td>2000-01-01 02:00:00</td>\n",
       "      <td>0.462964</td>\n",
       "      <td>T12</td>\n",
       "      <td>MVan</td>\n",
       "    </tr>\n",
       "    <tr>\n",
       "      <th>3</th>\n",
       "      <td>2000-01-01 03:00:00</td>\n",
       "      <td>0.617283</td>\n",
       "      <td>T12</td>\n",
       "      <td>MVan</td>\n",
       "    </tr>\n",
       "    <tr>\n",
       "      <th>4</th>\n",
       "      <td>2000-01-01 04:00:00</td>\n",
       "      <td>0.540125</td>\n",
       "      <td>T12</td>\n",
       "      <td>MVan</td>\n",
       "    </tr>\n",
       "  </tbody>\n",
       "</table>\n",
       "</div>"
      ],
      "text/plain": [
       "                   time  wspd_sclr station_id network_id\n",
       "0   2000-01-01 00:00:00   0.385803        T12       MVan\n",
       "1   2000-01-01 01:00:00   0.925928        T12       MVan\n",
       "2   2000-01-01 02:00:00   0.462964        T12       MVan\n",
       "3   2000-01-01 03:00:00   0.617283        T12       MVan\n",
       "4   2000-01-01 04:00:00   0.540125        T12       MVan"
      ]
     },
     "execution_count": 126,
     "metadata": {},
     "output_type": "execute_result"
    }
   ],
   "source": [
    "# convert windspeed values from km/h to m/s by dividing values by 3.6\n",
    "MVan_data_wind_clean.loc[:,'wspd_sclr'] = MVan_data_wind_clean.loc[:,'wspd_sclr'].div(3.6)\n",
    "MVan_data_wind_clean.head(5)"
   ]
  },
  {
   "cell_type": "code",
   "execution_count": 127,
   "metadata": {},
   "outputs": [],
   "source": [
    "# remove values outside reasonable range\n",
    "MVan_data_wind_clean = MVan_data_wind_clean[MVan_data_wind_clean['wspd_sclr'] < 65]\n",
    "MVan_data_wind_clean = MVan_data_wind_clean[MVan_data_wind_clean['wspd_sclr'] >= 0]"
   ]
  },
  {
   "cell_type": "code",
   "execution_count": 128,
   "metadata": {},
   "outputs": [],
   "source": [
    "# rename columns\n",
    "MVan_wind = MVan_data_wind_clean.rename(columns={\"wspd_sclr\": \"wind_speed\"})"
   ]
  },
  {
   "cell_type": "code",
   "execution_count": null,
   "metadata": {},
   "outputs": [],
   "source": [
    "# replace station_id values if necessary\n",
    "# not necessary"
   ]
  },
  {
   "cell_type": "code",
   "execution_count": 129,
   "metadata": {},
   "outputs": [],
   "source": [
    "# save to csv\n",
    "MVan_wind.to_csv(f'{path_2}/MVan_wind.csv', index=False)"
   ]
  },
  {
   "cell_type": "markdown",
   "metadata": {},
   "source": [
    "#### UNBC_CAM Data Cleaning"
   ]
  },
  {
   "cell_type": "code",
   "execution_count": 130,
   "metadata": {},
   "outputs": [],
   "source": [
    "UNBC_CAM_data = functions.to_df('UNBC_CAM_data_clean.csv')"
   ]
  },
  {
   "cell_type": "code",
   "execution_count": 131,
   "metadata": {},
   "outputs": [],
   "source": [
    "column_names, column_nulls, duplicate_row_index = functions.start_cleaning(UNBC_CAM_data)"
   ]
  },
  {
   "cell_type": "code",
   "execution_count": 132,
   "metadata": {},
   "outputs": [
    {
     "name": "stdout",
     "output_type": "stream",
     "text": [
      "column names: ['rain_tot', 'solar_avg', 'solar_std', 'ws_std', 'airtc', 'time', 'rh', 'winddir_avg', 'dbtcdt', 'station_id', 'network_id', 'pressure', 'winddir_std', 'ws_avg', 'k_dn_avg', 'l_dn_avg', 'l_up_avg', 'k_up_avg']\n",
      "column nulls: rain_tot        693656\n",
      "solar_avg      1949847\n",
      "solar_std      2097928\n",
      "ws_std          274907\n",
      "airtc           178388\n",
      "time                 0\n",
      "rh              145556\n",
      "winddir_avg     780710\n",
      "dbtcdt          307674\n",
      "station_id           0\n",
      "network_id           0\n",
      "pressure        811623\n",
      "winddir_std    2392832\n",
      "ws_avg         2045467\n",
      "k_dn_avg       2305685\n",
      "l_dn_avg       2305685\n",
      "l_up_avg       2305685\n",
      "k_up_avg       2305685\n",
      "dtype: int64\n",
      "duplicate rows: Index([], dtype='int64')\n"
     ]
    },
    {
     "data": {
      "text/plain": [
       "(2634998, 18)"
      ]
     },
     "execution_count": 132,
     "metadata": {},
     "output_type": "execute_result"
    }
   ],
   "source": [
    "print(f'column names: {column_names}')\n",
    "print(f'column nulls: {column_nulls}')\n",
    "print(f'duplicate rows: {duplicate_row_index}')\n",
    "UNBC_CAM_data.shape"
   ]
  },
  {
   "cell_type": "code",
   "execution_count": 133,
   "metadata": {},
   "outputs": [],
   "source": [
    "# only keep variables of interest\n",
    "UNBC_CAM_data_solar = UNBC_CAM_data.loc[:,('time', 'solar_avg', 'station_id', 'network_id')]\n",
    "UNBC_CAM_data_wind = UNBC_CAM_data.loc[:,('time', 'ws_avg', 'station_id', 'network_id')]"
   ]
  },
  {
   "cell_type": "code",
   "execution_count": 134,
   "metadata": {},
   "outputs": [
    {
     "data": {
      "text/plain": [
       "time                0\n",
       "solar_avg     1949847\n",
       "station_id          0\n",
       "network_id          0\n",
       "dtype: int64"
      ]
     },
     "execution_count": 134,
     "metadata": {},
     "output_type": "execute_result"
    }
   ],
   "source": [
    "# count null values in solar data\n",
    "UNBC_CAM_data_solar.isna().sum()\n"
   ]
  },
  {
   "cell_type": "code",
   "execution_count": 135,
   "metadata": {},
   "outputs": [
    {
     "data": {
      "text/plain": [
       "time          0\n",
       "solar_avg     0\n",
       "station_id    0\n",
       "network_id    0\n",
       "dtype: int64"
      ]
     },
     "execution_count": 135,
     "metadata": {},
     "output_type": "execute_result"
    }
   ],
   "source": [
    "# drop rows in solar data that do not have solar radiation values\n",
    "UNBC_CAM_data_solar_clean = UNBC_CAM_data_solar.dropna(subset=['solar_avg'])\n",
    "UNBC_CAM_data_solar_clean.isna().sum()"
   ]
  },
  {
   "cell_type": "code",
   "execution_count": 136,
   "metadata": {},
   "outputs": [],
   "source": [
    "# remove values outside of reasonable range\n",
    "UNBC_CAM_data_solar_clean = UNBC_CAM_data_solar_clean[UNBC_CAM_data_solar_clean['solar_avg'] < 950]\n",
    "UNBC_CAM_data_solar_clean = UNBC_CAM_data_solar_clean[UNBC_CAM_data_solar_clean['solar_avg'] >= 0]"
   ]
  },
  {
   "cell_type": "code",
   "execution_count": 137,
   "metadata": {},
   "outputs": [
    {
     "data": {
      "text/html": [
       "<div>\n",
       "<style scoped>\n",
       "    .dataframe tbody tr th:only-of-type {\n",
       "        vertical-align: middle;\n",
       "    }\n",
       "\n",
       "    .dataframe tbody tr th {\n",
       "        vertical-align: top;\n",
       "    }\n",
       "\n",
       "    .dataframe thead th {\n",
       "        text-align: right;\n",
       "    }\n",
       "</style>\n",
       "<table border=\"1\" class=\"dataframe\">\n",
       "  <thead>\n",
       "    <tr style=\"text-align: right;\">\n",
       "      <th></th>\n",
       "      <th>time</th>\n",
       "      <th>solar_radiation</th>\n",
       "      <th>station_id</th>\n",
       "      <th>network_id</th>\n",
       "    </tr>\n",
       "  </thead>\n",
       "  <tbody>\n",
       "    <tr>\n",
       "      <th>0</th>\n",
       "      <td>2010-01-01 00:00:00</td>\n",
       "      <td>0.00</td>\n",
       "      <td>ancifore</td>\n",
       "      <td>UNBC_CAM</td>\n",
       "    </tr>\n",
       "    <tr>\n",
       "      <th>1</th>\n",
       "      <td>2010-01-01 00:15:00</td>\n",
       "      <td>0.00</td>\n",
       "      <td>ancifore</td>\n",
       "      <td>UNBC_CAM</td>\n",
       "    </tr>\n",
       "    <tr>\n",
       "      <th>2</th>\n",
       "      <td>2010-01-01 00:29:59</td>\n",
       "      <td>0.00</td>\n",
       "      <td>ancifore</td>\n",
       "      <td>UNBC_CAM</td>\n",
       "    </tr>\n",
       "    <tr>\n",
       "      <th>3</th>\n",
       "      <td>2010-01-01 00:45:00</td>\n",
       "      <td>0.00</td>\n",
       "      <td>ancifore</td>\n",
       "      <td>UNBC_CAM</td>\n",
       "    </tr>\n",
       "    <tr>\n",
       "      <th>4</th>\n",
       "      <td>2010-01-01 01:00:00</td>\n",
       "      <td>0.00</td>\n",
       "      <td>ancifore</td>\n",
       "      <td>UNBC_CAM</td>\n",
       "    </tr>\n",
       "    <tr>\n",
       "      <th>...</th>\n",
       "      <td>...</td>\n",
       "      <td>...</td>\n",
       "      <td>...</td>\n",
       "      <td>...</td>\n",
       "    </tr>\n",
       "    <tr>\n",
       "      <th>2279813</th>\n",
       "      <td>2017-11-17 13:45:00</td>\n",
       "      <td>17.93</td>\n",
       "      <td>tatulake</td>\n",
       "      <td>UNBC_CAM</td>\n",
       "    </tr>\n",
       "    <tr>\n",
       "      <th>2279814</th>\n",
       "      <td>2017-11-17 14:00:00</td>\n",
       "      <td>20.04</td>\n",
       "      <td>tatulake</td>\n",
       "      <td>UNBC_CAM</td>\n",
       "    </tr>\n",
       "    <tr>\n",
       "      <th>2279815</th>\n",
       "      <td>2017-11-17 14:15:00</td>\n",
       "      <td>19.51</td>\n",
       "      <td>tatulake</td>\n",
       "      <td>UNBC_CAM</td>\n",
       "    </tr>\n",
       "    <tr>\n",
       "      <th>2279816</th>\n",
       "      <td>2017-11-17 14:30:00</td>\n",
       "      <td>26.36</td>\n",
       "      <td>tatulake</td>\n",
       "      <td>UNBC_CAM</td>\n",
       "    </tr>\n",
       "    <tr>\n",
       "      <th>2279817</th>\n",
       "      <td>2017-11-17 14:45:00</td>\n",
       "      <td>47.48</td>\n",
       "      <td>tatulake</td>\n",
       "      <td>UNBC_CAM</td>\n",
       "    </tr>\n",
       "  </tbody>\n",
       "</table>\n",
       "<p>682492 rows × 4 columns</p>\n",
       "</div>"
      ],
      "text/plain": [
       "                         time  solar_radiation station_id network_id\n",
       "0         2010-01-01 00:00:00             0.00   ancifore   UNBC_CAM\n",
       "1         2010-01-01 00:15:00             0.00   ancifore   UNBC_CAM\n",
       "2         2010-01-01 00:29:59             0.00   ancifore   UNBC_CAM\n",
       "3         2010-01-01 00:45:00             0.00   ancifore   UNBC_CAM\n",
       "4         2010-01-01 01:00:00             0.00   ancifore   UNBC_CAM\n",
       "...                       ...              ...        ...        ...\n",
       "2279813   2017-11-17 13:45:00            17.93   tatulake   UNBC_CAM\n",
       "2279814   2017-11-17 14:00:00            20.04   tatulake   UNBC_CAM\n",
       "2279815   2017-11-17 14:15:00            19.51   tatulake   UNBC_CAM\n",
       "2279816   2017-11-17 14:30:00            26.36   tatulake   UNBC_CAM\n",
       "2279817   2017-11-17 14:45:00            47.48   tatulake   UNBC_CAM\n",
       "\n",
       "[682492 rows x 4 columns]"
      ]
     },
     "execution_count": 137,
     "metadata": {},
     "output_type": "execute_result"
    }
   ],
   "source": [
    "# rename columns\n",
    "UNBC_CAM_solar = UNBC_CAM_data_solar_clean.rename(columns={\"solar_avg\": \"solar_radiation\"})\n",
    "UNBC_CAM_solar"
   ]
  },
  {
   "cell_type": "code",
   "execution_count": null,
   "metadata": {},
   "outputs": [],
   "source": [
    "# replace network_id column values if necessary\n",
    "# not necessary"
   ]
  },
  {
   "cell_type": "code",
   "execution_count": 138,
   "metadata": {},
   "outputs": [],
   "source": [
    "UNBC_CAM_solar.to_csv(f'{path_2}/UNBC_CAM_solar.csv', index=False)"
   ]
  },
  {
   "cell_type": "code",
   "execution_count": 139,
   "metadata": {},
   "outputs": [
    {
     "data": {
      "text/plain": [
       "time                0\n",
       "ws_avg        2045467\n",
       "station_id          0\n",
       "network_id          0\n",
       "dtype: int64"
      ]
     },
     "execution_count": 139,
     "metadata": {},
     "output_type": "execute_result"
    }
   ],
   "source": [
    "# count null values in wind data\n",
    "UNBC_CAM_data_wind.isna().sum()"
   ]
  },
  {
   "cell_type": "code",
   "execution_count": 140,
   "metadata": {},
   "outputs": [
    {
     "data": {
      "text/plain": [
       "time          0\n",
       "ws_avg        0\n",
       "station_id    0\n",
       "network_id    0\n",
       "dtype: int64"
      ]
     },
     "execution_count": 140,
     "metadata": {},
     "output_type": "execute_result"
    }
   ],
   "source": [
    "# drop rows in wind data that do not have WindSpeed values\n",
    "UNBC_CAM_data_wind_clean = UNBC_CAM_data_wind.dropna(subset=['ws_avg'])\n",
    "UNBC_CAM_data_wind_clean.isna().sum()"
   ]
  },
  {
   "cell_type": "code",
   "execution_count": 142,
   "metadata": {},
   "outputs": [
    {
     "data": {
      "text/html": [
       "<div>\n",
       "<style scoped>\n",
       "    .dataframe tbody tr th:only-of-type {\n",
       "        vertical-align: middle;\n",
       "    }\n",
       "\n",
       "    .dataframe tbody tr th {\n",
       "        vertical-align: top;\n",
       "    }\n",
       "\n",
       "    .dataframe thead th {\n",
       "        text-align: right;\n",
       "    }\n",
       "</style>\n",
       "<table border=\"1\" class=\"dataframe\">\n",
       "  <thead>\n",
       "    <tr style=\"text-align: right;\">\n",
       "      <th></th>\n",
       "      <th>time</th>\n",
       "      <th>ws_avg</th>\n",
       "      <th>station_id</th>\n",
       "      <th>network_id</th>\n",
       "    </tr>\n",
       "  </thead>\n",
       "  <tbody>\n",
       "    <tr>\n",
       "      <th>809545</th>\n",
       "      <td>2011-11-27 18:45:00</td>\n",
       "      <td>13.02</td>\n",
       "      <td>lowecast</td>\n",
       "      <td>UNBC_CAM</td>\n",
       "    </tr>\n",
       "    <tr>\n",
       "      <th>808114</th>\n",
       "      <td>2011-11-12 21:00:00</td>\n",
       "      <td>12.70</td>\n",
       "      <td>lowecast</td>\n",
       "      <td>UNBC_CAM</td>\n",
       "    </tr>\n",
       "    <tr>\n",
       "      <th>878341</th>\n",
       "      <td>2013-12-17 22:30:00</td>\n",
       "      <td>12.58</td>\n",
       "      <td>lowecast</td>\n",
       "      <td>UNBC_CAM</td>\n",
       "    </tr>\n",
       "  </tbody>\n",
       "</table>\n",
       "</div>"
      ],
      "text/plain": [
       "                        time  ws_avg station_id network_id\n",
       "809545   2011-11-27 18:45:00   13.02   lowecast   UNBC_CAM\n",
       "808114   2011-11-12 21:00:00   12.70   lowecast   UNBC_CAM\n",
       "878341   2013-12-17 22:30:00   12.58   lowecast   UNBC_CAM"
      ]
     },
     "execution_count": 142,
     "metadata": {},
     "output_type": "execute_result"
    }
   ],
   "source": [
    "# check wind speed values, units\n",
    "# station data file states wind speed units are m/s\n",
    "UNBC_CAM_data_wind_clean.nlargest(3, 'ws_avg')"
   ]
  },
  {
   "cell_type": "code",
   "execution_count": 143,
   "metadata": {},
   "outputs": [],
   "source": [
    "# remove values outside reasonable range\n",
    "UNBC_CAM_data_wind_clean = UNBC_CAM_data_wind_clean[UNBC_CAM_data_wind_clean['ws_avg'] < 65]\n",
    "UNBC_CAM_data_wind_clean = UNBC_CAM_data_wind_clean[UNBC_CAM_data_wind_clean['ws_avg'] >= 0]"
   ]
  },
  {
   "cell_type": "code",
   "execution_count": 144,
   "metadata": {},
   "outputs": [
    {
     "data": {
      "text/html": [
       "<div>\n",
       "<style scoped>\n",
       "    .dataframe tbody tr th:only-of-type {\n",
       "        vertical-align: middle;\n",
       "    }\n",
       "\n",
       "    .dataframe tbody tr th {\n",
       "        vertical-align: top;\n",
       "    }\n",
       "\n",
       "    .dataframe thead th {\n",
       "        text-align: right;\n",
       "    }\n",
       "</style>\n",
       "<table border=\"1\" class=\"dataframe\">\n",
       "  <thead>\n",
       "    <tr style=\"text-align: right;\">\n",
       "      <th></th>\n",
       "      <th>time</th>\n",
       "      <th>wind_speed</th>\n",
       "      <th>station_id</th>\n",
       "      <th>network_id</th>\n",
       "    </tr>\n",
       "  </thead>\n",
       "  <tbody>\n",
       "    <tr>\n",
       "      <th>748750</th>\n",
       "      <td>2010-01-01 00:00:00</td>\n",
       "      <td>6.214</td>\n",
       "      <td>lowecast</td>\n",
       "      <td>UNBC_CAM</td>\n",
       "    </tr>\n",
       "    <tr>\n",
       "      <th>748751</th>\n",
       "      <td>2010-01-01 00:15:00</td>\n",
       "      <td>5.291</td>\n",
       "      <td>lowecast</td>\n",
       "      <td>UNBC_CAM</td>\n",
       "    </tr>\n",
       "    <tr>\n",
       "      <th>748752</th>\n",
       "      <td>2010-01-01 00:29:59</td>\n",
       "      <td>5.138</td>\n",
       "      <td>lowecast</td>\n",
       "      <td>UNBC_CAM</td>\n",
       "    </tr>\n",
       "    <tr>\n",
       "      <th>748753</th>\n",
       "      <td>2010-01-01 00:45:00</td>\n",
       "      <td>6.429</td>\n",
       "      <td>lowecast</td>\n",
       "      <td>UNBC_CAM</td>\n",
       "    </tr>\n",
       "    <tr>\n",
       "      <th>748754</th>\n",
       "      <td>2010-01-01 01:00:00</td>\n",
       "      <td>6.987</td>\n",
       "      <td>lowecast</td>\n",
       "      <td>UNBC_CAM</td>\n",
       "    </tr>\n",
       "    <tr>\n",
       "      <th>...</th>\n",
       "      <td>...</td>\n",
       "      <td>...</td>\n",
       "      <td>...</td>\n",
       "      <td>...</td>\n",
       "    </tr>\n",
       "    <tr>\n",
       "      <th>1860321</th>\n",
       "      <td>2017-12-31 22:45:00</td>\n",
       "      <td>0.000</td>\n",
       "      <td>qrrc</td>\n",
       "      <td>UNBC_CAM</td>\n",
       "    </tr>\n",
       "    <tr>\n",
       "      <th>1860322</th>\n",
       "      <td>2017-12-31 23:00:00</td>\n",
       "      <td>0.000</td>\n",
       "      <td>qrrc</td>\n",
       "      <td>UNBC_CAM</td>\n",
       "    </tr>\n",
       "    <tr>\n",
       "      <th>1860323</th>\n",
       "      <td>2017-12-31 23:15:00</td>\n",
       "      <td>0.000</td>\n",
       "      <td>qrrc</td>\n",
       "      <td>UNBC_CAM</td>\n",
       "    </tr>\n",
       "    <tr>\n",
       "      <th>1860324</th>\n",
       "      <td>2017-12-31 23:30:00</td>\n",
       "      <td>0.000</td>\n",
       "      <td>qrrc</td>\n",
       "      <td>UNBC_CAM</td>\n",
       "    </tr>\n",
       "    <tr>\n",
       "      <th>1860325</th>\n",
       "      <td>2017-12-31 23:45:00</td>\n",
       "      <td>0.000</td>\n",
       "      <td>qrrc</td>\n",
       "      <td>UNBC_CAM</td>\n",
       "    </tr>\n",
       "  </tbody>\n",
       "</table>\n",
       "<p>589530 rows × 4 columns</p>\n",
       "</div>"
      ],
      "text/plain": [
       "                         time  wind_speed station_id network_id\n",
       "748750    2010-01-01 00:00:00       6.214   lowecast   UNBC_CAM\n",
       "748751    2010-01-01 00:15:00       5.291   lowecast   UNBC_CAM\n",
       "748752    2010-01-01 00:29:59       5.138   lowecast   UNBC_CAM\n",
       "748753    2010-01-01 00:45:00       6.429   lowecast   UNBC_CAM\n",
       "748754    2010-01-01 01:00:00       6.987   lowecast   UNBC_CAM\n",
       "...                       ...         ...        ...        ...\n",
       "1860321   2017-12-31 22:45:00       0.000       qrrc   UNBC_CAM\n",
       "1860322   2017-12-31 23:00:00       0.000       qrrc   UNBC_CAM\n",
       "1860323   2017-12-31 23:15:00       0.000       qrrc   UNBC_CAM\n",
       "1860324   2017-12-31 23:30:00       0.000       qrrc   UNBC_CAM\n",
       "1860325   2017-12-31 23:45:00       0.000       qrrc   UNBC_CAM\n",
       "\n",
       "[589530 rows x 4 columns]"
      ]
     },
     "execution_count": 144,
     "metadata": {},
     "output_type": "execute_result"
    }
   ],
   "source": [
    "# rename columns\n",
    "UNBC_CAM_wind = UNBC_CAM_data_wind_clean.rename(columns={\"ws_avg\": \"wind_speed\"})\n",
    "UNBC_CAM_wind"
   ]
  },
  {
   "cell_type": "code",
   "execution_count": null,
   "metadata": {},
   "outputs": [],
   "source": [
    "# replace network_id values if necessary\n",
    "# not necessary"
   ]
  },
  {
   "cell_type": "code",
   "execution_count": 145,
   "metadata": {},
   "outputs": [],
   "source": [
    "# save to csv\n",
    "UNBC_CAM_wind.to_csv(f'{path_2}/UNBC_CAM_wind.csv', index=False)"
   ]
  },
  {
   "cell_type": "markdown",
   "metadata": {},
   "source": [
    "### Confirm that all column names are standardized"
   ]
  },
  {
   "cell_type": "code",
   "execution_count": 146,
   "metadata": {},
   "outputs": [
    {
     "name": "stdout",
     "output_type": "stream",
     "text": [
      "solar files: ['BCH_solar.csv', 'CRD_solar.csv', 'FLNRO_FERN_solar.csv', 'UNBC_CAM_solar.csv']\n",
      "wind files: ['BCH_wind.csv', 'CRD_wind.csv', 'EC_raw_wind.csv', 'ENV_AQN_wind.csv', 'FLNRO_FERN_wind.csv', 'MoTIe_wind.csv', 'MoTIm_wind.csv', 'MVan_wind.csv', 'UNBC_CAM_wind.csv']\n"
     ]
    }
   ],
   "source": [
    "# Create list of wind and solar filenames\n",
    "\n",
    "keywords = ['wind', 'solar']\n",
    "# create list to store wind records\n",
    "wind_files = []\n",
    "# create list to store solar records\n",
    "solar_files = []\n",
    "# create list of files in data folder\n",
    "file_names = os.listdir(f\"{path_2}\")\n",
    "# iterate through files in data folder\n",
    "for file_name in file_names:\n",
    "    # match against keywords\n",
    "    if keywords[0] in file_name:\n",
    "        wind_files.append(file_name)\n",
    "    elif keywords[1] in file_name:\n",
    "        solar_files.append(file_name)\n",
    "    else: continue\n",
    "\n",
    "print(f\"solar files: {solar_files}\")\n",
    "print(f\"wind files: {wind_files}\")"
   ]
  },
  {
   "cell_type": "code",
   "execution_count": 147,
   "metadata": {},
   "outputs": [
    {
     "name": "stdout",
     "output_type": "stream",
     "text": [
      "BCH_solar.csv\n",
      "['solar_radiation', 'station_id', 'network_id']\n",
      "CRD_solar.csv\n",
      "['solar_radiation', 'station_id', 'network_id']\n",
      "FLNRO_FERN_solar.csv\n",
      "['solar_radiation', 'station_id', 'network_id']\n",
      "UNBC_CAM_solar.csv\n",
      "['solar_radiation', 'station_id', 'network_id']\n"
     ]
    }
   ],
   "source": [
    "# print list of column names for each solar file\n",
    "for file in solar_files:\n",
    "    print(f\"{file}\")\n",
    "    print(list(pd.read_csv(f'{path_2}/{file}', index_col=0, nrows=0)))\n"
   ]
  },
  {
   "cell_type": "code",
   "execution_count": 148,
   "metadata": {},
   "outputs": [
    {
     "name": "stdout",
     "output_type": "stream",
     "text": [
      "BCH_wind.csv\n",
      "['wind_speed', 'station_id', 'network_id']\n",
      "CRD_wind.csv\n",
      "['wind_speed', 'station_id', 'network_id']\n",
      "EC_raw_wind.csv\n",
      "['wind_speed', 'station_id', 'network_id']\n",
      "ENV_AQN_wind.csv\n",
      "['wind_speed', 'station_id', 'network_id']\n",
      "FLNRO_FERN_wind.csv\n",
      "['wind_speed', 'station_id', 'network_id']\n",
      "MoTIe_wind.csv\n",
      "['wind_speed', 'station_id', 'network_id']\n",
      "MoTIm_wind.csv\n",
      "['wind_speed', 'station_id', 'network_id']\n",
      "MVan_wind.csv\n",
      "['wind_speed', 'station_id', 'network_id']\n",
      "UNBC_CAM_wind.csv\n",
      "['wind_speed', 'station_id', 'network_id']\n"
     ]
    }
   ],
   "source": [
    "# print list of column names for each wind file\n",
    "for file in wind_files:\n",
    "    print(f\"{file}\")\n",
    "    print(list(pd.read_csv(f'{path_2}/{file}', index_col=0, nrows=0)))"
   ]
  },
  {
   "cell_type": "code",
   "execution_count": null,
   "metadata": {},
   "outputs": [],
   "source": []
  }
 ],
 "metadata": {
  "kernelspec": {
   "display_name": "lhl_env",
   "language": "python",
   "name": "python3"
  },
  "language_info": {
   "codemirror_mode": {
    "name": "ipython",
    "version": 3
   },
   "file_extension": ".py",
   "mimetype": "text/x-python",
   "name": "python",
   "nbconvert_exporter": "python",
   "pygments_lexer": "ipython3",
   "version": "3.11.5"
  }
 },
 "nbformat": 4,
 "nbformat_minor": 2
}
