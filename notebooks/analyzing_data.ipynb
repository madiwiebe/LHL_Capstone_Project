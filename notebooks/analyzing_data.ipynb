{
 "cells": [
  {
   "cell_type": "markdown",
   "metadata": {},
   "source": [
    "### Formulas used to convert environmental variables to energy equivalents:"
   ]
  },
  {
   "cell_type": "markdown",
   "metadata": {},
   "source": [
    "#### Solar energy calculation:\n",
    "\n",
    "$$ E = A * r * H * PR $$\n",
    "\n",
    "Where:\n",
    "- E = Energy generated ($Watts$)\n",
    "- r = solar panel efficiency ($\\%$)\n",
    "- H = solar radiation ($W / m^{2}$)\n",
    "- PR = performance ratio ($\\%$)\n"
   ]
  },
  {
   "cell_type": "markdown",
   "metadata": {},
   "source": [
    "#### Wind energy calculation:\n",
    "\n",
    "$$ E = 0.5 * Cp * ρ * π * R^2 * V^3 $$\n",
    "\n",
    "Where:\n",
    "- E = Energy generated ($Watts$)\n",
    "- Cp = Coeffiecient of performance ($\\%$)\n",
    "- ρ = air density ($kg / m^{3}$)\n",
    "- R = blade length ($m$)\n",
    "- V = wind speed ($m / s$)"
   ]
  },
  {
   "cell_type": "markdown",
   "metadata": {},
   "source": [
    "Sources: \n",
    "- https://www.epa.gov/green-power-markets/green-power-equivalency-calculator-calculations-and-references\n",
    "- https://www.forbes.com/home-improvement/solar/solar-panel-size-weight-guide/\n",
    "- https://www.ryse.energy/5kw-wind-turbines/\n"
   ]
  },
  {
   "cell_type": "markdown",
   "metadata": {},
   "source": [
    "### Initializing"
   ]
  },
  {
   "cell_type": "code",
   "execution_count": null,
   "metadata": {},
   "outputs": [],
   "source": [
    "import pandas as pd\n",
    "import os\n",
    "import math\n",
    "import matplotlib\n",
    "import functions"
   ]
  },
  {
   "cell_type": "code",
   "execution_count": null,
   "metadata": {},
   "outputs": [],
   "source": []
  }
 ],
 "metadata": {
  "kernelspec": {
   "display_name": "lhl_env",
   "language": "python",
   "name": "python3"
  },
  "language_info": {
   "codemirror_mode": {
    "name": "ipython",
    "version": 3
   },
   "file_extension": ".py",
   "mimetype": "text/x-python",
   "name": "python",
   "nbconvert_exporter": "python",
   "pygments_lexer": "ipython3",
   "version": "3.11.4"
  },
  "orig_nbformat": 4
 },
 "nbformat": 4,
 "nbformat_minor": 2
}
