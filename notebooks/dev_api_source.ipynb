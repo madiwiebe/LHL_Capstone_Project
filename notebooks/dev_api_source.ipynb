{
 "cells": [
  {
   "cell_type": "markdown",
   "metadata": {},
   "source": [
    "### Exploration: Using a weather API as a datasource instead of a database of historic data\n",
    "\n",
    "Weather API location: https://weatherstack.com/documentation \n",
    "\n",
    "Objectives: \n",
    "- Retrieve current API weather data for my location\n",
    "- Attempt to retrieve historic weather data for my location\n",
    "- Create a function that will generate lat/lon for provided locations"
   ]
  },
  {
   "cell_type": "code",
   "execution_count": 6,
   "metadata": {},
   "outputs": [],
   "source": [
    "import requests\n",
    "import json\n",
    "import pprint\n",
    "import os"
   ]
  },
  {
   "cell_type": "code",
   "execution_count": 7,
   "metadata": {},
   "outputs": [
    {
     "name": "stdout",
     "output_type": "stream",
     "text": [
      "200\n"
     ]
    }
   ],
   "source": [
    "url_test = \"http://api.weatherstack.com/\"\n",
    "result = requests.get(url_test)\n",
    "print(result.status_code)"
   ]
  },
  {
   "cell_type": "code",
   "execution_count": 8,
   "metadata": {},
   "outputs": [],
   "source": [
    "# define access key\n",
    "weatherstack_api_key = os.environ['WEATHERSTACK_API_KEY']"
   ]
  },
  {
   "cell_type": "code",
   "execution_count": 9,
   "metadata": {},
   "outputs": [],
   "source": [
    "# define url for current data\n",
    "url_current = \"http://api.weatherstack.com/current\"\n",
    "\n",
    "# define url for historical data\n",
    "url_historical = \"http://api.weatherstack.com/historical\""
   ]
  },
  {
   "cell_type": "code",
   "execution_count": 12,
   "metadata": {},
   "outputs": [
    {
     "name": "stdout",
     "output_type": "stream",
     "text": [
      "{'request': {'type': 'LatLon', 'query': 'Lat 48.39 and Lon -123.83', 'language': 'en', 'unit': 'm'}, 'location': {'name': 'Sooke', 'country': 'Canada', 'region': 'British Columbia', 'lat': '48.383', 'lon': '-123.733', 'timezone_id': 'America/Vancouver', 'localtime': '2023-11-03 14:09', 'localtime_epoch': 1699020540, 'utc_offset': '-7.0'}, 'current': {'observation_time': '09:09 PM', 'temperature': 12, 'weather_code': 113, 'weather_icons': ['https://cdn.worldweatheronline.com/images/wsymbols01_png_64/wsymbol_0001_sunny.png'], 'weather_descriptions': ['Sunny'], 'wind_speed': 19, 'wind_degree': 120, 'wind_dir': 'ESE', 'pressure': 1016, 'precip': 0, 'humidity': 84, 'cloudcover': 0, 'feelslike': 12, 'uv_index': 3, 'visibility': 10, 'is_day': 'yes'}}\n"
     ]
    }
   ],
   "source": [
    "# attempt to retrive current weather data for Sooke, BC\n",
    "\n",
    "url = url_current\n",
    "\n",
    "params = {\n",
    "  'access_key': f'{weatherstack_api_key}',\n",
    "  'query': '48.386552,-123.829748'\n",
    "}\n",
    "\n",
    "api_result = requests.get(url=url, params=params)\n",
    "\n",
    "api_response = api_result.json()\n",
    "\n",
    "print(api_response)"
   ]
  }
 ],
 "metadata": {
  "kernelspec": {
   "display_name": "lhl_env",
   "language": "python",
   "name": "python3"
  },
  "language_info": {
   "codemirror_mode": {
    "name": "ipython",
    "version": 3
   },
   "file_extension": ".py",
   "mimetype": "text/x-python",
   "name": "python",
   "nbconvert_exporter": "python",
   "pygments_lexer": "ipython3",
   "version": "3.11.4"
  }
 },
 "nbformat": 4,
 "nbformat_minor": 2
}
