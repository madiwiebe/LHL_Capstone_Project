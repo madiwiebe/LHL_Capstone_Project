{
 "cells": [
  {
   "cell_type": "markdown",
   "metadata": {},
   "source": [
    "### Initializing"
   ]
  },
  {
   "cell_type": "code",
   "execution_count": 1,
   "metadata": {},
   "outputs": [],
   "source": [
    "import pandas as pd\n",
    "import os \n",
    "import functions"
   ]
  },
  {
   "cell_type": "code",
   "execution_count": 2,
   "metadata": {},
   "outputs": [
    {
     "name": "stdout",
     "output_type": "stream",
     "text": [
      "hello\n"
     ]
    }
   ],
   "source": [
    "# test for proper access to functions module\n",
    "functions.temp()"
   ]
  },
  {
   "cell_type": "code",
   "execution_count": 2,
   "metadata": {},
   "outputs": [],
   "source": [
    "# define path variable for data folder containing concatenated .csv files\n",
    "path_2 = '../data'"
   ]
  },
  {
   "cell_type": "markdown",
   "metadata": {},
   "source": [
    "### Data cleaning\n",
    "Objectives:\n",
    "- remove irrelevant/null columns\n",
    "- keep columns variables associated with wind power generation\n",
    "    - wind speed\n",
    "    - air density\n",
    "        - air pressure\n",
    "        - air temperature\n",
    "        - relative humidity\n",
    "- keep column variables associated with solar power generation\n",
    "    - solar radiation\n",
    "    - cloud cover fraction?\n",
    "    - sunlight duration?\n",
    "- standardize column data with common variables (units, format)"
   ]
  },
  {
   "cell_type": "markdown",
   "metadata": {},
   "source": [
    "#### BCH Data Cleaning"
   ]
  },
  {
   "cell_type": "code",
   "execution_count": 4,
   "metadata": {},
   "outputs": [
    {
     "name": "stderr",
     "output_type": "stream",
     "text": [
      "d:\\School\\LHL\\capstone_project_data\\LHL_Capstone_Project\\notebooks\\functions.py:106: DtypeWarning: Columns (30) have mixed types. Specify dtype option on import or set low_memory=False.\n",
      "  df_name = pd.read_csv(f'{path_2}/{data_name}.csv', index_col=0)\n"
     ]
    },
    {
     "data": {
      "text/plain": [
       "['WindSpeed',\n",
       " ' time',\n",
       " ' WindDirection',\n",
       " 'filename',\n",
       " 'L_down_corr_Avg',\n",
       " ' HFT3_1_Avg',\n",
       " ' L_up_Avg',\n",
       " ' WindSpeed',\n",
       " ' ONE_DAY_SNOW',\n",
       " ' K_up_Avg',\n",
       " ' L_up_corr_Avg',\n",
       " ' AirTemp',\n",
       " ' L_down_Avg',\n",
       " ' HFT3_2_Avg',\n",
       " ' K_down_Avg',\n",
       " ' BarometricPressure',\n",
       " ' SoilVolumetricWaterContent',\n",
       " ' RelativeHumidity',\n",
       " ' TSoil_Avg',\n",
       " ' Vis',\n",
       " ' ONE_DAY_RAIN',\n",
       " 'AirTemp',\n",
       " ' ONE_DAY_PRECIPITATION',\n",
       " ' MIN_TEMP',\n",
       " ' MAX_TEMP',\n",
       " ' Snow_WE',\n",
       " ' SNOW_ON_THE_GROUND',\n",
       " 'HFT3_1_Avg',\n",
       " ' NetRad',\n",
       " 'time']"
      ]
     },
     "execution_count": 4,
     "metadata": {},
     "output_type": "execute_result"
    }
   ],
   "source": [
    "functions.list_columns('BCH_data.csv')"
   ]
  },
  {
   "cell_type": "code",
   "execution_count": 28,
   "metadata": {},
   "outputs": [],
   "source": [
    "# only include variables of interest\n",
    "BCH_data_wind = BCH_data.loc[:,('time', ' time', 'WindSpeed', ' BarometricPressure', 'AirTemp', ' RelativeHumidity', 'filename')]\n",
    "BCH_data_solar = BCH_data.loc[:,('time', ' time', ' NetRad', 'filename')]"
   ]
  },
  {
   "cell_type": "markdown",
   "metadata": {},
   "source": [
    "##### BCH Wind Data Cleaning"
   ]
  },
  {
   "cell_type": "code",
   "execution_count": 16,
   "metadata": {},
   "outputs": [
    {
     "data": {
      "text/plain": [
       "time                   6813622\n",
       " time                   203217\n",
       "WindSpeed              6988625\n",
       " BarometricPressure    6833815\n",
       "AirTemp                1496022\n",
       " RelativeHumidity      6827106\n",
       "filename                     0\n",
       "dtype: int64"
      ]
     },
     "execution_count": 16,
     "metadata": {},
     "output_type": "execute_result"
    }
   ],
   "source": [
    "# count null values in wind data\n",
    "BCH_data_wind.isna().sum()"
   ]
  },
  {
   "cell_type": "code",
   "execution_count": 29,
   "metadata": {},
   "outputs": [
    {
     "data": {
      "text/plain": [
       "time                   28214\n",
       " time                      0\n",
       "WindSpeed                  0\n",
       " BarometricPressure    28214\n",
       "AirTemp                28214\n",
       " RelativeHumidity      28214\n",
       "filename                   0\n",
       "dtype: int64"
      ]
     },
     "execution_count": 29,
     "metadata": {},
     "output_type": "execute_result"
    }
   ],
   "source": [
    "# drop rows in wind data that do not have a WindSpeed value\n",
    "# WindSpeed is a key variable that is important to location-specific results\n",
    "BCH_data_wind_clean = BCH_data_wind.dropna(subset=['WindSpeed'])\n",
    "BCH_data_wind_clean.isna().sum()"
   ]
  },
  {
   "cell_type": "code",
   "execution_count": 36,
   "metadata": {},
   "outputs": [
    {
     "data": {
      "text/plain": [
       "(28214, 7)"
      ]
     },
     "execution_count": 36,
     "metadata": {},
     "output_type": "execute_result"
    }
   ],
   "source": [
    "# check whether number of remaining nulls are the same as the number of rows\n",
    "BCH_data_wind_clean.shape"
   ]
  },
  {
   "cell_type": "code",
   "execution_count": 35,
   "metadata": {},
   "outputs": [
    {
     "data": {
      "text/plain": [
       "Int64Index([], dtype='int64')"
      ]
     },
     "execution_count": 35,
     "metadata": {},
     "output_type": "execute_result"
    }
   ],
   "source": [
    "# check for duplicates\n",
    "duplicate_rows = BCH_data_wind_clean.duplicated()\n",
    "duplicate_rows[duplicate_rows].index"
   ]
  },
  {
   "cell_type": "code",
   "execution_count": 38,
   "metadata": {},
   "outputs": [],
   "source": [
    "# save to csv\n",
    "BCH_data_wind_clean.to_csv('../data/BCH_data_wind_clean.csv')"
   ]
  },
  {
   "cell_type": "markdown",
   "metadata": {},
   "source": [
    "Plan for handling remaining nulls:\n",
    "- use values from next nearest weather station\n",
    "- use averages from data as a whole if necessary"
   ]
  },
  {
   "cell_type": "markdown",
   "metadata": {},
   "source": [
    "##### BCH Solar Data Cleaning"
   ]
  },
  {
   "cell_type": "code",
   "execution_count": 17,
   "metadata": {},
   "outputs": [
    {
     "data": {
      "text/plain": [
       "time        6813622\n",
       " time        203217\n",
       " NetRad     6928912\n",
       "filename          0\n",
       "dtype: int64"
      ]
     },
     "execution_count": 17,
     "metadata": {},
     "output_type": "execute_result"
    }
   ],
   "source": [
    "# count null values in solar data\n",
    "BCH_data_solar.isna().sum()"
   ]
  },
  {
   "cell_type": "code",
   "execution_count": 18,
   "metadata": {},
   "outputs": [
    {
     "data": {
      "text/plain": [
       "time        87927\n",
       " time           0\n",
       " NetRad         0\n",
       "filename        0\n",
       "dtype: int64"
      ]
     },
     "execution_count": 18,
     "metadata": {},
     "output_type": "execute_result"
    }
   ],
   "source": [
    "# drop rows in solar data that do not have a NetRad value\n",
    "BCH_data_solar_clean = BCH_data_solar.dropna(subset=[' NetRad'])\n",
    "BCH_data_solar_clean.isna().sum()"
   ]
  },
  {
   "cell_type": "code",
   "execution_count": 24,
   "metadata": {},
   "outputs": [
    {
     "data": {
      "text/plain": [
       "(87927, 4)"
      ]
     },
     "execution_count": 24,
     "metadata": {},
     "output_type": "execute_result"
    }
   ],
   "source": [
    "# check whether number of null 'time' values is the same as number of rows\n",
    "BCH_data_solar_clean.shape"
   ]
  },
  {
   "cell_type": "code",
   "execution_count": 39,
   "metadata": {},
   "outputs": [
    {
     "data": {
      "text/plain": [
       "Int64Index([], dtype='int64')"
      ]
     },
     "execution_count": 39,
     "metadata": {},
     "output_type": "execute_result"
    }
   ],
   "source": [
    "# check for duplicates\n",
    "duplicate_rows = BCH_data_solar_clean.duplicated()\n",
    "duplicate_rows[duplicate_rows].index"
   ]
  },
  {
   "cell_type": "code",
   "execution_count": 25,
   "metadata": {},
   "outputs": [
    {
     "data": {
      "text/plain": [
       "(87927, 3)"
      ]
     },
     "execution_count": 25,
     "metadata": {},
     "output_type": "execute_result"
    }
   ],
   "source": [
    "# drop 'time'\n",
    "BCH_data_solar_clean.drop(columns=['time'], inplace=True)\n",
    "BCH_data_solar_clean.shape"
   ]
  },
  {
   "cell_type": "code",
   "execution_count": 26,
   "metadata": {},
   "outputs": [],
   "source": [
    "# save BCH solar data to csv\n",
    "BCH_data_solar_clean.to_csv('../data/BCH_data_solar_clean.csv')"
   ]
  },
  {
   "cell_type": "markdown",
   "metadata": {},
   "source": [
    "#### CRD Data Cleaning"
   ]
  },
  {
   "cell_type": "code",
   "execution_count": 7,
   "metadata": {},
   "outputs": [],
   "source": [
    "CRD_data = functions.to_df('CRD_data.csv')"
   ]
  },
  {
   "cell_type": "code",
   "execution_count": 8,
   "metadata": {},
   "outputs": [],
   "source": [
    "column_names, column_nulls, duplicate_row_index = functions.start_cleaning(CRD_data)\n"
   ]
  },
  {
   "cell_type": "code",
   "execution_count": 9,
   "metadata": {},
   "outputs": [
    {
     "name": "stdout",
     "output_type": "stream",
     "text": [
      "column names: ['SolarRadiation', ' AirTemperature', ' Precipitation', ' Rain', ' WindSpeed', ' SnowDepth', ' time', ' WindDirection', ' RelativeHumidity', 'filename', 'AirTemperature', ' SnowWaterEquivalent', 'RelativeHumidity']\n",
      "column nulls: SolarRadiation          4090779\n",
      " AirTemperature         2812394\n",
      " Precipitation          3328235\n",
      " Rain                    438757\n",
      " WindSpeed               655130\n",
      " SnowDepth              3711426\n",
      " time                         0\n",
      " WindDirection           658523\n",
      " RelativeHumidity        652576\n",
      "filename                      0\n",
      "AirTemperature          1468700\n",
      " SnowWaterEquivalent    4078683\n",
      "RelativeHumidity        4039005\n",
      "dtype: int64\n",
      "duplicate rows: Int64Index([], dtype='int64')\n"
     ]
    }
   ],
   "source": [
    "print(f'column names: {column_names}')\n",
    "print(f'column nulls: {column_nulls}')\n",
    "print(f'duplicate rows: {duplicate_row_index}')"
   ]
  },
  {
   "cell_type": "code",
   "execution_count": 10,
   "metadata": {},
   "outputs": [],
   "source": [
    "# only keep variables of interest\n",
    "CRD_data_solar = CRD_data.loc[:,(' time', 'SolarRadiation', 'filename')]\n",
    "CRD_data_wind = CRD_data.loc[:,(' time', ' WindSpeed', 'AirTemperature', ' AirTemperature', 'RelativeHumidity', ' RelativeHumidity', 'filename')] \n",
    "    # note that no air pressure value is available"
   ]
  },
  {
   "cell_type": "code",
   "execution_count": 11,
   "metadata": {},
   "outputs": [
    {
     "data": {
      "text/plain": [
       " time             0\n",
       "SolarRadiation    0\n",
       "filename          0\n",
       "dtype: int64"
      ]
     },
     "execution_count": 11,
     "metadata": {},
     "output_type": "execute_result"
    }
   ],
   "source": [
    "# drop rows in solar data that do not have SolarRadiation values\n",
    "CRD_data_solar_clean = CRD_data_solar.dropna(subset=['SolarRadiation'])\n",
    "CRD_data_solar_clean.isna().sum()"
   ]
  },
  {
   "cell_type": "code",
   "execution_count": 9,
   "metadata": {},
   "outputs": [],
   "source": [
    "CRD_data_solar_clean.to_csv(f'{path_2}/CRD_data_solar_clean.csv')"
   ]
  },
  {
   "cell_type": "code",
   "execution_count": 12,
   "metadata": {},
   "outputs": [
    {
     "data": {
      "text/plain": [
       " time                      0\n",
       " WindSpeed            655130\n",
       "AirTemperature       1468700\n",
       " AirTemperature      2812394\n",
       "RelativeHumidity     4039005\n",
       " RelativeHumidity     652576\n",
       "filename                   0\n",
       "dtype: int64"
      ]
     },
     "execution_count": 12,
     "metadata": {},
     "output_type": "execute_result"
    }
   ],
   "source": [
    "# count null values in wind data\n",
    "CRD_data_wind.isna().sum()"
   ]
  },
  {
   "cell_type": "code",
   "execution_count": 21,
   "metadata": {},
   "outputs": [
    {
     "data": {
      "text/plain": [
       " time                      0\n",
       " WindSpeed                 0\n",
       "AirTemperature        817039\n",
       " AirTemperature      2808351\n",
       "RelativeHumidity     3445441\n",
       " RelativeHumidity       1181\n",
       "filename                   0\n",
       "dtype: int64"
      ]
     },
     "execution_count": 21,
     "metadata": {},
     "output_type": "execute_result"
    }
   ],
   "source": [
    "# drop rows in wind data that do not have WindSpeed values\n",
    "CRD_data_wind_clean = CRD_data_wind.dropna(subset=[' WindSpeed'])\n",
    "CRD_data_wind_clean.isna().sum()"
   ]
  },
  {
   "cell_type": "code",
   "execution_count": 22,
   "metadata": {},
   "outputs": [
    {
     "data": {
      "text/plain": [
       "0      0.0\n",
       "1      0.0\n",
       "2      0.0\n",
       "3      0.0\n",
       "4      0.0\n",
       "5      0.0\n",
       "6      0.0\n",
       "7      0.0\n",
       "8      0.0\n",
       "9      3.8\n",
       "10     3.9\n",
       "11     0.0\n",
       "12     6.6\n",
       "13    10.9\n",
       "14     8.4\n",
       "Name:  WindSpeed, dtype: float64"
      ]
     },
     "execution_count": 22,
     "metadata": {},
     "output_type": "execute_result"
    }
   ],
   "source": [
    "CRD_data_wind_clean[' WindSpeed'].head(15)"
   ]
  },
  {
   "cell_type": "code",
   "execution_count": 23,
   "metadata": {},
   "outputs": [
    {
     "name": "stderr",
     "output_type": "stream",
     "text": [
      "C:\\Users\\maddy\\AppData\\Local\\Temp\\ipykernel_16388\\857442712.py:2: SettingWithCopyWarning: \n",
      "A value is trying to be set on a copy of a slice from a DataFrame.\n",
      "Try using .loc[row_indexer,col_indexer] = value instead\n",
      "\n",
      "See the caveats in the documentation: https://pandas.pydata.org/pandas-docs/stable/user_guide/indexing.html#returning-a-view-versus-a-copy\n",
      "  CRD_data_wind_clean.loc[:,' WindSpeed'] = CRD_data_wind_clean.loc[:,' WindSpeed'].div(3.6)\n"
     ]
    },
    {
     "data": {
      "text/html": [
       "<div>\n",
       "<style scoped>\n",
       "    .dataframe tbody tr th:only-of-type {\n",
       "        vertical-align: middle;\n",
       "    }\n",
       "\n",
       "    .dataframe tbody tr th {\n",
       "        vertical-align: top;\n",
       "    }\n",
       "\n",
       "    .dataframe thead th {\n",
       "        text-align: right;\n",
       "    }\n",
       "</style>\n",
       "<table border=\"1\" class=\"dataframe\">\n",
       "  <thead>\n",
       "    <tr style=\"text-align: right;\">\n",
       "      <th></th>\n",
       "      <th>time</th>\n",
       "      <th>WindSpeed</th>\n",
       "      <th>AirTemperature</th>\n",
       "      <th>AirTemperature</th>\n",
       "      <th>RelativeHumidity</th>\n",
       "      <th>RelativeHumidity</th>\n",
       "      <th>filename</th>\n",
       "    </tr>\n",
       "  </thead>\n",
       "  <tbody>\n",
       "    <tr>\n",
       "      <th>0</th>\n",
       "      <td>1998-04-17 00:00:00</td>\n",
       "      <td>0.000000</td>\n",
       "      <td>NaN</td>\n",
       "      <td>0.9</td>\n",
       "      <td>NaN</td>\n",
       "      <td>100.0</td>\n",
       "      <td>FW001.csv</td>\n",
       "    </tr>\n",
       "    <tr>\n",
       "      <th>1</th>\n",
       "      <td>1998-04-17 01:00:00</td>\n",
       "      <td>0.000000</td>\n",
       "      <td>NaN</td>\n",
       "      <td>1.2</td>\n",
       "      <td>NaN</td>\n",
       "      <td>100.0</td>\n",
       "      <td>FW001.csv</td>\n",
       "    </tr>\n",
       "    <tr>\n",
       "      <th>2</th>\n",
       "      <td>1998-04-17 02:00:00</td>\n",
       "      <td>0.000000</td>\n",
       "      <td>NaN</td>\n",
       "      <td>0.7</td>\n",
       "      <td>NaN</td>\n",
       "      <td>100.0</td>\n",
       "      <td>FW001.csv</td>\n",
       "    </tr>\n",
       "    <tr>\n",
       "      <th>3</th>\n",
       "      <td>1998-04-17 03:00:00</td>\n",
       "      <td>0.000000</td>\n",
       "      <td>NaN</td>\n",
       "      <td>0.9</td>\n",
       "      <td>NaN</td>\n",
       "      <td>100.0</td>\n",
       "      <td>FW001.csv</td>\n",
       "    </tr>\n",
       "    <tr>\n",
       "      <th>4</th>\n",
       "      <td>1998-04-17 04:00:00</td>\n",
       "      <td>0.000000</td>\n",
       "      <td>NaN</td>\n",
       "      <td>0.1</td>\n",
       "      <td>NaN</td>\n",
       "      <td>100.0</td>\n",
       "      <td>FW001.csv</td>\n",
       "    </tr>\n",
       "    <tr>\n",
       "      <th>5</th>\n",
       "      <td>1998-04-17 05:00:00</td>\n",
       "      <td>0.000000</td>\n",
       "      <td>NaN</td>\n",
       "      <td>0.1</td>\n",
       "      <td>NaN</td>\n",
       "      <td>100.0</td>\n",
       "      <td>FW001.csv</td>\n",
       "    </tr>\n",
       "    <tr>\n",
       "      <th>6</th>\n",
       "      <td>1998-04-17 06:00:00</td>\n",
       "      <td>0.000000</td>\n",
       "      <td>NaN</td>\n",
       "      <td>0.4</td>\n",
       "      <td>NaN</td>\n",
       "      <td>100.0</td>\n",
       "      <td>FW001.csv</td>\n",
       "    </tr>\n",
       "    <tr>\n",
       "      <th>7</th>\n",
       "      <td>1998-04-17 07:00:00</td>\n",
       "      <td>0.000000</td>\n",
       "      <td>NaN</td>\n",
       "      <td>2.7</td>\n",
       "      <td>NaN</td>\n",
       "      <td>100.0</td>\n",
       "      <td>FW001.csv</td>\n",
       "    </tr>\n",
       "    <tr>\n",
       "      <th>8</th>\n",
       "      <td>1998-04-17 08:00:00</td>\n",
       "      <td>0.000000</td>\n",
       "      <td>NaN</td>\n",
       "      <td>8.2</td>\n",
       "      <td>NaN</td>\n",
       "      <td>74.0</td>\n",
       "      <td>FW001.csv</td>\n",
       "    </tr>\n",
       "    <tr>\n",
       "      <th>9</th>\n",
       "      <td>1998-04-17 09:00:00</td>\n",
       "      <td>1.055556</td>\n",
       "      <td>NaN</td>\n",
       "      <td>9.4</td>\n",
       "      <td>NaN</td>\n",
       "      <td>64.0</td>\n",
       "      <td>FW001.csv</td>\n",
       "    </tr>\n",
       "    <tr>\n",
       "      <th>10</th>\n",
       "      <td>1998-04-17 10:00:00</td>\n",
       "      <td>1.083333</td>\n",
       "      <td>NaN</td>\n",
       "      <td>10.1</td>\n",
       "      <td>NaN</td>\n",
       "      <td>63.0</td>\n",
       "      <td>FW001.csv</td>\n",
       "    </tr>\n",
       "    <tr>\n",
       "      <th>11</th>\n",
       "      <td>1998-04-17 11:00:00</td>\n",
       "      <td>0.000000</td>\n",
       "      <td>NaN</td>\n",
       "      <td>10.6</td>\n",
       "      <td>NaN</td>\n",
       "      <td>62.0</td>\n",
       "      <td>FW001.csv</td>\n",
       "    </tr>\n",
       "    <tr>\n",
       "      <th>12</th>\n",
       "      <td>1998-04-17 12:00:00</td>\n",
       "      <td>1.833333</td>\n",
       "      <td>NaN</td>\n",
       "      <td>10.9</td>\n",
       "      <td>NaN</td>\n",
       "      <td>59.0</td>\n",
       "      <td>FW001.csv</td>\n",
       "    </tr>\n",
       "    <tr>\n",
       "      <th>13</th>\n",
       "      <td>1998-04-17 13:00:00</td>\n",
       "      <td>3.027778</td>\n",
       "      <td>NaN</td>\n",
       "      <td>11.3</td>\n",
       "      <td>NaN</td>\n",
       "      <td>51.0</td>\n",
       "      <td>FW001.csv</td>\n",
       "    </tr>\n",
       "    <tr>\n",
       "      <th>14</th>\n",
       "      <td>1998-04-17 14:00:00</td>\n",
       "      <td>2.333333</td>\n",
       "      <td>NaN</td>\n",
       "      <td>11.6</td>\n",
       "      <td>NaN</td>\n",
       "      <td>61.0</td>\n",
       "      <td>FW001.csv</td>\n",
       "    </tr>\n",
       "  </tbody>\n",
       "</table>\n",
       "</div>"
      ],
      "text/plain": [
       "                    time   WindSpeed  AirTemperature   AirTemperature  \\\n",
       "0    1998-04-17 00:00:00    0.000000             NaN              0.9   \n",
       "1    1998-04-17 01:00:00    0.000000             NaN              1.2   \n",
       "2    1998-04-17 02:00:00    0.000000             NaN              0.7   \n",
       "3    1998-04-17 03:00:00    0.000000             NaN              0.9   \n",
       "4    1998-04-17 04:00:00    0.000000             NaN              0.1   \n",
       "5    1998-04-17 05:00:00    0.000000             NaN              0.1   \n",
       "6    1998-04-17 06:00:00    0.000000             NaN              0.4   \n",
       "7    1998-04-17 07:00:00    0.000000             NaN              2.7   \n",
       "8    1998-04-17 08:00:00    0.000000             NaN              8.2   \n",
       "9    1998-04-17 09:00:00    1.055556             NaN              9.4   \n",
       "10   1998-04-17 10:00:00    1.083333             NaN             10.1   \n",
       "11   1998-04-17 11:00:00    0.000000             NaN             10.6   \n",
       "12   1998-04-17 12:00:00    1.833333             NaN             10.9   \n",
       "13   1998-04-17 13:00:00    3.027778             NaN             11.3   \n",
       "14   1998-04-17 14:00:00    2.333333             NaN             11.6   \n",
       "\n",
       "    RelativeHumidity   RelativeHumidity   filename  \n",
       "0                NaN              100.0  FW001.csv  \n",
       "1                NaN              100.0  FW001.csv  \n",
       "2                NaN              100.0  FW001.csv  \n",
       "3                NaN              100.0  FW001.csv  \n",
       "4                NaN              100.0  FW001.csv  \n",
       "5                NaN              100.0  FW001.csv  \n",
       "6                NaN              100.0  FW001.csv  \n",
       "7                NaN              100.0  FW001.csv  \n",
       "8                NaN               74.0  FW001.csv  \n",
       "9                NaN               64.0  FW001.csv  \n",
       "10               NaN               63.0  FW001.csv  \n",
       "11               NaN               62.0  FW001.csv  \n",
       "12               NaN               59.0  FW001.csv  \n",
       "13               NaN               51.0  FW001.csv  \n",
       "14               NaN               61.0  FW001.csv  "
      ]
     },
     "execution_count": 23,
     "metadata": {},
     "output_type": "execute_result"
    }
   ],
   "source": [
    "# convert windspeed values from km/h to m/s by dividing values by 3.6\n",
    "CRD_data_wind_clean.loc[:,' WindSpeed'] = CRD_data_wind_clean.loc[:,' WindSpeed'].div(3.6)\n",
    "CRD_data_wind_clean.head(15)"
   ]
  },
  {
   "cell_type": "code",
   "execution_count": 24,
   "metadata": {},
   "outputs": [],
   "source": [
    "# save to csv\n",
    "CRD_data_wind_clean.to_csv(f'{path_2}/CRD_data_wind_clean.csv')"
   ]
  },
  {
   "cell_type": "markdown",
   "metadata": {},
   "source": [
    "#### EC_raw Data Cleaning"
   ]
  },
  {
   "cell_type": "code",
   "execution_count": 3,
   "metadata": {},
   "outputs": [],
   "source": [
    "EC_raw_data = functions.to_df('EC_raw_data.csv')"
   ]
  },
  {
   "cell_type": "code",
   "execution_count": 4,
   "metadata": {},
   "outputs": [],
   "source": [
    "column_names, column_nulls, duplicate_row_index = functions.start_cleaning(EC_raw_data)"
   ]
  },
  {
   "cell_type": "code",
   "execution_count": 5,
   "metadata": {},
   "outputs": [
    {
     "name": "stdout",
     "output_type": "stream",
     "text": [
      "column names: ['wind_speed', ' mean_sea_level', ' dew_point', ' wind_direction', ' relative_humidity', ' air_temperature', ' time', ' air_temperature_yesterday_low', ' wind_gust_speed', ' air_temperature_yesterday_high', ' tendency_amount', 'filename', ' total_precipitation', 'mean_sea_level', 'wind_direction', ' wind_speed', ' snow_amount', ' total_cloud_cover', 'relative_humidity', 'dew_point']\n",
      "column nulls: wind_speed                          6006263\n",
      " mean_sea_level                     1709535\n",
      " dew_point                          1035783\n",
      " wind_direction                     6420851\n",
      " relative_humidity                  1027746\n",
      " air_temperature                     411231\n",
      " time                                     0\n",
      " air_temperature_yesterday_low     12391030\n",
      " wind_gust_speed                   11440570\n",
      " air_temperature_yesterday_high    12390760\n",
      " tendency_amount                    2839650\n",
      "filename                                  0\n",
      " total_precipitation               12295547\n",
      "mean_sea_level                     12396808\n",
      "wind_direction                      8193086\n",
      " wind_speed                         7785805\n",
      " snow_amount                       12736774\n",
      " total_cloud_cover                  9324595\n",
      "relative_humidity                  12687542\n",
      "dew_point                          12676692\n",
      "dtype: int64\n",
      "duplicate rows: Int64Index([], dtype='int64')\n"
     ]
    }
   ],
   "source": [
    "print(f'column names: {column_names}')\n",
    "print(f'column nulls: {column_nulls}')\n",
    "print(f'duplicate rows: {duplicate_row_index}')"
   ]
  },
  {
   "cell_type": "code",
   "execution_count": 25,
   "metadata": {},
   "outputs": [],
   "source": [
    "# only keep variables of interest\n",
    "# no solar data available from this network\n",
    "EC_raw_data_wind = EC_raw_data.loc[:,(' time', 'wind_speed', ' wind_speed', ' air_temperature', 'relative_humidity', ' relative_humidity', 'filename')] \n",
    "    # note that no air pressure column is available"
   ]
  },
  {
   "cell_type": "code",
   "execution_count": 26,
   "metadata": {},
   "outputs": [
    {
     "data": {
      "text/plain": [
       " time                        0\n",
       "wind_speed             6006263\n",
       " wind_speed            7785805\n",
       " air_temperature        411231\n",
       "relative_humidity     12687542\n",
       " relative_humidity     1027746\n",
       "filename                     0\n",
       "dtype: int64"
      ]
     },
     "execution_count": 26,
     "metadata": {},
     "output_type": "execute_result"
    }
   ],
   "source": [
    "# count null values in wind data\n",
    "EC_raw_data_wind.isna().sum()"
   ]
  },
  {
   "cell_type": "code",
   "execution_count": 27,
   "metadata": {},
   "outputs": [
    {
     "data": {
      "text/plain": [
       " time                        0\n",
       "wind_speed             4993828\n",
       " wind_speed            6773370\n",
       " air_temperature        331537\n",
       "relative_humidity     11767198\n",
       " relative_humidity      802170\n",
       "filename                     0\n",
       "dtype: int64"
      ]
     },
     "execution_count": 27,
     "metadata": {},
     "output_type": "execute_result"
    }
   ],
   "source": [
    "# drop rows in wind data that do not have values in either windspeed column\n",
    "EC_raw_data_wind_clean = EC_raw_data_wind.dropna(subset=['wind_speed', ' wind_speed'], how='all')\n",
    "EC_raw_data_wind_clean.isna().sum()"
   ]
  },
  {
   "cell_type": "code",
   "execution_count": 29,
   "metadata": {},
   "outputs": [
    {
     "data": {
      "text/html": [
       "<div>\n",
       "<style scoped>\n",
       "    .dataframe tbody tr th:only-of-type {\n",
       "        vertical-align: middle;\n",
       "    }\n",
       "\n",
       "    .dataframe tbody tr th {\n",
       "        vertical-align: top;\n",
       "    }\n",
       "\n",
       "    .dataframe thead th {\n",
       "        text-align: right;\n",
       "    }\n",
       "</style>\n",
       "<table border=\"1\" class=\"dataframe\">\n",
       "  <thead>\n",
       "    <tr style=\"text-align: right;\">\n",
       "      <th></th>\n",
       "      <th>time</th>\n",
       "      <th>wind_speed</th>\n",
       "      <th>wind_speed</th>\n",
       "      <th>air_temperature</th>\n",
       "      <th>relative_humidity</th>\n",
       "      <th>relative_humidity</th>\n",
       "      <th>filename</th>\n",
       "    </tr>\n",
       "  </thead>\n",
       "  <tbody>\n",
       "    <tr>\n",
       "      <th>138</th>\n",
       "      <td>2011-10-16 00:00:00</td>\n",
       "      <td>16.9</td>\n",
       "      <td>NaN</td>\n",
       "      <td>9.9</td>\n",
       "      <td>NaN</td>\n",
       "      <td>78.0</td>\n",
       "      <td>1012475.csv</td>\n",
       "    </tr>\n",
       "    <tr>\n",
       "      <th>139</th>\n",
       "      <td>2011-10-16 01:00:00</td>\n",
       "      <td>16.2</td>\n",
       "      <td>NaN</td>\n",
       "      <td>9.9</td>\n",
       "      <td>NaN</td>\n",
       "      <td>78.0</td>\n",
       "      <td>1012475.csv</td>\n",
       "    </tr>\n",
       "    <tr>\n",
       "      <th>140</th>\n",
       "      <td>2011-10-16 02:00:00</td>\n",
       "      <td>10.4</td>\n",
       "      <td>NaN</td>\n",
       "      <td>9.7</td>\n",
       "      <td>NaN</td>\n",
       "      <td>82.0</td>\n",
       "      <td>1012475.csv</td>\n",
       "    </tr>\n",
       "    <tr>\n",
       "      <th>141</th>\n",
       "      <td>2011-10-16 03:00:00</td>\n",
       "      <td>9.4</td>\n",
       "      <td>NaN</td>\n",
       "      <td>9.3</td>\n",
       "      <td>NaN</td>\n",
       "      <td>83.0</td>\n",
       "      <td>1012475.csv</td>\n",
       "    </tr>\n",
       "    <tr>\n",
       "      <th>142</th>\n",
       "      <td>2011-10-16 04:00:00</td>\n",
       "      <td>13.3</td>\n",
       "      <td>NaN</td>\n",
       "      <td>9.1</td>\n",
       "      <td>NaN</td>\n",
       "      <td>83.0</td>\n",
       "      <td>1012475.csv</td>\n",
       "    </tr>\n",
       "    <tr>\n",
       "      <th>143</th>\n",
       "      <td>2011-10-16 05:00:00</td>\n",
       "      <td>15.5</td>\n",
       "      <td>NaN</td>\n",
       "      <td>9.1</td>\n",
       "      <td>NaN</td>\n",
       "      <td>84.0</td>\n",
       "      <td>1012475.csv</td>\n",
       "    </tr>\n",
       "    <tr>\n",
       "      <th>144</th>\n",
       "      <td>2011-10-16 06:00:00</td>\n",
       "      <td>17.3</td>\n",
       "      <td>NaN</td>\n",
       "      <td>8.8</td>\n",
       "      <td>NaN</td>\n",
       "      <td>84.0</td>\n",
       "      <td>1012475.csv</td>\n",
       "    </tr>\n",
       "    <tr>\n",
       "      <th>145</th>\n",
       "      <td>2011-10-16 07:00:00</td>\n",
       "      <td>16.9</td>\n",
       "      <td>NaN</td>\n",
       "      <td>8.8</td>\n",
       "      <td>NaN</td>\n",
       "      <td>83.0</td>\n",
       "      <td>1012475.csv</td>\n",
       "    </tr>\n",
       "    <tr>\n",
       "      <th>146</th>\n",
       "      <td>2011-10-16 08:00:00</td>\n",
       "      <td>16.2</td>\n",
       "      <td>NaN</td>\n",
       "      <td>8.4</td>\n",
       "      <td>NaN</td>\n",
       "      <td>81.0</td>\n",
       "      <td>1012475.csv</td>\n",
       "    </tr>\n",
       "    <tr>\n",
       "      <th>147</th>\n",
       "      <td>2011-10-16 09:00:00</td>\n",
       "      <td>8.3</td>\n",
       "      <td>NaN</td>\n",
       "      <td>7.7</td>\n",
       "      <td>NaN</td>\n",
       "      <td>83.0</td>\n",
       "      <td>1012475.csv</td>\n",
       "    </tr>\n",
       "    <tr>\n",
       "      <th>148</th>\n",
       "      <td>2011-10-16 10:00:00</td>\n",
       "      <td>7.6</td>\n",
       "      <td>NaN</td>\n",
       "      <td>7.1</td>\n",
       "      <td>NaN</td>\n",
       "      <td>85.0</td>\n",
       "      <td>1012475.csv</td>\n",
       "    </tr>\n",
       "    <tr>\n",
       "      <th>149</th>\n",
       "      <td>2011-10-16 11:00:00</td>\n",
       "      <td>8.6</td>\n",
       "      <td>NaN</td>\n",
       "      <td>7.8</td>\n",
       "      <td>NaN</td>\n",
       "      <td>76.0</td>\n",
       "      <td>1012475.csv</td>\n",
       "    </tr>\n",
       "    <tr>\n",
       "      <th>150</th>\n",
       "      <td>2011-10-16 12:00:00</td>\n",
       "      <td>8.6</td>\n",
       "      <td>NaN</td>\n",
       "      <td>8.0</td>\n",
       "      <td>NaN</td>\n",
       "      <td>74.0</td>\n",
       "      <td>1012475.csv</td>\n",
       "    </tr>\n",
       "    <tr>\n",
       "      <th>151</th>\n",
       "      <td>2011-10-16 13:00:00</td>\n",
       "      <td>9.7</td>\n",
       "      <td>NaN</td>\n",
       "      <td>7.7</td>\n",
       "      <td>NaN</td>\n",
       "      <td>75.0</td>\n",
       "      <td>1012475.csv</td>\n",
       "    </tr>\n",
       "    <tr>\n",
       "      <th>152</th>\n",
       "      <td>2011-10-16 14:00:00</td>\n",
       "      <td>8.6</td>\n",
       "      <td>NaN</td>\n",
       "      <td>7.4</td>\n",
       "      <td>NaN</td>\n",
       "      <td>78.0</td>\n",
       "      <td>1012475.csv</td>\n",
       "    </tr>\n",
       "  </tbody>\n",
       "</table>\n",
       "</div>"
      ],
      "text/plain": [
       "                     time  wind_speed   wind_speed   air_temperature  \\\n",
       "138   2011-10-16 00:00:00        16.9          NaN               9.9   \n",
       "139   2011-10-16 01:00:00        16.2          NaN               9.9   \n",
       "140   2011-10-16 02:00:00        10.4          NaN               9.7   \n",
       "141   2011-10-16 03:00:00         9.4          NaN               9.3   \n",
       "142   2011-10-16 04:00:00        13.3          NaN               9.1   \n",
       "143   2011-10-16 05:00:00        15.5          NaN               9.1   \n",
       "144   2011-10-16 06:00:00        17.3          NaN               8.8   \n",
       "145   2011-10-16 07:00:00        16.9          NaN               8.8   \n",
       "146   2011-10-16 08:00:00        16.2          NaN               8.4   \n",
       "147   2011-10-16 09:00:00         8.3          NaN               7.7   \n",
       "148   2011-10-16 10:00:00         7.6          NaN               7.1   \n",
       "149   2011-10-16 11:00:00         8.6          NaN               7.8   \n",
       "150   2011-10-16 12:00:00         8.6          NaN               8.0   \n",
       "151   2011-10-16 13:00:00         9.7          NaN               7.7   \n",
       "152   2011-10-16 14:00:00         8.6          NaN               7.4   \n",
       "\n",
       "     relative_humidity   relative_humidity     filename  \n",
       "138                NaN                78.0  1012475.csv  \n",
       "139                NaN                78.0  1012475.csv  \n",
       "140                NaN                82.0  1012475.csv  \n",
       "141                NaN                83.0  1012475.csv  \n",
       "142                NaN                83.0  1012475.csv  \n",
       "143                NaN                84.0  1012475.csv  \n",
       "144                NaN                84.0  1012475.csv  \n",
       "145                NaN                83.0  1012475.csv  \n",
       "146                NaN                81.0  1012475.csv  \n",
       "147                NaN                83.0  1012475.csv  \n",
       "148                NaN                85.0  1012475.csv  \n",
       "149                NaN                76.0  1012475.csv  \n",
       "150                NaN                74.0  1012475.csv  \n",
       "151                NaN                75.0  1012475.csv  \n",
       "152                NaN                78.0  1012475.csv  "
      ]
     },
     "execution_count": 29,
     "metadata": {},
     "output_type": "execute_result"
    }
   ],
   "source": [
    "EC_raw_data_wind_clean.head(15)"
   ]
  },
  {
   "cell_type": "code",
   "execution_count": 30,
   "metadata": {},
   "outputs": [
    {
     "name": "stderr",
     "output_type": "stream",
     "text": [
      "C:\\Users\\maddy\\AppData\\Local\\Temp\\ipykernel_16388\\4294849445.py:2: SettingWithCopyWarning: \n",
      "A value is trying to be set on a copy of a slice from a DataFrame.\n",
      "Try using .loc[row_indexer,col_indexer] = value instead\n",
      "\n",
      "See the caveats in the documentation: https://pandas.pydata.org/pandas-docs/stable/user_guide/indexing.html#returning-a-view-versus-a-copy\n",
      "  EC_raw_data_wind_clean.loc[:,('wind_speed', ' wind_speed')] = EC_raw_data_wind_clean.loc[:,('wind_speed', ' wind_speed')].div(3.6)\n"
     ]
    },
    {
     "data": {
      "text/html": [
       "<div>\n",
       "<style scoped>\n",
       "    .dataframe tbody tr th:only-of-type {\n",
       "        vertical-align: middle;\n",
       "    }\n",
       "\n",
       "    .dataframe tbody tr th {\n",
       "        vertical-align: top;\n",
       "    }\n",
       "\n",
       "    .dataframe thead th {\n",
       "        text-align: right;\n",
       "    }\n",
       "</style>\n",
       "<table border=\"1\" class=\"dataframe\">\n",
       "  <thead>\n",
       "    <tr style=\"text-align: right;\">\n",
       "      <th></th>\n",
       "      <th>time</th>\n",
       "      <th>wind_speed</th>\n",
       "      <th>wind_speed</th>\n",
       "      <th>air_temperature</th>\n",
       "      <th>relative_humidity</th>\n",
       "      <th>relative_humidity</th>\n",
       "      <th>filename</th>\n",
       "    </tr>\n",
       "  </thead>\n",
       "  <tbody>\n",
       "    <tr>\n",
       "      <th>138</th>\n",
       "      <td>2011-10-16 00:00:00</td>\n",
       "      <td>4.694444</td>\n",
       "      <td>NaN</td>\n",
       "      <td>9.9</td>\n",
       "      <td>NaN</td>\n",
       "      <td>78.0</td>\n",
       "      <td>1012475.csv</td>\n",
       "    </tr>\n",
       "    <tr>\n",
       "      <th>139</th>\n",
       "      <td>2011-10-16 01:00:00</td>\n",
       "      <td>4.500000</td>\n",
       "      <td>NaN</td>\n",
       "      <td>9.9</td>\n",
       "      <td>NaN</td>\n",
       "      <td>78.0</td>\n",
       "      <td>1012475.csv</td>\n",
       "    </tr>\n",
       "    <tr>\n",
       "      <th>140</th>\n",
       "      <td>2011-10-16 02:00:00</td>\n",
       "      <td>2.888889</td>\n",
       "      <td>NaN</td>\n",
       "      <td>9.7</td>\n",
       "      <td>NaN</td>\n",
       "      <td>82.0</td>\n",
       "      <td>1012475.csv</td>\n",
       "    </tr>\n",
       "    <tr>\n",
       "      <th>141</th>\n",
       "      <td>2011-10-16 03:00:00</td>\n",
       "      <td>2.611111</td>\n",
       "      <td>NaN</td>\n",
       "      <td>9.3</td>\n",
       "      <td>NaN</td>\n",
       "      <td>83.0</td>\n",
       "      <td>1012475.csv</td>\n",
       "    </tr>\n",
       "    <tr>\n",
       "      <th>142</th>\n",
       "      <td>2011-10-16 04:00:00</td>\n",
       "      <td>3.694444</td>\n",
       "      <td>NaN</td>\n",
       "      <td>9.1</td>\n",
       "      <td>NaN</td>\n",
       "      <td>83.0</td>\n",
       "      <td>1012475.csv</td>\n",
       "    </tr>\n",
       "    <tr>\n",
       "      <th>143</th>\n",
       "      <td>2011-10-16 05:00:00</td>\n",
       "      <td>4.305556</td>\n",
       "      <td>NaN</td>\n",
       "      <td>9.1</td>\n",
       "      <td>NaN</td>\n",
       "      <td>84.0</td>\n",
       "      <td>1012475.csv</td>\n",
       "    </tr>\n",
       "    <tr>\n",
       "      <th>144</th>\n",
       "      <td>2011-10-16 06:00:00</td>\n",
       "      <td>4.805556</td>\n",
       "      <td>NaN</td>\n",
       "      <td>8.8</td>\n",
       "      <td>NaN</td>\n",
       "      <td>84.0</td>\n",
       "      <td>1012475.csv</td>\n",
       "    </tr>\n",
       "    <tr>\n",
       "      <th>145</th>\n",
       "      <td>2011-10-16 07:00:00</td>\n",
       "      <td>4.694444</td>\n",
       "      <td>NaN</td>\n",
       "      <td>8.8</td>\n",
       "      <td>NaN</td>\n",
       "      <td>83.0</td>\n",
       "      <td>1012475.csv</td>\n",
       "    </tr>\n",
       "    <tr>\n",
       "      <th>146</th>\n",
       "      <td>2011-10-16 08:00:00</td>\n",
       "      <td>4.500000</td>\n",
       "      <td>NaN</td>\n",
       "      <td>8.4</td>\n",
       "      <td>NaN</td>\n",
       "      <td>81.0</td>\n",
       "      <td>1012475.csv</td>\n",
       "    </tr>\n",
       "    <tr>\n",
       "      <th>147</th>\n",
       "      <td>2011-10-16 09:00:00</td>\n",
       "      <td>2.305556</td>\n",
       "      <td>NaN</td>\n",
       "      <td>7.7</td>\n",
       "      <td>NaN</td>\n",
       "      <td>83.0</td>\n",
       "      <td>1012475.csv</td>\n",
       "    </tr>\n",
       "    <tr>\n",
       "      <th>148</th>\n",
       "      <td>2011-10-16 10:00:00</td>\n",
       "      <td>2.111111</td>\n",
       "      <td>NaN</td>\n",
       "      <td>7.1</td>\n",
       "      <td>NaN</td>\n",
       "      <td>85.0</td>\n",
       "      <td>1012475.csv</td>\n",
       "    </tr>\n",
       "    <tr>\n",
       "      <th>149</th>\n",
       "      <td>2011-10-16 11:00:00</td>\n",
       "      <td>2.388889</td>\n",
       "      <td>NaN</td>\n",
       "      <td>7.8</td>\n",
       "      <td>NaN</td>\n",
       "      <td>76.0</td>\n",
       "      <td>1012475.csv</td>\n",
       "    </tr>\n",
       "    <tr>\n",
       "      <th>150</th>\n",
       "      <td>2011-10-16 12:00:00</td>\n",
       "      <td>2.388889</td>\n",
       "      <td>NaN</td>\n",
       "      <td>8.0</td>\n",
       "      <td>NaN</td>\n",
       "      <td>74.0</td>\n",
       "      <td>1012475.csv</td>\n",
       "    </tr>\n",
       "    <tr>\n",
       "      <th>151</th>\n",
       "      <td>2011-10-16 13:00:00</td>\n",
       "      <td>2.694444</td>\n",
       "      <td>NaN</td>\n",
       "      <td>7.7</td>\n",
       "      <td>NaN</td>\n",
       "      <td>75.0</td>\n",
       "      <td>1012475.csv</td>\n",
       "    </tr>\n",
       "    <tr>\n",
       "      <th>152</th>\n",
       "      <td>2011-10-16 14:00:00</td>\n",
       "      <td>2.388889</td>\n",
       "      <td>NaN</td>\n",
       "      <td>7.4</td>\n",
       "      <td>NaN</td>\n",
       "      <td>78.0</td>\n",
       "      <td>1012475.csv</td>\n",
       "    </tr>\n",
       "  </tbody>\n",
       "</table>\n",
       "</div>"
      ],
      "text/plain": [
       "                     time  wind_speed   wind_speed   air_temperature  \\\n",
       "138   2011-10-16 00:00:00    4.694444          NaN               9.9   \n",
       "139   2011-10-16 01:00:00    4.500000          NaN               9.9   \n",
       "140   2011-10-16 02:00:00    2.888889          NaN               9.7   \n",
       "141   2011-10-16 03:00:00    2.611111          NaN               9.3   \n",
       "142   2011-10-16 04:00:00    3.694444          NaN               9.1   \n",
       "143   2011-10-16 05:00:00    4.305556          NaN               9.1   \n",
       "144   2011-10-16 06:00:00    4.805556          NaN               8.8   \n",
       "145   2011-10-16 07:00:00    4.694444          NaN               8.8   \n",
       "146   2011-10-16 08:00:00    4.500000          NaN               8.4   \n",
       "147   2011-10-16 09:00:00    2.305556          NaN               7.7   \n",
       "148   2011-10-16 10:00:00    2.111111          NaN               7.1   \n",
       "149   2011-10-16 11:00:00    2.388889          NaN               7.8   \n",
       "150   2011-10-16 12:00:00    2.388889          NaN               8.0   \n",
       "151   2011-10-16 13:00:00    2.694444          NaN               7.7   \n",
       "152   2011-10-16 14:00:00    2.388889          NaN               7.4   \n",
       "\n",
       "     relative_humidity   relative_humidity     filename  \n",
       "138                NaN                78.0  1012475.csv  \n",
       "139                NaN                78.0  1012475.csv  \n",
       "140                NaN                82.0  1012475.csv  \n",
       "141                NaN                83.0  1012475.csv  \n",
       "142                NaN                83.0  1012475.csv  \n",
       "143                NaN                84.0  1012475.csv  \n",
       "144                NaN                84.0  1012475.csv  \n",
       "145                NaN                83.0  1012475.csv  \n",
       "146                NaN                81.0  1012475.csv  \n",
       "147                NaN                83.0  1012475.csv  \n",
       "148                NaN                85.0  1012475.csv  \n",
       "149                NaN                76.0  1012475.csv  \n",
       "150                NaN                74.0  1012475.csv  \n",
       "151                NaN                75.0  1012475.csv  \n",
       "152                NaN                78.0  1012475.csv  "
      ]
     },
     "execution_count": 30,
     "metadata": {},
     "output_type": "execute_result"
    }
   ],
   "source": [
    "# convert windspeed values from km/h to m/s by dividing values by 3.6\n",
    "EC_raw_data_wind_clean.loc[:,('wind_speed', ' wind_speed')] = EC_raw_data_wind_clean.loc[:,('wind_speed', ' wind_speed')].div(3.6)\n",
    "EC_raw_data_wind_clean.head(15)"
   ]
  },
  {
   "cell_type": "code",
   "execution_count": 31,
   "metadata": {},
   "outputs": [],
   "source": [
    "# save to csv\n",
    "EC_raw_data_wind_clean.to_csv(f'{path_2}/EC_raw_data_wind_clean.csv')"
   ]
  }
 ],
 "metadata": {
  "kernelspec": {
   "display_name": "lhl_env",
   "language": "python",
   "name": "python3"
  },
  "language_info": {
   "codemirror_mode": {
    "name": "ipython",
    "version": 3
   },
   "file_extension": ".py",
   "mimetype": "text/x-python",
   "name": "python",
   "nbconvert_exporter": "python",
   "pygments_lexer": "ipython3",
   "version": "3.11.4"
  },
  "orig_nbformat": 4
 },
 "nbformat": 4,
 "nbformat_minor": 2
}
