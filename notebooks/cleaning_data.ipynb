{
 "cells": [
  {
   "cell_type": "markdown",
   "metadata": {},
   "source": [
    "### Initializing"
   ]
  },
  {
   "cell_type": "code",
   "execution_count": 1,
   "metadata": {},
   "outputs": [],
   "source": [
    "import pandas as pd\n",
    "import os \n",
    "import functions"
   ]
  },
  {
   "cell_type": "code",
   "execution_count": 2,
   "metadata": {},
   "outputs": [
    {
     "name": "stdout",
     "output_type": "stream",
     "text": [
      "hello\n"
     ]
    }
   ],
   "source": [
    "# test for proper access to functions module\n",
    "functions.temp()"
   ]
  },
  {
   "cell_type": "code",
   "execution_count": 3,
   "metadata": {},
   "outputs": [],
   "source": [
    "# define path variable for data folder containing concatenated .csv files\n",
    "path = '../data'"
   ]
  },
  {
   "cell_type": "markdown",
   "metadata": {},
   "source": [
    "### Data cleaning\n",
    "Objectives:\n",
    "- remove irrelevant/null columns\n",
    "- keep columns variables associated with wind power generation\n",
    "    - wind speed\n",
    "    - air density\n",
    "        - air pressure\n",
    "        - air temperature\n",
    "        - relative humidity\n",
    "- keep column variables associated with solar power generation\n",
    "    - solar radiation\n",
    "    - cloud cover fraction?\n",
    "    - sunlight duration?\n",
    "- standardize column data with common variables (units, format)"
   ]
  },
  {
   "cell_type": "code",
   "execution_count": 7,
   "metadata": {},
   "outputs": [
    {
     "name": "stderr",
     "output_type": "stream",
     "text": [
      "C:\\Users\\maddy\\AppData\\Local\\Temp\\ipykernel_14868\\1679873718.py:1: DtypeWarning: Columns (30) have mixed types. Specify dtype option on import or set low_memory=False.\n",
      "  BCH_data = pd.read_csv(f'{path}/BCH_data.csv', index_col=0)\n"
     ]
    }
   ],
   "source": [
    "BCH_data = pd.read_csv(f'{path}/BCH_data.csv', index_col=0)"
   ]
  },
  {
   "cell_type": "code",
   "execution_count": 8,
   "metadata": {},
   "outputs": [
    {
     "data": {
      "text/plain": [
       "['WindSpeed',\n",
       " ' time',\n",
       " ' WindDirection',\n",
       " 'filename',\n",
       " 'L_down_corr_Avg',\n",
       " ' HFT3_1_Avg',\n",
       " ' L_up_Avg',\n",
       " ' WindSpeed',\n",
       " ' ONE_DAY_SNOW',\n",
       " ' K_up_Avg',\n",
       " ' L_up_corr_Avg',\n",
       " ' AirTemp',\n",
       " ' L_down_Avg',\n",
       " ' HFT3_2_Avg',\n",
       " ' K_down_Avg',\n",
       " ' BarometricPressure',\n",
       " ' SoilVolumetricWaterContent',\n",
       " ' RelativeHumidity',\n",
       " ' TSoil_Avg',\n",
       " ' Vis',\n",
       " ' ONE_DAY_RAIN',\n",
       " 'AirTemp',\n",
       " ' ONE_DAY_PRECIPITATION',\n",
       " ' MIN_TEMP',\n",
       " ' MAX_TEMP',\n",
       " ' Snow_WE',\n",
       " ' SNOW_ON_THE_GROUND',\n",
       " 'HFT3_1_Avg',\n",
       " ' NetRad',\n",
       " 'time']"
      ]
     },
     "execution_count": 8,
     "metadata": {},
     "output_type": "execute_result"
    }
   ],
   "source": [
    "list(BCH_data.columns)"
   ]
  },
  {
   "cell_type": "code",
   "execution_count": null,
   "metadata": {},
   "outputs": [],
   "source": []
  }
 ],
 "metadata": {
  "kernelspec": {
   "display_name": "lhl_env",
   "language": "python",
   "name": "python3"
  },
  "language_info": {
   "codemirror_mode": {
    "name": "ipython",
    "version": 3
   },
   "file_extension": ".py",
   "mimetype": "text/x-python",
   "name": "python",
   "nbconvert_exporter": "python",
   "pygments_lexer": "ipython3",
   "version": "3.11.4"
  },
  "orig_nbformat": 4
 },
 "nbformat": 4,
 "nbformat_minor": 2
}
