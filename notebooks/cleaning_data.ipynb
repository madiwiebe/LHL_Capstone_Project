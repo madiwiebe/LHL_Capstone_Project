{
 "cells": [
  {
   "cell_type": "markdown",
   "metadata": {},
   "source": [
    "### Initializing"
   ]
  },
  {
   "cell_type": "code",
   "execution_count": 1,
   "metadata": {},
   "outputs": [],
   "source": [
    "import pandas as pd\n",
    "import os \n",
    "import functions"
   ]
  },
  {
   "cell_type": "code",
   "execution_count": 2,
   "metadata": {},
   "outputs": [
    {
     "name": "stdout",
     "output_type": "stream",
     "text": [
      "hello\n"
     ]
    }
   ],
   "source": [
    "# test for proper access to functions module\n",
    "functions.temp()"
   ]
  },
  {
   "cell_type": "code",
   "execution_count": 8,
   "metadata": {},
   "outputs": [],
   "source": [
    "# define path variable for data folder containing concatenated .csv files\n",
    "path_2 = '../data'"
   ]
  },
  {
   "cell_type": "markdown",
   "metadata": {},
   "source": [
    "### Data cleaning\n",
    "Objectives:\n",
    "- remove irrelevant/null columns\n",
    "- keep columns variables associated with wind power generation\n",
    "    - wind speed\n",
    "    - air density\n",
    "        - air pressure\n",
    "        - air temperature\n",
    "        - relative humidity\n",
    "- keep column variables associated with solar power generation\n",
    "    - solar radiation\n",
    "    - cloud cover fraction?\n",
    "    - sunlight duration?\n",
    "- standardize column data with common variables (units, format)"
   ]
  },
  {
   "cell_type": "markdown",
   "metadata": {},
   "source": [
    "#### BCH Data Cleaning"
   ]
  },
  {
   "cell_type": "code",
   "execution_count": 4,
   "metadata": {},
   "outputs": [
    {
     "name": "stderr",
     "output_type": "stream",
     "text": [
      "d:\\School\\LHL\\capstone_project_data\\LHL_Capstone_Project\\notebooks\\functions.py:106: DtypeWarning: Columns (30) have mixed types. Specify dtype option on import or set low_memory=False.\n",
      "  df_name = pd.read_csv(f'{path_2}/{data_name}.csv', index_col=0)\n"
     ]
    },
    {
     "data": {
      "text/plain": [
       "['WindSpeed',\n",
       " ' time',\n",
       " ' WindDirection',\n",
       " 'filename',\n",
       " 'L_down_corr_Avg',\n",
       " ' HFT3_1_Avg',\n",
       " ' L_up_Avg',\n",
       " ' WindSpeed',\n",
       " ' ONE_DAY_SNOW',\n",
       " ' K_up_Avg',\n",
       " ' L_up_corr_Avg',\n",
       " ' AirTemp',\n",
       " ' L_down_Avg',\n",
       " ' HFT3_2_Avg',\n",
       " ' K_down_Avg',\n",
       " ' BarometricPressure',\n",
       " ' SoilVolumetricWaterContent',\n",
       " ' RelativeHumidity',\n",
       " ' TSoil_Avg',\n",
       " ' Vis',\n",
       " ' ONE_DAY_RAIN',\n",
       " 'AirTemp',\n",
       " ' ONE_DAY_PRECIPITATION',\n",
       " ' MIN_TEMP',\n",
       " ' MAX_TEMP',\n",
       " ' Snow_WE',\n",
       " ' SNOW_ON_THE_GROUND',\n",
       " 'HFT3_1_Avg',\n",
       " ' NetRad',\n",
       " 'time']"
      ]
     },
     "execution_count": 4,
     "metadata": {},
     "output_type": "execute_result"
    }
   ],
   "source": [
    "functions.list_columns('BCH_data.csv')"
   ]
  },
  {
   "cell_type": "code",
   "execution_count": 28,
   "metadata": {},
   "outputs": [],
   "source": [
    "# only include variables of interest\n",
    "BCH_data_wind = BCH_data.loc[:,('time', ' time', 'WindSpeed', ' BarometricPressure', 'AirTemp', ' RelativeHumidity', 'filename')]\n",
    "BCH_data_solar = BCH_data.loc[:,('time', ' time', ' NetRad', 'filename')]"
   ]
  },
  {
   "cell_type": "markdown",
   "metadata": {},
   "source": [
    "##### BCH Wind Data Cleaning"
   ]
  },
  {
   "cell_type": "code",
   "execution_count": 16,
   "metadata": {},
   "outputs": [
    {
     "data": {
      "text/plain": [
       "time                   6813622\n",
       " time                   203217\n",
       "WindSpeed              6988625\n",
       " BarometricPressure    6833815\n",
       "AirTemp                1496022\n",
       " RelativeHumidity      6827106\n",
       "filename                     0\n",
       "dtype: int64"
      ]
     },
     "execution_count": 16,
     "metadata": {},
     "output_type": "execute_result"
    }
   ],
   "source": [
    "# count null values in wind data\n",
    "BCH_data_wind.isna().sum()"
   ]
  },
  {
   "cell_type": "code",
   "execution_count": 29,
   "metadata": {},
   "outputs": [
    {
     "data": {
      "text/plain": [
       "time                   28214\n",
       " time                      0\n",
       "WindSpeed                  0\n",
       " BarometricPressure    28214\n",
       "AirTemp                28214\n",
       " RelativeHumidity      28214\n",
       "filename                   0\n",
       "dtype: int64"
      ]
     },
     "execution_count": 29,
     "metadata": {},
     "output_type": "execute_result"
    }
   ],
   "source": [
    "# drop rows in wind data that do not have a WindSpeed value\n",
    "# WindSpeed is a key variable that is important to location-specific results\n",
    "BCH_data_wind_clean = BCH_data_wind.dropna(subset=['WindSpeed'])\n",
    "BCH_data_wind_clean.isna().sum()"
   ]
  },
  {
   "cell_type": "code",
   "execution_count": 36,
   "metadata": {},
   "outputs": [
    {
     "data": {
      "text/plain": [
       "(28214, 7)"
      ]
     },
     "execution_count": 36,
     "metadata": {},
     "output_type": "execute_result"
    }
   ],
   "source": [
    "# check whether number of remaining nulls are the same as the number of rows\n",
    "BCH_data_wind_clean.shape"
   ]
  },
  {
   "cell_type": "code",
   "execution_count": 35,
   "metadata": {},
   "outputs": [
    {
     "data": {
      "text/plain": [
       "Int64Index([], dtype='int64')"
      ]
     },
     "execution_count": 35,
     "metadata": {},
     "output_type": "execute_result"
    }
   ],
   "source": [
    "# check for duplicates\n",
    "duplicate_rows = BCH_data_wind_clean.duplicated()\n",
    "duplicate_rows[duplicate_rows].index"
   ]
  },
  {
   "cell_type": "code",
   "execution_count": 38,
   "metadata": {},
   "outputs": [],
   "source": [
    "# save to csv\n",
    "BCH_data_wind_clean.to_csv('../data/BCH_data_wind_clean.csv')"
   ]
  },
  {
   "cell_type": "markdown",
   "metadata": {},
   "source": [
    "Plan for handling remaining nulls:\n",
    "- use values from next nearest weather station\n",
    "- use averages from data as a whole if necessary"
   ]
  },
  {
   "cell_type": "markdown",
   "metadata": {},
   "source": [
    "##### BCH Solar Data Cleaning"
   ]
  },
  {
   "cell_type": "code",
   "execution_count": 17,
   "metadata": {},
   "outputs": [
    {
     "data": {
      "text/plain": [
       "time        6813622\n",
       " time        203217\n",
       " NetRad     6928912\n",
       "filename          0\n",
       "dtype: int64"
      ]
     },
     "execution_count": 17,
     "metadata": {},
     "output_type": "execute_result"
    }
   ],
   "source": [
    "# count null values in solar data\n",
    "BCH_data_solar.isna().sum()"
   ]
  },
  {
   "cell_type": "code",
   "execution_count": 18,
   "metadata": {},
   "outputs": [
    {
     "data": {
      "text/plain": [
       "time        87927\n",
       " time           0\n",
       " NetRad         0\n",
       "filename        0\n",
       "dtype: int64"
      ]
     },
     "execution_count": 18,
     "metadata": {},
     "output_type": "execute_result"
    }
   ],
   "source": [
    "# drop rows in solar data that do not have a NetRad value\n",
    "BCH_data_solar_clean = BCH_data_solar.dropna(subset=[' NetRad'])\n",
    "BCH_data_solar_clean.isna().sum()"
   ]
  },
  {
   "cell_type": "code",
   "execution_count": 24,
   "metadata": {},
   "outputs": [
    {
     "data": {
      "text/plain": [
       "(87927, 4)"
      ]
     },
     "execution_count": 24,
     "metadata": {},
     "output_type": "execute_result"
    }
   ],
   "source": [
    "# check whether number of null 'time' values is the same as number of rows\n",
    "BCH_data_solar_clean.shape"
   ]
  },
  {
   "cell_type": "code",
   "execution_count": 39,
   "metadata": {},
   "outputs": [
    {
     "data": {
      "text/plain": [
       "Int64Index([], dtype='int64')"
      ]
     },
     "execution_count": 39,
     "metadata": {},
     "output_type": "execute_result"
    }
   ],
   "source": [
    "# check for duplicates\n",
    "duplicate_rows = BCH_data_solar_clean.duplicated()\n",
    "duplicate_rows[duplicate_rows].index"
   ]
  },
  {
   "cell_type": "code",
   "execution_count": 25,
   "metadata": {},
   "outputs": [
    {
     "data": {
      "text/plain": [
       "(87927, 3)"
      ]
     },
     "execution_count": 25,
     "metadata": {},
     "output_type": "execute_result"
    }
   ],
   "source": [
    "# drop 'time'\n",
    "BCH_data_solar_clean.drop(columns=['time'], inplace=True)\n",
    "BCH_data_solar_clean.shape"
   ]
  },
  {
   "cell_type": "code",
   "execution_count": 26,
   "metadata": {},
   "outputs": [],
   "source": [
    "# save BCH solar data to csv\n",
    "BCH_data_solar_clean.to_csv('../data/BCH_data_solar_clean.csv')"
   ]
  },
  {
   "cell_type": "markdown",
   "metadata": {},
   "source": [
    "#### CRD Data Cleaning"
   ]
  },
  {
   "cell_type": "code",
   "execution_count": 3,
   "metadata": {},
   "outputs": [],
   "source": [
    "CRD_data = functions.to_df('CRD_data.csv')"
   ]
  },
  {
   "cell_type": "code",
   "execution_count": 4,
   "metadata": {},
   "outputs": [],
   "source": [
    "column_names, column_nulls, duplicate_row_index = functions.start_cleaning(CRD_data)\n"
   ]
  },
  {
   "cell_type": "code",
   "execution_count": 5,
   "metadata": {},
   "outputs": [
    {
     "name": "stdout",
     "output_type": "stream",
     "text": [
      "column names: 0           SolarRadiation\n",
      "1           AirTemperature\n",
      "2            Precipitation\n",
      "3                     Rain\n",
      "4                WindSpeed\n",
      "5                SnowDepth\n",
      "6                     time\n",
      "7            WindDirection\n",
      "8         RelativeHumidity\n",
      "9                 filename\n",
      "10          AirTemperature\n",
      "11     SnowWaterEquivalent\n",
      "12        RelativeHumidity\n",
      "dtype: object\n",
      "column nulls: SolarRadiation          4090779\n",
      " AirTemperature         2812394\n",
      " Precipitation          3328235\n",
      " Rain                    438757\n",
      " WindSpeed               655130\n",
      " SnowDepth              3711426\n",
      " time                         0\n",
      " WindDirection           658523\n",
      " RelativeHumidity        652576\n",
      "filename                      0\n",
      "AirTemperature          1468700\n",
      " SnowWaterEquivalent    4078683\n",
      "RelativeHumidity        4039005\n",
      "dtype: int64\n",
      "duplicate rows: Int64Index([], dtype='int64')\n"
     ]
    }
   ],
   "source": [
    "print(f'column names: {column_names}')\n",
    "print(f'column nulls: {column_nulls}')\n",
    "print(f'duplicate rows: {duplicate_row_index}')"
   ]
  },
  {
   "cell_type": "code",
   "execution_count": 6,
   "metadata": {},
   "outputs": [],
   "source": [
    "# only keep variables of interest\n",
    "CRD_data_solar = CRD_data.loc[:,(' time', 'SolarRadiation', 'filename')]\n",
    "CRD_data_wind = CRD_data.loc[:,(' time', ' WindSpeed', 'AirTemperature', ' AirTemperature', 'RelativeHumidity', ' RelativeHumidity', 'filename')] \n",
    "    # note that no air pressure value is available"
   ]
  },
  {
   "cell_type": "code",
   "execution_count": 7,
   "metadata": {},
   "outputs": [
    {
     "data": {
      "text/plain": [
       " time             0\n",
       "SolarRadiation    0\n",
       "filename          0\n",
       "dtype: int64"
      ]
     },
     "execution_count": 7,
     "metadata": {},
     "output_type": "execute_result"
    }
   ],
   "source": [
    "# drop rows in solar data that do not have SolarRadiation values\n",
    "CRD_data_solar_clean = CRD_data_solar.dropna(subset=['SolarRadiation'])\n",
    "CRD_data_solar_clean.isna().sum()"
   ]
  },
  {
   "cell_type": "code",
   "execution_count": 9,
   "metadata": {},
   "outputs": [],
   "source": [
    "CRD_data_solar_clean.to_csv(f'{path_2}/CRD_data_solar_clean.csv')"
   ]
  },
  {
   "cell_type": "code",
   "execution_count": 10,
   "metadata": {},
   "outputs": [
    {
     "data": {
      "text/plain": [
       " time                      0\n",
       " WindSpeed            655130\n",
       "AirTemperature       1468700\n",
       " AirTemperature      2812394\n",
       "RelativeHumidity     4039005\n",
       " RelativeHumidity     652576\n",
       "filename                   0\n",
       "dtype: int64"
      ]
     },
     "execution_count": 10,
     "metadata": {},
     "output_type": "execute_result"
    }
   ],
   "source": [
    "# count null values in wind data\n",
    "CRD_data_wind.isna().sum()"
   ]
  },
  {
   "cell_type": "code",
   "execution_count": 12,
   "metadata": {},
   "outputs": [
    {
     "data": {
      "text/plain": [
       " time                      0\n",
       " WindSpeed                 0\n",
       "AirTemperature        817039\n",
       " AirTemperature      2808351\n",
       "RelativeHumidity     3445441\n",
       " RelativeHumidity       1181\n",
       "filename                   0\n",
       "dtype: int64"
      ]
     },
     "execution_count": 12,
     "metadata": {},
     "output_type": "execute_result"
    }
   ],
   "source": [
    "# drop rows in wind data that do not have WindSpeed values\n",
    "CRD_data_wind_clean = CRD_data_wind.dropna(subset=[' WindSpeed'])\n",
    "CRD_data_wind_clean.isna().sum()"
   ]
  },
  {
   "cell_type": "code",
   "execution_count": 13,
   "metadata": {},
   "outputs": [],
   "source": [
    "# save to csv\n",
    "CRD_data_wind_clean.to_csv(f'{path_2}/CRD_data_wind_clean.csv')"
   ]
  }
 ],
 "metadata": {
  "kernelspec": {
   "display_name": "lhl_env",
   "language": "python",
   "name": "python3"
  },
  "language_info": {
   "codemirror_mode": {
    "name": "ipython",
    "version": 3
   },
   "file_extension": ".py",
   "mimetype": "text/x-python",
   "name": "python",
   "nbconvert_exporter": "python",
   "pygments_lexer": "ipython3",
   "version": "3.11.4"
  },
  "orig_nbformat": 4
 },
 "nbformat": 4,
 "nbformat_minor": 2
}
