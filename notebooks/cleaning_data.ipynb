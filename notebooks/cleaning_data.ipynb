{
 "cells": [
  {
   "cell_type": "markdown",
   "metadata": {},
   "source": [
    "### Initializing"
   ]
  },
  {
   "cell_type": "code",
   "execution_count": 2,
   "metadata": {},
   "outputs": [],
   "source": [
    "import pandas as pd\n",
    "import os \n",
    "import functions"
   ]
  },
  {
   "cell_type": "code",
   "execution_count": 3,
   "metadata": {},
   "outputs": [
    {
     "name": "stdout",
     "output_type": "stream",
     "text": [
      "hello\n"
     ]
    }
   ],
   "source": [
    "# test for proper access to functions module\n",
    "functions.temp()"
   ]
  },
  {
   "cell_type": "code",
   "execution_count": 4,
   "metadata": {},
   "outputs": [],
   "source": [
    "# define path variable for data folder containing concatenated .csv files\n",
    "path_2 = '../data'"
   ]
  },
  {
   "cell_type": "markdown",
   "metadata": {},
   "source": [
    "### Data cleaning\n",
    "Objectives:\n",
    "- remove irrelevant/null columns\n",
    "- keep columns variables associated with wind power generation\n",
    "    - wind speed\n",
    "    - air density\n",
    "        - air pressure\n",
    "        - air temperature\n",
    "        - relative humidity\n",
    "- keep column variables associated with solar power generation\n",
    "    - solar radiation\n",
    "    - cloud cover fraction?\n",
    "    - sunlight duration?\n",
    "- standardize column data with common variables (units, format)"
   ]
  },
  {
   "cell_type": "markdown",
   "metadata": {},
   "source": [
    "#### BCH Data Cleaning"
   ]
  },
  {
   "cell_type": "code",
   "execution_count": 6,
   "metadata": {},
   "outputs": [
    {
     "data": {
      "text/plain": [
       "['windspeed',\n",
       " 'time',\n",
       " 'winddirection',\n",
       " 'station_id',\n",
       " 'network_id',\n",
       " 'l_down_corr_avg',\n",
       " 'hft3_1_avg',\n",
       " 'l_up_avg',\n",
       " 'one_day_snow',\n",
       " 'k_up_avg',\n",
       " 'l_up_corr_avg',\n",
       " 'airtemp',\n",
       " 'l_down_avg',\n",
       " 'hft3_2_avg',\n",
       " 'k_down_avg',\n",
       " 'barometricpressure',\n",
       " 'soilvolumetricwatercontent',\n",
       " 'relativehumidity',\n",
       " 'tsoil_avg',\n",
       " 'vis',\n",
       " 'one_day_rain',\n",
       " 'one_day_precipitation',\n",
       " 'min_temp',\n",
       " 'max_temp',\n",
       " 'snow_we',\n",
       " 'snow_on_the_ground',\n",
       " 'netrad']"
      ]
     },
     "execution_count": 6,
     "metadata": {},
     "output_type": "execute_result"
    }
   ],
   "source": [
    "BCH_data_clean = functions.to_df('BCH_data_clean.csv')\n",
    "functions.list_columns(BCH_data_clean)"
   ]
  },
  {
   "cell_type": "code",
   "execution_count": 8,
   "metadata": {},
   "outputs": [],
   "source": [
    "# only include variables of interest\n",
    "BCH_data_wind = BCH_data_clean.loc[:,('time', 'windspeed', 'barometricpressure', 'airtemp', 'relativehumidity', 'station_id', 'network_id')]\n",
    "BCH_data_solar = BCH_data_clean.loc[:,('time', 'netrad', 'station_id', 'network_id')]"
   ]
  },
  {
   "cell_type": "markdown",
   "metadata": {},
   "source": [
    "##### BCH Wind Data Cleaning"
   ]
  },
  {
   "cell_type": "code",
   "execution_count": 9,
   "metadata": {},
   "outputs": [
    {
     "data": {
      "text/plain": [
       "time                        0\n",
       "windspeed             6797851\n",
       "barometricpressure    6833815\n",
       "airtemp               1306287\n",
       "relativehumidity      6827106\n",
       "station_id                  0\n",
       "network_id                  0\n",
       "dtype: int64"
      ]
     },
     "execution_count": 9,
     "metadata": {},
     "output_type": "execute_result"
    }
   ],
   "source": [
    "# count null values in wind data\n",
    "BCH_data_wind.isna().sum()"
   ]
  },
  {
   "cell_type": "code",
   "execution_count": 10,
   "metadata": {},
   "outputs": [
    {
     "data": {
      "text/plain": [
       "time                      0\n",
       "windspeed                 0\n",
       "barometricpressure    36272\n",
       "airtemp               29564\n",
       "relativehumidity      29567\n",
       "station_id                0\n",
       "network_id                0\n",
       "dtype: int64"
      ]
     },
     "execution_count": 10,
     "metadata": {},
     "output_type": "execute_result"
    }
   ],
   "source": [
    "# drop rows in wind data that do not have a wind speed value\n",
    "# wind speed is a key variable that is critical for location-specific energy calculations\n",
    "BCH_data_wind_clean = BCH_data_wind.dropna(subset=['windspeed'])\n",
    "BCH_data_wind_clean.isna().sum()"
   ]
  },
  {
   "cell_type": "code",
   "execution_count": 11,
   "metadata": {},
   "outputs": [
    {
     "data": {
      "text/plain": [
       "(218988, 7)"
      ]
     },
     "execution_count": 11,
     "metadata": {},
     "output_type": "execute_result"
    }
   ],
   "source": [
    "# check whether number of remaining nulls are the same as the number of rows\n",
    "BCH_data_wind_clean.shape"
   ]
  },
  {
   "cell_type": "code",
   "execution_count": 12,
   "metadata": {},
   "outputs": [
    {
     "data": {
      "text/plain": [
       "Index([], dtype='int64')"
      ]
     },
     "execution_count": 12,
     "metadata": {},
     "output_type": "execute_result"
    }
   ],
   "source": [
    "# check for duplicates\n",
    "duplicate_rows = BCH_data_wind_clean.duplicated()\n",
    "duplicate_rows[duplicate_rows].index"
   ]
  },
  {
   "cell_type": "code",
   "execution_count": 13,
   "metadata": {},
   "outputs": [
    {
     "data": {
      "text/html": [
       "<div>\n",
       "<style scoped>\n",
       "    .dataframe tbody tr th:only-of-type {\n",
       "        vertical-align: middle;\n",
       "    }\n",
       "\n",
       "    .dataframe tbody tr th {\n",
       "        vertical-align: top;\n",
       "    }\n",
       "\n",
       "    .dataframe thead th {\n",
       "        text-align: right;\n",
       "    }\n",
       "</style>\n",
       "<table border=\"1\" class=\"dataframe\">\n",
       "  <thead>\n",
       "    <tr style=\"text-align: right;\">\n",
       "      <th></th>\n",
       "      <th>time</th>\n",
       "      <th>wind_speed</th>\n",
       "      <th>air_pressure</th>\n",
       "      <th>air_temperature</th>\n",
       "      <th>relative_humidity</th>\n",
       "      <th>station_id</th>\n",
       "      <th>network_id</th>\n",
       "    </tr>\n",
       "  </thead>\n",
       "  <tbody>\n",
       "    <tr>\n",
       "      <th>0</th>\n",
       "      <td>2017-01-01 01:00:00</td>\n",
       "      <td>5.7</td>\n",
       "      <td>NaN</td>\n",
       "      <td>NaN</td>\n",
       "      <td>NaN</td>\n",
       "      <td>85A</td>\n",
       "      <td>BCH</td>\n",
       "    </tr>\n",
       "    <tr>\n",
       "      <th>1</th>\n",
       "      <td>2017-01-01 02:00:00</td>\n",
       "      <td>5.9</td>\n",
       "      <td>NaN</td>\n",
       "      <td>NaN</td>\n",
       "      <td>NaN</td>\n",
       "      <td>85A</td>\n",
       "      <td>BCH</td>\n",
       "    </tr>\n",
       "    <tr>\n",
       "      <th>2</th>\n",
       "      <td>2017-01-01 03:00:00</td>\n",
       "      <td>5.8</td>\n",
       "      <td>NaN</td>\n",
       "      <td>NaN</td>\n",
       "      <td>NaN</td>\n",
       "      <td>85A</td>\n",
       "      <td>BCH</td>\n",
       "    </tr>\n",
       "    <tr>\n",
       "      <th>3</th>\n",
       "      <td>2017-01-01 04:00:00</td>\n",
       "      <td>4.7</td>\n",
       "      <td>NaN</td>\n",
       "      <td>NaN</td>\n",
       "      <td>NaN</td>\n",
       "      <td>85A</td>\n",
       "      <td>BCH</td>\n",
       "    </tr>\n",
       "    <tr>\n",
       "      <th>4</th>\n",
       "      <td>2017-01-01 05:00:00</td>\n",
       "      <td>4.8</td>\n",
       "      <td>NaN</td>\n",
       "      <td>NaN</td>\n",
       "      <td>NaN</td>\n",
       "      <td>85A</td>\n",
       "      <td>BCH</td>\n",
       "    </tr>\n",
       "    <tr>\n",
       "      <th>...</th>\n",
       "      <td>...</td>\n",
       "      <td>...</td>\n",
       "      <td>...</td>\n",
       "      <td>...</td>\n",
       "      <td>...</td>\n",
       "      <td>...</td>\n",
       "      <td>...</td>\n",
       "    </tr>\n",
       "    <tr>\n",
       "      <th>6280365</th>\n",
       "      <td>2020-06-30 20:00:00</td>\n",
       "      <td>1.6</td>\n",
       "      <td>1011.0</td>\n",
       "      <td>14.2</td>\n",
       "      <td>82.6</td>\n",
       "      <td>TEC</td>\n",
       "      <td>BCH</td>\n",
       "    </tr>\n",
       "    <tr>\n",
       "      <th>6280366</th>\n",
       "      <td>2020-06-30 21:00:00</td>\n",
       "      <td>1.7</td>\n",
       "      <td>1011.0</td>\n",
       "      <td>14.3</td>\n",
       "      <td>86.2</td>\n",
       "      <td>TEC</td>\n",
       "      <td>BCH</td>\n",
       "    </tr>\n",
       "    <tr>\n",
       "      <th>6280367</th>\n",
       "      <td>2020-06-30 22:00:00</td>\n",
       "      <td>0.8</td>\n",
       "      <td>1011.0</td>\n",
       "      <td>13.7</td>\n",
       "      <td>88.7</td>\n",
       "      <td>TEC</td>\n",
       "      <td>BCH</td>\n",
       "    </tr>\n",
       "    <tr>\n",
       "      <th>6280368</th>\n",
       "      <td>2020-06-30 23:00:00</td>\n",
       "      <td>1.7</td>\n",
       "      <td>1011.0</td>\n",
       "      <td>13.6</td>\n",
       "      <td>89.4</td>\n",
       "      <td>TEC</td>\n",
       "      <td>BCH</td>\n",
       "    </tr>\n",
       "    <tr>\n",
       "      <th>6280369</th>\n",
       "      <td>2020-07-01 00:00:00</td>\n",
       "      <td>2.5</td>\n",
       "      <td>1010.0</td>\n",
       "      <td>13.6</td>\n",
       "      <td>85.3</td>\n",
       "      <td>TEC</td>\n",
       "      <td>BCH</td>\n",
       "    </tr>\n",
       "  </tbody>\n",
       "</table>\n",
       "<p>218988 rows × 7 columns</p>\n",
       "</div>"
      ],
      "text/plain": [
       "                         time  wind_speed  air_pressure  air_temperature  \\\n",
       "0         2017-01-01 01:00:00         5.7           NaN              NaN   \n",
       "1         2017-01-01 02:00:00         5.9           NaN              NaN   \n",
       "2         2017-01-01 03:00:00         5.8           NaN              NaN   \n",
       "3         2017-01-01 04:00:00         4.7           NaN              NaN   \n",
       "4         2017-01-01 05:00:00         4.8           NaN              NaN   \n",
       "...                       ...         ...           ...              ...   \n",
       "6280365   2020-06-30 20:00:00         1.6        1011.0             14.2   \n",
       "6280366   2020-06-30 21:00:00         1.7        1011.0             14.3   \n",
       "6280367   2020-06-30 22:00:00         0.8        1011.0             13.7   \n",
       "6280368   2020-06-30 23:00:00         1.7        1011.0             13.6   \n",
       "6280369   2020-07-01 00:00:00         2.5        1010.0             13.6   \n",
       "\n",
       "         relative_humidity station_id network_id  \n",
       "0                      NaN        85A        BCH  \n",
       "1                      NaN        85A        BCH  \n",
       "2                      NaN        85A        BCH  \n",
       "3                      NaN        85A        BCH  \n",
       "4                      NaN        85A        BCH  \n",
       "...                    ...        ...        ...  \n",
       "6280365               82.6        TEC        BCH  \n",
       "6280366               86.2        TEC        BCH  \n",
       "6280367               88.7        TEC        BCH  \n",
       "6280368               89.4        TEC        BCH  \n",
       "6280369               85.3        TEC        BCH  \n",
       "\n",
       "[218988 rows x 7 columns]"
      ]
     },
     "execution_count": 13,
     "metadata": {},
     "output_type": "execute_result"
    }
   ],
   "source": [
    "# rename columns\n",
    "BCH_wind = BCH_data_wind_clean.rename(columns={\"windspeed\": \"wind_speed\", \"barometricpressure\": \"air_pressure\", \"airtemp\": \"air_temperature\", \"relativehumidity\": \"relative_humidity\"})\n",
    "BCH_wind"
   ]
  },
  {
   "cell_type": "code",
   "execution_count": 14,
   "metadata": {},
   "outputs": [],
   "source": [
    "# save to csv\n",
    "BCH_wind.to_csv('../data/BCH_wind.csv', index=False)"
   ]
  },
  {
   "cell_type": "markdown",
   "metadata": {},
   "source": [
    "Plan for handling remaining nulls:\n",
    "- use values from next nearest weather station\n",
    "- use averages from data as a whole if necessary"
   ]
  },
  {
   "cell_type": "markdown",
   "metadata": {},
   "source": [
    "##### BCH Solar Data Cleaning"
   ]
  },
  {
   "cell_type": "code",
   "execution_count": 15,
   "metadata": {},
   "outputs": [
    {
     "data": {
      "text/plain": [
       "time                0\n",
       "netrad        6928912\n",
       "station_id          0\n",
       "network_id          0\n",
       "dtype: int64"
      ]
     },
     "execution_count": 15,
     "metadata": {},
     "output_type": "execute_result"
    }
   ],
   "source": [
    "# count null values in solar data\n",
    "BCH_data_solar.isna().sum()"
   ]
  },
  {
   "cell_type": "code",
   "execution_count": 16,
   "metadata": {},
   "outputs": [
    {
     "data": {
      "text/plain": [
       "time          0\n",
       "netrad        0\n",
       "station_id    0\n",
       "network_id    0\n",
       "dtype: int64"
      ]
     },
     "execution_count": 16,
     "metadata": {},
     "output_type": "execute_result"
    }
   ],
   "source": [
    "# drop rows in solar data that do not have a NetRad value\n",
    "BCH_data_solar_clean = BCH_data_solar.dropna(subset=['netrad'])\n",
    "BCH_data_solar_clean.isna().sum()"
   ]
  },
  {
   "cell_type": "code",
   "execution_count": 17,
   "metadata": {},
   "outputs": [
    {
     "data": {
      "text/plain": [
       "Index([], dtype='int64')"
      ]
     },
     "execution_count": 17,
     "metadata": {},
     "output_type": "execute_result"
    }
   ],
   "source": [
    "# check for duplicates\n",
    "duplicate_rows = BCH_data_solar_clean.duplicated()\n",
    "duplicate_rows[duplicate_rows].index"
   ]
  },
  {
   "cell_type": "code",
   "execution_count": 36,
   "metadata": {},
   "outputs": [
    {
     "data": {
      "text/html": [
       "<div>\n",
       "<style scoped>\n",
       "    .dataframe tbody tr th:only-of-type {\n",
       "        vertical-align: middle;\n",
       "    }\n",
       "\n",
       "    .dataframe tbody tr th {\n",
       "        vertical-align: top;\n",
       "    }\n",
       "\n",
       "    .dataframe thead th {\n",
       "        text-align: right;\n",
       "    }\n",
       "</style>\n",
       "<table border=\"1\" class=\"dataframe\">\n",
       "  <thead>\n",
       "    <tr style=\"text-align: right;\">\n",
       "      <th></th>\n",
       "      <th>time</th>\n",
       "      <th>solar_radiation</th>\n",
       "      <th>station_id</th>\n",
       "      <th>network_id</th>\n",
       "    </tr>\n",
       "  </thead>\n",
       "  <tbody>\n",
       "    <tr>\n",
       "      <th>495016</th>\n",
       "      <td>2017-09-29 13:00:00</td>\n",
       "      <td>275.2</td>\n",
       "      <td>ATP</td>\n",
       "      <td>BCH</td>\n",
       "    </tr>\n",
       "    <tr>\n",
       "      <th>495017</th>\n",
       "      <td>2017-09-29 14:00:00</td>\n",
       "      <td>222.4</td>\n",
       "      <td>ATP</td>\n",
       "      <td>BCH</td>\n",
       "    </tr>\n",
       "    <tr>\n",
       "      <th>495018</th>\n",
       "      <td>2017-09-29 15:00:00</td>\n",
       "      <td>86.3</td>\n",
       "      <td>ATP</td>\n",
       "      <td>BCH</td>\n",
       "    </tr>\n",
       "    <tr>\n",
       "      <th>495019</th>\n",
       "      <td>2017-09-29 16:00:00</td>\n",
       "      <td>14.0</td>\n",
       "      <td>ATP</td>\n",
       "      <td>BCH</td>\n",
       "    </tr>\n",
       "    <tr>\n",
       "      <th>495020</th>\n",
       "      <td>2017-09-29 17:00:00</td>\n",
       "      <td>1.7</td>\n",
       "      <td>ATP</td>\n",
       "      <td>BCH</td>\n",
       "    </tr>\n",
       "    <tr>\n",
       "      <th>...</th>\n",
       "      <td>...</td>\n",
       "      <td>...</td>\n",
       "      <td>...</td>\n",
       "      <td>...</td>\n",
       "    </tr>\n",
       "    <tr>\n",
       "      <th>6258061</th>\n",
       "      <td>2020-06-30 20:00:00</td>\n",
       "      <td>-16.2</td>\n",
       "      <td>TAB</td>\n",
       "      <td>BCH</td>\n",
       "    </tr>\n",
       "    <tr>\n",
       "      <th>6258062</th>\n",
       "      <td>2020-06-30 21:00:00</td>\n",
       "      <td>-20.3</td>\n",
       "      <td>TAB</td>\n",
       "      <td>BCH</td>\n",
       "    </tr>\n",
       "    <tr>\n",
       "      <th>6258063</th>\n",
       "      <td>2020-06-30 22:00:00</td>\n",
       "      <td>-15.2</td>\n",
       "      <td>TAB</td>\n",
       "      <td>BCH</td>\n",
       "    </tr>\n",
       "    <tr>\n",
       "      <th>6258064</th>\n",
       "      <td>2020-06-30 23:00:00</td>\n",
       "      <td>-13.3</td>\n",
       "      <td>TAB</td>\n",
       "      <td>BCH</td>\n",
       "    </tr>\n",
       "    <tr>\n",
       "      <th>6258065</th>\n",
       "      <td>2020-07-01 00:00:00</td>\n",
       "      <td>-12.4</td>\n",
       "      <td>TAB</td>\n",
       "      <td>BCH</td>\n",
       "    </tr>\n",
       "  </tbody>\n",
       "</table>\n",
       "<p>87927 rows × 4 columns</p>\n",
       "</div>"
      ],
      "text/plain": [
       "                         time  solar_radiation station_id network_id\n",
       "495016    2017-09-29 13:00:00            275.2        ATP        BCH\n",
       "495017    2017-09-29 14:00:00            222.4        ATP        BCH\n",
       "495018    2017-09-29 15:00:00             86.3        ATP        BCH\n",
       "495019    2017-09-29 16:00:00             14.0        ATP        BCH\n",
       "495020    2017-09-29 17:00:00              1.7        ATP        BCH\n",
       "...                       ...              ...        ...        ...\n",
       "6258061   2020-06-30 20:00:00            -16.2        TAB        BCH\n",
       "6258062   2020-06-30 21:00:00            -20.3        TAB        BCH\n",
       "6258063   2020-06-30 22:00:00            -15.2        TAB        BCH\n",
       "6258064   2020-06-30 23:00:00            -13.3        TAB        BCH\n",
       "6258065   2020-07-01 00:00:00            -12.4        TAB        BCH\n",
       "\n",
       "[87927 rows x 4 columns]"
      ]
     },
     "execution_count": 36,
     "metadata": {},
     "output_type": "execute_result"
    }
   ],
   "source": [
    "BCH_solar = BCH_data_solar_clean.rename(columns={\"netrad\": \"solar_radiation\"})\n",
    "BCH_solar"
   ]
  },
  {
   "cell_type": "code",
   "execution_count": 37,
   "metadata": {},
   "outputs": [],
   "source": [
    "# save BCH solar data to csv\n",
    "BCH_solar.to_csv('../data/BCH_solar.csv', index=False)"
   ]
  },
  {
   "cell_type": "markdown",
   "metadata": {},
   "source": [
    "#### CRD Data Cleaning"
   ]
  },
  {
   "cell_type": "code",
   "execution_count": 19,
   "metadata": {},
   "outputs": [],
   "source": [
    "CRD_data = functions.to_df('CRD_data_clean.csv')"
   ]
  },
  {
   "cell_type": "code",
   "execution_count": 20,
   "metadata": {},
   "outputs": [],
   "source": [
    "column_names, column_nulls, duplicate_row_index = functions.start_cleaning(CRD_data)"
   ]
  },
  {
   "cell_type": "code",
   "execution_count": 21,
   "metadata": {},
   "outputs": [
    {
     "name": "stdout",
     "output_type": "stream",
     "text": [
      "column names: ['solarradiation', 'airtemperature', 'precipitation', 'rain', 'windspeed', 'snowdepth', 'time', 'winddirection', 'relativehumidity', 'station_id', 'network_id', 'snowwaterequivalent']\n",
      "column nulls: solarradiation         4090779\n",
      "airtemperature          180523\n",
      "precipitation          3328235\n",
      "rain                    438757\n",
      "windspeed               655130\n",
      "snowdepth              3711426\n",
      "time                         0\n",
      "winddirection           658523\n",
      "relativehumidity        591010\n",
      "station_id                   0\n",
      "network_id                   0\n",
      "snowwaterequivalent    4078683\n",
      "dtype: int64\n",
      "duplicate rows: Index([], dtype='int64')\n"
     ]
    },
    {
     "data": {
      "text/plain": [
       "(4100571, 12)"
      ]
     },
     "execution_count": 21,
     "metadata": {},
     "output_type": "execute_result"
    }
   ],
   "source": [
    "print(f'column names: {column_names}')\n",
    "print(f'column nulls: {column_nulls}')\n",
    "print(f'duplicate rows: {duplicate_row_index}')\n",
    "CRD_data.shape"
   ]
  },
  {
   "cell_type": "code",
   "execution_count": 22,
   "metadata": {},
   "outputs": [],
   "source": [
    "# only keep variables of interest\n",
    "CRD_data_solar = CRD_data.loc[:,('time', 'solarradiation', 'station_id', 'network_id')]\n",
    "CRD_data_wind = CRD_data.loc[:,('time', 'windspeed', 'airtemperature', 'relativehumidity', 'station_id', 'network_id')] \n",
    "    # note that no air pressure value is available"
   ]
  },
  {
   "cell_type": "code",
   "execution_count": 23,
   "metadata": {},
   "outputs": [
    {
     "data": {
      "text/plain": [
       "time              0\n",
       "solarradiation    0\n",
       "station_id        0\n",
       "network_id        0\n",
       "dtype: int64"
      ]
     },
     "execution_count": 23,
     "metadata": {},
     "output_type": "execute_result"
    }
   ],
   "source": [
    "# drop rows in solar data that do not have SolarRadiation values\n",
    "CRD_data_solar_clean = CRD_data_solar.dropna(subset=['solarradiation'])\n",
    "CRD_data_solar_clean.isna().sum()"
   ]
  },
  {
   "cell_type": "code",
   "execution_count": 38,
   "metadata": {},
   "outputs": [],
   "source": [
    "CRD_solar = CRD_data_solar_clean.rename(columns={\"solarradiation\": \"solar_radiation\"})"
   ]
  },
  {
   "cell_type": "code",
   "execution_count": 39,
   "metadata": {},
   "outputs": [],
   "source": [
    "CRD_solar.to_csv(f'{path_2}/CRD_solar.csv', index=False)"
   ]
  },
  {
   "cell_type": "code",
   "execution_count": 40,
   "metadata": {},
   "outputs": [
    {
     "data": {
      "text/plain": [
       "time                     0\n",
       "windspeed           655130\n",
       "airtemperature      180523\n",
       "relativehumidity    591010\n",
       "station_id               0\n",
       "network_id               0\n",
       "dtype: int64"
      ]
     },
     "execution_count": 40,
     "metadata": {},
     "output_type": "execute_result"
    }
   ],
   "source": [
    "# count null values in wind data\n",
    "CRD_data_wind.isna().sum()"
   ]
  },
  {
   "cell_type": "code",
   "execution_count": 28,
   "metadata": {},
   "outputs": [
    {
     "data": {
      "text/plain": [
       "time                     0\n",
       "windspeed                0\n",
       "airtemperature      179949\n",
       "relativehumidity      1181\n",
       "station_id               0\n",
       "network_id               0\n",
       "dtype: int64"
      ]
     },
     "execution_count": 28,
     "metadata": {},
     "output_type": "execute_result"
    }
   ],
   "source": [
    "# drop rows in wind data that do not have WindSpeed values\n",
    "CRD_data_wind_clean = CRD_data_wind.dropna(subset=['windspeed'])\n",
    "CRD_data_wind_clean.isna().sum()"
   ]
  },
  {
   "cell_type": "code",
   "execution_count": 29,
   "metadata": {},
   "outputs": [
    {
     "data": {
      "text/html": [
       "<div>\n",
       "<style scoped>\n",
       "    .dataframe tbody tr th:only-of-type {\n",
       "        vertical-align: middle;\n",
       "    }\n",
       "\n",
       "    .dataframe tbody tr th {\n",
       "        vertical-align: top;\n",
       "    }\n",
       "\n",
       "    .dataframe thead th {\n",
       "        text-align: right;\n",
       "    }\n",
       "</style>\n",
       "<table border=\"1\" class=\"dataframe\">\n",
       "  <thead>\n",
       "    <tr style=\"text-align: right;\">\n",
       "      <th></th>\n",
       "      <th>time</th>\n",
       "      <th>windspeed</th>\n",
       "      <th>airtemperature</th>\n",
       "      <th>relativehumidity</th>\n",
       "      <th>station_id</th>\n",
       "      <th>network_id</th>\n",
       "    </tr>\n",
       "  </thead>\n",
       "  <tbody>\n",
       "    <tr>\n",
       "      <th>0</th>\n",
       "      <td>1998-04-17 00:00:00</td>\n",
       "      <td>0.0</td>\n",
       "      <td>0.9</td>\n",
       "      <td>100.0</td>\n",
       "      <td>FW001</td>\n",
       "      <td>CRD</td>\n",
       "    </tr>\n",
       "    <tr>\n",
       "      <th>1</th>\n",
       "      <td>1998-04-17 01:00:00</td>\n",
       "      <td>0.0</td>\n",
       "      <td>1.2</td>\n",
       "      <td>100.0</td>\n",
       "      <td>FW001</td>\n",
       "      <td>CRD</td>\n",
       "    </tr>\n",
       "    <tr>\n",
       "      <th>2</th>\n",
       "      <td>1998-04-17 02:00:00</td>\n",
       "      <td>0.0</td>\n",
       "      <td>0.7</td>\n",
       "      <td>100.0</td>\n",
       "      <td>FW001</td>\n",
       "      <td>CRD</td>\n",
       "    </tr>\n",
       "    <tr>\n",
       "      <th>3</th>\n",
       "      <td>1998-04-17 03:00:00</td>\n",
       "      <td>0.0</td>\n",
       "      <td>0.9</td>\n",
       "      <td>100.0</td>\n",
       "      <td>FW001</td>\n",
       "      <td>CRD</td>\n",
       "    </tr>\n",
       "    <tr>\n",
       "      <th>4</th>\n",
       "      <td>1998-04-17 04:00:00</td>\n",
       "      <td>0.0</td>\n",
       "      <td>0.1</td>\n",
       "      <td>100.0</td>\n",
       "      <td>FW001</td>\n",
       "      <td>CRD</td>\n",
       "    </tr>\n",
       "    <tr>\n",
       "      <th>5</th>\n",
       "      <td>1998-04-17 05:00:00</td>\n",
       "      <td>0.0</td>\n",
       "      <td>0.1</td>\n",
       "      <td>100.0</td>\n",
       "      <td>FW001</td>\n",
       "      <td>CRD</td>\n",
       "    </tr>\n",
       "    <tr>\n",
       "      <th>6</th>\n",
       "      <td>1998-04-17 06:00:00</td>\n",
       "      <td>0.0</td>\n",
       "      <td>0.4</td>\n",
       "      <td>100.0</td>\n",
       "      <td>FW001</td>\n",
       "      <td>CRD</td>\n",
       "    </tr>\n",
       "    <tr>\n",
       "      <th>7</th>\n",
       "      <td>1998-04-17 07:00:00</td>\n",
       "      <td>0.0</td>\n",
       "      <td>2.7</td>\n",
       "      <td>100.0</td>\n",
       "      <td>FW001</td>\n",
       "      <td>CRD</td>\n",
       "    </tr>\n",
       "    <tr>\n",
       "      <th>8</th>\n",
       "      <td>1998-04-17 08:00:00</td>\n",
       "      <td>0.0</td>\n",
       "      <td>8.2</td>\n",
       "      <td>74.0</td>\n",
       "      <td>FW001</td>\n",
       "      <td>CRD</td>\n",
       "    </tr>\n",
       "    <tr>\n",
       "      <th>9</th>\n",
       "      <td>1998-04-17 09:00:00</td>\n",
       "      <td>3.8</td>\n",
       "      <td>9.4</td>\n",
       "      <td>64.0</td>\n",
       "      <td>FW001</td>\n",
       "      <td>CRD</td>\n",
       "    </tr>\n",
       "    <tr>\n",
       "      <th>10</th>\n",
       "      <td>1998-04-17 10:00:00</td>\n",
       "      <td>3.9</td>\n",
       "      <td>10.1</td>\n",
       "      <td>63.0</td>\n",
       "      <td>FW001</td>\n",
       "      <td>CRD</td>\n",
       "    </tr>\n",
       "    <tr>\n",
       "      <th>11</th>\n",
       "      <td>1998-04-17 11:00:00</td>\n",
       "      <td>0.0</td>\n",
       "      <td>10.6</td>\n",
       "      <td>62.0</td>\n",
       "      <td>FW001</td>\n",
       "      <td>CRD</td>\n",
       "    </tr>\n",
       "    <tr>\n",
       "      <th>12</th>\n",
       "      <td>1998-04-17 12:00:00</td>\n",
       "      <td>6.6</td>\n",
       "      <td>10.9</td>\n",
       "      <td>59.0</td>\n",
       "      <td>FW001</td>\n",
       "      <td>CRD</td>\n",
       "    </tr>\n",
       "    <tr>\n",
       "      <th>13</th>\n",
       "      <td>1998-04-17 13:00:00</td>\n",
       "      <td>10.9</td>\n",
       "      <td>11.3</td>\n",
       "      <td>51.0</td>\n",
       "      <td>FW001</td>\n",
       "      <td>CRD</td>\n",
       "    </tr>\n",
       "    <tr>\n",
       "      <th>14</th>\n",
       "      <td>1998-04-17 14:00:00</td>\n",
       "      <td>8.4</td>\n",
       "      <td>11.6</td>\n",
       "      <td>61.0</td>\n",
       "      <td>FW001</td>\n",
       "      <td>CRD</td>\n",
       "    </tr>\n",
       "  </tbody>\n",
       "</table>\n",
       "</div>"
      ],
      "text/plain": [
       "                    time  windspeed  airtemperature  relativehumidity  \\\n",
       "0    1998-04-17 00:00:00        0.0             0.9             100.0   \n",
       "1    1998-04-17 01:00:00        0.0             1.2             100.0   \n",
       "2    1998-04-17 02:00:00        0.0             0.7             100.0   \n",
       "3    1998-04-17 03:00:00        0.0             0.9             100.0   \n",
       "4    1998-04-17 04:00:00        0.0             0.1             100.0   \n",
       "5    1998-04-17 05:00:00        0.0             0.1             100.0   \n",
       "6    1998-04-17 06:00:00        0.0             0.4             100.0   \n",
       "7    1998-04-17 07:00:00        0.0             2.7             100.0   \n",
       "8    1998-04-17 08:00:00        0.0             8.2              74.0   \n",
       "9    1998-04-17 09:00:00        3.8             9.4              64.0   \n",
       "10   1998-04-17 10:00:00        3.9            10.1              63.0   \n",
       "11   1998-04-17 11:00:00        0.0            10.6              62.0   \n",
       "12   1998-04-17 12:00:00        6.6            10.9              59.0   \n",
       "13   1998-04-17 13:00:00       10.9            11.3              51.0   \n",
       "14   1998-04-17 14:00:00        8.4            11.6              61.0   \n",
       "\n",
       "   station_id network_id  \n",
       "0       FW001        CRD  \n",
       "1       FW001        CRD  \n",
       "2       FW001        CRD  \n",
       "3       FW001        CRD  \n",
       "4       FW001        CRD  \n",
       "5       FW001        CRD  \n",
       "6       FW001        CRD  \n",
       "7       FW001        CRD  \n",
       "8       FW001        CRD  \n",
       "9       FW001        CRD  \n",
       "10      FW001        CRD  \n",
       "11      FW001        CRD  \n",
       "12      FW001        CRD  \n",
       "13      FW001        CRD  \n",
       "14      FW001        CRD  "
      ]
     },
     "execution_count": 29,
     "metadata": {},
     "output_type": "execute_result"
    }
   ],
   "source": [
    "# check windspeed values \n",
    "CRD_data_wind_clean.head(15)"
   ]
  },
  {
   "cell_type": "code",
   "execution_count": 30,
   "metadata": {},
   "outputs": [
    {
     "data": {
      "text/html": [
       "<div>\n",
       "<style scoped>\n",
       "    .dataframe tbody tr th:only-of-type {\n",
       "        vertical-align: middle;\n",
       "    }\n",
       "\n",
       "    .dataframe tbody tr th {\n",
       "        vertical-align: top;\n",
       "    }\n",
       "\n",
       "    .dataframe thead th {\n",
       "        text-align: right;\n",
       "    }\n",
       "</style>\n",
       "<table border=\"1\" class=\"dataframe\">\n",
       "  <thead>\n",
       "    <tr style=\"text-align: right;\">\n",
       "      <th></th>\n",
       "      <th>time</th>\n",
       "      <th>windspeed</th>\n",
       "      <th>airtemperature</th>\n",
       "      <th>relativehumidity</th>\n",
       "      <th>station_id</th>\n",
       "      <th>network_id</th>\n",
       "    </tr>\n",
       "  </thead>\n",
       "  <tbody>\n",
       "    <tr>\n",
       "      <th>0</th>\n",
       "      <td>1998-04-17 00:00:00</td>\n",
       "      <td>0.000000</td>\n",
       "      <td>0.9</td>\n",
       "      <td>100.0</td>\n",
       "      <td>FW001</td>\n",
       "      <td>CRD</td>\n",
       "    </tr>\n",
       "    <tr>\n",
       "      <th>1</th>\n",
       "      <td>1998-04-17 01:00:00</td>\n",
       "      <td>0.000000</td>\n",
       "      <td>1.2</td>\n",
       "      <td>100.0</td>\n",
       "      <td>FW001</td>\n",
       "      <td>CRD</td>\n",
       "    </tr>\n",
       "    <tr>\n",
       "      <th>2</th>\n",
       "      <td>1998-04-17 02:00:00</td>\n",
       "      <td>0.000000</td>\n",
       "      <td>0.7</td>\n",
       "      <td>100.0</td>\n",
       "      <td>FW001</td>\n",
       "      <td>CRD</td>\n",
       "    </tr>\n",
       "    <tr>\n",
       "      <th>3</th>\n",
       "      <td>1998-04-17 03:00:00</td>\n",
       "      <td>0.000000</td>\n",
       "      <td>0.9</td>\n",
       "      <td>100.0</td>\n",
       "      <td>FW001</td>\n",
       "      <td>CRD</td>\n",
       "    </tr>\n",
       "    <tr>\n",
       "      <th>4</th>\n",
       "      <td>1998-04-17 04:00:00</td>\n",
       "      <td>0.000000</td>\n",
       "      <td>0.1</td>\n",
       "      <td>100.0</td>\n",
       "      <td>FW001</td>\n",
       "      <td>CRD</td>\n",
       "    </tr>\n",
       "    <tr>\n",
       "      <th>5</th>\n",
       "      <td>1998-04-17 05:00:00</td>\n",
       "      <td>0.000000</td>\n",
       "      <td>0.1</td>\n",
       "      <td>100.0</td>\n",
       "      <td>FW001</td>\n",
       "      <td>CRD</td>\n",
       "    </tr>\n",
       "    <tr>\n",
       "      <th>6</th>\n",
       "      <td>1998-04-17 06:00:00</td>\n",
       "      <td>0.000000</td>\n",
       "      <td>0.4</td>\n",
       "      <td>100.0</td>\n",
       "      <td>FW001</td>\n",
       "      <td>CRD</td>\n",
       "    </tr>\n",
       "    <tr>\n",
       "      <th>7</th>\n",
       "      <td>1998-04-17 07:00:00</td>\n",
       "      <td>0.000000</td>\n",
       "      <td>2.7</td>\n",
       "      <td>100.0</td>\n",
       "      <td>FW001</td>\n",
       "      <td>CRD</td>\n",
       "    </tr>\n",
       "    <tr>\n",
       "      <th>8</th>\n",
       "      <td>1998-04-17 08:00:00</td>\n",
       "      <td>0.000000</td>\n",
       "      <td>8.2</td>\n",
       "      <td>74.0</td>\n",
       "      <td>FW001</td>\n",
       "      <td>CRD</td>\n",
       "    </tr>\n",
       "    <tr>\n",
       "      <th>9</th>\n",
       "      <td>1998-04-17 09:00:00</td>\n",
       "      <td>1.055556</td>\n",
       "      <td>9.4</td>\n",
       "      <td>64.0</td>\n",
       "      <td>FW001</td>\n",
       "      <td>CRD</td>\n",
       "    </tr>\n",
       "    <tr>\n",
       "      <th>10</th>\n",
       "      <td>1998-04-17 10:00:00</td>\n",
       "      <td>1.083333</td>\n",
       "      <td>10.1</td>\n",
       "      <td>63.0</td>\n",
       "      <td>FW001</td>\n",
       "      <td>CRD</td>\n",
       "    </tr>\n",
       "    <tr>\n",
       "      <th>11</th>\n",
       "      <td>1998-04-17 11:00:00</td>\n",
       "      <td>0.000000</td>\n",
       "      <td>10.6</td>\n",
       "      <td>62.0</td>\n",
       "      <td>FW001</td>\n",
       "      <td>CRD</td>\n",
       "    </tr>\n",
       "    <tr>\n",
       "      <th>12</th>\n",
       "      <td>1998-04-17 12:00:00</td>\n",
       "      <td>1.833333</td>\n",
       "      <td>10.9</td>\n",
       "      <td>59.0</td>\n",
       "      <td>FW001</td>\n",
       "      <td>CRD</td>\n",
       "    </tr>\n",
       "    <tr>\n",
       "      <th>13</th>\n",
       "      <td>1998-04-17 13:00:00</td>\n",
       "      <td>3.027778</td>\n",
       "      <td>11.3</td>\n",
       "      <td>51.0</td>\n",
       "      <td>FW001</td>\n",
       "      <td>CRD</td>\n",
       "    </tr>\n",
       "    <tr>\n",
       "      <th>14</th>\n",
       "      <td>1998-04-17 14:00:00</td>\n",
       "      <td>2.333333</td>\n",
       "      <td>11.6</td>\n",
       "      <td>61.0</td>\n",
       "      <td>FW001</td>\n",
       "      <td>CRD</td>\n",
       "    </tr>\n",
       "  </tbody>\n",
       "</table>\n",
       "</div>"
      ],
      "text/plain": [
       "                    time  windspeed  airtemperature  relativehumidity  \\\n",
       "0    1998-04-17 00:00:00   0.000000             0.9             100.0   \n",
       "1    1998-04-17 01:00:00   0.000000             1.2             100.0   \n",
       "2    1998-04-17 02:00:00   0.000000             0.7             100.0   \n",
       "3    1998-04-17 03:00:00   0.000000             0.9             100.0   \n",
       "4    1998-04-17 04:00:00   0.000000             0.1             100.0   \n",
       "5    1998-04-17 05:00:00   0.000000             0.1             100.0   \n",
       "6    1998-04-17 06:00:00   0.000000             0.4             100.0   \n",
       "7    1998-04-17 07:00:00   0.000000             2.7             100.0   \n",
       "8    1998-04-17 08:00:00   0.000000             8.2              74.0   \n",
       "9    1998-04-17 09:00:00   1.055556             9.4              64.0   \n",
       "10   1998-04-17 10:00:00   1.083333            10.1              63.0   \n",
       "11   1998-04-17 11:00:00   0.000000            10.6              62.0   \n",
       "12   1998-04-17 12:00:00   1.833333            10.9              59.0   \n",
       "13   1998-04-17 13:00:00   3.027778            11.3              51.0   \n",
       "14   1998-04-17 14:00:00   2.333333            11.6              61.0   \n",
       "\n",
       "   station_id network_id  \n",
       "0       FW001        CRD  \n",
       "1       FW001        CRD  \n",
       "2       FW001        CRD  \n",
       "3       FW001        CRD  \n",
       "4       FW001        CRD  \n",
       "5       FW001        CRD  \n",
       "6       FW001        CRD  \n",
       "7       FW001        CRD  \n",
       "8       FW001        CRD  \n",
       "9       FW001        CRD  \n",
       "10      FW001        CRD  \n",
       "11      FW001        CRD  \n",
       "12      FW001        CRD  \n",
       "13      FW001        CRD  \n",
       "14      FW001        CRD  "
      ]
     },
     "execution_count": 30,
     "metadata": {},
     "output_type": "execute_result"
    }
   ],
   "source": [
    "# convert windspeed values from km/h to m/s by dividing values by 3.6\n",
    "CRD_data_wind_clean.loc[:,'windspeed'] = CRD_data_wind_clean.loc[:,'windspeed'].div(3.6)\n",
    "CRD_data_wind_clean.head(15)"
   ]
  },
  {
   "cell_type": "code",
   "execution_count": 41,
   "metadata": {},
   "outputs": [],
   "source": [
    "# rename columns\n",
    "CRD_wind = CRD_data_wind_clean.rename(columns={\"windspeed\":\"wind_speed\", \"airtemperature\": \"air_temperature\", \"relativehumidity\":\"relative_humidity\"})"
   ]
  },
  {
   "cell_type": "code",
   "execution_count": 42,
   "metadata": {},
   "outputs": [],
   "source": [
    "# save to csv\n",
    "CRD_wind.to_csv(f'{path_2}/CRD_wind.csv', index=False)"
   ]
  },
  {
   "cell_type": "markdown",
   "metadata": {},
   "source": [
    "#### EC_raw Data Cleaning"
   ]
  },
  {
   "cell_type": "code",
   "execution_count": 33,
   "metadata": {},
   "outputs": [
    {
     "name": "stderr",
     "output_type": "stream",
     "text": [
      "d:\\School\\LHL\\capstone_project_data\\LHL_Capstone_Project\\notebooks\\functions.py:149: DtypeWarning: Columns (11) have mixed types. Specify dtype option on import or set low_memory=False.\n",
      "  df_name = pd.read_csv(f'{path_2}/{data_name}.csv')\n"
     ]
    }
   ],
   "source": [
    "EC_raw_data = functions.to_df('EC_raw_data_clean.csv')"
   ]
  },
  {
   "cell_type": "code",
   "execution_count": 34,
   "metadata": {},
   "outputs": [],
   "source": [
    "column_names, column_nulls, duplicate_row_index = functions.start_cleaning(EC_raw_data)"
   ]
  },
  {
   "cell_type": "code",
   "execution_count": 35,
   "metadata": {},
   "outputs": [
    {
     "name": "stdout",
     "output_type": "stream",
     "text": [
      "column names: ['wind_speed', 'mean_sea_level', 'dew_point', 'wind_direction', 'relative_humidity', 'air_temperature', 'time', 'air_temperature_yesterday_low', 'wind_gust_speed', 'air_temperature_yesterday_high', 'tendency_amount', 'station_id', 'network_id', 'total_precipitation', 'snow_amount', 'total_cloud_cover']\n",
      "column nulls: wind_speed                         1012435\n",
      "mean_sea_level                     1326710\n",
      "dew_point                           932842\n",
      "wind_direction                     1834304\n",
      "relative_humidity                   935655\n",
      "air_temperature                     411231\n",
      "time                                     0\n",
      "air_temperature_yesterday_low     12391030\n",
      "wind_gust_speed                   11440570\n",
      "air_temperature_yesterday_high    12390760\n",
      "tendency_amount                    2839650\n",
      "station_id                               0\n",
      "network_id                               0\n",
      "total_precipitation               12295547\n",
      "snow_amount                       12736774\n",
      "total_cloud_cover                  9324595\n",
      "dtype: int64\n",
      "duplicate rows: Index([], dtype='int64')\n"
     ]
    }
   ],
   "source": [
    "print(f'column names: {column_names}')\n",
    "print(f'column nulls: {column_nulls}')\n",
    "print(f'duplicate rows: {duplicate_row_index}')"
   ]
  },
  {
   "cell_type": "code",
   "execution_count": 43,
   "metadata": {},
   "outputs": [],
   "source": [
    "# only keep variables of interest\n",
    "# no solar data available from this network\n",
    "EC_raw_data_wind = EC_raw_data.loc[:,('time', 'wind_speed', 'air_temperature', 'relative_humidity', 'station_id', 'network_id')] \n",
    "    # note that no air pressure column is available"
   ]
  },
  {
   "cell_type": "code",
   "execution_count": 44,
   "metadata": {},
   "outputs": [
    {
     "data": {
      "text/plain": [
       "time                       0\n",
       "wind_speed           1012435\n",
       "air_temperature       411231\n",
       "relative_humidity     935655\n",
       "station_id                 0\n",
       "network_id                 0\n",
       "dtype: int64"
      ]
     },
     "execution_count": 44,
     "metadata": {},
     "output_type": "execute_result"
    }
   ],
   "source": [
    "# count null values in wind data\n",
    "EC_raw_data_wind.isna().sum()"
   ]
  },
  {
   "cell_type": "code",
   "execution_count": 45,
   "metadata": {},
   "outputs": [
    {
     "data": {
      "text/plain": [
       "time                      0\n",
       "wind_speed                0\n",
       "air_temperature      331537\n",
       "relative_humidity    802170\n",
       "station_id                0\n",
       "network_id                0\n",
       "dtype: int64"
      ]
     },
     "execution_count": 45,
     "metadata": {},
     "output_type": "execute_result"
    }
   ],
   "source": [
    "# drop rows in wind data that do not have values in windspeed column\n",
    "EC_raw_data_wind_clean = EC_raw_data_wind.dropna(subset=['wind_speed'])\n",
    "EC_raw_data_wind_clean.isna().sum()"
   ]
  },
  {
   "cell_type": "code",
   "execution_count": 47,
   "metadata": {},
   "outputs": [
    {
     "data": {
      "text/html": [
       "<div>\n",
       "<style scoped>\n",
       "    .dataframe tbody tr th:only-of-type {\n",
       "        vertical-align: middle;\n",
       "    }\n",
       "\n",
       "    .dataframe tbody tr th {\n",
       "        vertical-align: top;\n",
       "    }\n",
       "\n",
       "    .dataframe thead th {\n",
       "        text-align: right;\n",
       "    }\n",
       "</style>\n",
       "<table border=\"1\" class=\"dataframe\">\n",
       "  <thead>\n",
       "    <tr style=\"text-align: right;\">\n",
       "      <th></th>\n",
       "      <th>time</th>\n",
       "      <th>wind_speed</th>\n",
       "      <th>air_temperature</th>\n",
       "      <th>relative_humidity</th>\n",
       "      <th>station_id</th>\n",
       "      <th>network_id</th>\n",
       "    </tr>\n",
       "  </thead>\n",
       "  <tbody>\n",
       "    <tr>\n",
       "      <th>138</th>\n",
       "      <td>2011-10-16 00:00:00</td>\n",
       "      <td>16.9</td>\n",
       "      <td>9.9</td>\n",
       "      <td>78.0</td>\n",
       "      <td>1012475</td>\n",
       "      <td>EC_raw</td>\n",
       "    </tr>\n",
       "    <tr>\n",
       "      <th>139</th>\n",
       "      <td>2011-10-16 01:00:00</td>\n",
       "      <td>16.2</td>\n",
       "      <td>9.9</td>\n",
       "      <td>78.0</td>\n",
       "      <td>1012475</td>\n",
       "      <td>EC_raw</td>\n",
       "    </tr>\n",
       "    <tr>\n",
       "      <th>140</th>\n",
       "      <td>2011-10-16 02:00:00</td>\n",
       "      <td>10.4</td>\n",
       "      <td>9.7</td>\n",
       "      <td>82.0</td>\n",
       "      <td>1012475</td>\n",
       "      <td>EC_raw</td>\n",
       "    </tr>\n",
       "    <tr>\n",
       "      <th>141</th>\n",
       "      <td>2011-10-16 03:00:00</td>\n",
       "      <td>9.4</td>\n",
       "      <td>9.3</td>\n",
       "      <td>83.0</td>\n",
       "      <td>1012475</td>\n",
       "      <td>EC_raw</td>\n",
       "    </tr>\n",
       "    <tr>\n",
       "      <th>142</th>\n",
       "      <td>2011-10-16 04:00:00</td>\n",
       "      <td>13.3</td>\n",
       "      <td>9.1</td>\n",
       "      <td>83.0</td>\n",
       "      <td>1012475</td>\n",
       "      <td>EC_raw</td>\n",
       "    </tr>\n",
       "    <tr>\n",
       "      <th>143</th>\n",
       "      <td>2011-10-16 05:00:00</td>\n",
       "      <td>15.5</td>\n",
       "      <td>9.1</td>\n",
       "      <td>84.0</td>\n",
       "      <td>1012475</td>\n",
       "      <td>EC_raw</td>\n",
       "    </tr>\n",
       "    <tr>\n",
       "      <th>144</th>\n",
       "      <td>2011-10-16 06:00:00</td>\n",
       "      <td>17.3</td>\n",
       "      <td>8.8</td>\n",
       "      <td>84.0</td>\n",
       "      <td>1012475</td>\n",
       "      <td>EC_raw</td>\n",
       "    </tr>\n",
       "    <tr>\n",
       "      <th>145</th>\n",
       "      <td>2011-10-16 07:00:00</td>\n",
       "      <td>16.9</td>\n",
       "      <td>8.8</td>\n",
       "      <td>83.0</td>\n",
       "      <td>1012475</td>\n",
       "      <td>EC_raw</td>\n",
       "    </tr>\n",
       "    <tr>\n",
       "      <th>146</th>\n",
       "      <td>2011-10-16 08:00:00</td>\n",
       "      <td>16.2</td>\n",
       "      <td>8.4</td>\n",
       "      <td>81.0</td>\n",
       "      <td>1012475</td>\n",
       "      <td>EC_raw</td>\n",
       "    </tr>\n",
       "    <tr>\n",
       "      <th>147</th>\n",
       "      <td>2011-10-16 09:00:00</td>\n",
       "      <td>8.3</td>\n",
       "      <td>7.7</td>\n",
       "      <td>83.0</td>\n",
       "      <td>1012475</td>\n",
       "      <td>EC_raw</td>\n",
       "    </tr>\n",
       "    <tr>\n",
       "      <th>148</th>\n",
       "      <td>2011-10-16 10:00:00</td>\n",
       "      <td>7.6</td>\n",
       "      <td>7.1</td>\n",
       "      <td>85.0</td>\n",
       "      <td>1012475</td>\n",
       "      <td>EC_raw</td>\n",
       "    </tr>\n",
       "    <tr>\n",
       "      <th>149</th>\n",
       "      <td>2011-10-16 11:00:00</td>\n",
       "      <td>8.6</td>\n",
       "      <td>7.8</td>\n",
       "      <td>76.0</td>\n",
       "      <td>1012475</td>\n",
       "      <td>EC_raw</td>\n",
       "    </tr>\n",
       "    <tr>\n",
       "      <th>150</th>\n",
       "      <td>2011-10-16 12:00:00</td>\n",
       "      <td>8.6</td>\n",
       "      <td>8.0</td>\n",
       "      <td>74.0</td>\n",
       "      <td>1012475</td>\n",
       "      <td>EC_raw</td>\n",
       "    </tr>\n",
       "    <tr>\n",
       "      <th>151</th>\n",
       "      <td>2011-10-16 13:00:00</td>\n",
       "      <td>9.7</td>\n",
       "      <td>7.7</td>\n",
       "      <td>75.0</td>\n",
       "      <td>1012475</td>\n",
       "      <td>EC_raw</td>\n",
       "    </tr>\n",
       "    <tr>\n",
       "      <th>152</th>\n",
       "      <td>2011-10-16 14:00:00</td>\n",
       "      <td>8.6</td>\n",
       "      <td>7.4</td>\n",
       "      <td>78.0</td>\n",
       "      <td>1012475</td>\n",
       "      <td>EC_raw</td>\n",
       "    </tr>\n",
       "  </tbody>\n",
       "</table>\n",
       "</div>"
      ],
      "text/plain": [
       "                     time  wind_speed  air_temperature  relative_humidity  \\\n",
       "138   2011-10-16 00:00:00        16.9              9.9               78.0   \n",
       "139   2011-10-16 01:00:00        16.2              9.9               78.0   \n",
       "140   2011-10-16 02:00:00        10.4              9.7               82.0   \n",
       "141   2011-10-16 03:00:00         9.4              9.3               83.0   \n",
       "142   2011-10-16 04:00:00        13.3              9.1               83.0   \n",
       "143   2011-10-16 05:00:00        15.5              9.1               84.0   \n",
       "144   2011-10-16 06:00:00        17.3              8.8               84.0   \n",
       "145   2011-10-16 07:00:00        16.9              8.8               83.0   \n",
       "146   2011-10-16 08:00:00        16.2              8.4               81.0   \n",
       "147   2011-10-16 09:00:00         8.3              7.7               83.0   \n",
       "148   2011-10-16 10:00:00         7.6              7.1               85.0   \n",
       "149   2011-10-16 11:00:00         8.6              7.8               76.0   \n",
       "150   2011-10-16 12:00:00         8.6              8.0               74.0   \n",
       "151   2011-10-16 13:00:00         9.7              7.7               75.0   \n",
       "152   2011-10-16 14:00:00         8.6              7.4               78.0   \n",
       "\n",
       "    station_id network_id  \n",
       "138    1012475     EC_raw  \n",
       "139    1012475     EC_raw  \n",
       "140    1012475     EC_raw  \n",
       "141    1012475     EC_raw  \n",
       "142    1012475     EC_raw  \n",
       "143    1012475     EC_raw  \n",
       "144    1012475     EC_raw  \n",
       "145    1012475     EC_raw  \n",
       "146    1012475     EC_raw  \n",
       "147    1012475     EC_raw  \n",
       "148    1012475     EC_raw  \n",
       "149    1012475     EC_raw  \n",
       "150    1012475     EC_raw  \n",
       "151    1012475     EC_raw  \n",
       "152    1012475     EC_raw  "
      ]
     },
     "execution_count": 47,
     "metadata": {},
     "output_type": "execute_result"
    }
   ],
   "source": [
    "# check windspeed units\n",
    "EC_raw_data_wind_clean.head(15)\n",
    "# station metadata states km/h"
   ]
  },
  {
   "cell_type": "code",
   "execution_count": 48,
   "metadata": {},
   "outputs": [
    {
     "data": {
      "text/html": [
       "<div>\n",
       "<style scoped>\n",
       "    .dataframe tbody tr th:only-of-type {\n",
       "        vertical-align: middle;\n",
       "    }\n",
       "\n",
       "    .dataframe tbody tr th {\n",
       "        vertical-align: top;\n",
       "    }\n",
       "\n",
       "    .dataframe thead th {\n",
       "        text-align: right;\n",
       "    }\n",
       "</style>\n",
       "<table border=\"1\" class=\"dataframe\">\n",
       "  <thead>\n",
       "    <tr style=\"text-align: right;\">\n",
       "      <th></th>\n",
       "      <th>time</th>\n",
       "      <th>wind_speed</th>\n",
       "      <th>air_temperature</th>\n",
       "      <th>relative_humidity</th>\n",
       "      <th>station_id</th>\n",
       "      <th>network_id</th>\n",
       "    </tr>\n",
       "  </thead>\n",
       "  <tbody>\n",
       "    <tr>\n",
       "      <th>138</th>\n",
       "      <td>2011-10-16 00:00:00</td>\n",
       "      <td>4.694444</td>\n",
       "      <td>9.9</td>\n",
       "      <td>78.0</td>\n",
       "      <td>1012475</td>\n",
       "      <td>EC_raw</td>\n",
       "    </tr>\n",
       "    <tr>\n",
       "      <th>139</th>\n",
       "      <td>2011-10-16 01:00:00</td>\n",
       "      <td>4.500000</td>\n",
       "      <td>9.9</td>\n",
       "      <td>78.0</td>\n",
       "      <td>1012475</td>\n",
       "      <td>EC_raw</td>\n",
       "    </tr>\n",
       "    <tr>\n",
       "      <th>140</th>\n",
       "      <td>2011-10-16 02:00:00</td>\n",
       "      <td>2.888889</td>\n",
       "      <td>9.7</td>\n",
       "      <td>82.0</td>\n",
       "      <td>1012475</td>\n",
       "      <td>EC_raw</td>\n",
       "    </tr>\n",
       "    <tr>\n",
       "      <th>141</th>\n",
       "      <td>2011-10-16 03:00:00</td>\n",
       "      <td>2.611111</td>\n",
       "      <td>9.3</td>\n",
       "      <td>83.0</td>\n",
       "      <td>1012475</td>\n",
       "      <td>EC_raw</td>\n",
       "    </tr>\n",
       "    <tr>\n",
       "      <th>142</th>\n",
       "      <td>2011-10-16 04:00:00</td>\n",
       "      <td>3.694444</td>\n",
       "      <td>9.1</td>\n",
       "      <td>83.0</td>\n",
       "      <td>1012475</td>\n",
       "      <td>EC_raw</td>\n",
       "    </tr>\n",
       "    <tr>\n",
       "      <th>143</th>\n",
       "      <td>2011-10-16 05:00:00</td>\n",
       "      <td>4.305556</td>\n",
       "      <td>9.1</td>\n",
       "      <td>84.0</td>\n",
       "      <td>1012475</td>\n",
       "      <td>EC_raw</td>\n",
       "    </tr>\n",
       "    <tr>\n",
       "      <th>144</th>\n",
       "      <td>2011-10-16 06:00:00</td>\n",
       "      <td>4.805556</td>\n",
       "      <td>8.8</td>\n",
       "      <td>84.0</td>\n",
       "      <td>1012475</td>\n",
       "      <td>EC_raw</td>\n",
       "    </tr>\n",
       "    <tr>\n",
       "      <th>145</th>\n",
       "      <td>2011-10-16 07:00:00</td>\n",
       "      <td>4.694444</td>\n",
       "      <td>8.8</td>\n",
       "      <td>83.0</td>\n",
       "      <td>1012475</td>\n",
       "      <td>EC_raw</td>\n",
       "    </tr>\n",
       "    <tr>\n",
       "      <th>146</th>\n",
       "      <td>2011-10-16 08:00:00</td>\n",
       "      <td>4.500000</td>\n",
       "      <td>8.4</td>\n",
       "      <td>81.0</td>\n",
       "      <td>1012475</td>\n",
       "      <td>EC_raw</td>\n",
       "    </tr>\n",
       "    <tr>\n",
       "      <th>147</th>\n",
       "      <td>2011-10-16 09:00:00</td>\n",
       "      <td>2.305556</td>\n",
       "      <td>7.7</td>\n",
       "      <td>83.0</td>\n",
       "      <td>1012475</td>\n",
       "      <td>EC_raw</td>\n",
       "    </tr>\n",
       "    <tr>\n",
       "      <th>148</th>\n",
       "      <td>2011-10-16 10:00:00</td>\n",
       "      <td>2.111111</td>\n",
       "      <td>7.1</td>\n",
       "      <td>85.0</td>\n",
       "      <td>1012475</td>\n",
       "      <td>EC_raw</td>\n",
       "    </tr>\n",
       "    <tr>\n",
       "      <th>149</th>\n",
       "      <td>2011-10-16 11:00:00</td>\n",
       "      <td>2.388889</td>\n",
       "      <td>7.8</td>\n",
       "      <td>76.0</td>\n",
       "      <td>1012475</td>\n",
       "      <td>EC_raw</td>\n",
       "    </tr>\n",
       "    <tr>\n",
       "      <th>150</th>\n",
       "      <td>2011-10-16 12:00:00</td>\n",
       "      <td>2.388889</td>\n",
       "      <td>8.0</td>\n",
       "      <td>74.0</td>\n",
       "      <td>1012475</td>\n",
       "      <td>EC_raw</td>\n",
       "    </tr>\n",
       "    <tr>\n",
       "      <th>151</th>\n",
       "      <td>2011-10-16 13:00:00</td>\n",
       "      <td>2.694444</td>\n",
       "      <td>7.7</td>\n",
       "      <td>75.0</td>\n",
       "      <td>1012475</td>\n",
       "      <td>EC_raw</td>\n",
       "    </tr>\n",
       "    <tr>\n",
       "      <th>152</th>\n",
       "      <td>2011-10-16 14:00:00</td>\n",
       "      <td>2.388889</td>\n",
       "      <td>7.4</td>\n",
       "      <td>78.0</td>\n",
       "      <td>1012475</td>\n",
       "      <td>EC_raw</td>\n",
       "    </tr>\n",
       "  </tbody>\n",
       "</table>\n",
       "</div>"
      ],
      "text/plain": [
       "                     time  wind_speed  air_temperature  relative_humidity  \\\n",
       "138   2011-10-16 00:00:00    4.694444              9.9               78.0   \n",
       "139   2011-10-16 01:00:00    4.500000              9.9               78.0   \n",
       "140   2011-10-16 02:00:00    2.888889              9.7               82.0   \n",
       "141   2011-10-16 03:00:00    2.611111              9.3               83.0   \n",
       "142   2011-10-16 04:00:00    3.694444              9.1               83.0   \n",
       "143   2011-10-16 05:00:00    4.305556              9.1               84.0   \n",
       "144   2011-10-16 06:00:00    4.805556              8.8               84.0   \n",
       "145   2011-10-16 07:00:00    4.694444              8.8               83.0   \n",
       "146   2011-10-16 08:00:00    4.500000              8.4               81.0   \n",
       "147   2011-10-16 09:00:00    2.305556              7.7               83.0   \n",
       "148   2011-10-16 10:00:00    2.111111              7.1               85.0   \n",
       "149   2011-10-16 11:00:00    2.388889              7.8               76.0   \n",
       "150   2011-10-16 12:00:00    2.388889              8.0               74.0   \n",
       "151   2011-10-16 13:00:00    2.694444              7.7               75.0   \n",
       "152   2011-10-16 14:00:00    2.388889              7.4               78.0   \n",
       "\n",
       "    station_id network_id  \n",
       "138    1012475     EC_raw  \n",
       "139    1012475     EC_raw  \n",
       "140    1012475     EC_raw  \n",
       "141    1012475     EC_raw  \n",
       "142    1012475     EC_raw  \n",
       "143    1012475     EC_raw  \n",
       "144    1012475     EC_raw  \n",
       "145    1012475     EC_raw  \n",
       "146    1012475     EC_raw  \n",
       "147    1012475     EC_raw  \n",
       "148    1012475     EC_raw  \n",
       "149    1012475     EC_raw  \n",
       "150    1012475     EC_raw  \n",
       "151    1012475     EC_raw  \n",
       "152    1012475     EC_raw  "
      ]
     },
     "execution_count": 48,
     "metadata": {},
     "output_type": "execute_result"
    }
   ],
   "source": [
    "# convert windspeed values from km/h to m/s by dividing values by 3.6\n",
    "EC_raw_data_wind_clean.loc[:,('wind_speed')] = EC_raw_data_wind_clean.loc[:,('wind_speed')].div(3.6)\n",
    "EC_raw_data_wind_clean.head(15)"
   ]
  },
  {
   "cell_type": "code",
   "execution_count": null,
   "metadata": {},
   "outputs": [],
   "source": [
    "# rename columns\n",
    "# not required"
   ]
  },
  {
   "cell_type": "code",
   "execution_count": 65,
   "metadata": {},
   "outputs": [],
   "source": [
    "# save to csv\n",
    "EC_raw_data_wind_clean.to_csv(f'{path_2}/EC_raw_wind.csv', index=False)"
   ]
  },
  {
   "cell_type": "markdown",
   "metadata": {},
   "source": [
    "#### ENV_AQN Data Cleaning"
   ]
  },
  {
   "cell_type": "code",
   "execution_count": 51,
   "metadata": {},
   "outputs": [
    {
     "name": "stderr",
     "output_type": "stream",
     "text": [
      "d:\\School\\LHL\\capstone_project_data\\LHL_Capstone_Project\\notebooks\\functions.py:149: DtypeWarning: Columns (8) have mixed types. Specify dtype option on import or set low_memory=False.\n",
      "  df_name = pd.read_csv(f'{path_2}/{data_name}.csv')\n"
     ]
    }
   ],
   "source": [
    "ENV_AQN_data = functions.to_df('ENV_AQN_data_clean.csv')"
   ]
  },
  {
   "cell_type": "code",
   "execution_count": 52,
   "metadata": {},
   "outputs": [],
   "source": [
    "column_names, column_nulls, duplicate_row_index = functions.start_cleaning(ENV_AQN_data)"
   ]
  },
  {
   "cell_type": "code",
   "execution_count": 53,
   "metadata": {},
   "outputs": [
    {
     "name": "stdout",
     "output_type": "stream",
     "text": [
      "column names: ['wdir_vect', 'temp_mean', 'wspd_sclr', 'precip_total', 'avg_rel_hum_pst1hr', 'time', 'humidity', 'avg_air_temp_pst1hr', 'station_id', 'network_id', 'bar_press']\n",
      "column nulls: wdir_vect               6568691\n",
      "temp_mean               5413225\n",
      "wspd_sclr               2296217\n",
      "precip_total           12783840\n",
      "avg_rel_hum_pst1hr      8968906\n",
      "time                          0\n",
      "humidity                8688631\n",
      "avg_air_temp_pst1hr     7985418\n",
      "station_id                    0\n",
      "network_id                    0\n",
      "bar_press              12962966\n",
      "dtype: int64\n",
      "duplicate rows: Index([], dtype='int64')\n"
     ]
    }
   ],
   "source": [
    "print(f'column names: {column_names}')\n",
    "print(f'column nulls: {column_nulls}')\n",
    "print(f'duplicate rows: {duplicate_row_index}')"
   ]
  },
  {
   "cell_type": "code",
   "execution_count": 54,
   "metadata": {},
   "outputs": [],
   "source": [
    "# only keep variables of interest\n",
    "# no solar data available for this network\n",
    "ENV_AQN_data_wind = ENV_AQN_data.loc[:,('time', 'wspd_sclr', 'temp_mean', 'humidity', 'bar_press', 'station_id', 'network_id')] "
   ]
  },
  {
   "cell_type": "code",
   "execution_count": 55,
   "metadata": {},
   "outputs": [
    {
     "data": {
      "text/plain": [
       "time                 0\n",
       "wspd_sclr      2296217\n",
       "temp_mean      5413225\n",
       "humidity       8688631\n",
       "bar_press     12962966\n",
       "station_id           0\n",
       "network_id           0\n",
       "dtype: int64"
      ]
     },
     "execution_count": 55,
     "metadata": {},
     "output_type": "execute_result"
    }
   ],
   "source": [
    "# count null values in wind data\n",
    "ENV_AQN_data_wind.isna().sum()"
   ]
  },
  {
   "cell_type": "code",
   "execution_count": 56,
   "metadata": {},
   "outputs": [
    {
     "data": {
      "text/plain": [
       "time                 0\n",
       "wspd_sclr            0\n",
       "temp_mean      3757129\n",
       "humidity       7892770\n",
       "bar_press     10684548\n",
       "station_id           0\n",
       "network_id           0\n",
       "dtype: int64"
      ]
     },
     "execution_count": 56,
     "metadata": {},
     "output_type": "execute_result"
    }
   ],
   "source": [
    "# drop rows in wind data that do not have windspeed values\n",
    "ENV_AQN_data_wind_clean = ENV_AQN_data_wind.dropna(subset=['wspd_sclr'])\n",
    "ENV_AQN_data_wind_clean.isna().sum()"
   ]
  },
  {
   "cell_type": "code",
   "execution_count": 38,
   "metadata": {},
   "outputs": [
    {
     "data": {
      "text/plain": [
       "0     1.044\n",
       "1     2.518\n",
       "2     1.028\n",
       "3     0.704\n",
       "4     0.208\n",
       "5     0.140\n",
       "6     0.534\n",
       "7     0.457\n",
       "8     0.916\n",
       "9     0.303\n",
       "10    0.403\n",
       "11    0.378\n",
       "12    0.750\n",
       "13    0.576\n",
       "14    0.224\n",
       "Name:  WSPD_SCLR, dtype: float64"
      ]
     },
     "execution_count": 38,
     "metadata": {},
     "output_type": "execute_result"
    }
   ],
   "source": [
    "# check windspeed values\n",
    "ENV_AQN_data_wind_clean['wspd_sclr'].head(15)"
   ]
  },
  {
   "cell_type": "code",
   "execution_count": 61,
   "metadata": {},
   "outputs": [
    {
     "data": {
      "text/html": [
       "<div>\n",
       "<style scoped>\n",
       "    .dataframe tbody tr th:only-of-type {\n",
       "        vertical-align: middle;\n",
       "    }\n",
       "\n",
       "    .dataframe tbody tr th {\n",
       "        vertical-align: top;\n",
       "    }\n",
       "\n",
       "    .dataframe thead th {\n",
       "        text-align: right;\n",
       "    }\n",
       "</style>\n",
       "<table border=\"1\" class=\"dataframe\">\n",
       "  <thead>\n",
       "    <tr style=\"text-align: right;\">\n",
       "      <th></th>\n",
       "      <th>time</th>\n",
       "      <th>wspd_sclr</th>\n",
       "      <th>temp_mean</th>\n",
       "      <th>humidity</th>\n",
       "      <th>bar_press</th>\n",
       "      <th>station_id</th>\n",
       "      <th>network_id</th>\n",
       "    </tr>\n",
       "  </thead>\n",
       "  <tbody>\n",
       "    <tr>\n",
       "      <th>5579171</th>\n",
       "      <td>2009-01-03 00:00:00</td>\n",
       "      <td>299.872</td>\n",
       "      <td>NaN</td>\n",
       "      <td>NaN</td>\n",
       "      <td>NaN</td>\n",
       "      <td>E257415</td>\n",
       "      <td>ENV-AQN</td>\n",
       "    </tr>\n",
       "    <tr>\n",
       "      <th>5579165</th>\n",
       "      <td>2009-01-02 18:00:00</td>\n",
       "      <td>299.676</td>\n",
       "      <td>NaN</td>\n",
       "      <td>NaN</td>\n",
       "      <td>NaN</td>\n",
       "      <td>E257415</td>\n",
       "      <td>ENV-AQN</td>\n",
       "    </tr>\n",
       "    <tr>\n",
       "      <th>5579168</th>\n",
       "      <td>2009-01-02 21:00:00</td>\n",
       "      <td>299.667</td>\n",
       "      <td>NaN</td>\n",
       "      <td>NaN</td>\n",
       "      <td>NaN</td>\n",
       "      <td>E257415</td>\n",
       "      <td>ENV-AQN</td>\n",
       "    </tr>\n",
       "    <tr>\n",
       "      <th>5579169</th>\n",
       "      <td>2009-01-02 22:00:00</td>\n",
       "      <td>299.666</td>\n",
       "      <td>NaN</td>\n",
       "      <td>NaN</td>\n",
       "      <td>NaN</td>\n",
       "      <td>E257415</td>\n",
       "      <td>ENV-AQN</td>\n",
       "    </tr>\n",
       "    <tr>\n",
       "      <th>5579170</th>\n",
       "      <td>2009-01-02 23:00:00</td>\n",
       "      <td>299.666</td>\n",
       "      <td>NaN</td>\n",
       "      <td>NaN</td>\n",
       "      <td>NaN</td>\n",
       "      <td>E257415</td>\n",
       "      <td>ENV-AQN</td>\n",
       "    </tr>\n",
       "    <tr>\n",
       "      <th>5579167</th>\n",
       "      <td>2009-01-02 20:00:00</td>\n",
       "      <td>299.660</td>\n",
       "      <td>NaN</td>\n",
       "      <td>NaN</td>\n",
       "      <td>NaN</td>\n",
       "      <td>E257415</td>\n",
       "      <td>ENV-AQN</td>\n",
       "    </tr>\n",
       "    <tr>\n",
       "      <th>5579166</th>\n",
       "      <td>2009-01-02 19:00:00</td>\n",
       "      <td>299.659</td>\n",
       "      <td>NaN</td>\n",
       "      <td>NaN</td>\n",
       "      <td>NaN</td>\n",
       "      <td>E257415</td>\n",
       "      <td>ENV-AQN</td>\n",
       "    </tr>\n",
       "    <tr>\n",
       "      <th>5579151</th>\n",
       "      <td>2009-01-02 04:00:00</td>\n",
       "      <td>299.542</td>\n",
       "      <td>NaN</td>\n",
       "      <td>NaN</td>\n",
       "      <td>NaN</td>\n",
       "      <td>E257415</td>\n",
       "      <td>ENV-AQN</td>\n",
       "    </tr>\n",
       "    <tr>\n",
       "      <th>5580311</th>\n",
       "      <td>2009-02-19 12:00:00</td>\n",
       "      <td>299.351</td>\n",
       "      <td>NaN</td>\n",
       "      <td>NaN</td>\n",
       "      <td>NaN</td>\n",
       "      <td>E257415</td>\n",
       "      <td>ENV-AQN</td>\n",
       "    </tr>\n",
       "    <tr>\n",
       "      <th>5580052</th>\n",
       "      <td>2009-02-08 17:00:00</td>\n",
       "      <td>298.838</td>\n",
       "      <td>NaN</td>\n",
       "      <td>NaN</td>\n",
       "      <td>NaN</td>\n",
       "      <td>E257415</td>\n",
       "      <td>ENV-AQN</td>\n",
       "    </tr>\n",
       "    <tr>\n",
       "      <th>5579968</th>\n",
       "      <td>2009-02-05 05:00:00</td>\n",
       "      <td>296.863</td>\n",
       "      <td>NaN</td>\n",
       "      <td>NaN</td>\n",
       "      <td>NaN</td>\n",
       "      <td>E257415</td>\n",
       "      <td>ENV-AQN</td>\n",
       "    </tr>\n",
       "    <tr>\n",
       "      <th>5579668</th>\n",
       "      <td>2009-01-23 17:00:00</td>\n",
       "      <td>296.197</td>\n",
       "      <td>NaN</td>\n",
       "      <td>NaN</td>\n",
       "      <td>NaN</td>\n",
       "      <td>E257415</td>\n",
       "      <td>ENV-AQN</td>\n",
       "    </tr>\n",
       "    <tr>\n",
       "      <th>5580384</th>\n",
       "      <td>2009-02-22 13:00:00</td>\n",
       "      <td>295.689</td>\n",
       "      <td>NaN</td>\n",
       "      <td>NaN</td>\n",
       "      <td>NaN</td>\n",
       "      <td>E257415</td>\n",
       "      <td>ENV-AQN</td>\n",
       "    </tr>\n",
       "    <tr>\n",
       "      <th>5579514</th>\n",
       "      <td>2009-01-17 07:00:00</td>\n",
       "      <td>295.527</td>\n",
       "      <td>NaN</td>\n",
       "      <td>NaN</td>\n",
       "      <td>NaN</td>\n",
       "      <td>E257415</td>\n",
       "      <td>ENV-AQN</td>\n",
       "    </tr>\n",
       "    <tr>\n",
       "      <th>5579545</th>\n",
       "      <td>2009-01-18 14:00:00</td>\n",
       "      <td>293.812</td>\n",
       "      <td>NaN</td>\n",
       "      <td>NaN</td>\n",
       "      <td>NaN</td>\n",
       "      <td>E257415</td>\n",
       "      <td>ENV-AQN</td>\n",
       "    </tr>\n",
       "    <tr>\n",
       "      <th>5580076</th>\n",
       "      <td>2009-02-09 17:00:00</td>\n",
       "      <td>293.099</td>\n",
       "      <td>NaN</td>\n",
       "      <td>NaN</td>\n",
       "      <td>NaN</td>\n",
       "      <td>E257415</td>\n",
       "      <td>ENV-AQN</td>\n",
       "    </tr>\n",
       "    <tr>\n",
       "      <th>5580471</th>\n",
       "      <td>2009-02-26 04:00:00</td>\n",
       "      <td>292.888</td>\n",
       "      <td>NaN</td>\n",
       "      <td>NaN</td>\n",
       "      <td>NaN</td>\n",
       "      <td>E257415</td>\n",
       "      <td>ENV-AQN</td>\n",
       "    </tr>\n",
       "    <tr>\n",
       "      <th>5580148</th>\n",
       "      <td>2009-02-12 17:00:00</td>\n",
       "      <td>292.455</td>\n",
       "      <td>NaN</td>\n",
       "      <td>NaN</td>\n",
       "      <td>NaN</td>\n",
       "      <td>E257415</td>\n",
       "      <td>ENV-AQN</td>\n",
       "    </tr>\n",
       "    <tr>\n",
       "      <th>5579305</th>\n",
       "      <td>2009-01-08 14:00:00</td>\n",
       "      <td>291.368</td>\n",
       "      <td>NaN</td>\n",
       "      <td>NaN</td>\n",
       "      <td>NaN</td>\n",
       "      <td>E257415</td>\n",
       "      <td>ENV-AQN</td>\n",
       "    </tr>\n",
       "    <tr>\n",
       "      <th>5579712</th>\n",
       "      <td>2009-01-25 13:00:00</td>\n",
       "      <td>290.505</td>\n",
       "      <td>NaN</td>\n",
       "      <td>NaN</td>\n",
       "      <td>NaN</td>\n",
       "      <td>E257415</td>\n",
       "      <td>ENV-AQN</td>\n",
       "    </tr>\n",
       "    <tr>\n",
       "      <th>5579426</th>\n",
       "      <td>2009-01-13 15:00:00</td>\n",
       "      <td>290.167</td>\n",
       "      <td>NaN</td>\n",
       "      <td>NaN</td>\n",
       "      <td>NaN</td>\n",
       "      <td>E257415</td>\n",
       "      <td>ENV-AQN</td>\n",
       "    </tr>\n",
       "    <tr>\n",
       "      <th>5579931</th>\n",
       "      <td>2009-02-03 16:00:00</td>\n",
       "      <td>289.841</td>\n",
       "      <td>NaN</td>\n",
       "      <td>NaN</td>\n",
       "      <td>NaN</td>\n",
       "      <td>E257415</td>\n",
       "      <td>ENV-AQN</td>\n",
       "    </tr>\n",
       "    <tr>\n",
       "      <th>5579704</th>\n",
       "      <td>2009-01-25 05:00:00</td>\n",
       "      <td>286.462</td>\n",
       "      <td>NaN</td>\n",
       "      <td>NaN</td>\n",
       "      <td>NaN</td>\n",
       "      <td>E257415</td>\n",
       "      <td>ENV-AQN</td>\n",
       "    </tr>\n",
       "    <tr>\n",
       "      <th>5579574</th>\n",
       "      <td>2009-01-19 19:00:00</td>\n",
       "      <td>286.409</td>\n",
       "      <td>NaN</td>\n",
       "      <td>NaN</td>\n",
       "      <td>NaN</td>\n",
       "      <td>E257415</td>\n",
       "      <td>ENV-AQN</td>\n",
       "    </tr>\n",
       "    <tr>\n",
       "      <th>5580317</th>\n",
       "      <td>2009-02-19 18:00:00</td>\n",
       "      <td>284.545</td>\n",
       "      <td>NaN</td>\n",
       "      <td>NaN</td>\n",
       "      <td>NaN</td>\n",
       "      <td>E257415</td>\n",
       "      <td>ENV-AQN</td>\n",
       "    </tr>\n",
       "    <tr>\n",
       "      <th>5579539</th>\n",
       "      <td>2009-01-18 08:00:00</td>\n",
       "      <td>284.400</td>\n",
       "      <td>NaN</td>\n",
       "      <td>NaN</td>\n",
       "      <td>NaN</td>\n",
       "      <td>E257415</td>\n",
       "      <td>ENV-AQN</td>\n",
       "    </tr>\n",
       "    <tr>\n",
       "      <th>5580107</th>\n",
       "      <td>2009-02-11 00:00:00</td>\n",
       "      <td>282.595</td>\n",
       "      <td>NaN</td>\n",
       "      <td>NaN</td>\n",
       "      <td>NaN</td>\n",
       "      <td>E257415</td>\n",
       "      <td>ENV-AQN</td>\n",
       "    </tr>\n",
       "    <tr>\n",
       "      <th>5579548</th>\n",
       "      <td>2009-01-18 17:00:00</td>\n",
       "      <td>282.556</td>\n",
       "      <td>NaN</td>\n",
       "      <td>NaN</td>\n",
       "      <td>NaN</td>\n",
       "      <td>E257415</td>\n",
       "      <td>ENV-AQN</td>\n",
       "    </tr>\n",
       "    <tr>\n",
       "      <th>5580190</th>\n",
       "      <td>2009-02-14 11:00:00</td>\n",
       "      <td>279.669</td>\n",
       "      <td>NaN</td>\n",
       "      <td>NaN</td>\n",
       "      <td>NaN</td>\n",
       "      <td>E257415</td>\n",
       "      <td>ENV-AQN</td>\n",
       "    </tr>\n",
       "    <tr>\n",
       "      <th>5580245</th>\n",
       "      <td>2009-02-16 18:00:00</td>\n",
       "      <td>279.206</td>\n",
       "      <td>NaN</td>\n",
       "      <td>NaN</td>\n",
       "      <td>NaN</td>\n",
       "      <td>E257415</td>\n",
       "      <td>ENV-AQN</td>\n",
       "    </tr>\n",
       "    <tr>\n",
       "      <th>5579952</th>\n",
       "      <td>2009-02-04 13:00:00</td>\n",
       "      <td>279.141</td>\n",
       "      <td>NaN</td>\n",
       "      <td>NaN</td>\n",
       "      <td>NaN</td>\n",
       "      <td>E257415</td>\n",
       "      <td>ENV-AQN</td>\n",
       "    </tr>\n",
       "    <tr>\n",
       "      <th>5579576</th>\n",
       "      <td>2009-01-19 21:00:00</td>\n",
       "      <td>277.069</td>\n",
       "      <td>NaN</td>\n",
       "      <td>NaN</td>\n",
       "      <td>NaN</td>\n",
       "      <td>E257415</td>\n",
       "      <td>ENV-AQN</td>\n",
       "    </tr>\n",
       "    <tr>\n",
       "      <th>5580189</th>\n",
       "      <td>2009-02-14 10:00:00</td>\n",
       "      <td>275.627</td>\n",
       "      <td>NaN</td>\n",
       "      <td>NaN</td>\n",
       "      <td>NaN</td>\n",
       "      <td>E257415</td>\n",
       "      <td>ENV-AQN</td>\n",
       "    </tr>\n",
       "    <tr>\n",
       "      <th>5579543</th>\n",
       "      <td>2009-01-18 12:00:00</td>\n",
       "      <td>274.619</td>\n",
       "      <td>NaN</td>\n",
       "      <td>NaN</td>\n",
       "      <td>NaN</td>\n",
       "      <td>E257415</td>\n",
       "      <td>ENV-AQN</td>\n",
       "    </tr>\n",
       "    <tr>\n",
       "      <th>5580077</th>\n",
       "      <td>2009-02-09 18:00:00</td>\n",
       "      <td>271.138</td>\n",
       "      <td>NaN</td>\n",
       "      <td>NaN</td>\n",
       "      <td>NaN</td>\n",
       "      <td>E257415</td>\n",
       "      <td>ENV-AQN</td>\n",
       "    </tr>\n",
       "    <tr>\n",
       "      <th>5579716</th>\n",
       "      <td>2009-01-25 17:00:00</td>\n",
       "      <td>266.059</td>\n",
       "      <td>NaN</td>\n",
       "      <td>NaN</td>\n",
       "      <td>NaN</td>\n",
       "      <td>E257415</td>\n",
       "      <td>ENV-AQN</td>\n",
       "    </tr>\n",
       "    <tr>\n",
       "      <th>5579587</th>\n",
       "      <td>2009-01-20 08:00:00</td>\n",
       "      <td>256.839</td>\n",
       "      <td>NaN</td>\n",
       "      <td>NaN</td>\n",
       "      <td>NaN</td>\n",
       "      <td>E257415</td>\n",
       "      <td>ENV-AQN</td>\n",
       "    </tr>\n",
       "    <tr>\n",
       "      <th>5579581</th>\n",
       "      <td>2009-01-20 02:00:00</td>\n",
       "      <td>256.584</td>\n",
       "      <td>NaN</td>\n",
       "      <td>NaN</td>\n",
       "      <td>NaN</td>\n",
       "      <td>E257415</td>\n",
       "      <td>ENV-AQN</td>\n",
       "    </tr>\n",
       "    <tr>\n",
       "      <th>5580103</th>\n",
       "      <td>2009-02-10 20:00:00</td>\n",
       "      <td>255.733</td>\n",
       "      <td>NaN</td>\n",
       "      <td>NaN</td>\n",
       "      <td>NaN</td>\n",
       "      <td>E257415</td>\n",
       "      <td>ENV-AQN</td>\n",
       "    </tr>\n",
       "    <tr>\n",
       "      <th>5580005</th>\n",
       "      <td>2009-02-06 18:00:00</td>\n",
       "      <td>249.466</td>\n",
       "      <td>NaN</td>\n",
       "      <td>NaN</td>\n",
       "      <td>NaN</td>\n",
       "      <td>E257415</td>\n",
       "      <td>ENV-AQN</td>\n",
       "    </tr>\n",
       "    <tr>\n",
       "      <th>5579701</th>\n",
       "      <td>2009-01-25 02:00:00</td>\n",
       "      <td>247.975</td>\n",
       "      <td>NaN</td>\n",
       "      <td>NaN</td>\n",
       "      <td>NaN</td>\n",
       "      <td>E257415</td>\n",
       "      <td>ENV-AQN</td>\n",
       "    </tr>\n",
       "    <tr>\n",
       "      <th>5580197</th>\n",
       "      <td>2009-02-14 18:00:00</td>\n",
       "      <td>246.183</td>\n",
       "      <td>NaN</td>\n",
       "      <td>NaN</td>\n",
       "      <td>NaN</td>\n",
       "      <td>E257415</td>\n",
       "      <td>ENV-AQN</td>\n",
       "    </tr>\n",
       "    <tr>\n",
       "      <th>5579958</th>\n",
       "      <td>2009-02-04 19:00:00</td>\n",
       "      <td>244.035</td>\n",
       "      <td>NaN</td>\n",
       "      <td>NaN</td>\n",
       "      <td>NaN</td>\n",
       "      <td>E257415</td>\n",
       "      <td>ENV-AQN</td>\n",
       "    </tr>\n",
       "    <tr>\n",
       "      <th>5579700</th>\n",
       "      <td>2009-01-25 01:00:00</td>\n",
       "      <td>243.176</td>\n",
       "      <td>NaN</td>\n",
       "      <td>NaN</td>\n",
       "      <td>NaN</td>\n",
       "      <td>E257415</td>\n",
       "      <td>ENV-AQN</td>\n",
       "    </tr>\n",
       "    <tr>\n",
       "      <th>5580315</th>\n",
       "      <td>2009-02-19 16:00:00</td>\n",
       "      <td>242.969</td>\n",
       "      <td>NaN</td>\n",
       "      <td>NaN</td>\n",
       "      <td>NaN</td>\n",
       "      <td>E257415</td>\n",
       "      <td>ENV-AQN</td>\n",
       "    </tr>\n",
       "    <tr>\n",
       "      <th>5579706</th>\n",
       "      <td>2009-01-25 07:00:00</td>\n",
       "      <td>242.159</td>\n",
       "      <td>NaN</td>\n",
       "      <td>NaN</td>\n",
       "      <td>NaN</td>\n",
       "      <td>E257415</td>\n",
       "      <td>ENV-AQN</td>\n",
       "    </tr>\n",
       "    <tr>\n",
       "      <th>5579152</th>\n",
       "      <td>2009-01-02 05:00:00</td>\n",
       "      <td>241.698</td>\n",
       "      <td>NaN</td>\n",
       "      <td>NaN</td>\n",
       "      <td>NaN</td>\n",
       "      <td>E257415</td>\n",
       "      <td>ENV-AQN</td>\n",
       "    </tr>\n",
       "    <tr>\n",
       "      <th>5580173</th>\n",
       "      <td>2009-02-13 18:00:00</td>\n",
       "      <td>241.577</td>\n",
       "      <td>NaN</td>\n",
       "      <td>NaN</td>\n",
       "      <td>NaN</td>\n",
       "      <td>E257415</td>\n",
       "      <td>ENV-AQN</td>\n",
       "    </tr>\n",
       "    <tr>\n",
       "      <th>5579713</th>\n",
       "      <td>2009-01-25 14:00:00</td>\n",
       "      <td>241.185</td>\n",
       "      <td>NaN</td>\n",
       "      <td>NaN</td>\n",
       "      <td>NaN</td>\n",
       "      <td>E257415</td>\n",
       "      <td>ENV-AQN</td>\n",
       "    </tr>\n",
       "    <tr>\n",
       "      <th>5579640</th>\n",
       "      <td>2009-01-22 13:00:00</td>\n",
       "      <td>240.148</td>\n",
       "      <td>NaN</td>\n",
       "      <td>NaN</td>\n",
       "      <td>NaN</td>\n",
       "      <td>E257415</td>\n",
       "      <td>ENV-AQN</td>\n",
       "    </tr>\n",
       "  </tbody>\n",
       "</table>\n",
       "</div>"
      ],
      "text/plain": [
       "                         time  wspd_sclr  temp_mean  humidity  bar_press  \\\n",
       "5579171   2009-01-03 00:00:00    299.872        NaN       NaN        NaN   \n",
       "5579165   2009-01-02 18:00:00    299.676        NaN       NaN        NaN   \n",
       "5579168   2009-01-02 21:00:00    299.667        NaN       NaN        NaN   \n",
       "5579169   2009-01-02 22:00:00    299.666        NaN       NaN        NaN   \n",
       "5579170   2009-01-02 23:00:00    299.666        NaN       NaN        NaN   \n",
       "5579167   2009-01-02 20:00:00    299.660        NaN       NaN        NaN   \n",
       "5579166   2009-01-02 19:00:00    299.659        NaN       NaN        NaN   \n",
       "5579151   2009-01-02 04:00:00    299.542        NaN       NaN        NaN   \n",
       "5580311   2009-02-19 12:00:00    299.351        NaN       NaN        NaN   \n",
       "5580052   2009-02-08 17:00:00    298.838        NaN       NaN        NaN   \n",
       "5579968   2009-02-05 05:00:00    296.863        NaN       NaN        NaN   \n",
       "5579668   2009-01-23 17:00:00    296.197        NaN       NaN        NaN   \n",
       "5580384   2009-02-22 13:00:00    295.689        NaN       NaN        NaN   \n",
       "5579514   2009-01-17 07:00:00    295.527        NaN       NaN        NaN   \n",
       "5579545   2009-01-18 14:00:00    293.812        NaN       NaN        NaN   \n",
       "5580076   2009-02-09 17:00:00    293.099        NaN       NaN        NaN   \n",
       "5580471   2009-02-26 04:00:00    292.888        NaN       NaN        NaN   \n",
       "5580148   2009-02-12 17:00:00    292.455        NaN       NaN        NaN   \n",
       "5579305   2009-01-08 14:00:00    291.368        NaN       NaN        NaN   \n",
       "5579712   2009-01-25 13:00:00    290.505        NaN       NaN        NaN   \n",
       "5579426   2009-01-13 15:00:00    290.167        NaN       NaN        NaN   \n",
       "5579931   2009-02-03 16:00:00    289.841        NaN       NaN        NaN   \n",
       "5579704   2009-01-25 05:00:00    286.462        NaN       NaN        NaN   \n",
       "5579574   2009-01-19 19:00:00    286.409        NaN       NaN        NaN   \n",
       "5580317   2009-02-19 18:00:00    284.545        NaN       NaN        NaN   \n",
       "5579539   2009-01-18 08:00:00    284.400        NaN       NaN        NaN   \n",
       "5580107   2009-02-11 00:00:00    282.595        NaN       NaN        NaN   \n",
       "5579548   2009-01-18 17:00:00    282.556        NaN       NaN        NaN   \n",
       "5580190   2009-02-14 11:00:00    279.669        NaN       NaN        NaN   \n",
       "5580245   2009-02-16 18:00:00    279.206        NaN       NaN        NaN   \n",
       "5579952   2009-02-04 13:00:00    279.141        NaN       NaN        NaN   \n",
       "5579576   2009-01-19 21:00:00    277.069        NaN       NaN        NaN   \n",
       "5580189   2009-02-14 10:00:00    275.627        NaN       NaN        NaN   \n",
       "5579543   2009-01-18 12:00:00    274.619        NaN       NaN        NaN   \n",
       "5580077   2009-02-09 18:00:00    271.138        NaN       NaN        NaN   \n",
       "5579716   2009-01-25 17:00:00    266.059        NaN       NaN        NaN   \n",
       "5579587   2009-01-20 08:00:00    256.839        NaN       NaN        NaN   \n",
       "5579581   2009-01-20 02:00:00    256.584        NaN       NaN        NaN   \n",
       "5580103   2009-02-10 20:00:00    255.733        NaN       NaN        NaN   \n",
       "5580005   2009-02-06 18:00:00    249.466        NaN       NaN        NaN   \n",
       "5579701   2009-01-25 02:00:00    247.975        NaN       NaN        NaN   \n",
       "5580197   2009-02-14 18:00:00    246.183        NaN       NaN        NaN   \n",
       "5579958   2009-02-04 19:00:00    244.035        NaN       NaN        NaN   \n",
       "5579700   2009-01-25 01:00:00    243.176        NaN       NaN        NaN   \n",
       "5580315   2009-02-19 16:00:00    242.969        NaN       NaN        NaN   \n",
       "5579706   2009-01-25 07:00:00    242.159        NaN       NaN        NaN   \n",
       "5579152   2009-01-02 05:00:00    241.698        NaN       NaN        NaN   \n",
       "5580173   2009-02-13 18:00:00    241.577        NaN       NaN        NaN   \n",
       "5579713   2009-01-25 14:00:00    241.185        NaN       NaN        NaN   \n",
       "5579640   2009-01-22 13:00:00    240.148        NaN       NaN        NaN   \n",
       "\n",
       "        station_id network_id  \n",
       "5579171    E257415    ENV-AQN  \n",
       "5579165    E257415    ENV-AQN  \n",
       "5579168    E257415    ENV-AQN  \n",
       "5579169    E257415    ENV-AQN  \n",
       "5579170    E257415    ENV-AQN  \n",
       "5579167    E257415    ENV-AQN  \n",
       "5579166    E257415    ENV-AQN  \n",
       "5579151    E257415    ENV-AQN  \n",
       "5580311    E257415    ENV-AQN  \n",
       "5580052    E257415    ENV-AQN  \n",
       "5579968    E257415    ENV-AQN  \n",
       "5579668    E257415    ENV-AQN  \n",
       "5580384    E257415    ENV-AQN  \n",
       "5579514    E257415    ENV-AQN  \n",
       "5579545    E257415    ENV-AQN  \n",
       "5580076    E257415    ENV-AQN  \n",
       "5580471    E257415    ENV-AQN  \n",
       "5580148    E257415    ENV-AQN  \n",
       "5579305    E257415    ENV-AQN  \n",
       "5579712    E257415    ENV-AQN  \n",
       "5579426    E257415    ENV-AQN  \n",
       "5579931    E257415    ENV-AQN  \n",
       "5579704    E257415    ENV-AQN  \n",
       "5579574    E257415    ENV-AQN  \n",
       "5580317    E257415    ENV-AQN  \n",
       "5579539    E257415    ENV-AQN  \n",
       "5580107    E257415    ENV-AQN  \n",
       "5579548    E257415    ENV-AQN  \n",
       "5580190    E257415    ENV-AQN  \n",
       "5580245    E257415    ENV-AQN  \n",
       "5579952    E257415    ENV-AQN  \n",
       "5579576    E257415    ENV-AQN  \n",
       "5580189    E257415    ENV-AQN  \n",
       "5579543    E257415    ENV-AQN  \n",
       "5580077    E257415    ENV-AQN  \n",
       "5579716    E257415    ENV-AQN  \n",
       "5579587    E257415    ENV-AQN  \n",
       "5579581    E257415    ENV-AQN  \n",
       "5580103    E257415    ENV-AQN  \n",
       "5580005    E257415    ENV-AQN  \n",
       "5579701    E257415    ENV-AQN  \n",
       "5580197    E257415    ENV-AQN  \n",
       "5579958    E257415    ENV-AQN  \n",
       "5579700    E257415    ENV-AQN  \n",
       "5580315    E257415    ENV-AQN  \n",
       "5579706    E257415    ENV-AQN  \n",
       "5579152    E257415    ENV-AQN  \n",
       "5580173    E257415    ENV-AQN  \n",
       "5579713    E257415    ENV-AQN  \n",
       "5579640    E257415    ENV-AQN  "
      ]
     },
     "execution_count": 61,
     "metadata": {},
     "output_type": "execute_result"
    }
   ],
   "source": [
    "# check windspeed max values\n",
    "ENV_AQN_data_wind_clean.nlargest(50, 'wspd_sclr')\n"
   ]
  },
  {
   "cell_type": "markdown",
   "metadata": {},
   "source": [
    "*Note: no units were provided for wind speed column. Based on maximum values, assumed that units were km/h.*"
   ]
  },
  {
   "cell_type": "code",
   "execution_count": 62,
   "metadata": {},
   "outputs": [
    {
     "data": {
      "text/html": [
       "<div>\n",
       "<style scoped>\n",
       "    .dataframe tbody tr th:only-of-type {\n",
       "        vertical-align: middle;\n",
       "    }\n",
       "\n",
       "    .dataframe tbody tr th {\n",
       "        vertical-align: top;\n",
       "    }\n",
       "\n",
       "    .dataframe thead th {\n",
       "        text-align: right;\n",
       "    }\n",
       "</style>\n",
       "<table border=\"1\" class=\"dataframe\">\n",
       "  <thead>\n",
       "    <tr style=\"text-align: right;\">\n",
       "      <th></th>\n",
       "      <th>time</th>\n",
       "      <th>wspd_sclr</th>\n",
       "      <th>temp_mean</th>\n",
       "      <th>humidity</th>\n",
       "      <th>bar_press</th>\n",
       "      <th>station_id</th>\n",
       "      <th>network_id</th>\n",
       "    </tr>\n",
       "  </thead>\n",
       "  <tbody>\n",
       "    <tr>\n",
       "      <th>0</th>\n",
       "      <td>1998-03-12 15:00:00</td>\n",
       "      <td>0.290000</td>\n",
       "      <td>12.17</td>\n",
       "      <td>NaN</td>\n",
       "      <td>NaN</td>\n",
       "      <td>110031</td>\n",
       "      <td>ENV-AQN</td>\n",
       "    </tr>\n",
       "    <tr>\n",
       "      <th>1</th>\n",
       "      <td>1998-03-12 16:00:00</td>\n",
       "      <td>0.699444</td>\n",
       "      <td>11.80</td>\n",
       "      <td>NaN</td>\n",
       "      <td>NaN</td>\n",
       "      <td>110031</td>\n",
       "      <td>ENV-AQN</td>\n",
       "    </tr>\n",
       "    <tr>\n",
       "      <th>2</th>\n",
       "      <td>1998-03-12 17:00:00</td>\n",
       "      <td>0.285556</td>\n",
       "      <td>11.29</td>\n",
       "      <td>NaN</td>\n",
       "      <td>NaN</td>\n",
       "      <td>110031</td>\n",
       "      <td>ENV-AQN</td>\n",
       "    </tr>\n",
       "    <tr>\n",
       "      <th>3</th>\n",
       "      <td>1998-03-12 18:00:00</td>\n",
       "      <td>0.195556</td>\n",
       "      <td>10.70</td>\n",
       "      <td>NaN</td>\n",
       "      <td>NaN</td>\n",
       "      <td>110031</td>\n",
       "      <td>ENV-AQN</td>\n",
       "    </tr>\n",
       "    <tr>\n",
       "      <th>4</th>\n",
       "      <td>1998-03-12 19:00:00</td>\n",
       "      <td>0.057778</td>\n",
       "      <td>10.28</td>\n",
       "      <td>NaN</td>\n",
       "      <td>NaN</td>\n",
       "      <td>110031</td>\n",
       "      <td>ENV-AQN</td>\n",
       "    </tr>\n",
       "    <tr>\n",
       "      <th>5</th>\n",
       "      <td>1998-03-12 20:00:00</td>\n",
       "      <td>0.038889</td>\n",
       "      <td>10.15</td>\n",
       "      <td>NaN</td>\n",
       "      <td>NaN</td>\n",
       "      <td>110031</td>\n",
       "      <td>ENV-AQN</td>\n",
       "    </tr>\n",
       "    <tr>\n",
       "      <th>6</th>\n",
       "      <td>1998-03-12 21:00:00</td>\n",
       "      <td>0.148333</td>\n",
       "      <td>9.88</td>\n",
       "      <td>NaN</td>\n",
       "      <td>NaN</td>\n",
       "      <td>110031</td>\n",
       "      <td>ENV-AQN</td>\n",
       "    </tr>\n",
       "    <tr>\n",
       "      <th>7</th>\n",
       "      <td>1998-03-12 22:00:00</td>\n",
       "      <td>0.126944</td>\n",
       "      <td>9.80</td>\n",
       "      <td>NaN</td>\n",
       "      <td>NaN</td>\n",
       "      <td>110031</td>\n",
       "      <td>ENV-AQN</td>\n",
       "    </tr>\n",
       "    <tr>\n",
       "      <th>8</th>\n",
       "      <td>1998-03-12 23:00:00</td>\n",
       "      <td>0.254444</td>\n",
       "      <td>9.94</td>\n",
       "      <td>NaN</td>\n",
       "      <td>NaN</td>\n",
       "      <td>110031</td>\n",
       "      <td>ENV-AQN</td>\n",
       "    </tr>\n",
       "    <tr>\n",
       "      <th>9</th>\n",
       "      <td>1998-03-13 00:00:00</td>\n",
       "      <td>0.084167</td>\n",
       "      <td>9.85</td>\n",
       "      <td>NaN</td>\n",
       "      <td>NaN</td>\n",
       "      <td>110031</td>\n",
       "      <td>ENV-AQN</td>\n",
       "    </tr>\n",
       "    <tr>\n",
       "      <th>10</th>\n",
       "      <td>1998-03-13 01:00:00</td>\n",
       "      <td>0.111944</td>\n",
       "      <td>9.57</td>\n",
       "      <td>NaN</td>\n",
       "      <td>NaN</td>\n",
       "      <td>110031</td>\n",
       "      <td>ENV-AQN</td>\n",
       "    </tr>\n",
       "    <tr>\n",
       "      <th>11</th>\n",
       "      <td>1998-03-13 02:00:00</td>\n",
       "      <td>0.105000</td>\n",
       "      <td>9.59</td>\n",
       "      <td>NaN</td>\n",
       "      <td>NaN</td>\n",
       "      <td>110031</td>\n",
       "      <td>ENV-AQN</td>\n",
       "    </tr>\n",
       "    <tr>\n",
       "      <th>12</th>\n",
       "      <td>1998-03-13 03:00:00</td>\n",
       "      <td>0.208333</td>\n",
       "      <td>9.72</td>\n",
       "      <td>NaN</td>\n",
       "      <td>NaN</td>\n",
       "      <td>110031</td>\n",
       "      <td>ENV-AQN</td>\n",
       "    </tr>\n",
       "    <tr>\n",
       "      <th>13</th>\n",
       "      <td>1998-03-13 04:00:00</td>\n",
       "      <td>0.160000</td>\n",
       "      <td>9.83</td>\n",
       "      <td>NaN</td>\n",
       "      <td>NaN</td>\n",
       "      <td>110031</td>\n",
       "      <td>ENV-AQN</td>\n",
       "    </tr>\n",
       "    <tr>\n",
       "      <th>14</th>\n",
       "      <td>1998-03-13 05:00:00</td>\n",
       "      <td>0.062222</td>\n",
       "      <td>9.57</td>\n",
       "      <td>NaN</td>\n",
       "      <td>NaN</td>\n",
       "      <td>110031</td>\n",
       "      <td>ENV-AQN</td>\n",
       "    </tr>\n",
       "  </tbody>\n",
       "</table>\n",
       "</div>"
      ],
      "text/plain": [
       "                    time  wspd_sclr  temp_mean  humidity  bar_press  \\\n",
       "0    1998-03-12 15:00:00   0.290000      12.17       NaN        NaN   \n",
       "1    1998-03-12 16:00:00   0.699444      11.80       NaN        NaN   \n",
       "2    1998-03-12 17:00:00   0.285556      11.29       NaN        NaN   \n",
       "3    1998-03-12 18:00:00   0.195556      10.70       NaN        NaN   \n",
       "4    1998-03-12 19:00:00   0.057778      10.28       NaN        NaN   \n",
       "5    1998-03-12 20:00:00   0.038889      10.15       NaN        NaN   \n",
       "6    1998-03-12 21:00:00   0.148333       9.88       NaN        NaN   \n",
       "7    1998-03-12 22:00:00   0.126944       9.80       NaN        NaN   \n",
       "8    1998-03-12 23:00:00   0.254444       9.94       NaN        NaN   \n",
       "9    1998-03-13 00:00:00   0.084167       9.85       NaN        NaN   \n",
       "10   1998-03-13 01:00:00   0.111944       9.57       NaN        NaN   \n",
       "11   1998-03-13 02:00:00   0.105000       9.59       NaN        NaN   \n",
       "12   1998-03-13 03:00:00   0.208333       9.72       NaN        NaN   \n",
       "13   1998-03-13 04:00:00   0.160000       9.83       NaN        NaN   \n",
       "14   1998-03-13 05:00:00   0.062222       9.57       NaN        NaN   \n",
       "\n",
       "   station_id network_id  \n",
       "0      110031    ENV-AQN  \n",
       "1      110031    ENV-AQN  \n",
       "2      110031    ENV-AQN  \n",
       "3      110031    ENV-AQN  \n",
       "4      110031    ENV-AQN  \n",
       "5      110031    ENV-AQN  \n",
       "6      110031    ENV-AQN  \n",
       "7      110031    ENV-AQN  \n",
       "8      110031    ENV-AQN  \n",
       "9      110031    ENV-AQN  \n",
       "10     110031    ENV-AQN  \n",
       "11     110031    ENV-AQN  \n",
       "12     110031    ENV-AQN  \n",
       "13     110031    ENV-AQN  \n",
       "14     110031    ENV-AQN  "
      ]
     },
     "execution_count": 62,
     "metadata": {},
     "output_type": "execute_result"
    }
   ],
   "source": [
    "# convert windspeed values from km/h to m/s by dividing values by 3.6\n",
    "ENV_AQN_data_wind_clean.loc[:,'wspd_sclr'] = ENV_AQN_data_wind_clean.loc[:,'wspd_sclr'].div(3.6)\n",
    "ENV_AQN_data_wind_clean.head(15)"
   ]
  },
  {
   "cell_type": "code",
   "execution_count": 63,
   "metadata": {},
   "outputs": [],
   "source": [
    "# rename columns\n",
    "ENV_AQN_wind = ENV_AQN_data_wind_clean.rename(columns={\"wspd_sclr\": \"wind_speed\", \"temp_mean\": \"air_temperature\", \"humidity\": \"relative_humidity\", \"bar_press\": \"air_pressure\"})"
   ]
  },
  {
   "cell_type": "code",
   "execution_count": 66,
   "metadata": {},
   "outputs": [],
   "source": [
    "# save to csv\n",
    "ENV_AQN_wind.to_csv(f'{path_2}/ENV_AQN_wind.csv', index=False)"
   ]
  },
  {
   "cell_type": "markdown",
   "metadata": {},
   "source": [
    "#### FLNRO_FERN Data Cleaning"
   ]
  },
  {
   "cell_type": "code",
   "execution_count": 67,
   "metadata": {},
   "outputs": [
    {
     "name": "stderr",
     "output_type": "stream",
     "text": [
      "d:\\School\\LHL\\capstone_project_data\\LHL_Capstone_Project\\notebooks\\functions.py:149: DtypeWarning: Columns (10) have mixed types. Specify dtype option on import or set low_memory=False.\n",
      "  df_name = pd.read_csv(f'{path_2}/{data_name}.csv')\n"
     ]
    }
   ],
   "source": [
    "FLNRO_FERN_data = functions.to_df('FLNRO_FERN_data.csv')"
   ]
  },
  {
   "cell_type": "code",
   "execution_count": 68,
   "metadata": {},
   "outputs": [],
   "source": [
    "column_names, column_nulls, duplicate_row_index = functions.start_cleaning(FLNRO_FERN_data)"
   ]
  },
  {
   "cell_type": "code",
   "execution_count": 69,
   "metadata": {},
   "outputs": [
    {
     "name": "stdout",
     "output_type": "stream",
     "text": [
      "column names: ['tempc', 'solarradiationwm', 'rh', 'windspeedms', 'pressurembar', 'rainmm', 'gustspeedms', 'time', 'winddirection', 'dewptc', 'station_id', 'network_id', 'wetness', 'tx', 'tn', 'rhx', 'tm', 'rhn']\n",
      "column nulls: tempc                 78077\n",
      "solarradiationwm     155467\n",
      "rh                    76028\n",
      "windspeedms          159515\n",
      "pressurembar         143098\n",
      "rainmm               163976\n",
      "gustspeedms          171360\n",
      "time                      0\n",
      "winddirection        398990\n",
      "dewptc               187998\n",
      "station_id                0\n",
      "network_id                0\n",
      "wetness             1441326\n",
      "tx                  2310484\n",
      "tn                  2310515\n",
      "rhx                 2331262\n",
      "tm                  2319798\n",
      "rhn                 2331284\n",
      "dtype: int64\n",
      "duplicate rows: Index([], dtype='int64')\n"
     ]
    }
   ],
   "source": [
    "print(f'column names: {column_names}')\n",
    "print(f'column nulls: {column_nulls}')\n",
    "print(f'duplicate rows: {duplicate_row_index}')"
   ]
  },
  {
   "cell_type": "code",
   "execution_count": 70,
   "metadata": {},
   "outputs": [],
   "source": [
    "# only keep variables of interest\n",
    "FLNRO_FERN_data_solar = FLNRO_FERN_data.loc[:,('time', 'solarradiationwm', 'station_id', 'network_id')]\n",
    "FLNRO_FERN_data_wind = FLNRO_FERN_data.loc[:,('time', 'windspeedms', 'tempc', 'rh', 'pressurembar', 'station_id', 'network_id')]"
   ]
  },
  {
   "cell_type": "code",
   "execution_count": 71,
   "metadata": {},
   "outputs": [
    {
     "data": {
      "text/plain": [
       "time                0\n",
       "solarradiationwm    0\n",
       "station_id          0\n",
       "network_id          0\n",
       "dtype: int64"
      ]
     },
     "execution_count": 71,
     "metadata": {},
     "output_type": "execute_result"
    }
   ],
   "source": [
    "# drop rows in solar data that do not have SolarRadiation values\n",
    "FLNRO_FERN_data_solar_clean = FLNRO_FERN_data_solar.dropna(subset=['solarradiationwm'])\n",
    "FLNRO_FERN_data_solar_clean.isna().sum()"
   ]
  },
  {
   "cell_type": "code",
   "execution_count": 72,
   "metadata": {},
   "outputs": [],
   "source": [
    "# rename columns\n",
    "FLNRO_FERN_solar = FLNRO_FERN_data_solar_clean.rename(columns={\"solarradiationwm\": \"solar_radiation\"})"
   ]
  },
  {
   "cell_type": "code",
   "execution_count": 73,
   "metadata": {},
   "outputs": [],
   "source": [
    "FLNRO_FERN_solar.to_csv(f'{path_2}/FLNRO_FERN_solar.csv', index=False)"
   ]
  },
  {
   "cell_type": "code",
   "execution_count": 74,
   "metadata": {},
   "outputs": [
    {
     "data": {
      "text/plain": [
       "time                 0\n",
       "windspeedms     159515\n",
       "tempc            78077\n",
       "rh               76028\n",
       "pressurembar    143098\n",
       "station_id           0\n",
       "network_id           0\n",
       "dtype: int64"
      ]
     },
     "execution_count": 74,
     "metadata": {},
     "output_type": "execute_result"
    }
   ],
   "source": [
    "# count null values in wind data\n",
    "FLNRO_FERN_data_wind.isna().sum()"
   ]
  },
  {
   "cell_type": "code",
   "execution_count": 75,
   "metadata": {},
   "outputs": [
    {
     "data": {
      "text/plain": [
       "time                0\n",
       "windspeedms         0\n",
       "tempc           53919\n",
       "rh              51069\n",
       "pressurembar    53561\n",
       "station_id          0\n",
       "network_id          0\n",
       "dtype: int64"
      ]
     },
     "execution_count": 75,
     "metadata": {},
     "output_type": "execute_result"
    }
   ],
   "source": [
    "# drop rows in wind data that do not have WindSpeed values\n",
    "FLNRO_FERN_data_wind_clean = FLNRO_FERN_data_wind.dropna(subset=['windspeedms'])\n",
    "FLNRO_FERN_data_wind_clean.isna().sum()"
   ]
  },
  {
   "cell_type": "code",
   "execution_count": 76,
   "metadata": {},
   "outputs": [],
   "source": [
    "# rename columns\n",
    "FLNRO_FERN_wind = FLNRO_FERN_data_wind_clean.rename(columns={\"windspeedms\": \"wind_speed\", \"tempc\": \"air_temperature\", \"rh\": \"relative_humidity\", \"pressurembar\": \"air_pressure\"})"
   ]
  },
  {
   "cell_type": "code",
   "execution_count": 77,
   "metadata": {},
   "outputs": [],
   "source": [
    "# save to csv\n",
    "FLNRO_FERN_wind.to_csv(f'{path_2}/FLNRO_FERN_wind.csv', index=False)"
   ]
  },
  {
   "cell_type": "markdown",
   "metadata": {},
   "source": [
    "#### FLNRO_WMB Data Cleaning"
   ]
  },
  {
   "cell_type": "markdown",
   "metadata": {},
   "source": [
    "*Note: memory error occurred when trying to import data. Will either exclude from analysis or clean data in pgAdmin*"
   ]
  },
  {
   "cell_type": "code",
   "execution_count": null,
   "metadata": {},
   "outputs": [],
   "source": [
    "# FLNRO_WMB_data = functions.to_df('FLNRO_WMB_data.csv')"
   ]
  },
  {
   "cell_type": "code",
   "execution_count": null,
   "metadata": {},
   "outputs": [],
   "source": [
    "# column_names, column_nulls, duplicate_row_index = functions.start_cleaning(FLNRO_WMB_data)"
   ]
  },
  {
   "cell_type": "code",
   "execution_count": null,
   "metadata": {},
   "outputs": [],
   "source": [
    "# print(f'column names: {column_names}')\n",
    "# print(f'column nulls: {column_nulls}')\n",
    "# print(f'duplicate rows: {duplicate_row_index}')"
   ]
  },
  {
   "cell_type": "code",
   "execution_count": null,
   "metadata": {},
   "outputs": [],
   "source": [
    "# # only keep variables of interest\n",
    "# FLNRO_WMB_data_solar = FLNRO_WMB_data.loc[:,('time', 'solarradiationwm', 'station_id', 'network_id')]\n",
    "# FLNRO_WMB_data_wind = FLNRO_WMB_data.loc[:,('time', 'windspeedms', 'tempc', 'rh', 'pressurembar', 'station_id', 'network_id')]"
   ]
  },
  {
   "cell_type": "code",
   "execution_count": null,
   "metadata": {},
   "outputs": [],
   "source": [
    "# # drop rows in solar data that do not have SolarRadiation values\n",
    "# FLNRO_WMB_data_solar_clean = FLNRO_WMB_data_solar.dropna(subset=['solarradiationwm'])\n",
    "# FLNRO_WMB_data_solar_clean.isna().sum()"
   ]
  },
  {
   "cell_type": "code",
   "execution_count": null,
   "metadata": {},
   "outputs": [],
   "source": [
    "# # rename columns\n",
    "# FLNRO_WMB_solar = FLNRO_WMB_data_solar_clean.rename(columns={\"solarradiationwm\": \"solar_radiation\"})"
   ]
  },
  {
   "cell_type": "code",
   "execution_count": null,
   "metadata": {},
   "outputs": [],
   "source": [
    "# FLNRO_WMB_solar.to_csv(f'{path_2}/FLNRO_WMB_solar.csv', index=False)"
   ]
  },
  {
   "cell_type": "code",
   "execution_count": null,
   "metadata": {},
   "outputs": [],
   "source": [
    "# # count null values in wind data\n",
    "# FLNRO_WMB_data_wind.isna().sum()"
   ]
  },
  {
   "cell_type": "code",
   "execution_count": null,
   "metadata": {},
   "outputs": [],
   "source": [
    "# # drop rows in wind data that do not have WindSpeed values\n",
    "# FLNRO_WMB_data_wind_clean = FLNRO_WMB_data_wind.dropna(subset=['windspeedms'])\n",
    "# FLNRO_WMB_data_wind_clean.isna().sum()"
   ]
  },
  {
   "cell_type": "code",
   "execution_count": null,
   "metadata": {},
   "outputs": [],
   "source": [
    "# # rename columns\n",
    "# FLNRO_WMB_wind = FLNRO_WMB_data_wind_clean.rename(columns={\"windspeedms\": \"wind_speed\", \"tempc\": \"air_temperature\", \"rh\": \"relative_humidity\", \"pressurembar\": \"air_pressure\"})"
   ]
  },
  {
   "cell_type": "code",
   "execution_count": null,
   "metadata": {},
   "outputs": [],
   "source": [
    "# # save to csv\n",
    "# FLNRO_WMB_wind.to_csv(f'{path_2}/FLNRO_WMB_wind.csv', index=False)"
   ]
  },
  {
   "cell_type": "markdown",
   "metadata": {},
   "source": [
    "#### MoTIe Data Cleaning"
   ]
  },
  {
   "cell_type": "code",
   "execution_count": 5,
   "metadata": {},
   "outputs": [],
   "source": [
    "MoTIe_col_names = pd.read_csv(f'{path_2}/MoTIe_data_clean.csv', index_col=0, nrows=0)"
   ]
  },
  {
   "cell_type": "code",
   "execution_count": 6,
   "metadata": {},
   "outputs": [
    {
     "data": {
      "text/plain": [
       "['standard_snow',\n",
       " 'minimum_air_temperature',\n",
       " 'max_wnd_spd_10m_pst1hr',\n",
       " 'measured_wind_speed1',\n",
       " 'measured_wind_direction1',\n",
       " 'dwpt_temp',\n",
       " 'min_air_temp_snc_last_reset',\n",
       " 'dew_point',\n",
       " 'atmospheric_pressure',\n",
       " 'avg_wnd_dir_10m_pst10mts',\n",
       " 'actual_wind_direction',\n",
       " 'maximum_air_temperature',\n",
       " 'snw_dpth',\n",
       " 'maximum_measured_wind_speed1',\n",
       " 'height_of_snow',\n",
       " 'pcpn_amt_pst24hrs',\n",
       " 'current_air_temperature2',\n",
       " 'current_air_temperature1',\n",
       " 'precipitation_new',\n",
       " 'max_air_temp_snc_last_reset',\n",
       " 'precip_detector_ratio',\n",
       " 'actual_wind_speed',\n",
       " 'wind_direction_std_deviation1',\n",
       " 'avg_wnd_spd_10m_pst10mts',\n",
       " 'air_temp',\n",
       " 'mslp',\n",
       " 'pcpn_amt_pst1hr',\n",
       " 'snwfl_amt_pst1hr',\n",
       " 'rel_hum',\n",
       " 'time',\n",
       " 'stn_pres',\n",
       " 'station_id',\n",
       " 'network_id']"
      ]
     },
     "execution_count": 6,
     "metadata": {},
     "output_type": "execute_result"
    }
   ],
   "source": [
    "list(MoTIe_col_names)"
   ]
  },
  {
   "cell_type": "code",
   "execution_count": null,
   "metadata": {},
   "outputs": [],
   "source": [
    "# # Note: MemoryError/kernel crashed when attempting to import entire csv at once. Modify approach to limit how much of the csv is imported.\n",
    "# MoTIe_data = functions.to_df('MoTIe_data_clean.csv')"
   ]
  },
  {
   "cell_type": "code",
   "execution_count": 8,
   "metadata": {},
   "outputs": [],
   "source": [
    "# limit which columns are included in the read_csv function in order to combat memory error\n",
    "MoTIe_data = pd.read_csv(f'{path_2}/MoTIe_data_clean.csv', usecols=['time', 'actual_wind_speed', 'measured_wind_speed1', 'current_air_temperature1', 'current_air_temperature2', 'air_temp', 'rel_hum', 'relative_humidity1', 'atmospheric_pressure', 'stn_pres', 'station_id', 'network_id'])"
   ]
  },
  {
   "cell_type": "code",
   "execution_count": 9,
   "metadata": {},
   "outputs": [],
   "source": [
    "column_names, column_nulls, duplicate_row_index = functions.start_cleaning(MoTIe_data)"
   ]
  },
  {
   "cell_type": "code",
   "execution_count": 10,
   "metadata": {},
   "outputs": [
    {
     "name": "stdout",
     "output_type": "stream",
     "text": [
      "column names: ['relative_humidity1', 'measured_wind_speed1', 'atmospheric_pressure', 'current_air_temperature2', 'current_air_temperature1', 'actual_wind_speed', 'air_temp', 'rel_hum', 'time', 'stn_pres', 'station_id', 'network_id']\n",
      "column nulls: relative_humidity1           6415149\n",
      "measured_wind_speed1         7597565\n",
      "atmospheric_pressure        11195679\n",
      "current_air_temperature2    17585743\n",
      "current_air_temperature1     1047258\n",
      "actual_wind_speed           17764947\n",
      "air_temp                    19147710\n",
      "rel_hum                     19712282\n",
      "time                               0\n",
      "stn_pres                    20692645\n",
      "station_id                         0\n",
      "network_id                         0\n",
      "dtype: int64\n",
      "duplicate rows: Index([], dtype='int64')\n"
     ]
    },
    {
     "data": {
      "text/plain": [
       "(23833427, 12)"
      ]
     },
     "execution_count": 10,
     "metadata": {},
     "output_type": "execute_result"
    }
   ],
   "source": [
    "print(f'column names: {column_names}')\n",
    "print(f'column nulls: {column_nulls}')\n",
    "print(f'duplicate rows: {duplicate_row_index}')\n",
    "MoTIe_data.shape"
   ]
  },
  {
   "cell_type": "code",
   "execution_count": 11,
   "metadata": {},
   "outputs": [],
   "source": [
    "# only keep variables of interest\n",
    "# no solar data available from this network\n",
    "# columns were already filtered when reading csv, rename df for naming consistency\n",
    "MoTIe_data_wind = MoTIe_data.loc[:,('relative_humidity1', 'measured_wind_speed1', 'atmospheric_pressure', 'current_air_temperature2', 'current_air_temperature1', 'actual_wind_speed', 'air_temp', 'rel_hum', 'time', 'stn_pres', 'station_id', 'network_id')]"
   ]
  },
  {
   "cell_type": "code",
   "execution_count": 12,
   "metadata": {},
   "outputs": [
    {
     "data": {
      "text/plain": [
       "relative_humidity1           6415149\n",
       "measured_wind_speed1         7597565\n",
       "atmospheric_pressure        11195679\n",
       "current_air_temperature2    17585743\n",
       "current_air_temperature1     1047258\n",
       "actual_wind_speed           17764947\n",
       "air_temp                    19147710\n",
       "rel_hum                     19712282\n",
       "time                               0\n",
       "stn_pres                    20692645\n",
       "station_id                         0\n",
       "network_id                         0\n",
       "dtype: int64"
      ]
     },
     "execution_count": 12,
     "metadata": {},
     "output_type": "execute_result"
    }
   ],
   "source": [
    "# count null values in wind data\n",
    "MoTIe_data_wind.isna().sum()"
   ]
  },
  {
   "cell_type": "code",
   "execution_count": 71,
   "metadata": {},
   "outputs": [
    {
     "data": {
      "text/plain": [
       "relative_humidity1           1658426\n",
       "measured_wind_speed1            5861\n",
       "atmospheric_pressure         5535077\n",
       "current_air_temperature2    10958332\n",
       "current_air_temperature1      121686\n",
       "actual_wind_speed           10173243\n",
       "air_temp                    13311538\n",
       "rel_hum                     13492143\n",
       "time                               0\n",
       "stn_pres                    13944879\n",
       "station_id                         0\n",
       "network_id                         0\n",
       "dtype: int64"
      ]
     },
     "execution_count": 71,
     "metadata": {},
     "output_type": "execute_result"
    }
   ],
   "source": [
    "# drop rows in wind data that do not have WindSpeed values\n",
    "MoTIe_data_wind_ws_filter = MoTIe_data_wind.dropna(subset=['actual_wind_speed', 'measured_wind_speed1'], how='all')\n",
    "MoTIe_data_wind_ws_filter.isna().sum()"
   ]
  },
  {
   "cell_type": "markdown",
   "metadata": {},
   "source": [
    "Compare values between columns that are measuring the same variable"
   ]
  },
  {
   "cell_type": "code",
   "execution_count": 87,
   "metadata": {},
   "outputs": [
    {
     "name": "stdout",
     "output_type": "stream",
     "text": [
      "6062619\n"
     ]
    }
   ],
   "source": [
    "# check whether columns measuring the same value have any overlap\n",
    "\n",
    "# wind speed\n",
    "# create a mask where column with the fewest nulls has no null values\n",
    "not_null_value = MoTIe_data_wind_ws_filter['measured_wind_speed1'].notnull()\n",
    "not_null_value_df = MoTIe_data_wind_ws_filter[not_null_value]\n",
    "\n",
    "# check for rows where both columns contain a value\n",
    "print(not_null_value_df['actual_wind_speed'].notnull().sum())"
   ]
  },
  {
   "cell_type": "code",
   "execution_count": 76,
   "metadata": {},
   "outputs": [
    {
     "name": "stdout",
     "output_type": "stream",
     "text": [
      "5262748\n",
      "2909536\n"
     ]
    }
   ],
   "source": [
    "# air temperature pt 1\n",
    "# create a mask where column with the fewest nulls has no null values\n",
    "not_null_value = MoTIe_data_wind_ws_filter['current_air_temperature1'].notnull()\n",
    "not_null_value_df = MoTIe_data_wind_ws_filter[not_null_value]\n",
    "\n",
    "# check for rows where both columns contain a value\n",
    "print(not_null_value_df['current_air_temperature2'].notnull().sum())\n",
    "print(not_null_value_df['air_temp'].notnull().sum())\n",
    "\n"
   ]
  },
  {
   "cell_type": "code",
   "execution_count": 77,
   "metadata": {},
   "outputs": [
    {
     "name": "stdout",
     "output_type": "stream",
     "text": [
      "5262748\n",
      "0\n"
     ]
    }
   ],
   "source": [
    "# air temperature pt 2\n",
    "# create a mask where column with the fewest nulls has no null values\n",
    "not_null_value = MoTIe_data_wind_ws_filter['current_air_temperature2'].notnull()\n",
    "not_null_value_df = MoTIe_data_wind_ws_filter[not_null_value]\n",
    "\n",
    "# check for rows where both columns contain a value\n",
    "print(not_null_value_df['current_air_temperature1'].notnull().sum())\n",
    "print(not_null_value_df['air_temp'].notnull().sum())\n",
    "\n"
   ]
  },
  {
   "cell_type": "code",
   "execution_count": 86,
   "metadata": {},
   "outputs": [
    {
     "name": "stdout",
     "output_type": "stream",
     "text": [
      "2554275\n"
     ]
    }
   ],
   "source": [
    "# relative humidity\n",
    "# create a mask where column with the fewest nulls has no null values\n",
    "not_null_value = MoTIe_data_wind_ws_filter['relative_humidity1'].notnull()\n",
    "not_null_value_df = MoTIe_data_wind_ws_filter[not_null_value]\n",
    "\n",
    "# check for rows where both columns contain a value\n",
    "print(not_null_value_df['rel_hum'].notnull().sum())\n",
    "\n"
   ]
  },
  {
   "cell_type": "code",
   "execution_count": 88,
   "metadata": {},
   "outputs": [
    {
     "name": "stdout",
     "output_type": "stream",
     "text": [
      "2043249\n"
     ]
    }
   ],
   "source": [
    "# air pressure\n",
    "# create a mask where column with the fewest nulls has no null values\n",
    "not_null_value = MoTIe_data_wind_ws_filter['atmospheric_pressure'].notnull()\n",
    "not_null_value_df = MoTIe_data_wind_ws_filter[not_null_value]\n",
    "\n",
    "# check for rows where both columns contain a value\n",
    "print(not_null_value_df['stn_pres'].notnull().sum())\n",
    "\n"
   ]
  },
  {
   "cell_type": "code",
   "execution_count": null,
   "metadata": {},
   "outputs": [],
   "source": []
  },
  {
   "cell_type": "code",
   "execution_count": 89,
   "metadata": {},
   "outputs": [],
   "source": [
    "# narrow dataset down to one column for each variable\n",
    "MoTIe_data_wind_clean = MoTIe_data_wind_ws_filter.loc[:, ('time', \"actual_wind_speed\", \"current_air_temperature1\", \"relative_humidity1\", \"atmospheric_pressure\", 'station_id', 'network_id')]\n",
    "# rationale:\n",
    "#   actual_wind_speed is a point measurement, measured_wind_speed1 is an average measurement\n",
    "#   all other variables had overlap\n",
    "#   kept the variable that contained the fewest null values"
   ]
  },
  {
   "cell_type": "code",
   "execution_count": 90,
   "metadata": {},
   "outputs": [
    {
     "data": {
      "text/html": [
       "<div>\n",
       "<style scoped>\n",
       "    .dataframe tbody tr th:only-of-type {\n",
       "        vertical-align: middle;\n",
       "    }\n",
       "\n",
       "    .dataframe tbody tr th {\n",
       "        vertical-align: top;\n",
       "    }\n",
       "\n",
       "    .dataframe thead th {\n",
       "        text-align: right;\n",
       "    }\n",
       "</style>\n",
       "<table border=\"1\" class=\"dataframe\">\n",
       "  <thead>\n",
       "    <tr style=\"text-align: right;\">\n",
       "      <th></th>\n",
       "      <th>time</th>\n",
       "      <th>actual_wind_speed</th>\n",
       "      <th>current_air_temperature1</th>\n",
       "      <th>relative_humidity1</th>\n",
       "      <th>atmospheric_pressure</th>\n",
       "      <th>station_id</th>\n",
       "      <th>network_id</th>\n",
       "    </tr>\n",
       "  </thead>\n",
       "  <tbody>\n",
       "    <tr>\n",
       "      <th>0</th>\n",
       "      <td>2001-01-22 13:00:00</td>\n",
       "      <td>NaN</td>\n",
       "      <td>2.2</td>\n",
       "      <td>76.0</td>\n",
       "      <td>963.0</td>\n",
       "      <td>11091</td>\n",
       "      <td>MoTIe</td>\n",
       "    </tr>\n",
       "    <tr>\n",
       "      <th>1</th>\n",
       "      <td>2001-01-22 14:00:00</td>\n",
       "      <td>NaN</td>\n",
       "      <td>1.9</td>\n",
       "      <td>76.0</td>\n",
       "      <td>960.0</td>\n",
       "      <td>11091</td>\n",
       "      <td>MoTIe</td>\n",
       "    </tr>\n",
       "    <tr>\n",
       "      <th>2</th>\n",
       "      <td>2001-01-22 15:00:00</td>\n",
       "      <td>NaN</td>\n",
       "      <td>1.4</td>\n",
       "      <td>77.0</td>\n",
       "      <td>960.0</td>\n",
       "      <td>11091</td>\n",
       "      <td>MoTIe</td>\n",
       "    </tr>\n",
       "    <tr>\n",
       "      <th>3</th>\n",
       "      <td>2001-01-22 16:00:00</td>\n",
       "      <td>NaN</td>\n",
       "      <td>0.4</td>\n",
       "      <td>82.0</td>\n",
       "      <td>960.0</td>\n",
       "      <td>11091</td>\n",
       "      <td>MoTIe</td>\n",
       "    </tr>\n",
       "    <tr>\n",
       "      <th>4</th>\n",
       "      <td>2001-01-22 17:00:00</td>\n",
       "      <td>NaN</td>\n",
       "      <td>-0.5</td>\n",
       "      <td>88.0</td>\n",
       "      <td>960.0</td>\n",
       "      <td>11091</td>\n",
       "      <td>MoTIe</td>\n",
       "    </tr>\n",
       "    <tr>\n",
       "      <th>5</th>\n",
       "      <td>2001-01-22 18:00:00</td>\n",
       "      <td>NaN</td>\n",
       "      <td>-1.1</td>\n",
       "      <td>93.0</td>\n",
       "      <td>960.0</td>\n",
       "      <td>11091</td>\n",
       "      <td>MoTIe</td>\n",
       "    </tr>\n",
       "    <tr>\n",
       "      <th>6</th>\n",
       "      <td>2001-01-22 19:00:00</td>\n",
       "      <td>NaN</td>\n",
       "      <td>-1.2</td>\n",
       "      <td>94.0</td>\n",
       "      <td>960.0</td>\n",
       "      <td>11091</td>\n",
       "      <td>MoTIe</td>\n",
       "    </tr>\n",
       "    <tr>\n",
       "      <th>7</th>\n",
       "      <td>2001-01-22 20:00:00</td>\n",
       "      <td>NaN</td>\n",
       "      <td>-1.6</td>\n",
       "      <td>95.0</td>\n",
       "      <td>960.0</td>\n",
       "      <td>11091</td>\n",
       "      <td>MoTIe</td>\n",
       "    </tr>\n",
       "    <tr>\n",
       "      <th>8</th>\n",
       "      <td>2001-01-22 21:00:00</td>\n",
       "      <td>NaN</td>\n",
       "      <td>-1.8</td>\n",
       "      <td>95.0</td>\n",
       "      <td>960.0</td>\n",
       "      <td>11091</td>\n",
       "      <td>MoTIe</td>\n",
       "    </tr>\n",
       "    <tr>\n",
       "      <th>9</th>\n",
       "      <td>2001-01-22 22:00:00</td>\n",
       "      <td>NaN</td>\n",
       "      <td>-1.9</td>\n",
       "      <td>95.0</td>\n",
       "      <td>960.0</td>\n",
       "      <td>11091</td>\n",
       "      <td>MoTIe</td>\n",
       "    </tr>\n",
       "    <tr>\n",
       "      <th>10</th>\n",
       "      <td>2001-01-22 23:00:00</td>\n",
       "      <td>NaN</td>\n",
       "      <td>-2.1</td>\n",
       "      <td>92.0</td>\n",
       "      <td>960.0</td>\n",
       "      <td>11091</td>\n",
       "      <td>MoTIe</td>\n",
       "    </tr>\n",
       "    <tr>\n",
       "      <th>11</th>\n",
       "      <td>2001-01-23 00:00:00</td>\n",
       "      <td>NaN</td>\n",
       "      <td>-1.9</td>\n",
       "      <td>91.0</td>\n",
       "      <td>959.0</td>\n",
       "      <td>11091</td>\n",
       "      <td>MoTIe</td>\n",
       "    </tr>\n",
       "    <tr>\n",
       "      <th>12</th>\n",
       "      <td>2001-01-23 01:00:00</td>\n",
       "      <td>NaN</td>\n",
       "      <td>-1.8</td>\n",
       "      <td>88.0</td>\n",
       "      <td>959.0</td>\n",
       "      <td>11091</td>\n",
       "      <td>MoTIe</td>\n",
       "    </tr>\n",
       "    <tr>\n",
       "      <th>13</th>\n",
       "      <td>2001-01-23 02:00:00</td>\n",
       "      <td>NaN</td>\n",
       "      <td>-1.8</td>\n",
       "      <td>85.0</td>\n",
       "      <td>959.0</td>\n",
       "      <td>11091</td>\n",
       "      <td>MoTIe</td>\n",
       "    </tr>\n",
       "    <tr>\n",
       "      <th>14</th>\n",
       "      <td>2001-01-23 03:00:00</td>\n",
       "      <td>NaN</td>\n",
       "      <td>-1.9</td>\n",
       "      <td>84.0</td>\n",
       "      <td>957.0</td>\n",
       "      <td>11091</td>\n",
       "      <td>MoTIe</td>\n",
       "    </tr>\n",
       "  </tbody>\n",
       "</table>\n",
       "</div>"
      ],
      "text/plain": [
       "                    time  actual_wind_speed  current_air_temperature1  \\\n",
       "0    2001-01-22 13:00:00                NaN                       2.2   \n",
       "1    2001-01-22 14:00:00                NaN                       1.9   \n",
       "2    2001-01-22 15:00:00                NaN                       1.4   \n",
       "3    2001-01-22 16:00:00                NaN                       0.4   \n",
       "4    2001-01-22 17:00:00                NaN                      -0.5   \n",
       "5    2001-01-22 18:00:00                NaN                      -1.1   \n",
       "6    2001-01-22 19:00:00                NaN                      -1.2   \n",
       "7    2001-01-22 20:00:00                NaN                      -1.6   \n",
       "8    2001-01-22 21:00:00                NaN                      -1.8   \n",
       "9    2001-01-22 22:00:00                NaN                      -1.9   \n",
       "10   2001-01-22 23:00:00                NaN                      -2.1   \n",
       "11   2001-01-23 00:00:00                NaN                      -1.9   \n",
       "12   2001-01-23 01:00:00                NaN                      -1.8   \n",
       "13   2001-01-23 02:00:00                NaN                      -1.8   \n",
       "14   2001-01-23 03:00:00                NaN                      -1.9   \n",
       "\n",
       "    relative_humidity1  atmospheric_pressure  station_id network_id  \n",
       "0                 76.0                 963.0       11091      MoTIe  \n",
       "1                 76.0                 960.0       11091      MoTIe  \n",
       "2                 77.0                 960.0       11091      MoTIe  \n",
       "3                 82.0                 960.0       11091      MoTIe  \n",
       "4                 88.0                 960.0       11091      MoTIe  \n",
       "5                 93.0                 960.0       11091      MoTIe  \n",
       "6                 94.0                 960.0       11091      MoTIe  \n",
       "7                 95.0                 960.0       11091      MoTIe  \n",
       "8                 95.0                 960.0       11091      MoTIe  \n",
       "9                 95.0                 960.0       11091      MoTIe  \n",
       "10                92.0                 960.0       11091      MoTIe  \n",
       "11                91.0                 959.0       11091      MoTIe  \n",
       "12                88.0                 959.0       11091      MoTIe  \n",
       "13                85.0                 959.0       11091      MoTIe  \n",
       "14                84.0                 957.0       11091      MoTIe  "
      ]
     },
     "execution_count": 90,
     "metadata": {},
     "output_type": "execute_result"
    }
   ],
   "source": [
    "# check values and units of wind speed columns\n",
    "MoTIe_data_wind_clean.head(15)"
   ]
  },
  {
   "cell_type": "code",
   "execution_count": 91,
   "metadata": {},
   "outputs": [
    {
     "data": {
      "text/html": [
       "<div>\n",
       "<style scoped>\n",
       "    .dataframe tbody tr th:only-of-type {\n",
       "        vertical-align: middle;\n",
       "    }\n",
       "\n",
       "    .dataframe tbody tr th {\n",
       "        vertical-align: top;\n",
       "    }\n",
       "\n",
       "    .dataframe thead th {\n",
       "        text-align: right;\n",
       "    }\n",
       "</style>\n",
       "<table border=\"1\" class=\"dataframe\">\n",
       "  <thead>\n",
       "    <tr style=\"text-align: right;\">\n",
       "      <th></th>\n",
       "      <th>time</th>\n",
       "      <th>actual_wind_speed</th>\n",
       "      <th>current_air_temperature1</th>\n",
       "      <th>relative_humidity1</th>\n",
       "      <th>atmospheric_pressure</th>\n",
       "      <th>station_id</th>\n",
       "      <th>network_id</th>\n",
       "    </tr>\n",
       "  </thead>\n",
       "  <tbody>\n",
       "    <tr>\n",
       "      <th>0</th>\n",
       "      <td>2001-01-22 13:00:00</td>\n",
       "      <td>NaN</td>\n",
       "      <td>2.2</td>\n",
       "      <td>76.0</td>\n",
       "      <td>963.0</td>\n",
       "      <td>11091</td>\n",
       "      <td>MoTIe</td>\n",
       "    </tr>\n",
       "    <tr>\n",
       "      <th>1</th>\n",
       "      <td>2001-01-22 14:00:00</td>\n",
       "      <td>NaN</td>\n",
       "      <td>1.9</td>\n",
       "      <td>76.0</td>\n",
       "      <td>960.0</td>\n",
       "      <td>11091</td>\n",
       "      <td>MoTIe</td>\n",
       "    </tr>\n",
       "    <tr>\n",
       "      <th>2</th>\n",
       "      <td>2001-01-22 15:00:00</td>\n",
       "      <td>NaN</td>\n",
       "      <td>1.4</td>\n",
       "      <td>77.0</td>\n",
       "      <td>960.0</td>\n",
       "      <td>11091</td>\n",
       "      <td>MoTIe</td>\n",
       "    </tr>\n",
       "    <tr>\n",
       "      <th>3</th>\n",
       "      <td>2001-01-22 16:00:00</td>\n",
       "      <td>NaN</td>\n",
       "      <td>0.4</td>\n",
       "      <td>82.0</td>\n",
       "      <td>960.0</td>\n",
       "      <td>11091</td>\n",
       "      <td>MoTIe</td>\n",
       "    </tr>\n",
       "    <tr>\n",
       "      <th>4</th>\n",
       "      <td>2001-01-22 17:00:00</td>\n",
       "      <td>NaN</td>\n",
       "      <td>-0.5</td>\n",
       "      <td>88.0</td>\n",
       "      <td>960.0</td>\n",
       "      <td>11091</td>\n",
       "      <td>MoTIe</td>\n",
       "    </tr>\n",
       "    <tr>\n",
       "      <th>5</th>\n",
       "      <td>2001-01-22 18:00:00</td>\n",
       "      <td>NaN</td>\n",
       "      <td>-1.1</td>\n",
       "      <td>93.0</td>\n",
       "      <td>960.0</td>\n",
       "      <td>11091</td>\n",
       "      <td>MoTIe</td>\n",
       "    </tr>\n",
       "    <tr>\n",
       "      <th>6</th>\n",
       "      <td>2001-01-22 19:00:00</td>\n",
       "      <td>NaN</td>\n",
       "      <td>-1.2</td>\n",
       "      <td>94.0</td>\n",
       "      <td>960.0</td>\n",
       "      <td>11091</td>\n",
       "      <td>MoTIe</td>\n",
       "    </tr>\n",
       "    <tr>\n",
       "      <th>7</th>\n",
       "      <td>2001-01-22 20:00:00</td>\n",
       "      <td>NaN</td>\n",
       "      <td>-1.6</td>\n",
       "      <td>95.0</td>\n",
       "      <td>960.0</td>\n",
       "      <td>11091</td>\n",
       "      <td>MoTIe</td>\n",
       "    </tr>\n",
       "    <tr>\n",
       "      <th>8</th>\n",
       "      <td>2001-01-22 21:00:00</td>\n",
       "      <td>NaN</td>\n",
       "      <td>-1.8</td>\n",
       "      <td>95.0</td>\n",
       "      <td>960.0</td>\n",
       "      <td>11091</td>\n",
       "      <td>MoTIe</td>\n",
       "    </tr>\n",
       "    <tr>\n",
       "      <th>9</th>\n",
       "      <td>2001-01-22 22:00:00</td>\n",
       "      <td>NaN</td>\n",
       "      <td>-1.9</td>\n",
       "      <td>95.0</td>\n",
       "      <td>960.0</td>\n",
       "      <td>11091</td>\n",
       "      <td>MoTIe</td>\n",
       "    </tr>\n",
       "    <tr>\n",
       "      <th>10</th>\n",
       "      <td>2001-01-22 23:00:00</td>\n",
       "      <td>NaN</td>\n",
       "      <td>-2.1</td>\n",
       "      <td>92.0</td>\n",
       "      <td>960.0</td>\n",
       "      <td>11091</td>\n",
       "      <td>MoTIe</td>\n",
       "    </tr>\n",
       "    <tr>\n",
       "      <th>11</th>\n",
       "      <td>2001-01-23 00:00:00</td>\n",
       "      <td>NaN</td>\n",
       "      <td>-1.9</td>\n",
       "      <td>91.0</td>\n",
       "      <td>959.0</td>\n",
       "      <td>11091</td>\n",
       "      <td>MoTIe</td>\n",
       "    </tr>\n",
       "    <tr>\n",
       "      <th>12</th>\n",
       "      <td>2001-01-23 01:00:00</td>\n",
       "      <td>NaN</td>\n",
       "      <td>-1.8</td>\n",
       "      <td>88.0</td>\n",
       "      <td>959.0</td>\n",
       "      <td>11091</td>\n",
       "      <td>MoTIe</td>\n",
       "    </tr>\n",
       "    <tr>\n",
       "      <th>13</th>\n",
       "      <td>2001-01-23 02:00:00</td>\n",
       "      <td>NaN</td>\n",
       "      <td>-1.8</td>\n",
       "      <td>85.0</td>\n",
       "      <td>959.0</td>\n",
       "      <td>11091</td>\n",
       "      <td>MoTIe</td>\n",
       "    </tr>\n",
       "    <tr>\n",
       "      <th>14</th>\n",
       "      <td>2001-01-23 03:00:00</td>\n",
       "      <td>NaN</td>\n",
       "      <td>-1.9</td>\n",
       "      <td>84.0</td>\n",
       "      <td>957.0</td>\n",
       "      <td>11091</td>\n",
       "      <td>MoTIe</td>\n",
       "    </tr>\n",
       "  </tbody>\n",
       "</table>\n",
       "</div>"
      ],
      "text/plain": [
       "                    time  actual_wind_speed  current_air_temperature1  \\\n",
       "0    2001-01-22 13:00:00                NaN                       2.2   \n",
       "1    2001-01-22 14:00:00                NaN                       1.9   \n",
       "2    2001-01-22 15:00:00                NaN                       1.4   \n",
       "3    2001-01-22 16:00:00                NaN                       0.4   \n",
       "4    2001-01-22 17:00:00                NaN                      -0.5   \n",
       "5    2001-01-22 18:00:00                NaN                      -1.1   \n",
       "6    2001-01-22 19:00:00                NaN                      -1.2   \n",
       "7    2001-01-22 20:00:00                NaN                      -1.6   \n",
       "8    2001-01-22 21:00:00                NaN                      -1.8   \n",
       "9    2001-01-22 22:00:00                NaN                      -1.9   \n",
       "10   2001-01-22 23:00:00                NaN                      -2.1   \n",
       "11   2001-01-23 00:00:00                NaN                      -1.9   \n",
       "12   2001-01-23 01:00:00                NaN                      -1.8   \n",
       "13   2001-01-23 02:00:00                NaN                      -1.8   \n",
       "14   2001-01-23 03:00:00                NaN                      -1.9   \n",
       "\n",
       "    relative_humidity1  atmospheric_pressure  station_id network_id  \n",
       "0                 76.0                 963.0       11091      MoTIe  \n",
       "1                 76.0                 960.0       11091      MoTIe  \n",
       "2                 77.0                 960.0       11091      MoTIe  \n",
       "3                 82.0                 960.0       11091      MoTIe  \n",
       "4                 88.0                 960.0       11091      MoTIe  \n",
       "5                 93.0                 960.0       11091      MoTIe  \n",
       "6                 94.0                 960.0       11091      MoTIe  \n",
       "7                 95.0                 960.0       11091      MoTIe  \n",
       "8                 95.0                 960.0       11091      MoTIe  \n",
       "9                 95.0                 960.0       11091      MoTIe  \n",
       "10                92.0                 960.0       11091      MoTIe  \n",
       "11                91.0                 959.0       11091      MoTIe  \n",
       "12                88.0                 959.0       11091      MoTIe  \n",
       "13                85.0                 959.0       11091      MoTIe  \n",
       "14                84.0                 957.0       11091      MoTIe  "
      ]
     },
     "execution_count": 91,
     "metadata": {},
     "output_type": "execute_result"
    }
   ],
   "source": [
    "# convert windspeed values from km/h to m/s by dividing values by 3.6\n",
    "MoTIe_data_wind_clean.loc[:,('actual_wind_speed')] = MoTIe_data_wind_clean.loc[:,('actual_wind_speed')].div(3.6)\n",
    "MoTIe_data_wind_clean.head(15)"
   ]
  },
  {
   "cell_type": "code",
   "execution_count": 92,
   "metadata": {},
   "outputs": [],
   "source": [
    "# rename columns\n",
    "MoTIe_wind = MoTIe_data_wind_clean.rename(columns={\"actual_wind_speed\": \"wind_speed\", \"current_air_temperature1\": \"air_temperature\", \"atmospheric_pressure\": \"air_pressure\", \"relative_humidity1\": \"relative_humidity\"})"
   ]
  },
  {
   "cell_type": "code",
   "execution_count": 93,
   "metadata": {},
   "outputs": [
    {
     "data": {
      "text/html": [
       "<div>\n",
       "<style scoped>\n",
       "    .dataframe tbody tr th:only-of-type {\n",
       "        vertical-align: middle;\n",
       "    }\n",
       "\n",
       "    .dataframe tbody tr th {\n",
       "        vertical-align: top;\n",
       "    }\n",
       "\n",
       "    .dataframe thead th {\n",
       "        text-align: right;\n",
       "    }\n",
       "</style>\n",
       "<table border=\"1\" class=\"dataframe\">\n",
       "  <thead>\n",
       "    <tr style=\"text-align: right;\">\n",
       "      <th></th>\n",
       "      <th>time</th>\n",
       "      <th>wind_speed</th>\n",
       "      <th>air_temperature</th>\n",
       "      <th>relative_humidity</th>\n",
       "      <th>air_pressure</th>\n",
       "      <th>station_id</th>\n",
       "      <th>network_id</th>\n",
       "    </tr>\n",
       "  </thead>\n",
       "  <tbody>\n",
       "    <tr>\n",
       "      <th>0</th>\n",
       "      <td>2001-01-22 13:00:00</td>\n",
       "      <td>NaN</td>\n",
       "      <td>2.2</td>\n",
       "      <td>76.0</td>\n",
       "      <td>963.0</td>\n",
       "      <td>11091</td>\n",
       "      <td>MoTIe</td>\n",
       "    </tr>\n",
       "    <tr>\n",
       "      <th>1</th>\n",
       "      <td>2001-01-22 14:00:00</td>\n",
       "      <td>NaN</td>\n",
       "      <td>1.9</td>\n",
       "      <td>76.0</td>\n",
       "      <td>960.0</td>\n",
       "      <td>11091</td>\n",
       "      <td>MoTIe</td>\n",
       "    </tr>\n",
       "    <tr>\n",
       "      <th>2</th>\n",
       "      <td>2001-01-22 15:00:00</td>\n",
       "      <td>NaN</td>\n",
       "      <td>1.4</td>\n",
       "      <td>77.0</td>\n",
       "      <td>960.0</td>\n",
       "      <td>11091</td>\n",
       "      <td>MoTIe</td>\n",
       "    </tr>\n",
       "    <tr>\n",
       "      <th>3</th>\n",
       "      <td>2001-01-22 16:00:00</td>\n",
       "      <td>NaN</td>\n",
       "      <td>0.4</td>\n",
       "      <td>82.0</td>\n",
       "      <td>960.0</td>\n",
       "      <td>11091</td>\n",
       "      <td>MoTIe</td>\n",
       "    </tr>\n",
       "    <tr>\n",
       "      <th>4</th>\n",
       "      <td>2001-01-22 17:00:00</td>\n",
       "      <td>NaN</td>\n",
       "      <td>-0.5</td>\n",
       "      <td>88.0</td>\n",
       "      <td>960.0</td>\n",
       "      <td>11091</td>\n",
       "      <td>MoTIe</td>\n",
       "    </tr>\n",
       "    <tr>\n",
       "      <th>5</th>\n",
       "      <td>2001-01-22 18:00:00</td>\n",
       "      <td>NaN</td>\n",
       "      <td>-1.1</td>\n",
       "      <td>93.0</td>\n",
       "      <td>960.0</td>\n",
       "      <td>11091</td>\n",
       "      <td>MoTIe</td>\n",
       "    </tr>\n",
       "    <tr>\n",
       "      <th>6</th>\n",
       "      <td>2001-01-22 19:00:00</td>\n",
       "      <td>NaN</td>\n",
       "      <td>-1.2</td>\n",
       "      <td>94.0</td>\n",
       "      <td>960.0</td>\n",
       "      <td>11091</td>\n",
       "      <td>MoTIe</td>\n",
       "    </tr>\n",
       "    <tr>\n",
       "      <th>7</th>\n",
       "      <td>2001-01-22 20:00:00</td>\n",
       "      <td>NaN</td>\n",
       "      <td>-1.6</td>\n",
       "      <td>95.0</td>\n",
       "      <td>960.0</td>\n",
       "      <td>11091</td>\n",
       "      <td>MoTIe</td>\n",
       "    </tr>\n",
       "    <tr>\n",
       "      <th>8</th>\n",
       "      <td>2001-01-22 21:00:00</td>\n",
       "      <td>NaN</td>\n",
       "      <td>-1.8</td>\n",
       "      <td>95.0</td>\n",
       "      <td>960.0</td>\n",
       "      <td>11091</td>\n",
       "      <td>MoTIe</td>\n",
       "    </tr>\n",
       "    <tr>\n",
       "      <th>9</th>\n",
       "      <td>2001-01-22 22:00:00</td>\n",
       "      <td>NaN</td>\n",
       "      <td>-1.9</td>\n",
       "      <td>95.0</td>\n",
       "      <td>960.0</td>\n",
       "      <td>11091</td>\n",
       "      <td>MoTIe</td>\n",
       "    </tr>\n",
       "  </tbody>\n",
       "</table>\n",
       "</div>"
      ],
      "text/plain": [
       "                   time  wind_speed  air_temperature  relative_humidity  \\\n",
       "0   2001-01-22 13:00:00         NaN              2.2               76.0   \n",
       "1   2001-01-22 14:00:00         NaN              1.9               76.0   \n",
       "2   2001-01-22 15:00:00         NaN              1.4               77.0   \n",
       "3   2001-01-22 16:00:00         NaN              0.4               82.0   \n",
       "4   2001-01-22 17:00:00         NaN             -0.5               88.0   \n",
       "5   2001-01-22 18:00:00         NaN             -1.1               93.0   \n",
       "6   2001-01-22 19:00:00         NaN             -1.2               94.0   \n",
       "7   2001-01-22 20:00:00         NaN             -1.6               95.0   \n",
       "8   2001-01-22 21:00:00         NaN             -1.8               95.0   \n",
       "9   2001-01-22 22:00:00         NaN             -1.9               95.0   \n",
       "\n",
       "   air_pressure  station_id network_id  \n",
       "0         963.0       11091      MoTIe  \n",
       "1         960.0       11091      MoTIe  \n",
       "2         960.0       11091      MoTIe  \n",
       "3         960.0       11091      MoTIe  \n",
       "4         960.0       11091      MoTIe  \n",
       "5         960.0       11091      MoTIe  \n",
       "6         960.0       11091      MoTIe  \n",
       "7         960.0       11091      MoTIe  \n",
       "8         960.0       11091      MoTIe  \n",
       "9         960.0       11091      MoTIe  "
      ]
     },
     "execution_count": 93,
     "metadata": {},
     "output_type": "execute_result"
    }
   ],
   "source": [
    "MoTIe_wind.head(10)"
   ]
  },
  {
   "cell_type": "code",
   "execution_count": 94,
   "metadata": {},
   "outputs": [],
   "source": [
    "# save to csv\n",
    "MoTIe_wind.to_csv(f'{path_2}/MoTIe_wind.csv', index=False)"
   ]
  },
  {
   "cell_type": "markdown",
   "metadata": {},
   "source": [
    "#### MoTIm Data Cleaning"
   ]
  },
  {
   "cell_type": "code",
   "execution_count": 24,
   "metadata": {},
   "outputs": [],
   "source": [
    "MoTIm_data = functions.to_df('MoTIm_data_clean.csv')"
   ]
  },
  {
   "cell_type": "code",
   "execution_count": 25,
   "metadata": {},
   "outputs": [],
   "source": [
    "column_names, column_nulls, duplicate_row_index = functions.start_cleaning(MoTIm_data)"
   ]
  },
  {
   "cell_type": "code",
   "execution_count": 26,
   "metadata": {},
   "outputs": [
    {
     "name": "stdout",
     "output_type": "stream",
     "text": [
      "column names: ['current_air_temperature1', 'relative_humidity1', 'storm_snow', 'standard_snow', 'minimum_air_temperature', 'maximum_air_temperature', 'time', 'precipitation_new', 'height_of_snow', 'station_id', 'network_id', 'interval_snow', 'measured_wind_speed1', 'measured_wind_direction1']\n",
      "column nulls: current_air_temperature1      9742\n",
      "relative_humidity1          409244\n",
      "storm_snow                  466916\n",
      "standard_snow               208950\n",
      "minimum_air_temperature      32973\n",
      "maximum_air_temperature      33700\n",
      "time                             0\n",
      "precipitation_new           432471\n",
      "height_of_snow              106445\n",
      "station_id                       0\n",
      "network_id                       0\n",
      "interval_snow               685431\n",
      "measured_wind_speed1        746336\n",
      "measured_wind_direction1    763853\n",
      "dtype: int64\n",
      "duplicate rows: Index([], dtype='int64')\n"
     ]
    },
    {
     "data": {
      "text/plain": [
       "(769279, 14)"
      ]
     },
     "execution_count": 26,
     "metadata": {},
     "output_type": "execute_result"
    }
   ],
   "source": [
    "print(f'column names: {column_names}')\n",
    "print(f'column nulls: {column_nulls}')\n",
    "print(f'duplicate rows: {duplicate_row_index}')\n",
    "MoTIm_data.shape"
   ]
  },
  {
   "cell_type": "code",
   "execution_count": 27,
   "metadata": {},
   "outputs": [],
   "source": [
    "# only keep variables of interest\n",
    "# no solar data available from this network\n",
    "MoTIm_data_wind = MoTIm_data.loc[:,('time', 'measured_wind_speed1', 'current_air_temperature1', 'relative_humidity1', 'station_id', 'network_id')] \n",
    "    # note that no air pressure value is available"
   ]
  },
  {
   "cell_type": "code",
   "execution_count": 28,
   "metadata": {},
   "outputs": [
    {
     "data": {
      "text/plain": [
       "time                             0\n",
       "measured_wind_speed1        746336\n",
       "current_air_temperature1      9742\n",
       "relative_humidity1          409244\n",
       "station_id                       0\n",
       "network_id                       0\n",
       "dtype: int64"
      ]
     },
     "execution_count": 28,
     "metadata": {},
     "output_type": "execute_result"
    }
   ],
   "source": [
    "# count null values in wind data\n",
    "MoTIm_data_wind.isna().sum()"
   ]
  },
  {
   "cell_type": "code",
   "execution_count": 29,
   "metadata": {},
   "outputs": [
    {
     "data": {
      "text/plain": [
       "time                          0\n",
       "measured_wind_speed1          0\n",
       "current_air_temperature1    111\n",
       "relative_humidity1          392\n",
       "station_id                    0\n",
       "network_id                    0\n",
       "dtype: int64"
      ]
     },
     "execution_count": 29,
     "metadata": {},
     "output_type": "execute_result"
    }
   ],
   "source": [
    "# drop rows in wind data that do not have WindSpeed values\n",
    "MoTIm_data_wind_clean = MoTIm_data_wind.dropna(subset=['measured_wind_speed1'])\n",
    "MoTIm_data_wind_clean.isna().sum()"
   ]
  },
  {
   "cell_type": "code",
   "execution_count": 31,
   "metadata": {},
   "outputs": [
    {
     "data": {
      "text/plain": [
       "5667     5.0\n",
       "6865     5.0\n",
       "6867     5.0\n",
       "6872     1.0\n",
       "6875     1.0\n",
       "6881     5.0\n",
       "6889     5.0\n",
       "6893     5.0\n",
       "7318     5.0\n",
       "7326     2.0\n",
       "7327     2.0\n",
       "7329    12.0\n",
       "7340    30.0\n",
       "7343     2.0\n",
       "7347     5.0\n",
       "Name: measured_wind_speed1, dtype: float64"
      ]
     },
     "execution_count": 31,
     "metadata": {},
     "output_type": "execute_result"
    }
   ],
   "source": [
    "MoTIm_data_wind_clean['measured_wind_speed1'].head(15)"
   ]
  },
  {
   "cell_type": "code",
   "execution_count": 33,
   "metadata": {},
   "outputs": [
    {
     "data": {
      "text/html": [
       "<div>\n",
       "<style scoped>\n",
       "    .dataframe tbody tr th:only-of-type {\n",
       "        vertical-align: middle;\n",
       "    }\n",
       "\n",
       "    .dataframe tbody tr th {\n",
       "        vertical-align: top;\n",
       "    }\n",
       "\n",
       "    .dataframe thead th {\n",
       "        text-align: right;\n",
       "    }\n",
       "</style>\n",
       "<table border=\"1\" class=\"dataframe\">\n",
       "  <thead>\n",
       "    <tr style=\"text-align: right;\">\n",
       "      <th></th>\n",
       "      <th>time</th>\n",
       "      <th>measured_wind_speed1</th>\n",
       "      <th>current_air_temperature1</th>\n",
       "      <th>relative_humidity1</th>\n",
       "      <th>station_id</th>\n",
       "      <th>network_id</th>\n",
       "    </tr>\n",
       "  </thead>\n",
       "  <tbody>\n",
       "    <tr>\n",
       "      <th>5667</th>\n",
       "      <td>1980-01-30 05:30:00</td>\n",
       "      <td>0.385802</td>\n",
       "      <td>11.5</td>\n",
       "      <td>75.0</td>\n",
       "      <td>11101</td>\n",
       "      <td>MoTIm</td>\n",
       "    </tr>\n",
       "    <tr>\n",
       "      <th>6865</th>\n",
       "      <td>1986-03-09 16:00:00</td>\n",
       "      <td>0.385802</td>\n",
       "      <td>10.0</td>\n",
       "      <td>63.0</td>\n",
       "      <td>11101</td>\n",
       "      <td>MoTIm</td>\n",
       "    </tr>\n",
       "    <tr>\n",
       "      <th>6867</th>\n",
       "      <td>1986-03-10 16:00:00</td>\n",
       "      <td>0.385802</td>\n",
       "      <td>11.0</td>\n",
       "      <td>61.0</td>\n",
       "      <td>11101</td>\n",
       "      <td>MoTIm</td>\n",
       "    </tr>\n",
       "    <tr>\n",
       "      <th>6872</th>\n",
       "      <td>1986-03-13 06:00:00</td>\n",
       "      <td>0.077160</td>\n",
       "      <td>5.0</td>\n",
       "      <td>75.0</td>\n",
       "      <td>11101</td>\n",
       "      <td>MoTIm</td>\n",
       "    </tr>\n",
       "    <tr>\n",
       "      <th>6875</th>\n",
       "      <td>1986-03-14 16:00:00</td>\n",
       "      <td>0.077160</td>\n",
       "      <td>8.5</td>\n",
       "      <td>60.0</td>\n",
       "      <td>11101</td>\n",
       "      <td>MoTIm</td>\n",
       "    </tr>\n",
       "  </tbody>\n",
       "</table>\n",
       "</div>"
      ],
      "text/plain": [
       "                      time  measured_wind_speed1  current_air_temperature1  \\\n",
       "5667   1980-01-30 05:30:00              0.385802                      11.5   \n",
       "6865   1986-03-09 16:00:00              0.385802                      10.0   \n",
       "6867   1986-03-10 16:00:00              0.385802                      11.0   \n",
       "6872   1986-03-13 06:00:00              0.077160                       5.0   \n",
       "6875   1986-03-14 16:00:00              0.077160                       8.5   \n",
       "\n",
       "      relative_humidity1  station_id network_id  \n",
       "5667                75.0       11101      MoTIm  \n",
       "6865                63.0       11101      MoTIm  \n",
       "6867                61.0       11101      MoTIm  \n",
       "6872                75.0       11101      MoTIm  \n",
       "6875                60.0       11101      MoTIm  "
      ]
     },
     "execution_count": 33,
     "metadata": {},
     "output_type": "execute_result"
    }
   ],
   "source": [
    "# convert windspeed values from km/h to m/s by dividing values by 3.6\n",
    "MoTIm_data_wind_clean.loc[:,'measured_wind_speed1'] = MoTIm_data_wind_clean.loc[:,'measured_wind_speed1'].div(3.6)\n",
    "MoTIm_data_wind_clean.head(5)"
   ]
  },
  {
   "cell_type": "code",
   "execution_count": 35,
   "metadata": {},
   "outputs": [],
   "source": [
    "# rename columns\n",
    "MoTIm_wind = MoTIm_data_wind_clean.rename(columns={\"measured_wind_speed1\": \"wind_speed\", \"current_air_temperature1\": \"air_temperature\", \"relative_humidity1\": \"relative_humidity\", })"
   ]
  },
  {
   "cell_type": "code",
   "execution_count": 36,
   "metadata": {},
   "outputs": [],
   "source": [
    "# save to csv\n",
    "MoTIm_wind.to_csv(f'{path_2}/MoTIm_wind.csv', index=False)"
   ]
  },
  {
   "cell_type": "markdown",
   "metadata": {},
   "source": [
    "#### MVan Data Cleaning"
   ]
  },
  {
   "cell_type": "code",
   "execution_count": 38,
   "metadata": {},
   "outputs": [],
   "source": [
    "MVan_data = functions.to_df('MVan_data_clean.csv')"
   ]
  },
  {
   "cell_type": "code",
   "execution_count": 39,
   "metadata": {},
   "outputs": [],
   "source": [
    "column_names, column_nulls, duplicate_row_index = functions.start_cleaning(MVan_data)"
   ]
  },
  {
   "cell_type": "code",
   "execution_count": 40,
   "metadata": {},
   "outputs": [
    {
     "name": "stdout",
     "output_type": "stream",
     "text": [
      "column names: ['wdir_vect', 'time', 'wspd_sclr', 'humidity', 'station_id', 'network_id']\n",
      "column nulls: wdir_vect       6022\n",
      "time               0\n",
      "wspd_sclr     157014\n",
      "humidity      104506\n",
      "station_id         0\n",
      "network_id         0\n",
      "dtype: int64\n",
      "duplicate rows: Index([], dtype='int64')\n"
     ]
    },
    {
     "data": {
      "text/plain": [
       "(283907, 6)"
      ]
     },
     "execution_count": 40,
     "metadata": {},
     "output_type": "execute_result"
    }
   ],
   "source": [
    "print(f'column names: {column_names}')\n",
    "print(f'column nulls: {column_nulls}')\n",
    "print(f'duplicate rows: {duplicate_row_index}')\n",
    "MVan_data.shape"
   ]
  },
  {
   "cell_type": "code",
   "execution_count": 41,
   "metadata": {},
   "outputs": [],
   "source": [
    "# only keep variables of interest\n",
    "# no solar data available from this network\n",
    "MVan_data_wind = MVan_data.loc[:,('time', 'wspd_sclr', 'humidity', 'station_id', 'network_id')] \n",
    "    # note that no air pressure or air temperature values are available"
   ]
  },
  {
   "cell_type": "code",
   "execution_count": 42,
   "metadata": {},
   "outputs": [
    {
     "data": {
      "text/plain": [
       "time               0\n",
       "wspd_sclr     157014\n",
       "humidity      104506\n",
       "station_id         0\n",
       "network_id         0\n",
       "dtype: int64"
      ]
     },
     "execution_count": 42,
     "metadata": {},
     "output_type": "execute_result"
    }
   ],
   "source": [
    "# count null values in wind data\n",
    "MVan_data_wind.isna().sum()"
   ]
  },
  {
   "cell_type": "code",
   "execution_count": 43,
   "metadata": {},
   "outputs": [
    {
     "data": {
      "text/plain": [
       "time              0\n",
       "wspd_sclr         0\n",
       "humidity      56876\n",
       "station_id        0\n",
       "network_id        0\n",
       "dtype: int64"
      ]
     },
     "execution_count": 43,
     "metadata": {},
     "output_type": "execute_result"
    }
   ],
   "source": [
    "# drop rows in wind data that do not have WindSpeed values\n",
    "MVan_data_wind_clean = MVan_data_wind.dropna(subset=['wspd_sclr'])\n",
    "MVan_data_wind_clean.isna().sum()"
   ]
  },
  {
   "cell_type": "code",
   "execution_count": 44,
   "metadata": {},
   "outputs": [
    {
     "data": {
      "text/plain": [
       "0    1.38889\n",
       "1    3.33334\n",
       "2    1.66667\n",
       "3    2.22222\n",
       "4    1.94445\n",
       "Name: wspd_sclr, dtype: float64"
      ]
     },
     "execution_count": 44,
     "metadata": {},
     "output_type": "execute_result"
    }
   ],
   "source": [
    "MVan_data_wind_clean['wspd_sclr'].head(5)"
   ]
  },
  {
   "cell_type": "code",
   "execution_count": 45,
   "metadata": {},
   "outputs": [
    {
     "data": {
      "text/html": [
       "<div>\n",
       "<style scoped>\n",
       "    .dataframe tbody tr th:only-of-type {\n",
       "        vertical-align: middle;\n",
       "    }\n",
       "\n",
       "    .dataframe tbody tr th {\n",
       "        vertical-align: top;\n",
       "    }\n",
       "\n",
       "    .dataframe thead th {\n",
       "        text-align: right;\n",
       "    }\n",
       "</style>\n",
       "<table border=\"1\" class=\"dataframe\">\n",
       "  <thead>\n",
       "    <tr style=\"text-align: right;\">\n",
       "      <th></th>\n",
       "      <th>time</th>\n",
       "      <th>wspd_sclr</th>\n",
       "      <th>humidity</th>\n",
       "      <th>station_id</th>\n",
       "      <th>network_id</th>\n",
       "    </tr>\n",
       "  </thead>\n",
       "  <tbody>\n",
       "    <tr>\n",
       "      <th>0</th>\n",
       "      <td>2000-01-01 00:00:00</td>\n",
       "      <td>0.385803</td>\n",
       "      <td>NaN</td>\n",
       "      <td>T12</td>\n",
       "      <td>MVan</td>\n",
       "    </tr>\n",
       "    <tr>\n",
       "      <th>1</th>\n",
       "      <td>2000-01-01 01:00:00</td>\n",
       "      <td>0.925928</td>\n",
       "      <td>NaN</td>\n",
       "      <td>T12</td>\n",
       "      <td>MVan</td>\n",
       "    </tr>\n",
       "    <tr>\n",
       "      <th>2</th>\n",
       "      <td>2000-01-01 02:00:00</td>\n",
       "      <td>0.462964</td>\n",
       "      <td>NaN</td>\n",
       "      <td>T12</td>\n",
       "      <td>MVan</td>\n",
       "    </tr>\n",
       "    <tr>\n",
       "      <th>3</th>\n",
       "      <td>2000-01-01 03:00:00</td>\n",
       "      <td>0.617283</td>\n",
       "      <td>NaN</td>\n",
       "      <td>T12</td>\n",
       "      <td>MVan</td>\n",
       "    </tr>\n",
       "    <tr>\n",
       "      <th>4</th>\n",
       "      <td>2000-01-01 04:00:00</td>\n",
       "      <td>0.540125</td>\n",
       "      <td>NaN</td>\n",
       "      <td>T12</td>\n",
       "      <td>MVan</td>\n",
       "    </tr>\n",
       "  </tbody>\n",
       "</table>\n",
       "</div>"
      ],
      "text/plain": [
       "                   time  wspd_sclr  humidity station_id network_id\n",
       "0   2000-01-01 00:00:00   0.385803       NaN        T12       MVan\n",
       "1   2000-01-01 01:00:00   0.925928       NaN        T12       MVan\n",
       "2   2000-01-01 02:00:00   0.462964       NaN        T12       MVan\n",
       "3   2000-01-01 03:00:00   0.617283       NaN        T12       MVan\n",
       "4   2000-01-01 04:00:00   0.540125       NaN        T12       MVan"
      ]
     },
     "execution_count": 45,
     "metadata": {},
     "output_type": "execute_result"
    }
   ],
   "source": [
    "# convert windspeed values from km/h to m/s by dividing values by 3.6\n",
    "MVan_data_wind_clean.loc[:,'wspd_sclr'] = MVan_data_wind_clean.loc[:,'wspd_sclr'].div(3.6)\n",
    "MVan_data_wind_clean.head(5)"
   ]
  },
  {
   "cell_type": "code",
   "execution_count": 46,
   "metadata": {},
   "outputs": [],
   "source": [
    "# rename colums\n",
    "MVan_wind = MVan_data_wind_clean.rename(columns={\"wspd_sclr\": \"wind_speed\", \"humidity\": \"relative_humidity\"})"
   ]
  },
  {
   "cell_type": "code",
   "execution_count": 47,
   "metadata": {},
   "outputs": [],
   "source": [
    "# save to csv\n",
    "MVan_wind.to_csv(f'{path_2}/MVan_wind.csv', index=False)"
   ]
  },
  {
   "cell_type": "markdown",
   "metadata": {},
   "source": [
    "#### UNBC_CAM Data Cleaning"
   ]
  },
  {
   "cell_type": "code",
   "execution_count": 48,
   "metadata": {},
   "outputs": [],
   "source": [
    "UNBC_CAM_data = functions.to_df('UNBC_CAM_data_clean.csv')"
   ]
  },
  {
   "cell_type": "code",
   "execution_count": 49,
   "metadata": {},
   "outputs": [],
   "source": [
    "column_names, column_nulls, duplicate_row_index = functions.start_cleaning(UNBC_CAM_data)"
   ]
  },
  {
   "cell_type": "code",
   "execution_count": 50,
   "metadata": {},
   "outputs": [
    {
     "name": "stdout",
     "output_type": "stream",
     "text": [
      "column names: ['rain_tot', 'solar_avg', 'solar_std', 'ws_std', 'airtc', 'time', 'rh', 'winddir_avg', 'dbtcdt', 'station_id', 'network_id', 'pressure', 'winddir_std', 'ws_avg', 'k_dn_avg', 'l_dn_avg', 'l_up_avg', 'k_up_avg']\n",
      "column nulls: rain_tot        693656\n",
      "solar_avg      1949847\n",
      "solar_std      2097928\n",
      "ws_std          274907\n",
      "airtc           178388\n",
      "time                 0\n",
      "rh              145556\n",
      "winddir_avg     780710\n",
      "dbtcdt          307674\n",
      "station_id           0\n",
      "network_id           0\n",
      "pressure        811623\n",
      "winddir_std    2392832\n",
      "ws_avg         2045467\n",
      "k_dn_avg       2305685\n",
      "l_dn_avg       2305685\n",
      "l_up_avg       2305685\n",
      "k_up_avg       2305685\n",
      "dtype: int64\n",
      "duplicate rows: Index([], dtype='int64')\n"
     ]
    },
    {
     "data": {
      "text/plain": [
       "(2634998, 18)"
      ]
     },
     "execution_count": 50,
     "metadata": {},
     "output_type": "execute_result"
    }
   ],
   "source": [
    "print(f'column names: {column_names}')\n",
    "print(f'column nulls: {column_nulls}')\n",
    "print(f'duplicate rows: {duplicate_row_index}')\n",
    "UNBC_CAM_data.shape"
   ]
  },
  {
   "cell_type": "code",
   "execution_count": 51,
   "metadata": {},
   "outputs": [],
   "source": [
    "# only keep variables of interest\n",
    "UNBC_CAM_data_solar = UNBC_CAM_data.loc[:,('time', 'solar_avg', 'station_id', 'network_id')]\n",
    "UNBC_CAM_data_wind = UNBC_CAM_data.loc[:,('time', 'ws_avg', 'airtc', 'rh', 'pressure', 'station_id', 'network_id')]"
   ]
  },
  {
   "cell_type": "code",
   "execution_count": 52,
   "metadata": {},
   "outputs": [
    {
     "data": {
      "text/plain": [
       "time                0\n",
       "solar_avg     1949847\n",
       "station_id          0\n",
       "network_id          0\n",
       "dtype: int64"
      ]
     },
     "execution_count": 52,
     "metadata": {},
     "output_type": "execute_result"
    }
   ],
   "source": [
    "# count null values in solar data\n",
    "UNBC_CAM_data_solar.isna().sum()\n"
   ]
  },
  {
   "cell_type": "code",
   "execution_count": 53,
   "metadata": {},
   "outputs": [
    {
     "data": {
      "text/plain": [
       "(2634998, 4)"
      ]
     },
     "execution_count": 53,
     "metadata": {},
     "output_type": "execute_result"
    }
   ],
   "source": [
    "# compare with overall size of solar data\n",
    "UNBC_CAM_data_solar.shape"
   ]
  },
  {
   "cell_type": "code",
   "execution_count": 55,
   "metadata": {},
   "outputs": [
    {
     "data": {
      "text/plain": [
       "time          0\n",
       "solar_avg     0\n",
       "station_id    0\n",
       "network_id    0\n",
       "dtype: int64"
      ]
     },
     "execution_count": 55,
     "metadata": {},
     "output_type": "execute_result"
    }
   ],
   "source": [
    "# drop rows in solar data that do not have solar radiation values\n",
    "UNBC_CAM_data_solar_clean = UNBC_CAM_data_solar.dropna(subset=['solar_avg'])\n",
    "UNBC_CAM_data_solar_clean.isna().sum()"
   ]
  },
  {
   "cell_type": "code",
   "execution_count": 57,
   "metadata": {},
   "outputs": [
    {
     "data": {
      "text/html": [
       "<div>\n",
       "<style scoped>\n",
       "    .dataframe tbody tr th:only-of-type {\n",
       "        vertical-align: middle;\n",
       "    }\n",
       "\n",
       "    .dataframe tbody tr th {\n",
       "        vertical-align: top;\n",
       "    }\n",
       "\n",
       "    .dataframe thead th {\n",
       "        text-align: right;\n",
       "    }\n",
       "</style>\n",
       "<table border=\"1\" class=\"dataframe\">\n",
       "  <thead>\n",
       "    <tr style=\"text-align: right;\">\n",
       "      <th></th>\n",
       "      <th>time</th>\n",
       "      <th>solar_radiation</th>\n",
       "      <th>station_id</th>\n",
       "      <th>network_id</th>\n",
       "    </tr>\n",
       "  </thead>\n",
       "  <tbody>\n",
       "    <tr>\n",
       "      <th>0</th>\n",
       "      <td>2010-01-01 00:00:00</td>\n",
       "      <td>0.00</td>\n",
       "      <td>ancifore</td>\n",
       "      <td>UNBC_CAM</td>\n",
       "    </tr>\n",
       "    <tr>\n",
       "      <th>1</th>\n",
       "      <td>2010-01-01 00:15:00</td>\n",
       "      <td>0.00</td>\n",
       "      <td>ancifore</td>\n",
       "      <td>UNBC_CAM</td>\n",
       "    </tr>\n",
       "    <tr>\n",
       "      <th>2</th>\n",
       "      <td>2010-01-01 00:29:59</td>\n",
       "      <td>0.00</td>\n",
       "      <td>ancifore</td>\n",
       "      <td>UNBC_CAM</td>\n",
       "    </tr>\n",
       "    <tr>\n",
       "      <th>3</th>\n",
       "      <td>2010-01-01 00:45:00</td>\n",
       "      <td>0.00</td>\n",
       "      <td>ancifore</td>\n",
       "      <td>UNBC_CAM</td>\n",
       "    </tr>\n",
       "    <tr>\n",
       "      <th>4</th>\n",
       "      <td>2010-01-01 01:00:00</td>\n",
       "      <td>0.00</td>\n",
       "      <td>ancifore</td>\n",
       "      <td>UNBC_CAM</td>\n",
       "    </tr>\n",
       "    <tr>\n",
       "      <th>...</th>\n",
       "      <td>...</td>\n",
       "      <td>...</td>\n",
       "      <td>...</td>\n",
       "      <td>...</td>\n",
       "    </tr>\n",
       "    <tr>\n",
       "      <th>2279813</th>\n",
       "      <td>2017-11-17 13:45:00</td>\n",
       "      <td>17.93</td>\n",
       "      <td>tatulake</td>\n",
       "      <td>UNBC_CAM</td>\n",
       "    </tr>\n",
       "    <tr>\n",
       "      <th>2279814</th>\n",
       "      <td>2017-11-17 14:00:00</td>\n",
       "      <td>20.04</td>\n",
       "      <td>tatulake</td>\n",
       "      <td>UNBC_CAM</td>\n",
       "    </tr>\n",
       "    <tr>\n",
       "      <th>2279815</th>\n",
       "      <td>2017-11-17 14:15:00</td>\n",
       "      <td>19.51</td>\n",
       "      <td>tatulake</td>\n",
       "      <td>UNBC_CAM</td>\n",
       "    </tr>\n",
       "    <tr>\n",
       "      <th>2279816</th>\n",
       "      <td>2017-11-17 14:30:00</td>\n",
       "      <td>26.36</td>\n",
       "      <td>tatulake</td>\n",
       "      <td>UNBC_CAM</td>\n",
       "    </tr>\n",
       "    <tr>\n",
       "      <th>2279817</th>\n",
       "      <td>2017-11-17 14:45:00</td>\n",
       "      <td>47.48</td>\n",
       "      <td>tatulake</td>\n",
       "      <td>UNBC_CAM</td>\n",
       "    </tr>\n",
       "  </tbody>\n",
       "</table>\n",
       "<p>685151 rows × 4 columns</p>\n",
       "</div>"
      ],
      "text/plain": [
       "                         time  solar_radiation station_id network_id\n",
       "0         2010-01-01 00:00:00             0.00   ancifore   UNBC_CAM\n",
       "1         2010-01-01 00:15:00             0.00   ancifore   UNBC_CAM\n",
       "2         2010-01-01 00:29:59             0.00   ancifore   UNBC_CAM\n",
       "3         2010-01-01 00:45:00             0.00   ancifore   UNBC_CAM\n",
       "4         2010-01-01 01:00:00             0.00   ancifore   UNBC_CAM\n",
       "...                       ...              ...        ...        ...\n",
       "2279813   2017-11-17 13:45:00            17.93   tatulake   UNBC_CAM\n",
       "2279814   2017-11-17 14:00:00            20.04   tatulake   UNBC_CAM\n",
       "2279815   2017-11-17 14:15:00            19.51   tatulake   UNBC_CAM\n",
       "2279816   2017-11-17 14:30:00            26.36   tatulake   UNBC_CAM\n",
       "2279817   2017-11-17 14:45:00            47.48   tatulake   UNBC_CAM\n",
       "\n",
       "[685151 rows x 4 columns]"
      ]
     },
     "execution_count": 57,
     "metadata": {},
     "output_type": "execute_result"
    }
   ],
   "source": [
    "# rename columns\n",
    "UNBC_CAM_solar = UNBC_CAM_data_solar_clean.rename(columns={\"solar_avg\": \"solar_radiation\"})\n",
    "UNBC_CAM_solar"
   ]
  },
  {
   "cell_type": "code",
   "execution_count": 58,
   "metadata": {},
   "outputs": [],
   "source": [
    "UNBC_CAM_solar.to_csv(f'{path_2}/UNBC_CAM_solar.csv', index=False)"
   ]
  },
  {
   "cell_type": "code",
   "execution_count": 59,
   "metadata": {},
   "outputs": [
    {
     "data": {
      "text/plain": [
       "time                0\n",
       "ws_avg        2045467\n",
       "airtc          178388\n",
       "rh             145556\n",
       "pressure       811623\n",
       "station_id          0\n",
       "network_id          0\n",
       "dtype: int64"
      ]
     },
     "execution_count": 59,
     "metadata": {},
     "output_type": "execute_result"
    }
   ],
   "source": [
    "# count null values in wind data\n",
    "UNBC_CAM_data_wind.isna().sum()"
   ]
  },
  {
   "cell_type": "code",
   "execution_count": 60,
   "metadata": {},
   "outputs": [
    {
     "data": {
      "text/plain": [
       "time              0\n",
       "ws_avg            0\n",
       "airtc         17648\n",
       "rh                0\n",
       "pressure      18052\n",
       "station_id        0\n",
       "network_id        0\n",
       "dtype: int64"
      ]
     },
     "execution_count": 60,
     "metadata": {},
     "output_type": "execute_result"
    }
   ],
   "source": [
    "# drop rows in wind data that do not have WindSpeed values\n",
    "UNBC_CAM_data_wind_clean = UNBC_CAM_data_wind.dropna(subset=['ws_avg'])\n",
    "UNBC_CAM_data_wind_clean.isna().sum()"
   ]
  },
  {
   "cell_type": "code",
   "execution_count": 61,
   "metadata": {},
   "outputs": [
    {
     "data": {
      "text/html": [
       "<div>\n",
       "<style scoped>\n",
       "    .dataframe tbody tr th:only-of-type {\n",
       "        vertical-align: middle;\n",
       "    }\n",
       "\n",
       "    .dataframe tbody tr th {\n",
       "        vertical-align: top;\n",
       "    }\n",
       "\n",
       "    .dataframe thead th {\n",
       "        text-align: right;\n",
       "    }\n",
       "</style>\n",
       "<table border=\"1\" class=\"dataframe\">\n",
       "  <thead>\n",
       "    <tr style=\"text-align: right;\">\n",
       "      <th></th>\n",
       "      <th>time</th>\n",
       "      <th>wind_speed</th>\n",
       "      <th>air_temperature</th>\n",
       "      <th>relative_humidity</th>\n",
       "      <th>air_pressure</th>\n",
       "      <th>station_id</th>\n",
       "      <th>network_id</th>\n",
       "    </tr>\n",
       "  </thead>\n",
       "  <tbody>\n",
       "    <tr>\n",
       "      <th>748750</th>\n",
       "      <td>2010-01-01 00:00:00</td>\n",
       "      <td>6.214</td>\n",
       "      <td>-8.130</td>\n",
       "      <td>94.3</td>\n",
       "      <td>805.188</td>\n",
       "      <td>lowecast</td>\n",
       "      <td>UNBC_CAM</td>\n",
       "    </tr>\n",
       "    <tr>\n",
       "      <th>748751</th>\n",
       "      <td>2010-01-01 00:15:00</td>\n",
       "      <td>5.291</td>\n",
       "      <td>-8.140</td>\n",
       "      <td>93.6</td>\n",
       "      <td>805.183</td>\n",
       "      <td>lowecast</td>\n",
       "      <td>UNBC_CAM</td>\n",
       "    </tr>\n",
       "    <tr>\n",
       "      <th>748752</th>\n",
       "      <td>2010-01-01 00:29:59</td>\n",
       "      <td>5.138</td>\n",
       "      <td>-7.990</td>\n",
       "      <td>92.8</td>\n",
       "      <td>804.634</td>\n",
       "      <td>lowecast</td>\n",
       "      <td>UNBC_CAM</td>\n",
       "    </tr>\n",
       "    <tr>\n",
       "      <th>748753</th>\n",
       "      <td>2010-01-01 00:45:00</td>\n",
       "      <td>6.429</td>\n",
       "      <td>-7.940</td>\n",
       "      <td>93.5</td>\n",
       "      <td>804.569</td>\n",
       "      <td>lowecast</td>\n",
       "      <td>UNBC_CAM</td>\n",
       "    </tr>\n",
       "    <tr>\n",
       "      <th>748754</th>\n",
       "      <td>2010-01-01 01:00:00</td>\n",
       "      <td>6.987</td>\n",
       "      <td>-7.771</td>\n",
       "      <td>92.3</td>\n",
       "      <td>804.291</td>\n",
       "      <td>lowecast</td>\n",
       "      <td>UNBC_CAM</td>\n",
       "    </tr>\n",
       "    <tr>\n",
       "      <th>...</th>\n",
       "      <td>...</td>\n",
       "      <td>...</td>\n",
       "      <td>...</td>\n",
       "      <td>...</td>\n",
       "      <td>...</td>\n",
       "      <td>...</td>\n",
       "      <td>...</td>\n",
       "    </tr>\n",
       "    <tr>\n",
       "      <th>1860321</th>\n",
       "      <td>2017-12-31 22:45:00</td>\n",
       "      <td>0.000</td>\n",
       "      <td>-15.730</td>\n",
       "      <td>90.5</td>\n",
       "      <td>943.047</td>\n",
       "      <td>qrrc</td>\n",
       "      <td>UNBC_CAM</td>\n",
       "    </tr>\n",
       "    <tr>\n",
       "      <th>1860322</th>\n",
       "      <td>2017-12-31 23:00:00</td>\n",
       "      <td>0.000</td>\n",
       "      <td>-15.780</td>\n",
       "      <td>90.8</td>\n",
       "      <td>943.026</td>\n",
       "      <td>qrrc</td>\n",
       "      <td>UNBC_CAM</td>\n",
       "    </tr>\n",
       "    <tr>\n",
       "      <th>1860323</th>\n",
       "      <td>2017-12-31 23:15:00</td>\n",
       "      <td>0.000</td>\n",
       "      <td>-15.660</td>\n",
       "      <td>90.8</td>\n",
       "      <td>943.167</td>\n",
       "      <td>qrrc</td>\n",
       "      <td>UNBC_CAM</td>\n",
       "    </tr>\n",
       "    <tr>\n",
       "      <th>1860324</th>\n",
       "      <td>2017-12-31 23:30:00</td>\n",
       "      <td>0.000</td>\n",
       "      <td>-15.430</td>\n",
       "      <td>91.3</td>\n",
       "      <td>943.272</td>\n",
       "      <td>qrrc</td>\n",
       "      <td>UNBC_CAM</td>\n",
       "    </tr>\n",
       "    <tr>\n",
       "      <th>1860325</th>\n",
       "      <td>2017-12-31 23:45:00</td>\n",
       "      <td>0.000</td>\n",
       "      <td>-15.100</td>\n",
       "      <td>91.4</td>\n",
       "      <td>943.274</td>\n",
       "      <td>qrrc</td>\n",
       "      <td>UNBC_CAM</td>\n",
       "    </tr>\n",
       "  </tbody>\n",
       "</table>\n",
       "<p>589531 rows × 7 columns</p>\n",
       "</div>"
      ],
      "text/plain": [
       "                         time  wind_speed  air_temperature  relative_humidity  \\\n",
       "748750    2010-01-01 00:00:00       6.214           -8.130               94.3   \n",
       "748751    2010-01-01 00:15:00       5.291           -8.140               93.6   \n",
       "748752    2010-01-01 00:29:59       5.138           -7.990               92.8   \n",
       "748753    2010-01-01 00:45:00       6.429           -7.940               93.5   \n",
       "748754    2010-01-01 01:00:00       6.987           -7.771               92.3   \n",
       "...                       ...         ...              ...                ...   \n",
       "1860321   2017-12-31 22:45:00       0.000          -15.730               90.5   \n",
       "1860322   2017-12-31 23:00:00       0.000          -15.780               90.8   \n",
       "1860323   2017-12-31 23:15:00       0.000          -15.660               90.8   \n",
       "1860324   2017-12-31 23:30:00       0.000          -15.430               91.3   \n",
       "1860325   2017-12-31 23:45:00       0.000          -15.100               91.4   \n",
       "\n",
       "         air_pressure station_id network_id  \n",
       "748750        805.188   lowecast   UNBC_CAM  \n",
       "748751        805.183   lowecast   UNBC_CAM  \n",
       "748752        804.634   lowecast   UNBC_CAM  \n",
       "748753        804.569   lowecast   UNBC_CAM  \n",
       "748754        804.291   lowecast   UNBC_CAM  \n",
       "...               ...        ...        ...  \n",
       "1860321       943.047       qrrc   UNBC_CAM  \n",
       "1860322       943.026       qrrc   UNBC_CAM  \n",
       "1860323       943.167       qrrc   UNBC_CAM  \n",
       "1860324       943.272       qrrc   UNBC_CAM  \n",
       "1860325       943.274       qrrc   UNBC_CAM  \n",
       "\n",
       "[589531 rows x 7 columns]"
      ]
     },
     "execution_count": 61,
     "metadata": {},
     "output_type": "execute_result"
    }
   ],
   "source": [
    "# rename columns\n",
    "UNBC_CAM_wind = UNBC_CAM_data_wind_clean.rename(columns={\"ws_avg\": \"wind_speed\", \"airtc\": \"air_temperature\", \"rh\": \"relative_humidity\", \"pressure\": \"air_pressure\"})\n",
    "UNBC_CAM_wind"
   ]
  },
  {
   "cell_type": "code",
   "execution_count": 62,
   "metadata": {},
   "outputs": [],
   "source": [
    "# save to csv\n",
    "UNBC_CAM_wind.to_csv(f'{path_2}/UNBC_CAM_wind.csv', index=False)"
   ]
  },
  {
   "cell_type": "markdown",
   "metadata": {},
   "source": [
    "### Confirm that all column names are standardized"
   ]
  },
  {
   "cell_type": "code",
   "execution_count": 63,
   "metadata": {},
   "outputs": [
    {
     "name": "stdout",
     "output_type": "stream",
     "text": [
      "solar files: ['BCH_solar.csv', 'CRD_solar.csv', 'FLNRO_FERN_solar.csv', 'UNBC_CAM_solar.csv']\n",
      "wind files: ['BCH_wind.csv', 'CRD_wind.csv', 'EC_raw_wind.csv', 'ENV_AQN_wind.csv', 'FLNRO_FERN_wind.csv', 'MoTIe_wind.csv', 'MoTIm_wind.csv', 'MVan_wind.csv', 'UNBC_CAM_wind.csv']\n"
     ]
    }
   ],
   "source": [
    "# Create list of wind and solar filenames\n",
    "\n",
    "keywords = ['wind', 'solar']\n",
    "# create list to store wind records\n",
    "wind_files = []\n",
    "# create list to store solar records\n",
    "solar_files = []\n",
    "# create list of files in data folder\n",
    "file_names = os.listdir(f\"{path_2}\")\n",
    "# iterate through files in data folder\n",
    "for file_name in file_names:\n",
    "    # match against keywords\n",
    "    if keywords[0] in file_name:\n",
    "        wind_files.append(file_name)\n",
    "    elif keywords[1] in file_name:\n",
    "        solar_files.append(file_name)\n",
    "    else: continue\n",
    "\n",
    "print(f\"solar files: {solar_files}\")\n",
    "print(f\"wind files: {wind_files}\")"
   ]
  },
  {
   "cell_type": "code",
   "execution_count": 64,
   "metadata": {},
   "outputs": [
    {
     "name": "stdout",
     "output_type": "stream",
     "text": [
      "BCH_solar.csv\n",
      "['solar_radiation', 'station_id', 'network_id']\n",
      "CRD_solar.csv\n",
      "['solar_radiation', 'station_id', 'network_id']\n",
      "FLNRO_FERN_solar.csv\n",
      "['solar_radiation', 'station_id', 'network_id']\n",
      "UNBC_CAM_solar.csv\n",
      "['solar_radiation', 'station_id', 'network_id']\n"
     ]
    }
   ],
   "source": [
    "# print list of column names for each file\n",
    "for file in solar_files:\n",
    "    print(f\"{file}\")\n",
    "    print(list(pd.read_csv(f'{path_2}/{file}', index_col=0, nrows=0)))\n"
   ]
  },
  {
   "cell_type": "code",
   "execution_count": null,
   "metadata": {},
   "outputs": [],
   "source": []
  },
  {
   "cell_type": "code",
   "execution_count": 95,
   "metadata": {},
   "outputs": [
    {
     "name": "stdout",
     "output_type": "stream",
     "text": [
      "BCH_wind.csv\n",
      "['wind_speed', 'air_pressure', 'air_temperature', 'relative_humidity', 'station_id', 'network_id']\n",
      "CRD_wind.csv\n",
      "['wind_speed', 'air_temperature', 'relative_humidity', 'station_id', 'network_id']\n",
      "EC_raw_wind.csv\n",
      "['wind_speed', 'air_temperature', 'relative_humidity', 'station_id', 'network_id']\n",
      "ENV_AQN_wind.csv\n",
      "['wind_speed', 'air_temperature', 'relative_humidity', 'air_pressure', 'station_id', 'network_id']\n",
      "FLNRO_FERN_wind.csv\n",
      "['wind_speed', 'air_temperature', 'relative_humidity', 'air_pressure', 'station_id', 'network_id']\n",
      "MoTIe_wind.csv\n",
      "['wind_speed', 'air_temperature', 'relative_humidity', 'air_pressure', 'station_id', 'network_id']\n",
      "MoTIm_wind.csv\n",
      "['wind_speed', 'air_temperature', 'relative_humidity', 'station_id', 'network_id']\n",
      "MVan_wind.csv\n",
      "['wind_speed', 'relative_humidity', 'station_id', 'network_id']\n",
      "UNBC_CAM_wind.csv\n",
      "['wind_speed', 'air_temperature', 'relative_humidity', 'air_pressure', 'station_id', 'network_id']\n"
     ]
    }
   ],
   "source": [
    "# print list of column names for each file\n",
    "for file in wind_files:\n",
    "    print(f\"{file}\")\n",
    "    print(list(pd.read_csv(f'{path_2}/{file}', index_col=0, nrows=0)))"
   ]
  },
  {
   "cell_type": "code",
   "execution_count": null,
   "metadata": {},
   "outputs": [],
   "source": []
  }
 ],
 "metadata": {
  "kernelspec": {
   "display_name": "lhl_env",
   "language": "python",
   "name": "python3"
  },
  "language_info": {
   "codemirror_mode": {
    "name": "ipython",
    "version": 3
   },
   "file_extension": ".py",
   "mimetype": "text/x-python",
   "name": "python",
   "nbconvert_exporter": "python",
   "pygments_lexer": "ipython3",
   "version": "3.11.5"
  },
  "orig_nbformat": 4
 },
 "nbformat": 4,
 "nbformat_minor": 2
}
