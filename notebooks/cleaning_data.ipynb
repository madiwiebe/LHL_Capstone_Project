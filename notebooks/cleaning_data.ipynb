{
 "cells": [
  {
   "cell_type": "markdown",
   "metadata": {},
   "source": [
    "### Initializing"
   ]
  },
  {
   "cell_type": "code",
   "execution_count": 1,
   "metadata": {},
   "outputs": [],
   "source": [
    "import pandas as pd\n",
    "import os \n",
    "import functions"
   ]
  },
  {
   "cell_type": "code",
   "execution_count": 2,
   "metadata": {},
   "outputs": [
    {
     "name": "stdout",
     "output_type": "stream",
     "text": [
      "hello\n"
     ]
    }
   ],
   "source": [
    "# test for proper access to functions module\n",
    "functions.temp()"
   ]
  },
  {
   "cell_type": "code",
   "execution_count": 3,
   "metadata": {},
   "outputs": [],
   "source": [
    "# define path variable for data folder containing concatenated .csv files\n",
    "path_2 = '../data'"
   ]
  },
  {
   "cell_type": "markdown",
   "metadata": {},
   "source": [
    "### Data cleaning\n",
    "Objectives:\n",
    "- remove irrelevant/null columns\n",
    "- keep columns variables associated with wind power generation\n",
    "    - wind speed\n",
    "    - air density\n",
    "        - air pressure\n",
    "        - air temperature\n",
    "        - relative humidity\n",
    "- keep column variables associated with solar power generation\n",
    "    - solar radiation\n",
    "    - cloud cover fraction?\n",
    "    - sunlight duration?\n",
    "- standardize column data with common variables (units, format)"
   ]
  },
  {
   "cell_type": "markdown",
   "metadata": {},
   "source": [
    "#### BCH Data Cleaning"
   ]
  },
  {
   "cell_type": "code",
   "execution_count": 4,
   "metadata": {},
   "outputs": [
    {
     "name": "stderr",
     "output_type": "stream",
     "text": [
      "d:\\School\\LHL\\capstone_project_data\\LHL_Capstone_Project\\notebooks\\functions.py:106: DtypeWarning: Columns (30) have mixed types. Specify dtype option on import or set low_memory=False.\n",
      "  df_name = pd.read_csv(f'{path_2}/{data_name}.csv', index_col=0)\n"
     ]
    },
    {
     "data": {
      "text/plain": [
       "['WindSpeed',\n",
       " ' time',\n",
       " ' WindDirection',\n",
       " 'filename',\n",
       " 'L_down_corr_Avg',\n",
       " ' HFT3_1_Avg',\n",
       " ' L_up_Avg',\n",
       " ' WindSpeed',\n",
       " ' ONE_DAY_SNOW',\n",
       " ' K_up_Avg',\n",
       " ' L_up_corr_Avg',\n",
       " ' AirTemp',\n",
       " ' L_down_Avg',\n",
       " ' HFT3_2_Avg',\n",
       " ' K_down_Avg',\n",
       " ' BarometricPressure',\n",
       " ' SoilVolumetricWaterContent',\n",
       " ' RelativeHumidity',\n",
       " ' TSoil_Avg',\n",
       " ' Vis',\n",
       " ' ONE_DAY_RAIN',\n",
       " 'AirTemp',\n",
       " ' ONE_DAY_PRECIPITATION',\n",
       " ' MIN_TEMP',\n",
       " ' MAX_TEMP',\n",
       " ' Snow_WE',\n",
       " ' SNOW_ON_THE_GROUND',\n",
       " 'HFT3_1_Avg',\n",
       " ' NetRad',\n",
       " 'time']"
      ]
     },
     "execution_count": 4,
     "metadata": {},
     "output_type": "execute_result"
    }
   ],
   "source": [
    "functions.list_columns('BCH_data.csv')"
   ]
  },
  {
   "cell_type": "code",
   "execution_count": 28,
   "metadata": {},
   "outputs": [],
   "source": [
    "# only include variables of interest\n",
    "BCH_data_wind = BCH_data.loc[:,('time', ' time', 'WindSpeed', ' BarometricPressure', 'AirTemp', ' RelativeHumidity', 'filename')]\n",
    "BCH_data_solar = BCH_data.loc[:,('time', ' time', ' NetRad', 'filename')]"
   ]
  },
  {
   "cell_type": "markdown",
   "metadata": {},
   "source": [
    "##### BCH Wind Data Cleaning"
   ]
  },
  {
   "cell_type": "code",
   "execution_count": 16,
   "metadata": {},
   "outputs": [
    {
     "data": {
      "text/plain": [
       "time                   6813622\n",
       " time                   203217\n",
       "WindSpeed              6988625\n",
       " BarometricPressure    6833815\n",
       "AirTemp                1496022\n",
       " RelativeHumidity      6827106\n",
       "filename                     0\n",
       "dtype: int64"
      ]
     },
     "execution_count": 16,
     "metadata": {},
     "output_type": "execute_result"
    }
   ],
   "source": [
    "# count null values in wind data\n",
    "BCH_data_wind.isna().sum()"
   ]
  },
  {
   "cell_type": "code",
   "execution_count": 29,
   "metadata": {},
   "outputs": [
    {
     "data": {
      "text/plain": [
       "time                   28214\n",
       " time                      0\n",
       "WindSpeed                  0\n",
       " BarometricPressure    28214\n",
       "AirTemp                28214\n",
       " RelativeHumidity      28214\n",
       "filename                   0\n",
       "dtype: int64"
      ]
     },
     "execution_count": 29,
     "metadata": {},
     "output_type": "execute_result"
    }
   ],
   "source": [
    "# drop rows in wind data that do not have a WindSpeed value\n",
    "# WindSpeed is a key variable that is important to location-specific results\n",
    "BCH_data_wind_clean = BCH_data_wind.dropna(subset=['WindSpeed'])\n",
    "BCH_data_wind_clean.isna().sum()"
   ]
  },
  {
   "cell_type": "code",
   "execution_count": 36,
   "metadata": {},
   "outputs": [
    {
     "data": {
      "text/plain": [
       "(28214, 7)"
      ]
     },
     "execution_count": 36,
     "metadata": {},
     "output_type": "execute_result"
    }
   ],
   "source": [
    "# check whether number of remaining nulls are the same as the number of rows\n",
    "BCH_data_wind_clean.shape"
   ]
  },
  {
   "cell_type": "code",
   "execution_count": 35,
   "metadata": {},
   "outputs": [
    {
     "data": {
      "text/plain": [
       "Int64Index([], dtype='int64')"
      ]
     },
     "execution_count": 35,
     "metadata": {},
     "output_type": "execute_result"
    }
   ],
   "source": [
    "# check for duplicates\n",
    "duplicate_rows = BCH_data_wind_clean.duplicated()\n",
    "duplicate_rows[duplicate_rows].index"
   ]
  },
  {
   "cell_type": "code",
   "execution_count": 38,
   "metadata": {},
   "outputs": [],
   "source": [
    "# save to csv\n",
    "BCH_data_wind_clean.to_csv('../data/BCH_data_wind_clean.csv')"
   ]
  },
  {
   "cell_type": "markdown",
   "metadata": {},
   "source": [
    "Plan for handling remaining nulls:\n",
    "- use values from next nearest weather station\n",
    "- use averages from data as a whole if necessary"
   ]
  },
  {
   "cell_type": "markdown",
   "metadata": {},
   "source": [
    "##### BCH Solar Data Cleaning"
   ]
  },
  {
   "cell_type": "code",
   "execution_count": 17,
   "metadata": {},
   "outputs": [
    {
     "data": {
      "text/plain": [
       "time        6813622\n",
       " time        203217\n",
       " NetRad     6928912\n",
       "filename          0\n",
       "dtype: int64"
      ]
     },
     "execution_count": 17,
     "metadata": {},
     "output_type": "execute_result"
    }
   ],
   "source": [
    "# count null values in solar data\n",
    "BCH_data_solar.isna().sum()"
   ]
  },
  {
   "cell_type": "code",
   "execution_count": 18,
   "metadata": {},
   "outputs": [
    {
     "data": {
      "text/plain": [
       "time        87927\n",
       " time           0\n",
       " NetRad         0\n",
       "filename        0\n",
       "dtype: int64"
      ]
     },
     "execution_count": 18,
     "metadata": {},
     "output_type": "execute_result"
    }
   ],
   "source": [
    "# drop rows in solar data that do not have a NetRad value\n",
    "BCH_data_solar_clean = BCH_data_solar.dropna(subset=[' NetRad'])\n",
    "BCH_data_solar_clean.isna().sum()"
   ]
  },
  {
   "cell_type": "code",
   "execution_count": 24,
   "metadata": {},
   "outputs": [
    {
     "data": {
      "text/plain": [
       "(87927, 4)"
      ]
     },
     "execution_count": 24,
     "metadata": {},
     "output_type": "execute_result"
    }
   ],
   "source": [
    "# check whether number of null 'time' values is the same as number of rows\n",
    "BCH_data_solar_clean.shape"
   ]
  },
  {
   "cell_type": "code",
   "execution_count": 39,
   "metadata": {},
   "outputs": [
    {
     "data": {
      "text/plain": [
       "Int64Index([], dtype='int64')"
      ]
     },
     "execution_count": 39,
     "metadata": {},
     "output_type": "execute_result"
    }
   ],
   "source": [
    "# check for duplicates\n",
    "duplicate_rows = BCH_data_solar_clean.duplicated()\n",
    "duplicate_rows[duplicate_rows].index"
   ]
  },
  {
   "cell_type": "code",
   "execution_count": 25,
   "metadata": {},
   "outputs": [
    {
     "data": {
      "text/plain": [
       "(87927, 3)"
      ]
     },
     "execution_count": 25,
     "metadata": {},
     "output_type": "execute_result"
    }
   ],
   "source": [
    "# drop 'time'\n",
    "BCH_data_solar_clean.drop(columns=['time'], inplace=True)\n",
    "BCH_data_solar_clean.shape"
   ]
  },
  {
   "cell_type": "code",
   "execution_count": 26,
   "metadata": {},
   "outputs": [],
   "source": [
    "# save BCH solar data to csv\n",
    "BCH_data_solar_clean.to_csv('../data/BCH_data_solar_clean.csv')"
   ]
  },
  {
   "cell_type": "markdown",
   "metadata": {},
   "source": [
    "#### CRD Data Cleaning"
   ]
  },
  {
   "cell_type": "code",
   "execution_count": 7,
   "metadata": {},
   "outputs": [],
   "source": [
    "CRD_data = functions.to_df('CRD_data.csv')"
   ]
  },
  {
   "cell_type": "code",
   "execution_count": 8,
   "metadata": {},
   "outputs": [],
   "source": [
    "column_names, column_nulls, duplicate_row_index = functions.start_cleaning(CRD_data)"
   ]
  },
  {
   "cell_type": "code",
   "execution_count": 9,
   "metadata": {},
   "outputs": [
    {
     "name": "stdout",
     "output_type": "stream",
     "text": [
      "column names: ['SolarRadiation', ' AirTemperature', ' Precipitation', ' Rain', ' WindSpeed', ' SnowDepth', ' time', ' WindDirection', ' RelativeHumidity', 'filename', 'AirTemperature', ' SnowWaterEquivalent', 'RelativeHumidity']\n",
      "column nulls: SolarRadiation          4090779\n",
      " AirTemperature         2812394\n",
      " Precipitation          3328235\n",
      " Rain                    438757\n",
      " WindSpeed               655130\n",
      " SnowDepth              3711426\n",
      " time                         0\n",
      " WindDirection           658523\n",
      " RelativeHumidity        652576\n",
      "filename                      0\n",
      "AirTemperature          1468700\n",
      " SnowWaterEquivalent    4078683\n",
      "RelativeHumidity        4039005\n",
      "dtype: int64\n",
      "duplicate rows: Int64Index([], dtype='int64')\n"
     ]
    }
   ],
   "source": [
    "print(f'column names: {column_names}')\n",
    "print(f'column nulls: {column_nulls}')\n",
    "print(f'duplicate rows: {duplicate_row_index}')\n",
    "CRD_data.shape"
   ]
  },
  {
   "cell_type": "code",
   "execution_count": 10,
   "metadata": {},
   "outputs": [],
   "source": [
    "# only keep variables of interest\n",
    "CRD_data_solar = CRD_data.loc[:,(' time', 'SolarRadiation', 'filename')]\n",
    "CRD_data_wind = CRD_data.loc[:,(' time', ' WindSpeed', 'AirTemperature', ' AirTemperature', 'RelativeHumidity', ' RelativeHumidity', 'filename')] \n",
    "    # note that no air pressure value is available"
   ]
  },
  {
   "cell_type": "code",
   "execution_count": 11,
   "metadata": {},
   "outputs": [
    {
     "data": {
      "text/plain": [
       " time             0\n",
       "SolarRadiation    0\n",
       "filename          0\n",
       "dtype: int64"
      ]
     },
     "execution_count": 11,
     "metadata": {},
     "output_type": "execute_result"
    }
   ],
   "source": [
    "# drop rows in solar data that do not have SolarRadiation values\n",
    "CRD_data_solar_clean = CRD_data_solar.dropna(subset=['SolarRadiation'])\n",
    "CRD_data_solar_clean.isna().sum()"
   ]
  },
  {
   "cell_type": "code",
   "execution_count": 9,
   "metadata": {},
   "outputs": [],
   "source": [
    "CRD_data_solar_clean.to_csv(f'{path_2}/CRD_data_solar_clean.csv')"
   ]
  },
  {
   "cell_type": "code",
   "execution_count": 12,
   "metadata": {},
   "outputs": [
    {
     "data": {
      "text/plain": [
       " time                      0\n",
       " WindSpeed            655130\n",
       "AirTemperature       1468700\n",
       " AirTemperature      2812394\n",
       "RelativeHumidity     4039005\n",
       " RelativeHumidity     652576\n",
       "filename                   0\n",
       "dtype: int64"
      ]
     },
     "execution_count": 12,
     "metadata": {},
     "output_type": "execute_result"
    }
   ],
   "source": [
    "# count null values in wind data\n",
    "CRD_data_wind.isna().sum()"
   ]
  },
  {
   "cell_type": "code",
   "execution_count": 21,
   "metadata": {},
   "outputs": [
    {
     "data": {
      "text/plain": [
       " time                      0\n",
       " WindSpeed                 0\n",
       "AirTemperature        817039\n",
       " AirTemperature      2808351\n",
       "RelativeHumidity     3445441\n",
       " RelativeHumidity       1181\n",
       "filename                   0\n",
       "dtype: int64"
      ]
     },
     "execution_count": 21,
     "metadata": {},
     "output_type": "execute_result"
    }
   ],
   "source": [
    "# drop rows in wind data that do not have WindSpeed values\n",
    "CRD_data_wind_clean = CRD_data_wind.dropna(subset=[' WindSpeed'])\n",
    "CRD_data_wind_clean.isna().sum()"
   ]
  },
  {
   "cell_type": "code",
   "execution_count": 22,
   "metadata": {},
   "outputs": [
    {
     "data": {
      "text/plain": [
       "0      0.0\n",
       "1      0.0\n",
       "2      0.0\n",
       "3      0.0\n",
       "4      0.0\n",
       "5      0.0\n",
       "6      0.0\n",
       "7      0.0\n",
       "8      0.0\n",
       "9      3.8\n",
       "10     3.9\n",
       "11     0.0\n",
       "12     6.6\n",
       "13    10.9\n",
       "14     8.4\n",
       "Name:  WindSpeed, dtype: float64"
      ]
     },
     "execution_count": 22,
     "metadata": {},
     "output_type": "execute_result"
    }
   ],
   "source": [
    "CRD_data_wind_clean[' WindSpeed'].head(15)"
   ]
  },
  {
   "cell_type": "code",
   "execution_count": 23,
   "metadata": {},
   "outputs": [
    {
     "name": "stderr",
     "output_type": "stream",
     "text": [
      "C:\\Users\\maddy\\AppData\\Local\\Temp\\ipykernel_16388\\857442712.py:2: SettingWithCopyWarning: \n",
      "A value is trying to be set on a copy of a slice from a DataFrame.\n",
      "Try using .loc[row_indexer,col_indexer] = value instead\n",
      "\n",
      "See the caveats in the documentation: https://pandas.pydata.org/pandas-docs/stable/user_guide/indexing.html#returning-a-view-versus-a-copy\n",
      "  CRD_data_wind_clean.loc[:,' WindSpeed'] = CRD_data_wind_clean.loc[:,' WindSpeed'].div(3.6)\n"
     ]
    },
    {
     "data": {
      "text/html": [
       "<div>\n",
       "<style scoped>\n",
       "    .dataframe tbody tr th:only-of-type {\n",
       "        vertical-align: middle;\n",
       "    }\n",
       "\n",
       "    .dataframe tbody tr th {\n",
       "        vertical-align: top;\n",
       "    }\n",
       "\n",
       "    .dataframe thead th {\n",
       "        text-align: right;\n",
       "    }\n",
       "</style>\n",
       "<table border=\"1\" class=\"dataframe\">\n",
       "  <thead>\n",
       "    <tr style=\"text-align: right;\">\n",
       "      <th></th>\n",
       "      <th>time</th>\n",
       "      <th>WindSpeed</th>\n",
       "      <th>AirTemperature</th>\n",
       "      <th>AirTemperature</th>\n",
       "      <th>RelativeHumidity</th>\n",
       "      <th>RelativeHumidity</th>\n",
       "      <th>filename</th>\n",
       "    </tr>\n",
       "  </thead>\n",
       "  <tbody>\n",
       "    <tr>\n",
       "      <th>0</th>\n",
       "      <td>1998-04-17 00:00:00</td>\n",
       "      <td>0.000000</td>\n",
       "      <td>NaN</td>\n",
       "      <td>0.9</td>\n",
       "      <td>NaN</td>\n",
       "      <td>100.0</td>\n",
       "      <td>FW001.csv</td>\n",
       "    </tr>\n",
       "    <tr>\n",
       "      <th>1</th>\n",
       "      <td>1998-04-17 01:00:00</td>\n",
       "      <td>0.000000</td>\n",
       "      <td>NaN</td>\n",
       "      <td>1.2</td>\n",
       "      <td>NaN</td>\n",
       "      <td>100.0</td>\n",
       "      <td>FW001.csv</td>\n",
       "    </tr>\n",
       "    <tr>\n",
       "      <th>2</th>\n",
       "      <td>1998-04-17 02:00:00</td>\n",
       "      <td>0.000000</td>\n",
       "      <td>NaN</td>\n",
       "      <td>0.7</td>\n",
       "      <td>NaN</td>\n",
       "      <td>100.0</td>\n",
       "      <td>FW001.csv</td>\n",
       "    </tr>\n",
       "    <tr>\n",
       "      <th>3</th>\n",
       "      <td>1998-04-17 03:00:00</td>\n",
       "      <td>0.000000</td>\n",
       "      <td>NaN</td>\n",
       "      <td>0.9</td>\n",
       "      <td>NaN</td>\n",
       "      <td>100.0</td>\n",
       "      <td>FW001.csv</td>\n",
       "    </tr>\n",
       "    <tr>\n",
       "      <th>4</th>\n",
       "      <td>1998-04-17 04:00:00</td>\n",
       "      <td>0.000000</td>\n",
       "      <td>NaN</td>\n",
       "      <td>0.1</td>\n",
       "      <td>NaN</td>\n",
       "      <td>100.0</td>\n",
       "      <td>FW001.csv</td>\n",
       "    </tr>\n",
       "    <tr>\n",
       "      <th>5</th>\n",
       "      <td>1998-04-17 05:00:00</td>\n",
       "      <td>0.000000</td>\n",
       "      <td>NaN</td>\n",
       "      <td>0.1</td>\n",
       "      <td>NaN</td>\n",
       "      <td>100.0</td>\n",
       "      <td>FW001.csv</td>\n",
       "    </tr>\n",
       "    <tr>\n",
       "      <th>6</th>\n",
       "      <td>1998-04-17 06:00:00</td>\n",
       "      <td>0.000000</td>\n",
       "      <td>NaN</td>\n",
       "      <td>0.4</td>\n",
       "      <td>NaN</td>\n",
       "      <td>100.0</td>\n",
       "      <td>FW001.csv</td>\n",
       "    </tr>\n",
       "    <tr>\n",
       "      <th>7</th>\n",
       "      <td>1998-04-17 07:00:00</td>\n",
       "      <td>0.000000</td>\n",
       "      <td>NaN</td>\n",
       "      <td>2.7</td>\n",
       "      <td>NaN</td>\n",
       "      <td>100.0</td>\n",
       "      <td>FW001.csv</td>\n",
       "    </tr>\n",
       "    <tr>\n",
       "      <th>8</th>\n",
       "      <td>1998-04-17 08:00:00</td>\n",
       "      <td>0.000000</td>\n",
       "      <td>NaN</td>\n",
       "      <td>8.2</td>\n",
       "      <td>NaN</td>\n",
       "      <td>74.0</td>\n",
       "      <td>FW001.csv</td>\n",
       "    </tr>\n",
       "    <tr>\n",
       "      <th>9</th>\n",
       "      <td>1998-04-17 09:00:00</td>\n",
       "      <td>1.055556</td>\n",
       "      <td>NaN</td>\n",
       "      <td>9.4</td>\n",
       "      <td>NaN</td>\n",
       "      <td>64.0</td>\n",
       "      <td>FW001.csv</td>\n",
       "    </tr>\n",
       "    <tr>\n",
       "      <th>10</th>\n",
       "      <td>1998-04-17 10:00:00</td>\n",
       "      <td>1.083333</td>\n",
       "      <td>NaN</td>\n",
       "      <td>10.1</td>\n",
       "      <td>NaN</td>\n",
       "      <td>63.0</td>\n",
       "      <td>FW001.csv</td>\n",
       "    </tr>\n",
       "    <tr>\n",
       "      <th>11</th>\n",
       "      <td>1998-04-17 11:00:00</td>\n",
       "      <td>0.000000</td>\n",
       "      <td>NaN</td>\n",
       "      <td>10.6</td>\n",
       "      <td>NaN</td>\n",
       "      <td>62.0</td>\n",
       "      <td>FW001.csv</td>\n",
       "    </tr>\n",
       "    <tr>\n",
       "      <th>12</th>\n",
       "      <td>1998-04-17 12:00:00</td>\n",
       "      <td>1.833333</td>\n",
       "      <td>NaN</td>\n",
       "      <td>10.9</td>\n",
       "      <td>NaN</td>\n",
       "      <td>59.0</td>\n",
       "      <td>FW001.csv</td>\n",
       "    </tr>\n",
       "    <tr>\n",
       "      <th>13</th>\n",
       "      <td>1998-04-17 13:00:00</td>\n",
       "      <td>3.027778</td>\n",
       "      <td>NaN</td>\n",
       "      <td>11.3</td>\n",
       "      <td>NaN</td>\n",
       "      <td>51.0</td>\n",
       "      <td>FW001.csv</td>\n",
       "    </tr>\n",
       "    <tr>\n",
       "      <th>14</th>\n",
       "      <td>1998-04-17 14:00:00</td>\n",
       "      <td>2.333333</td>\n",
       "      <td>NaN</td>\n",
       "      <td>11.6</td>\n",
       "      <td>NaN</td>\n",
       "      <td>61.0</td>\n",
       "      <td>FW001.csv</td>\n",
       "    </tr>\n",
       "  </tbody>\n",
       "</table>\n",
       "</div>"
      ],
      "text/plain": [
       "                    time   WindSpeed  AirTemperature   AirTemperature  \\\n",
       "0    1998-04-17 00:00:00    0.000000             NaN              0.9   \n",
       "1    1998-04-17 01:00:00    0.000000             NaN              1.2   \n",
       "2    1998-04-17 02:00:00    0.000000             NaN              0.7   \n",
       "3    1998-04-17 03:00:00    0.000000             NaN              0.9   \n",
       "4    1998-04-17 04:00:00    0.000000             NaN              0.1   \n",
       "5    1998-04-17 05:00:00    0.000000             NaN              0.1   \n",
       "6    1998-04-17 06:00:00    0.000000             NaN              0.4   \n",
       "7    1998-04-17 07:00:00    0.000000             NaN              2.7   \n",
       "8    1998-04-17 08:00:00    0.000000             NaN              8.2   \n",
       "9    1998-04-17 09:00:00    1.055556             NaN              9.4   \n",
       "10   1998-04-17 10:00:00    1.083333             NaN             10.1   \n",
       "11   1998-04-17 11:00:00    0.000000             NaN             10.6   \n",
       "12   1998-04-17 12:00:00    1.833333             NaN             10.9   \n",
       "13   1998-04-17 13:00:00    3.027778             NaN             11.3   \n",
       "14   1998-04-17 14:00:00    2.333333             NaN             11.6   \n",
       "\n",
       "    RelativeHumidity   RelativeHumidity   filename  \n",
       "0                NaN              100.0  FW001.csv  \n",
       "1                NaN              100.0  FW001.csv  \n",
       "2                NaN              100.0  FW001.csv  \n",
       "3                NaN              100.0  FW001.csv  \n",
       "4                NaN              100.0  FW001.csv  \n",
       "5                NaN              100.0  FW001.csv  \n",
       "6                NaN              100.0  FW001.csv  \n",
       "7                NaN              100.0  FW001.csv  \n",
       "8                NaN               74.0  FW001.csv  \n",
       "9                NaN               64.0  FW001.csv  \n",
       "10               NaN               63.0  FW001.csv  \n",
       "11               NaN               62.0  FW001.csv  \n",
       "12               NaN               59.0  FW001.csv  \n",
       "13               NaN               51.0  FW001.csv  \n",
       "14               NaN               61.0  FW001.csv  "
      ]
     },
     "execution_count": 23,
     "metadata": {},
     "output_type": "execute_result"
    }
   ],
   "source": [
    "# convert windspeed values from km/h to m/s by dividing values by 3.6\n",
    "CRD_data_wind_clean.loc[:,' WindSpeed'] = CRD_data_wind_clean.loc[:,' WindSpeed'].div(3.6)\n",
    "CRD_data_wind_clean.head(15)"
   ]
  },
  {
   "cell_type": "code",
   "execution_count": 24,
   "metadata": {},
   "outputs": [],
   "source": [
    "# save to csv\n",
    "CRD_data_wind_clean.to_csv(f'{path_2}/CRD_data_wind_clean.csv')"
   ]
  },
  {
   "cell_type": "markdown",
   "metadata": {},
   "source": [
    "#### EC_raw Data Cleaning"
   ]
  },
  {
   "cell_type": "code",
   "execution_count": 3,
   "metadata": {},
   "outputs": [],
   "source": [
    "EC_raw_data = functions.to_df('EC_raw_data.csv')"
   ]
  },
  {
   "cell_type": "code",
   "execution_count": 4,
   "metadata": {},
   "outputs": [],
   "source": [
    "column_names, column_nulls, duplicate_row_index = functions.start_cleaning(EC_raw_data)"
   ]
  },
  {
   "cell_type": "code",
   "execution_count": 5,
   "metadata": {},
   "outputs": [
    {
     "name": "stdout",
     "output_type": "stream",
     "text": [
      "column names: ['wind_speed', ' mean_sea_level', ' dew_point', ' wind_direction', ' relative_humidity', ' air_temperature', ' time', ' air_temperature_yesterday_low', ' wind_gust_speed', ' air_temperature_yesterday_high', ' tendency_amount', 'filename', ' total_precipitation', 'mean_sea_level', 'wind_direction', ' wind_speed', ' snow_amount', ' total_cloud_cover', 'relative_humidity', 'dew_point']\n",
      "column nulls: wind_speed                          6006263\n",
      " mean_sea_level                     1709535\n",
      " dew_point                          1035783\n",
      " wind_direction                     6420851\n",
      " relative_humidity                  1027746\n",
      " air_temperature                     411231\n",
      " time                                     0\n",
      " air_temperature_yesterday_low     12391030\n",
      " wind_gust_speed                   11440570\n",
      " air_temperature_yesterday_high    12390760\n",
      " tendency_amount                    2839650\n",
      "filename                                  0\n",
      " total_precipitation               12295547\n",
      "mean_sea_level                     12396808\n",
      "wind_direction                      8193086\n",
      " wind_speed                         7785805\n",
      " snow_amount                       12736774\n",
      " total_cloud_cover                  9324595\n",
      "relative_humidity                  12687542\n",
      "dew_point                          12676692\n",
      "dtype: int64\n",
      "duplicate rows: Int64Index([], dtype='int64')\n"
     ]
    }
   ],
   "source": [
    "print(f'column names: {column_names}')\n",
    "print(f'column nulls: {column_nulls}')\n",
    "print(f'duplicate rows: {duplicate_row_index}')"
   ]
  },
  {
   "cell_type": "code",
   "execution_count": 25,
   "metadata": {},
   "outputs": [],
   "source": [
    "# only keep variables of interest\n",
    "# no solar data available from this network\n",
    "EC_raw_data_wind = EC_raw_data.loc[:,(' time', 'wind_speed', ' wind_speed', ' air_temperature', 'relative_humidity', ' relative_humidity', 'filename')] \n",
    "    # note that no air pressure column is available"
   ]
  },
  {
   "cell_type": "code",
   "execution_count": 26,
   "metadata": {},
   "outputs": [
    {
     "data": {
      "text/plain": [
       " time                        0\n",
       "wind_speed             6006263\n",
       " wind_speed            7785805\n",
       " air_temperature        411231\n",
       "relative_humidity     12687542\n",
       " relative_humidity     1027746\n",
       "filename                     0\n",
       "dtype: int64"
      ]
     },
     "execution_count": 26,
     "metadata": {},
     "output_type": "execute_result"
    }
   ],
   "source": [
    "# count null values in wind data\n",
    "EC_raw_data_wind.isna().sum()"
   ]
  },
  {
   "cell_type": "code",
   "execution_count": 27,
   "metadata": {},
   "outputs": [
    {
     "data": {
      "text/plain": [
       " time                        0\n",
       "wind_speed             4993828\n",
       " wind_speed            6773370\n",
       " air_temperature        331537\n",
       "relative_humidity     11767198\n",
       " relative_humidity      802170\n",
       "filename                     0\n",
       "dtype: int64"
      ]
     },
     "execution_count": 27,
     "metadata": {},
     "output_type": "execute_result"
    }
   ],
   "source": [
    "# drop rows in wind data that do not have values in either windspeed column\n",
    "EC_raw_data_wind_clean = EC_raw_data_wind.dropna(subset=['wind_speed', ' wind_speed'], how='all')\n",
    "EC_raw_data_wind_clean.isna().sum()"
   ]
  },
  {
   "cell_type": "code",
   "execution_count": 29,
   "metadata": {},
   "outputs": [
    {
     "data": {
      "text/html": [
       "<div>\n",
       "<style scoped>\n",
       "    .dataframe tbody tr th:only-of-type {\n",
       "        vertical-align: middle;\n",
       "    }\n",
       "\n",
       "    .dataframe tbody tr th {\n",
       "        vertical-align: top;\n",
       "    }\n",
       "\n",
       "    .dataframe thead th {\n",
       "        text-align: right;\n",
       "    }\n",
       "</style>\n",
       "<table border=\"1\" class=\"dataframe\">\n",
       "  <thead>\n",
       "    <tr style=\"text-align: right;\">\n",
       "      <th></th>\n",
       "      <th>time</th>\n",
       "      <th>wind_speed</th>\n",
       "      <th>wind_speed</th>\n",
       "      <th>air_temperature</th>\n",
       "      <th>relative_humidity</th>\n",
       "      <th>relative_humidity</th>\n",
       "      <th>filename</th>\n",
       "    </tr>\n",
       "  </thead>\n",
       "  <tbody>\n",
       "    <tr>\n",
       "      <th>138</th>\n",
       "      <td>2011-10-16 00:00:00</td>\n",
       "      <td>16.9</td>\n",
       "      <td>NaN</td>\n",
       "      <td>9.9</td>\n",
       "      <td>NaN</td>\n",
       "      <td>78.0</td>\n",
       "      <td>1012475.csv</td>\n",
       "    </tr>\n",
       "    <tr>\n",
       "      <th>139</th>\n",
       "      <td>2011-10-16 01:00:00</td>\n",
       "      <td>16.2</td>\n",
       "      <td>NaN</td>\n",
       "      <td>9.9</td>\n",
       "      <td>NaN</td>\n",
       "      <td>78.0</td>\n",
       "      <td>1012475.csv</td>\n",
       "    </tr>\n",
       "    <tr>\n",
       "      <th>140</th>\n",
       "      <td>2011-10-16 02:00:00</td>\n",
       "      <td>10.4</td>\n",
       "      <td>NaN</td>\n",
       "      <td>9.7</td>\n",
       "      <td>NaN</td>\n",
       "      <td>82.0</td>\n",
       "      <td>1012475.csv</td>\n",
       "    </tr>\n",
       "    <tr>\n",
       "      <th>141</th>\n",
       "      <td>2011-10-16 03:00:00</td>\n",
       "      <td>9.4</td>\n",
       "      <td>NaN</td>\n",
       "      <td>9.3</td>\n",
       "      <td>NaN</td>\n",
       "      <td>83.0</td>\n",
       "      <td>1012475.csv</td>\n",
       "    </tr>\n",
       "    <tr>\n",
       "      <th>142</th>\n",
       "      <td>2011-10-16 04:00:00</td>\n",
       "      <td>13.3</td>\n",
       "      <td>NaN</td>\n",
       "      <td>9.1</td>\n",
       "      <td>NaN</td>\n",
       "      <td>83.0</td>\n",
       "      <td>1012475.csv</td>\n",
       "    </tr>\n",
       "    <tr>\n",
       "      <th>143</th>\n",
       "      <td>2011-10-16 05:00:00</td>\n",
       "      <td>15.5</td>\n",
       "      <td>NaN</td>\n",
       "      <td>9.1</td>\n",
       "      <td>NaN</td>\n",
       "      <td>84.0</td>\n",
       "      <td>1012475.csv</td>\n",
       "    </tr>\n",
       "    <tr>\n",
       "      <th>144</th>\n",
       "      <td>2011-10-16 06:00:00</td>\n",
       "      <td>17.3</td>\n",
       "      <td>NaN</td>\n",
       "      <td>8.8</td>\n",
       "      <td>NaN</td>\n",
       "      <td>84.0</td>\n",
       "      <td>1012475.csv</td>\n",
       "    </tr>\n",
       "    <tr>\n",
       "      <th>145</th>\n",
       "      <td>2011-10-16 07:00:00</td>\n",
       "      <td>16.9</td>\n",
       "      <td>NaN</td>\n",
       "      <td>8.8</td>\n",
       "      <td>NaN</td>\n",
       "      <td>83.0</td>\n",
       "      <td>1012475.csv</td>\n",
       "    </tr>\n",
       "    <tr>\n",
       "      <th>146</th>\n",
       "      <td>2011-10-16 08:00:00</td>\n",
       "      <td>16.2</td>\n",
       "      <td>NaN</td>\n",
       "      <td>8.4</td>\n",
       "      <td>NaN</td>\n",
       "      <td>81.0</td>\n",
       "      <td>1012475.csv</td>\n",
       "    </tr>\n",
       "    <tr>\n",
       "      <th>147</th>\n",
       "      <td>2011-10-16 09:00:00</td>\n",
       "      <td>8.3</td>\n",
       "      <td>NaN</td>\n",
       "      <td>7.7</td>\n",
       "      <td>NaN</td>\n",
       "      <td>83.0</td>\n",
       "      <td>1012475.csv</td>\n",
       "    </tr>\n",
       "    <tr>\n",
       "      <th>148</th>\n",
       "      <td>2011-10-16 10:00:00</td>\n",
       "      <td>7.6</td>\n",
       "      <td>NaN</td>\n",
       "      <td>7.1</td>\n",
       "      <td>NaN</td>\n",
       "      <td>85.0</td>\n",
       "      <td>1012475.csv</td>\n",
       "    </tr>\n",
       "    <tr>\n",
       "      <th>149</th>\n",
       "      <td>2011-10-16 11:00:00</td>\n",
       "      <td>8.6</td>\n",
       "      <td>NaN</td>\n",
       "      <td>7.8</td>\n",
       "      <td>NaN</td>\n",
       "      <td>76.0</td>\n",
       "      <td>1012475.csv</td>\n",
       "    </tr>\n",
       "    <tr>\n",
       "      <th>150</th>\n",
       "      <td>2011-10-16 12:00:00</td>\n",
       "      <td>8.6</td>\n",
       "      <td>NaN</td>\n",
       "      <td>8.0</td>\n",
       "      <td>NaN</td>\n",
       "      <td>74.0</td>\n",
       "      <td>1012475.csv</td>\n",
       "    </tr>\n",
       "    <tr>\n",
       "      <th>151</th>\n",
       "      <td>2011-10-16 13:00:00</td>\n",
       "      <td>9.7</td>\n",
       "      <td>NaN</td>\n",
       "      <td>7.7</td>\n",
       "      <td>NaN</td>\n",
       "      <td>75.0</td>\n",
       "      <td>1012475.csv</td>\n",
       "    </tr>\n",
       "    <tr>\n",
       "      <th>152</th>\n",
       "      <td>2011-10-16 14:00:00</td>\n",
       "      <td>8.6</td>\n",
       "      <td>NaN</td>\n",
       "      <td>7.4</td>\n",
       "      <td>NaN</td>\n",
       "      <td>78.0</td>\n",
       "      <td>1012475.csv</td>\n",
       "    </tr>\n",
       "  </tbody>\n",
       "</table>\n",
       "</div>"
      ],
      "text/plain": [
       "                     time  wind_speed   wind_speed   air_temperature  \\\n",
       "138   2011-10-16 00:00:00        16.9          NaN               9.9   \n",
       "139   2011-10-16 01:00:00        16.2          NaN               9.9   \n",
       "140   2011-10-16 02:00:00        10.4          NaN               9.7   \n",
       "141   2011-10-16 03:00:00         9.4          NaN               9.3   \n",
       "142   2011-10-16 04:00:00        13.3          NaN               9.1   \n",
       "143   2011-10-16 05:00:00        15.5          NaN               9.1   \n",
       "144   2011-10-16 06:00:00        17.3          NaN               8.8   \n",
       "145   2011-10-16 07:00:00        16.9          NaN               8.8   \n",
       "146   2011-10-16 08:00:00        16.2          NaN               8.4   \n",
       "147   2011-10-16 09:00:00         8.3          NaN               7.7   \n",
       "148   2011-10-16 10:00:00         7.6          NaN               7.1   \n",
       "149   2011-10-16 11:00:00         8.6          NaN               7.8   \n",
       "150   2011-10-16 12:00:00         8.6          NaN               8.0   \n",
       "151   2011-10-16 13:00:00         9.7          NaN               7.7   \n",
       "152   2011-10-16 14:00:00         8.6          NaN               7.4   \n",
       "\n",
       "     relative_humidity   relative_humidity     filename  \n",
       "138                NaN                78.0  1012475.csv  \n",
       "139                NaN                78.0  1012475.csv  \n",
       "140                NaN                82.0  1012475.csv  \n",
       "141                NaN                83.0  1012475.csv  \n",
       "142                NaN                83.0  1012475.csv  \n",
       "143                NaN                84.0  1012475.csv  \n",
       "144                NaN                84.0  1012475.csv  \n",
       "145                NaN                83.0  1012475.csv  \n",
       "146                NaN                81.0  1012475.csv  \n",
       "147                NaN                83.0  1012475.csv  \n",
       "148                NaN                85.0  1012475.csv  \n",
       "149                NaN                76.0  1012475.csv  \n",
       "150                NaN                74.0  1012475.csv  \n",
       "151                NaN                75.0  1012475.csv  \n",
       "152                NaN                78.0  1012475.csv  "
      ]
     },
     "execution_count": 29,
     "metadata": {},
     "output_type": "execute_result"
    }
   ],
   "source": [
    "EC_raw_data_wind_clean.head(15)"
   ]
  },
  {
   "cell_type": "code",
   "execution_count": 30,
   "metadata": {},
   "outputs": [
    {
     "name": "stderr",
     "output_type": "stream",
     "text": [
      "C:\\Users\\maddy\\AppData\\Local\\Temp\\ipykernel_16388\\4294849445.py:2: SettingWithCopyWarning: \n",
      "A value is trying to be set on a copy of a slice from a DataFrame.\n",
      "Try using .loc[row_indexer,col_indexer] = value instead\n",
      "\n",
      "See the caveats in the documentation: https://pandas.pydata.org/pandas-docs/stable/user_guide/indexing.html#returning-a-view-versus-a-copy\n",
      "  EC_raw_data_wind_clean.loc[:,('wind_speed', ' wind_speed')] = EC_raw_data_wind_clean.loc[:,('wind_speed', ' wind_speed')].div(3.6)\n"
     ]
    },
    {
     "data": {
      "text/html": [
       "<div>\n",
       "<style scoped>\n",
       "    .dataframe tbody tr th:only-of-type {\n",
       "        vertical-align: middle;\n",
       "    }\n",
       "\n",
       "    .dataframe tbody tr th {\n",
       "        vertical-align: top;\n",
       "    }\n",
       "\n",
       "    .dataframe thead th {\n",
       "        text-align: right;\n",
       "    }\n",
       "</style>\n",
       "<table border=\"1\" class=\"dataframe\">\n",
       "  <thead>\n",
       "    <tr style=\"text-align: right;\">\n",
       "      <th></th>\n",
       "      <th>time</th>\n",
       "      <th>wind_speed</th>\n",
       "      <th>wind_speed</th>\n",
       "      <th>air_temperature</th>\n",
       "      <th>relative_humidity</th>\n",
       "      <th>relative_humidity</th>\n",
       "      <th>filename</th>\n",
       "    </tr>\n",
       "  </thead>\n",
       "  <tbody>\n",
       "    <tr>\n",
       "      <th>138</th>\n",
       "      <td>2011-10-16 00:00:00</td>\n",
       "      <td>4.694444</td>\n",
       "      <td>NaN</td>\n",
       "      <td>9.9</td>\n",
       "      <td>NaN</td>\n",
       "      <td>78.0</td>\n",
       "      <td>1012475.csv</td>\n",
       "    </tr>\n",
       "    <tr>\n",
       "      <th>139</th>\n",
       "      <td>2011-10-16 01:00:00</td>\n",
       "      <td>4.500000</td>\n",
       "      <td>NaN</td>\n",
       "      <td>9.9</td>\n",
       "      <td>NaN</td>\n",
       "      <td>78.0</td>\n",
       "      <td>1012475.csv</td>\n",
       "    </tr>\n",
       "    <tr>\n",
       "      <th>140</th>\n",
       "      <td>2011-10-16 02:00:00</td>\n",
       "      <td>2.888889</td>\n",
       "      <td>NaN</td>\n",
       "      <td>9.7</td>\n",
       "      <td>NaN</td>\n",
       "      <td>82.0</td>\n",
       "      <td>1012475.csv</td>\n",
       "    </tr>\n",
       "    <tr>\n",
       "      <th>141</th>\n",
       "      <td>2011-10-16 03:00:00</td>\n",
       "      <td>2.611111</td>\n",
       "      <td>NaN</td>\n",
       "      <td>9.3</td>\n",
       "      <td>NaN</td>\n",
       "      <td>83.0</td>\n",
       "      <td>1012475.csv</td>\n",
       "    </tr>\n",
       "    <tr>\n",
       "      <th>142</th>\n",
       "      <td>2011-10-16 04:00:00</td>\n",
       "      <td>3.694444</td>\n",
       "      <td>NaN</td>\n",
       "      <td>9.1</td>\n",
       "      <td>NaN</td>\n",
       "      <td>83.0</td>\n",
       "      <td>1012475.csv</td>\n",
       "    </tr>\n",
       "    <tr>\n",
       "      <th>143</th>\n",
       "      <td>2011-10-16 05:00:00</td>\n",
       "      <td>4.305556</td>\n",
       "      <td>NaN</td>\n",
       "      <td>9.1</td>\n",
       "      <td>NaN</td>\n",
       "      <td>84.0</td>\n",
       "      <td>1012475.csv</td>\n",
       "    </tr>\n",
       "    <tr>\n",
       "      <th>144</th>\n",
       "      <td>2011-10-16 06:00:00</td>\n",
       "      <td>4.805556</td>\n",
       "      <td>NaN</td>\n",
       "      <td>8.8</td>\n",
       "      <td>NaN</td>\n",
       "      <td>84.0</td>\n",
       "      <td>1012475.csv</td>\n",
       "    </tr>\n",
       "    <tr>\n",
       "      <th>145</th>\n",
       "      <td>2011-10-16 07:00:00</td>\n",
       "      <td>4.694444</td>\n",
       "      <td>NaN</td>\n",
       "      <td>8.8</td>\n",
       "      <td>NaN</td>\n",
       "      <td>83.0</td>\n",
       "      <td>1012475.csv</td>\n",
       "    </tr>\n",
       "    <tr>\n",
       "      <th>146</th>\n",
       "      <td>2011-10-16 08:00:00</td>\n",
       "      <td>4.500000</td>\n",
       "      <td>NaN</td>\n",
       "      <td>8.4</td>\n",
       "      <td>NaN</td>\n",
       "      <td>81.0</td>\n",
       "      <td>1012475.csv</td>\n",
       "    </tr>\n",
       "    <tr>\n",
       "      <th>147</th>\n",
       "      <td>2011-10-16 09:00:00</td>\n",
       "      <td>2.305556</td>\n",
       "      <td>NaN</td>\n",
       "      <td>7.7</td>\n",
       "      <td>NaN</td>\n",
       "      <td>83.0</td>\n",
       "      <td>1012475.csv</td>\n",
       "    </tr>\n",
       "    <tr>\n",
       "      <th>148</th>\n",
       "      <td>2011-10-16 10:00:00</td>\n",
       "      <td>2.111111</td>\n",
       "      <td>NaN</td>\n",
       "      <td>7.1</td>\n",
       "      <td>NaN</td>\n",
       "      <td>85.0</td>\n",
       "      <td>1012475.csv</td>\n",
       "    </tr>\n",
       "    <tr>\n",
       "      <th>149</th>\n",
       "      <td>2011-10-16 11:00:00</td>\n",
       "      <td>2.388889</td>\n",
       "      <td>NaN</td>\n",
       "      <td>7.8</td>\n",
       "      <td>NaN</td>\n",
       "      <td>76.0</td>\n",
       "      <td>1012475.csv</td>\n",
       "    </tr>\n",
       "    <tr>\n",
       "      <th>150</th>\n",
       "      <td>2011-10-16 12:00:00</td>\n",
       "      <td>2.388889</td>\n",
       "      <td>NaN</td>\n",
       "      <td>8.0</td>\n",
       "      <td>NaN</td>\n",
       "      <td>74.0</td>\n",
       "      <td>1012475.csv</td>\n",
       "    </tr>\n",
       "    <tr>\n",
       "      <th>151</th>\n",
       "      <td>2011-10-16 13:00:00</td>\n",
       "      <td>2.694444</td>\n",
       "      <td>NaN</td>\n",
       "      <td>7.7</td>\n",
       "      <td>NaN</td>\n",
       "      <td>75.0</td>\n",
       "      <td>1012475.csv</td>\n",
       "    </tr>\n",
       "    <tr>\n",
       "      <th>152</th>\n",
       "      <td>2011-10-16 14:00:00</td>\n",
       "      <td>2.388889</td>\n",
       "      <td>NaN</td>\n",
       "      <td>7.4</td>\n",
       "      <td>NaN</td>\n",
       "      <td>78.0</td>\n",
       "      <td>1012475.csv</td>\n",
       "    </tr>\n",
       "  </tbody>\n",
       "</table>\n",
       "</div>"
      ],
      "text/plain": [
       "                     time  wind_speed   wind_speed   air_temperature  \\\n",
       "138   2011-10-16 00:00:00    4.694444          NaN               9.9   \n",
       "139   2011-10-16 01:00:00    4.500000          NaN               9.9   \n",
       "140   2011-10-16 02:00:00    2.888889          NaN               9.7   \n",
       "141   2011-10-16 03:00:00    2.611111          NaN               9.3   \n",
       "142   2011-10-16 04:00:00    3.694444          NaN               9.1   \n",
       "143   2011-10-16 05:00:00    4.305556          NaN               9.1   \n",
       "144   2011-10-16 06:00:00    4.805556          NaN               8.8   \n",
       "145   2011-10-16 07:00:00    4.694444          NaN               8.8   \n",
       "146   2011-10-16 08:00:00    4.500000          NaN               8.4   \n",
       "147   2011-10-16 09:00:00    2.305556          NaN               7.7   \n",
       "148   2011-10-16 10:00:00    2.111111          NaN               7.1   \n",
       "149   2011-10-16 11:00:00    2.388889          NaN               7.8   \n",
       "150   2011-10-16 12:00:00    2.388889          NaN               8.0   \n",
       "151   2011-10-16 13:00:00    2.694444          NaN               7.7   \n",
       "152   2011-10-16 14:00:00    2.388889          NaN               7.4   \n",
       "\n",
       "     relative_humidity   relative_humidity     filename  \n",
       "138                NaN                78.0  1012475.csv  \n",
       "139                NaN                78.0  1012475.csv  \n",
       "140                NaN                82.0  1012475.csv  \n",
       "141                NaN                83.0  1012475.csv  \n",
       "142                NaN                83.0  1012475.csv  \n",
       "143                NaN                84.0  1012475.csv  \n",
       "144                NaN                84.0  1012475.csv  \n",
       "145                NaN                83.0  1012475.csv  \n",
       "146                NaN                81.0  1012475.csv  \n",
       "147                NaN                83.0  1012475.csv  \n",
       "148                NaN                85.0  1012475.csv  \n",
       "149                NaN                76.0  1012475.csv  \n",
       "150                NaN                74.0  1012475.csv  \n",
       "151                NaN                75.0  1012475.csv  \n",
       "152                NaN                78.0  1012475.csv  "
      ]
     },
     "execution_count": 30,
     "metadata": {},
     "output_type": "execute_result"
    }
   ],
   "source": [
    "# convert windspeed values from km/h to m/s by dividing values by 3.6\n",
    "EC_raw_data_wind_clean.loc[:,('wind_speed', ' wind_speed')] = EC_raw_data_wind_clean.loc[:,('wind_speed', ' wind_speed')].div(3.6)\n",
    "EC_raw_data_wind_clean.head(15)"
   ]
  },
  {
   "cell_type": "code",
   "execution_count": 31,
   "metadata": {},
   "outputs": [],
   "source": [
    "# save to csv\n",
    "EC_raw_data_wind_clean.to_csv(f'{path_2}/EC_raw_data_wind_clean.csv')"
   ]
  },
  {
   "cell_type": "code",
   "execution_count": null,
   "metadata": {},
   "outputs": [],
   "source": []
  },
  {
   "cell_type": "markdown",
   "metadata": {},
   "source": [
    "#### ENV_AQN Data Cleaning"
   ]
  },
  {
   "cell_type": "code",
   "execution_count": 32,
   "metadata": {},
   "outputs": [
    {
     "name": "stderr",
     "output_type": "stream",
     "text": [
      "d:\\School\\LHL\\capstone_project_data\\LHL_Capstone_Project\\notebooks\\functions.py:105: DtypeWarning: Columns (6,11) have mixed types. Specify dtype option on import or set low_memory=False.\n",
      "  df_name = pd.read_csv(f'{path_2}/{data_name}.csv', index_col=0)\n"
     ]
    }
   ],
   "source": [
    "ENV_AQN_data = functions.to_df('ENV_AQN_data.csv')"
   ]
  },
  {
   "cell_type": "code",
   "execution_count": 33,
   "metadata": {},
   "outputs": [],
   "source": [
    "column_names, column_nulls, duplicate_row_index = functions.start_cleaning(ENV_AQN_data)"
   ]
  },
  {
   "cell_type": "code",
   "execution_count": 34,
   "metadata": {},
   "outputs": [
    {
     "name": "stdout",
     "output_type": "stream",
     "text": [
      "column names: ['WDIR_VECT', ' TEMP_MEAN', ' WSPD_SCLR', ' PRECIP_TOTAL', ' avg_rel_hum_pst1hr', ' time', ' HUMIDITY', ' avg_air_temp_pst1hr', 'filename', ' BAR_PRESS', 'time', 'TEMP_MEAN', 'BAR_PRESS']\n",
      "column nulls: WDIR_VECT                6568691\n",
      " TEMP_MEAN               5436399\n",
      " WSPD_SCLR               2296217\n",
      " PRECIP_TOTAL           12783840\n",
      " avg_rel_hum_pst1hr      8968906\n",
      " time                     906219\n",
      " HUMIDITY                8688631\n",
      " avg_air_temp_pst1hr     7985418\n",
      "filename                       0\n",
      " BAR_PRESS              12978729\n",
      "time                    12163662\n",
      "TEMP_MEAN               13046707\n",
      "BAR_PRESS               13054118\n",
      "dtype: int64\n",
      "duplicate rows: Int64Index([], dtype='int64')\n"
     ]
    }
   ],
   "source": [
    "print(f'column names: {column_names}')\n",
    "print(f'column nulls: {column_nulls}')\n",
    "print(f'duplicate rows: {duplicate_row_index}')"
   ]
  },
  {
   "cell_type": "code",
   "execution_count": 35,
   "metadata": {},
   "outputs": [],
   "source": [
    "# only keep variables of interest\n",
    "# no solar data available for this network\n",
    "ENV_AQN_data_wind = ENV_AQN_data.loc[:,(' time', 'time', ' WSPD_SCLR', ' TEMP_MEAN', ' HUMIDITY', ' BAR_PRESS', 'filename')] "
   ]
  },
  {
   "cell_type": "code",
   "execution_count": 36,
   "metadata": {},
   "outputs": [
    {
     "data": {
      "text/plain": [
       " time           906219\n",
       "time          12163662\n",
       " WSPD_SCLR     2296217\n",
       " TEMP_MEAN     5436399\n",
       " HUMIDITY      8688631\n",
       " BAR_PRESS    12978729\n",
       "filename             0\n",
       "dtype: int64"
      ]
     },
     "execution_count": 36,
     "metadata": {},
     "output_type": "execute_result"
    }
   ],
   "source": [
    "# count null values in wind data\n",
    "ENV_AQN_data_wind.isna().sum()"
   ]
  },
  {
   "cell_type": "code",
   "execution_count": 37,
   "metadata": {},
   "outputs": [
    {
     "data": {
      "text/plain": [
       " time           827218\n",
       "time           9946446\n",
       " WSPD_SCLR           0\n",
       " TEMP_MEAN     3776367\n",
       " HUMIDITY      7892770\n",
       " BAR_PRESS    10696845\n",
       "filename             0\n",
       "dtype: int64"
      ]
     },
     "execution_count": 37,
     "metadata": {},
     "output_type": "execute_result"
    }
   ],
   "source": [
    "# drop rows in wind data that do not have WindSpeed values\n",
    "ENV_AQN_data_wind_clean = ENV_AQN_data_wind.dropna(subset=[' WSPD_SCLR'])\n",
    "ENV_AQN_data_wind_clean.isna().sum()"
   ]
  },
  {
   "cell_type": "code",
   "execution_count": 38,
   "metadata": {},
   "outputs": [
    {
     "data": {
      "text/plain": [
       "0     1.044\n",
       "1     2.518\n",
       "2     1.028\n",
       "3     0.704\n",
       "4     0.208\n",
       "5     0.140\n",
       "6     0.534\n",
       "7     0.457\n",
       "8     0.916\n",
       "9     0.303\n",
       "10    0.403\n",
       "11    0.378\n",
       "12    0.750\n",
       "13    0.576\n",
       "14    0.224\n",
       "Name:  WSPD_SCLR, dtype: float64"
      ]
     },
     "execution_count": 38,
     "metadata": {},
     "output_type": "execute_result"
    }
   ],
   "source": [
    "ENV_AQN_data_wind_clean[' WSPD_SCLR'].head(15)"
   ]
  },
  {
   "cell_type": "markdown",
   "metadata": {},
   "source": [
    "*Note: no units were provided for wind speed column. Based on range of values, assumed that units were already m/s.*\n",
    "\n",
    "*Only use next code block if data appears to be incorrect during analysis stage.*"
   ]
  },
  {
   "cell_type": "code",
   "execution_count": null,
   "metadata": {},
   "outputs": [],
   "source": [
    "# # convert windspeed values from km/h to m/s by dividing values by 3.6\n",
    "# ENV_AQN_data_wind_clean.loc[:,' WSPD_SCLR'] = ENV_AQN_data_wind_clean.loc[:,' WSPD_SCLR'].div(3.6)\n",
    "# ENV_AQN_data_wind_clean.head(15)"
   ]
  },
  {
   "cell_type": "code",
   "execution_count": 40,
   "metadata": {},
   "outputs": [],
   "source": [
    "# save to csv\n",
    "ENV_AQN_data_wind_clean.to_csv(f'{path_2}/ENV_AQN_data_wind_clean.csv')"
   ]
  },
  {
   "cell_type": "markdown",
   "metadata": {},
   "source": [
    "#### FLNRO_FERN Data Cleaning"
   ]
  },
  {
   "cell_type": "code",
   "execution_count": 41,
   "metadata": {},
   "outputs": [],
   "source": [
    "FLNRO_FERN_data = functions.to_df('FLNRO_FERN_data.csv')"
   ]
  },
  {
   "cell_type": "code",
   "execution_count": 42,
   "metadata": {},
   "outputs": [],
   "source": [
    "column_names, column_nulls, duplicate_row_index = functions.start_cleaning(FLNRO_FERN_data)"
   ]
  },
  {
   "cell_type": "code",
   "execution_count": 43,
   "metadata": {},
   "outputs": [
    {
     "name": "stdout",
     "output_type": "stream",
     "text": [
      "column names: ['TempC', ' SolarRadiationWm', ' RH', ' WindSpeedms', ' Pressurembar', ' Rainmm', ' GustSpeedms', ' time', ' WindDirection', ' DewPtC', 'filename', ' Wetness', ' Tx', ' Tn', 'RHx', ' Tm', ' RHn', 'Tx']\n",
      "column nulls: TempC                  78077\n",
      " SolarRadiationWm     155467\n",
      " RH                    76028\n",
      " WindSpeedms          159515\n",
      " Pressurembar         143098\n",
      " Rainmm               163976\n",
      " GustSpeedms          171360\n",
      " time                      0\n",
      " WindDirection        398990\n",
      " DewPtC               187998\n",
      "filename                   0\n",
      " Wetness             1441326\n",
      " Tx                  2318932\n",
      " Tn                  2310515\n",
      "RHx                  2331262\n",
      " Tm                  2319798\n",
      " RHn                 2331284\n",
      "Tx                   2332311\n",
      "dtype: int64\n",
      "duplicate rows: Int64Index([], dtype='int64')\n"
     ]
    }
   ],
   "source": [
    "print(f'column names: {column_names}')\n",
    "print(f'column nulls: {column_nulls}')\n",
    "print(f'duplicate rows: {duplicate_row_index}')"
   ]
  },
  {
   "cell_type": "code",
   "execution_count": 45,
   "metadata": {},
   "outputs": [],
   "source": [
    "# only keep variables of interest\n",
    "FLNRO_FERN_data_solar = FLNRO_FERN_data.loc[:,(' time', ' SolarRadiationWm', 'filename')]\n",
    "FLNRO_FERN_data_wind = FLNRO_FERN_data.loc[:,(' time', ' WindSpeedms', 'TempC', ' RH', ' Pressurembar', 'filename')]"
   ]
  },
  {
   "cell_type": "code",
   "execution_count": 46,
   "metadata": {},
   "outputs": [
    {
     "data": {
      "text/plain": [
       " time                0\n",
       " SolarRadiationWm    0\n",
       "filename             0\n",
       "dtype: int64"
      ]
     },
     "execution_count": 46,
     "metadata": {},
     "output_type": "execute_result"
    }
   ],
   "source": [
    "# drop rows in solar data that do not have SolarRadiation values\n",
    "FLNRO_FERN_data_solar_clean = FLNRO_FERN_data_solar.dropna(subset=[' SolarRadiationWm'])\n",
    "FLNRO_FERN_data_solar_clean.isna().sum()"
   ]
  },
  {
   "cell_type": "code",
   "execution_count": 47,
   "metadata": {},
   "outputs": [],
   "source": [
    "FLNRO_FERN_data_solar_clean.to_csv(f'{path_2}/FLNRO_FERN_data_solar_clean.csv')"
   ]
  },
  {
   "cell_type": "code",
   "execution_count": 48,
   "metadata": {},
   "outputs": [
    {
     "data": {
      "text/plain": [
       " time                 0\n",
       " WindSpeedms     159515\n",
       "TempC             78077\n",
       " RH               76028\n",
       " Pressurembar    143098\n",
       "filename              0\n",
       "dtype: int64"
      ]
     },
     "execution_count": 48,
     "metadata": {},
     "output_type": "execute_result"
    }
   ],
   "source": [
    "# count null values in wind data\n",
    "FLNRO_FERN_data_wind.isna().sum()"
   ]
  },
  {
   "cell_type": "code",
   "execution_count": 49,
   "metadata": {},
   "outputs": [
    {
     "data": {
      "text/plain": [
       " time                0\n",
       " WindSpeedms         0\n",
       "TempC            53919\n",
       " RH              51069\n",
       " Pressurembar    53561\n",
       "filename             0\n",
       "dtype: int64"
      ]
     },
     "execution_count": 49,
     "metadata": {},
     "output_type": "execute_result"
    }
   ],
   "source": [
    "# drop rows in wind data that do not have WindSpeed values\n",
    "FLNRO_FERN_data_wind_clean = FLNRO_FERN_data_wind.dropna(subset=[' WindSpeedms'])\n",
    "FLNRO_FERN_data_wind_clean.isna().sum()"
   ]
  },
  {
   "cell_type": "code",
   "execution_count": 50,
   "metadata": {},
   "outputs": [],
   "source": [
    "# save to csv\n",
    "FLNRO_FERN_data_wind_clean.to_csv(f'{path_2}/FLNRO_FERN_data_wind_clean.csv')"
   ]
  },
  {
   "cell_type": "markdown",
   "metadata": {},
   "source": [
    "#### MoTIe Data Cleaning"
   ]
  },
  {
   "cell_type": "code",
   "execution_count": 55,
   "metadata": {},
   "outputs": [],
   "source": [
    "MoTIe_col_names = pd.read_csv(f'{path_2}/MoTIe_data.csv', index_col=0, nrows=0)"
   ]
  },
  {
   "cell_type": "code",
   "execution_count": 57,
   "metadata": {},
   "outputs": [
    {
     "data": {
      "text/plain": [
       "['RELATIVE_HUMIDITY1',\n",
       " ' STANDARD_SNOW',\n",
       " ' MINIMUM_AIR_TEMPERATURE',\n",
       " ' max_wnd_spd_10m_pst1hr',\n",
       " ' MEASURED_WIND_SPEED1',\n",
       " ' MEASURED_WIND_DIRECTION1',\n",
       " ' dwpt_temp',\n",
       " ' min_air_temp_snc_last_reset',\n",
       " ' DEW_POINT',\n",
       " ' ATMOSPHERIC_PRESSURE',\n",
       " ' avg_wnd_dir_10m_pst10mts',\n",
       " ' ACTUAL_WIND_DIRECTION',\n",
       " ' MAXIMUM_AIR_TEMPERATURE',\n",
       " ' snw_dpth',\n",
       " ' MAXIMUM_MEASURED_WIND_SPEED1',\n",
       " ' HEIGHT_OF_SNOW',\n",
       " ' pcpn_amt_pst24hrs',\n",
       " ' CURRENT_AIR_TEMPERATURE2',\n",
       " ' CURRENT_AIR_TEMPERATURE1',\n",
       " ' PRECIPITATION_NEW',\n",
       " ' max_air_temp_snc_last_reset',\n",
       " ' PRECIP_DETECTOR_RATIO',\n",
       " ' ACTUAL_WIND_SPEED',\n",
       " ' WIND_DIRECTION_STD_DEVIATION1',\n",
       " ' avg_wnd_spd_10m_pst10mts',\n",
       " ' air_temp',\n",
       " ' mslp',\n",
       " ' pcpn_amt_pst1hr',\n",
       " ' snwfl_amt_pst1hr',\n",
       " ' rel_hum',\n",
       " ' time',\n",
       " ' stn_pres',\n",
       " 'filename',\n",
       " 'pcpn_amt_pst24hrs',\n",
       " 'CURRENT_AIR_TEMPERATURE2',\n",
       " ' RELATIVE_HUMIDITY1',\n",
       " 'air_temp',\n",
       " 'CURRENT_AIR_TEMPERATURE1',\n",
       " 'max_air_temp_snc_last_reset']"
      ]
     },
     "execution_count": 57,
     "metadata": {},
     "output_type": "execute_result"
    }
   ],
   "source": [
    "list(MoTIe_col_names)"
   ]
  },
  {
   "cell_type": "code",
   "execution_count": 51,
   "metadata": {},
   "outputs": [
    {
     "ename": "MemoryError",
     "evalue": "Unable to allocate 128. KiB for an array with shape (16384,) and data type float64",
     "output_type": "error",
     "traceback": [
      "\u001b[1;31m---------------------------------------------------------------------------\u001b[0m",
      "\u001b[1;31mMemoryError\u001b[0m                               Traceback (most recent call last)",
      "\u001b[1;32md:\\School\\LHL\\capstone_project_data\\LHL_Capstone_Project\\notebooks\\cleaning_data.ipynb Cell 68\u001b[0m line \u001b[0;36m1\n\u001b[1;32m----> <a href='vscode-notebook-cell:/d%3A/School/LHL/capstone_project_data/LHL_Capstone_Project/notebooks/cleaning_data.ipynb#Y166sZmlsZQ%3D%3D?line=0'>1</a>\u001b[0m MoTIe_data \u001b[39m=\u001b[39m functions\u001b[39m.\u001b[39mto_df(\u001b[39m'\u001b[39m\u001b[39mMoTIe_data.csv\u001b[39m\u001b[39m'\u001b[39m)\n",
      "File \u001b[1;32md:\\School\\LHL\\capstone_project_data\\LHL_Capstone_Project\\notebooks\\functions.py:105\u001b[0m, in \u001b[0;36mto_df\u001b[1;34m(file_name)\u001b[0m\n\u001b[0;32m    103\u001b[0m path_2 \u001b[39m=\u001b[39m \u001b[39m'\u001b[39m\u001b[39m../data\u001b[39m\u001b[39m'\u001b[39m\n\u001b[0;32m    104\u001b[0m \u001b[39m# read file\u001b[39;00m\n\u001b[1;32m--> 105\u001b[0m df_name \u001b[39m=\u001b[39m pd\u001b[39m.\u001b[39mread_csv(\u001b[39mf\u001b[39m\u001b[39m'\u001b[39m\u001b[39m{\u001b[39;00mpath_2\u001b[39m}\u001b[39;00m\u001b[39m/\u001b[39m\u001b[39m{\u001b[39;00mdata_name\u001b[39m}\u001b[39;00m\u001b[39m.csv\u001b[39m\u001b[39m'\u001b[39m, index_col\u001b[39m=\u001b[39m\u001b[39m0\u001b[39m)\n\u001b[0;32m    107\u001b[0m \u001b[39mreturn\u001b[39;00m df_name\n",
      "File \u001b[1;32mc:\\Users\\maddy\\anaconda3\\envs\\lhl_env\\Lib\\site-packages\\pandas\\util\\_decorators.py:211\u001b[0m, in \u001b[0;36mdeprecate_kwarg.<locals>._deprecate_kwarg.<locals>.wrapper\u001b[1;34m(*args, **kwargs)\u001b[0m\n\u001b[0;32m    209\u001b[0m     \u001b[39melse\u001b[39;00m:\n\u001b[0;32m    210\u001b[0m         kwargs[new_arg_name] \u001b[39m=\u001b[39m new_arg_value\n\u001b[1;32m--> 211\u001b[0m \u001b[39mreturn\u001b[39;00m func(\u001b[39m*\u001b[39margs, \u001b[39m*\u001b[39m\u001b[39m*\u001b[39mkwargs)\n",
      "File \u001b[1;32mc:\\Users\\maddy\\anaconda3\\envs\\lhl_env\\Lib\\site-packages\\pandas\\util\\_decorators.py:331\u001b[0m, in \u001b[0;36mdeprecate_nonkeyword_arguments.<locals>.decorate.<locals>.wrapper\u001b[1;34m(*args, **kwargs)\u001b[0m\n\u001b[0;32m    325\u001b[0m \u001b[39mif\u001b[39;00m \u001b[39mlen\u001b[39m(args) \u001b[39m>\u001b[39m num_allow_args:\n\u001b[0;32m    326\u001b[0m     warnings\u001b[39m.\u001b[39mwarn(\n\u001b[0;32m    327\u001b[0m         msg\u001b[39m.\u001b[39mformat(arguments\u001b[39m=\u001b[39m_format_argument_list(allow_args)),\n\u001b[0;32m    328\u001b[0m         \u001b[39mFutureWarning\u001b[39;00m,\n\u001b[0;32m    329\u001b[0m         stacklevel\u001b[39m=\u001b[39mfind_stack_level(),\n\u001b[0;32m    330\u001b[0m     )\n\u001b[1;32m--> 331\u001b[0m \u001b[39mreturn\u001b[39;00m func(\u001b[39m*\u001b[39margs, \u001b[39m*\u001b[39m\u001b[39m*\u001b[39mkwargs)\n",
      "File \u001b[1;32mc:\\Users\\maddy\\anaconda3\\envs\\lhl_env\\Lib\\site-packages\\pandas\\io\\parsers\\readers.py:950\u001b[0m, in \u001b[0;36mread_csv\u001b[1;34m(filepath_or_buffer, sep, delimiter, header, names, index_col, usecols, squeeze, prefix, mangle_dupe_cols, dtype, engine, converters, true_values, false_values, skipinitialspace, skiprows, skipfooter, nrows, na_values, keep_default_na, na_filter, verbose, skip_blank_lines, parse_dates, infer_datetime_format, keep_date_col, date_parser, dayfirst, cache_dates, iterator, chunksize, compression, thousands, decimal, lineterminator, quotechar, quoting, doublequote, escapechar, comment, encoding, encoding_errors, dialect, error_bad_lines, warn_bad_lines, on_bad_lines, delim_whitespace, low_memory, memory_map, float_precision, storage_options)\u001b[0m\n\u001b[0;32m    935\u001b[0m kwds_defaults \u001b[39m=\u001b[39m _refine_defaults_read(\n\u001b[0;32m    936\u001b[0m     dialect,\n\u001b[0;32m    937\u001b[0m     delimiter,\n\u001b[1;32m   (...)\u001b[0m\n\u001b[0;32m    946\u001b[0m     defaults\u001b[39m=\u001b[39m{\u001b[39m\"\u001b[39m\u001b[39mdelimiter\u001b[39m\u001b[39m\"\u001b[39m: \u001b[39m\"\u001b[39m\u001b[39m,\u001b[39m\u001b[39m\"\u001b[39m},\n\u001b[0;32m    947\u001b[0m )\n\u001b[0;32m    948\u001b[0m kwds\u001b[39m.\u001b[39mupdate(kwds_defaults)\n\u001b[1;32m--> 950\u001b[0m \u001b[39mreturn\u001b[39;00m _read(filepath_or_buffer, kwds)\n",
      "File \u001b[1;32mc:\\Users\\maddy\\anaconda3\\envs\\lhl_env\\Lib\\site-packages\\pandas\\io\\parsers\\readers.py:611\u001b[0m, in \u001b[0;36m_read\u001b[1;34m(filepath_or_buffer, kwds)\u001b[0m\n\u001b[0;32m    608\u001b[0m     \u001b[39mreturn\u001b[39;00m parser\n\u001b[0;32m    610\u001b[0m \u001b[39mwith\u001b[39;00m parser:\n\u001b[1;32m--> 611\u001b[0m     \u001b[39mreturn\u001b[39;00m parser\u001b[39m.\u001b[39mread(nrows)\n",
      "File \u001b[1;32mc:\\Users\\maddy\\anaconda3\\envs\\lhl_env\\Lib\\site-packages\\pandas\\io\\parsers\\readers.py:1778\u001b[0m, in \u001b[0;36mTextFileReader.read\u001b[1;34m(self, nrows)\u001b[0m\n\u001b[0;32m   1771\u001b[0m nrows \u001b[39m=\u001b[39m validate_integer(\u001b[39m\"\u001b[39m\u001b[39mnrows\u001b[39m\u001b[39m\"\u001b[39m, nrows)\n\u001b[0;32m   1772\u001b[0m \u001b[39mtry\u001b[39;00m:\n\u001b[0;32m   1773\u001b[0m     \u001b[39m# error: \"ParserBase\" has no attribute \"read\"\u001b[39;00m\n\u001b[0;32m   1774\u001b[0m     (\n\u001b[0;32m   1775\u001b[0m         index,\n\u001b[0;32m   1776\u001b[0m         columns,\n\u001b[0;32m   1777\u001b[0m         col_dict,\n\u001b[1;32m-> 1778\u001b[0m     ) \u001b[39m=\u001b[39m \u001b[39mself\u001b[39m\u001b[39m.\u001b[39m_engine\u001b[39m.\u001b[39mread(  \u001b[39m# type: ignore[attr-defined]\u001b[39;00m\n\u001b[0;32m   1779\u001b[0m         nrows\n\u001b[0;32m   1780\u001b[0m     )\n\u001b[0;32m   1781\u001b[0m \u001b[39mexcept\u001b[39;00m \u001b[39mException\u001b[39;00m:\n\u001b[0;32m   1782\u001b[0m     \u001b[39mself\u001b[39m\u001b[39m.\u001b[39mclose()\n",
      "File \u001b[1;32mc:\\Users\\maddy\\anaconda3\\envs\\lhl_env\\Lib\\site-packages\\pandas\\io\\parsers\\c_parser_wrapper.py:230\u001b[0m, in \u001b[0;36mCParserWrapper.read\u001b[1;34m(self, nrows)\u001b[0m\n\u001b[0;32m    228\u001b[0m \u001b[39mtry\u001b[39;00m:\n\u001b[0;32m    229\u001b[0m     \u001b[39mif\u001b[39;00m \u001b[39mself\u001b[39m\u001b[39m.\u001b[39mlow_memory:\n\u001b[1;32m--> 230\u001b[0m         chunks \u001b[39m=\u001b[39m \u001b[39mself\u001b[39m\u001b[39m.\u001b[39m_reader\u001b[39m.\u001b[39mread_low_memory(nrows)\n\u001b[0;32m    231\u001b[0m         \u001b[39m# destructive to chunks\u001b[39;00m\n\u001b[0;32m    232\u001b[0m         data \u001b[39m=\u001b[39m _concatenate_chunks(chunks)\n",
      "File \u001b[1;32mc:\\Users\\maddy\\anaconda3\\envs\\lhl_env\\Lib\\site-packages\\pandas\\_libs\\parsers.pyx:808\u001b[0m, in \u001b[0;36mpandas._libs.parsers.TextReader.read_low_memory\u001b[1;34m()\u001b[0m\n",
      "File \u001b[1;32mc:\\Users\\maddy\\anaconda3\\envs\\lhl_env\\Lib\\site-packages\\pandas\\_libs\\parsers.pyx:890\u001b[0m, in \u001b[0;36mpandas._libs.parsers.TextReader._read_rows\u001b[1;34m()\u001b[0m\n",
      "File \u001b[1;32mc:\\Users\\maddy\\anaconda3\\envs\\lhl_env\\Lib\\site-packages\\pandas\\_libs\\parsers.pyx:1050\u001b[0m, in \u001b[0;36mpandas._libs.parsers.TextReader._convert_column_data\u001b[1;34m()\u001b[0m\n",
      "File \u001b[1;32mc:\\Users\\maddy\\anaconda3\\envs\\lhl_env\\Lib\\site-packages\\pandas\\_libs\\parsers.pyx:1387\u001b[0m, in \u001b[0;36mpandas._libs.parsers._maybe_upcast\u001b[1;34m()\u001b[0m\n",
      "\u001b[1;31mMemoryError\u001b[0m: Unable to allocate 128. KiB for an array with shape (16384,) and data type float64"
     ]
    }
   ],
   "source": [
    "# Note: MemoryError when attempting to import entire csv at once. Modify approach to limit how much of the csv is imported.\n",
    "#MoTIe_data = functions.to_df('MoTIe_data.csv')"
   ]
  },
  {
   "cell_type": "code",
   "execution_count": 13,
   "metadata": {},
   "outputs": [],
   "source": [
    "# limit which columns are included in the read_csv function in order to combat memory error\n",
    "MoTIe_data = pd.read_csv(f'{path_2}/MoTIe_data.csv', usecols=[' time', ' ACTUAL_WIND_SPEED', ' MEASURED_WIND_SPEED1', ' CURRENT_AIR_TEMPERATURE1', ' CURRENT_AIR_TEMPERATURE2', 'air_temp', ' rel_hum', ' RELATIVE_HUMIDITY1', ' ATMOSPHERIC_PRESSURE', ' stn_pres', 'filename'])"
   ]
  },
  {
   "cell_type": "code",
   "execution_count": 14,
   "metadata": {},
   "outputs": [],
   "source": [
    "column_names, column_nulls, duplicate_row_index = functions.start_cleaning(MoTIe_data)"
   ]
  },
  {
   "cell_type": "code",
   "execution_count": 15,
   "metadata": {},
   "outputs": [
    {
     "name": "stdout",
     "output_type": "stream",
     "text": [
      "column names: [' MEASURED_WIND_SPEED1', ' ATMOSPHERIC_PRESSURE', ' CURRENT_AIR_TEMPERATURE2', ' CURRENT_AIR_TEMPERATURE1', ' ACTUAL_WIND_SPEED', ' rel_hum', ' time', ' stn_pres', 'filename', ' RELATIVE_HUMIDITY1', 'air_temp']\n",
      "column nulls:  MEASURED_WIND_SPEED1         7597565\n",
      " ATMOSPHERIC_PRESSURE        11195679\n",
      " CURRENT_AIR_TEMPERATURE2    18406996\n",
      " CURRENT_AIR_TEMPERATURE1     1894433\n",
      " ACTUAL_WIND_SPEED           17764947\n",
      " rel_hum                     19712282\n",
      " time                               0\n",
      " stn_pres                    20692645\n",
      "filename                            0\n",
      " RELATIVE_HUMIDITY1          18890888\n",
      "air_temp                     23679158\n",
      "dtype: int64\n",
      "duplicate rows: Int64Index([], dtype='int64')\n"
     ]
    },
    {
     "data": {
      "text/plain": [
       "(23833427, 11)"
      ]
     },
     "execution_count": 15,
     "metadata": {},
     "output_type": "execute_result"
    }
   ],
   "source": [
    "print(f'column names: {column_names}')\n",
    "print(f'column nulls: {column_nulls}')\n",
    "print(f'duplicate rows: {duplicate_row_index}')\n",
    "MoTIe_data.shape"
   ]
  },
  {
   "cell_type": "code",
   "execution_count": 17,
   "metadata": {},
   "outputs": [],
   "source": [
    "# only keep variables of interest\n",
    "# no solar data available from this network\n",
    "# columns were already filtered when reading csv, rename df for naming consistency\n",
    "MoTIe_data_wind = MoTIe_data.loc[:,(' time', ' ACTUAL_WIND_SPEED', ' MEASURED_WIND_SPEED1', ' CURRENT_AIR_TEMPERATURE1', ' CURRENT_AIR_TEMPERATURE2', 'air_temp', ' rel_hum', ' RELATIVE_HUMIDITY1', ' ATMOSPHERIC_PRESSURE', ' stn_pres', 'filename')]"
   ]
  },
  {
   "cell_type": "code",
   "execution_count": 18,
   "metadata": {},
   "outputs": [
    {
     "data": {
      "text/plain": [
       " time                               0\n",
       " ACTUAL_WIND_SPEED           17764947\n",
       " MEASURED_WIND_SPEED1         7597565\n",
       " CURRENT_AIR_TEMPERATURE1     1894433\n",
       " CURRENT_AIR_TEMPERATURE2    18406996\n",
       "air_temp                     23679158\n",
       " rel_hum                     19712282\n",
       " RELATIVE_HUMIDITY1          18890888\n",
       " ATMOSPHERIC_PRESSURE        11195679\n",
       " stn_pres                    20692645\n",
       "filename                            0\n",
       "dtype: int64"
      ]
     },
     "execution_count": 18,
     "metadata": {},
     "output_type": "execute_result"
    }
   ],
   "source": [
    "# count null values in wind data\n",
    "MoTIe_data_wind.isna().sum()"
   ]
  },
  {
   "cell_type": "code",
   "execution_count": 22,
   "metadata": {},
   "outputs": [
    {
     "data": {
      "text/plain": [
       " time                               0\n",
       " ACTUAL_WIND_SPEED           10173243\n",
       " MEASURED_WIND_SPEED1            5861\n",
       " CURRENT_AIR_TEMPERATURE1      659463\n",
       " CURRENT_AIR_TEMPERATURE2    11587283\n",
       "air_temp                     16241723\n",
       " rel_hum                     13492143\n",
       " RELATIVE_HUMIDITY1          13186268\n",
       " ATMOSPHERIC_PRESSURE         5535077\n",
       " stn_pres                    13944879\n",
       "filename                            0\n",
       "dtype: int64"
      ]
     },
     "execution_count": 22,
     "metadata": {},
     "output_type": "execute_result"
    }
   ],
   "source": [
    "# drop rows in wind data that do not have WindSpeed values\n",
    "MoTIe_data_wind_clean = MoTIe_data_wind.dropna(subset=[' ACTUAL_WIND_SPEED', ' MEASURED_WIND_SPEED1'], how='all')\n",
    "MoTIe_data_wind_clean.isna().sum()"
   ]
  },
  {
   "cell_type": "code",
   "execution_count": 23,
   "metadata": {},
   "outputs": [
    {
     "data": {
      "text/html": [
       "<div>\n",
       "<style scoped>\n",
       "    .dataframe tbody tr th:only-of-type {\n",
       "        vertical-align: middle;\n",
       "    }\n",
       "\n",
       "    .dataframe tbody tr th {\n",
       "        vertical-align: top;\n",
       "    }\n",
       "\n",
       "    .dataframe thead th {\n",
       "        text-align: right;\n",
       "    }\n",
       "</style>\n",
       "<table border=\"1\" class=\"dataframe\">\n",
       "  <thead>\n",
       "    <tr style=\"text-align: right;\">\n",
       "      <th></th>\n",
       "      <th>time</th>\n",
       "      <th>ACTUAL_WIND_SPEED</th>\n",
       "      <th>MEASURED_WIND_SPEED1</th>\n",
       "      <th>CURRENT_AIR_TEMPERATURE1</th>\n",
       "      <th>CURRENT_AIR_TEMPERATURE2</th>\n",
       "      <th>air_temp</th>\n",
       "      <th>rel_hum</th>\n",
       "      <th>RELATIVE_HUMIDITY1</th>\n",
       "      <th>ATMOSPHERIC_PRESSURE</th>\n",
       "      <th>stn_pres</th>\n",
       "      <th>filename</th>\n",
       "    </tr>\n",
       "  </thead>\n",
       "  <tbody>\n",
       "    <tr>\n",
       "      <th>0</th>\n",
       "      <td>2001-01-22 13:00:00</td>\n",
       "      <td>NaN</td>\n",
       "      <td>7.0</td>\n",
       "      <td>2.2</td>\n",
       "      <td>2.0</td>\n",
       "      <td>NaN</td>\n",
       "      <td>NaN</td>\n",
       "      <td>NaN</td>\n",
       "      <td>963.0</td>\n",
       "      <td>NaN</td>\n",
       "      <td>11091.csv</td>\n",
       "    </tr>\n",
       "    <tr>\n",
       "      <th>1</th>\n",
       "      <td>2001-01-22 14:00:00</td>\n",
       "      <td>NaN</td>\n",
       "      <td>8.0</td>\n",
       "      <td>1.9</td>\n",
       "      <td>NaN</td>\n",
       "      <td>NaN</td>\n",
       "      <td>NaN</td>\n",
       "      <td>NaN</td>\n",
       "      <td>960.0</td>\n",
       "      <td>NaN</td>\n",
       "      <td>11091.csv</td>\n",
       "    </tr>\n",
       "    <tr>\n",
       "      <th>2</th>\n",
       "      <td>2001-01-22 15:00:00</td>\n",
       "      <td>NaN</td>\n",
       "      <td>8.0</td>\n",
       "      <td>1.4</td>\n",
       "      <td>NaN</td>\n",
       "      <td>NaN</td>\n",
       "      <td>NaN</td>\n",
       "      <td>NaN</td>\n",
       "      <td>960.0</td>\n",
       "      <td>NaN</td>\n",
       "      <td>11091.csv</td>\n",
       "    </tr>\n",
       "    <tr>\n",
       "      <th>3</th>\n",
       "      <td>2001-01-22 16:00:00</td>\n",
       "      <td>NaN</td>\n",
       "      <td>8.0</td>\n",
       "      <td>0.4</td>\n",
       "      <td>-1.0</td>\n",
       "      <td>NaN</td>\n",
       "      <td>NaN</td>\n",
       "      <td>NaN</td>\n",
       "      <td>960.0</td>\n",
       "      <td>NaN</td>\n",
       "      <td>11091.csv</td>\n",
       "    </tr>\n",
       "    <tr>\n",
       "      <th>4</th>\n",
       "      <td>2001-01-22 17:00:00</td>\n",
       "      <td>NaN</td>\n",
       "      <td>10.0</td>\n",
       "      <td>-0.5</td>\n",
       "      <td>NaN</td>\n",
       "      <td>NaN</td>\n",
       "      <td>NaN</td>\n",
       "      <td>NaN</td>\n",
       "      <td>960.0</td>\n",
       "      <td>NaN</td>\n",
       "      <td>11091.csv</td>\n",
       "    </tr>\n",
       "    <tr>\n",
       "      <th>5</th>\n",
       "      <td>2001-01-22 18:00:00</td>\n",
       "      <td>NaN</td>\n",
       "      <td>9.0</td>\n",
       "      <td>-1.1</td>\n",
       "      <td>-2.5</td>\n",
       "      <td>NaN</td>\n",
       "      <td>NaN</td>\n",
       "      <td>NaN</td>\n",
       "      <td>960.0</td>\n",
       "      <td>NaN</td>\n",
       "      <td>11091.csv</td>\n",
       "    </tr>\n",
       "    <tr>\n",
       "      <th>6</th>\n",
       "      <td>2001-01-22 19:00:00</td>\n",
       "      <td>NaN</td>\n",
       "      <td>8.0</td>\n",
       "      <td>-1.2</td>\n",
       "      <td>-2.5</td>\n",
       "      <td>NaN</td>\n",
       "      <td>NaN</td>\n",
       "      <td>NaN</td>\n",
       "      <td>960.0</td>\n",
       "      <td>NaN</td>\n",
       "      <td>11091.csv</td>\n",
       "    </tr>\n",
       "    <tr>\n",
       "      <th>7</th>\n",
       "      <td>2001-01-22 20:00:00</td>\n",
       "      <td>NaN</td>\n",
       "      <td>9.0</td>\n",
       "      <td>-1.6</td>\n",
       "      <td>NaN</td>\n",
       "      <td>NaN</td>\n",
       "      <td>NaN</td>\n",
       "      <td>NaN</td>\n",
       "      <td>960.0</td>\n",
       "      <td>NaN</td>\n",
       "      <td>11091.csv</td>\n",
       "    </tr>\n",
       "    <tr>\n",
       "      <th>8</th>\n",
       "      <td>2001-01-22 21:00:00</td>\n",
       "      <td>NaN</td>\n",
       "      <td>9.0</td>\n",
       "      <td>-1.8</td>\n",
       "      <td>-3.0</td>\n",
       "      <td>NaN</td>\n",
       "      <td>NaN</td>\n",
       "      <td>NaN</td>\n",
       "      <td>960.0</td>\n",
       "      <td>NaN</td>\n",
       "      <td>11091.csv</td>\n",
       "    </tr>\n",
       "    <tr>\n",
       "      <th>9</th>\n",
       "      <td>2001-01-22 22:00:00</td>\n",
       "      <td>NaN</td>\n",
       "      <td>10.0</td>\n",
       "      <td>-1.9</td>\n",
       "      <td>-3.0</td>\n",
       "      <td>NaN</td>\n",
       "      <td>NaN</td>\n",
       "      <td>NaN</td>\n",
       "      <td>960.0</td>\n",
       "      <td>NaN</td>\n",
       "      <td>11091.csv</td>\n",
       "    </tr>\n",
       "    <tr>\n",
       "      <th>10</th>\n",
       "      <td>2001-01-22 23:00:00</td>\n",
       "      <td>NaN</td>\n",
       "      <td>9.0</td>\n",
       "      <td>-2.1</td>\n",
       "      <td>-3.5</td>\n",
       "      <td>NaN</td>\n",
       "      <td>NaN</td>\n",
       "      <td>NaN</td>\n",
       "      <td>960.0</td>\n",
       "      <td>NaN</td>\n",
       "      <td>11091.csv</td>\n",
       "    </tr>\n",
       "    <tr>\n",
       "      <th>11</th>\n",
       "      <td>2001-01-23 00:00:00</td>\n",
       "      <td>NaN</td>\n",
       "      <td>9.0</td>\n",
       "      <td>-1.9</td>\n",
       "      <td>-3.0</td>\n",
       "      <td>NaN</td>\n",
       "      <td>NaN</td>\n",
       "      <td>NaN</td>\n",
       "      <td>959.0</td>\n",
       "      <td>NaN</td>\n",
       "      <td>11091.csv</td>\n",
       "    </tr>\n",
       "    <tr>\n",
       "      <th>12</th>\n",
       "      <td>2001-01-23 01:00:00</td>\n",
       "      <td>NaN</td>\n",
       "      <td>10.0</td>\n",
       "      <td>-1.8</td>\n",
       "      <td>-3.0</td>\n",
       "      <td>NaN</td>\n",
       "      <td>NaN</td>\n",
       "      <td>NaN</td>\n",
       "      <td>959.0</td>\n",
       "      <td>NaN</td>\n",
       "      <td>11091.csv</td>\n",
       "    </tr>\n",
       "    <tr>\n",
       "      <th>13</th>\n",
       "      <td>2001-01-23 02:00:00</td>\n",
       "      <td>NaN</td>\n",
       "      <td>9.0</td>\n",
       "      <td>-1.8</td>\n",
       "      <td>-3.0</td>\n",
       "      <td>NaN</td>\n",
       "      <td>NaN</td>\n",
       "      <td>NaN</td>\n",
       "      <td>959.0</td>\n",
       "      <td>NaN</td>\n",
       "      <td>11091.csv</td>\n",
       "    </tr>\n",
       "    <tr>\n",
       "      <th>14</th>\n",
       "      <td>2001-01-23 03:00:00</td>\n",
       "      <td>NaN</td>\n",
       "      <td>10.0</td>\n",
       "      <td>-1.9</td>\n",
       "      <td>-3.0</td>\n",
       "      <td>NaN</td>\n",
       "      <td>NaN</td>\n",
       "      <td>NaN</td>\n",
       "      <td>957.0</td>\n",
       "      <td>NaN</td>\n",
       "      <td>11091.csv</td>\n",
       "    </tr>\n",
       "  </tbody>\n",
       "</table>\n",
       "</div>"
      ],
      "text/plain": [
       "                    time   ACTUAL_WIND_SPEED   MEASURED_WIND_SPEED1  \\\n",
       "0    2001-01-22 13:00:00                 NaN                    7.0   \n",
       "1    2001-01-22 14:00:00                 NaN                    8.0   \n",
       "2    2001-01-22 15:00:00                 NaN                    8.0   \n",
       "3    2001-01-22 16:00:00                 NaN                    8.0   \n",
       "4    2001-01-22 17:00:00                 NaN                   10.0   \n",
       "5    2001-01-22 18:00:00                 NaN                    9.0   \n",
       "6    2001-01-22 19:00:00                 NaN                    8.0   \n",
       "7    2001-01-22 20:00:00                 NaN                    9.0   \n",
       "8    2001-01-22 21:00:00                 NaN                    9.0   \n",
       "9    2001-01-22 22:00:00                 NaN                   10.0   \n",
       "10   2001-01-22 23:00:00                 NaN                    9.0   \n",
       "11   2001-01-23 00:00:00                 NaN                    9.0   \n",
       "12   2001-01-23 01:00:00                 NaN                   10.0   \n",
       "13   2001-01-23 02:00:00                 NaN                    9.0   \n",
       "14   2001-01-23 03:00:00                 NaN                   10.0   \n",
       "\n",
       "     CURRENT_AIR_TEMPERATURE1   CURRENT_AIR_TEMPERATURE2  air_temp   rel_hum  \\\n",
       "0                         2.2                        2.0       NaN       NaN   \n",
       "1                         1.9                        NaN       NaN       NaN   \n",
       "2                         1.4                        NaN       NaN       NaN   \n",
       "3                         0.4                       -1.0       NaN       NaN   \n",
       "4                        -0.5                        NaN       NaN       NaN   \n",
       "5                        -1.1                       -2.5       NaN       NaN   \n",
       "6                        -1.2                       -2.5       NaN       NaN   \n",
       "7                        -1.6                        NaN       NaN       NaN   \n",
       "8                        -1.8                       -3.0       NaN       NaN   \n",
       "9                        -1.9                       -3.0       NaN       NaN   \n",
       "10                       -2.1                       -3.5       NaN       NaN   \n",
       "11                       -1.9                       -3.0       NaN       NaN   \n",
       "12                       -1.8                       -3.0       NaN       NaN   \n",
       "13                       -1.8                       -3.0       NaN       NaN   \n",
       "14                       -1.9                       -3.0       NaN       NaN   \n",
       "\n",
       "     RELATIVE_HUMIDITY1   ATMOSPHERIC_PRESSURE   stn_pres   filename  \n",
       "0                   NaN                  963.0        NaN  11091.csv  \n",
       "1                   NaN                  960.0        NaN  11091.csv  \n",
       "2                   NaN                  960.0        NaN  11091.csv  \n",
       "3                   NaN                  960.0        NaN  11091.csv  \n",
       "4                   NaN                  960.0        NaN  11091.csv  \n",
       "5                   NaN                  960.0        NaN  11091.csv  \n",
       "6                   NaN                  960.0        NaN  11091.csv  \n",
       "7                   NaN                  960.0        NaN  11091.csv  \n",
       "8                   NaN                  960.0        NaN  11091.csv  \n",
       "9                   NaN                  960.0        NaN  11091.csv  \n",
       "10                  NaN                  960.0        NaN  11091.csv  \n",
       "11                  NaN                  959.0        NaN  11091.csv  \n",
       "12                  NaN                  959.0        NaN  11091.csv  \n",
       "13                  NaN                  959.0        NaN  11091.csv  \n",
       "14                  NaN                  957.0        NaN  11091.csv  "
      ]
     },
     "execution_count": 23,
     "metadata": {},
     "output_type": "execute_result"
    }
   ],
   "source": [
    "# check values and units of wind speed columns\n",
    "MoTIe_data_wind_clean.head(15)"
   ]
  },
  {
   "cell_type": "code",
   "execution_count": 24,
   "metadata": {},
   "outputs": [
    {
     "name": "stderr",
     "output_type": "stream",
     "text": [
      "C:\\Users\\maddy\\AppData\\Local\\Temp\\ipykernel_15012\\314048165.py:2: SettingWithCopyWarning: \n",
      "A value is trying to be set on a copy of a slice from a DataFrame.\n",
      "Try using .loc[row_indexer,col_indexer] = value instead\n",
      "\n",
      "See the caveats in the documentation: https://pandas.pydata.org/pandas-docs/stable/user_guide/indexing.html#returning-a-view-versus-a-copy\n",
      "  MoTIe_data_wind_clean.loc[:,(' ACTUAL_WIND_SPEED', ' MEASURED_WIND_SPEED1')] = MoTIe_data_wind_clean.loc[:,(' ACTUAL_WIND_SPEED', ' MEASURED_WIND_SPEED1')].div(3.6)\n"
     ]
    },
    {
     "data": {
      "text/html": [
       "<div>\n",
       "<style scoped>\n",
       "    .dataframe tbody tr th:only-of-type {\n",
       "        vertical-align: middle;\n",
       "    }\n",
       "\n",
       "    .dataframe tbody tr th {\n",
       "        vertical-align: top;\n",
       "    }\n",
       "\n",
       "    .dataframe thead th {\n",
       "        text-align: right;\n",
       "    }\n",
       "</style>\n",
       "<table border=\"1\" class=\"dataframe\">\n",
       "  <thead>\n",
       "    <tr style=\"text-align: right;\">\n",
       "      <th></th>\n",
       "      <th>time</th>\n",
       "      <th>ACTUAL_WIND_SPEED</th>\n",
       "      <th>MEASURED_WIND_SPEED1</th>\n",
       "      <th>CURRENT_AIR_TEMPERATURE1</th>\n",
       "      <th>CURRENT_AIR_TEMPERATURE2</th>\n",
       "      <th>air_temp</th>\n",
       "      <th>rel_hum</th>\n",
       "      <th>RELATIVE_HUMIDITY1</th>\n",
       "      <th>ATMOSPHERIC_PRESSURE</th>\n",
       "      <th>stn_pres</th>\n",
       "      <th>filename</th>\n",
       "    </tr>\n",
       "  </thead>\n",
       "  <tbody>\n",
       "    <tr>\n",
       "      <th>0</th>\n",
       "      <td>2001-01-22 13:00:00</td>\n",
       "      <td>NaN</td>\n",
       "      <td>1.944444</td>\n",
       "      <td>2.2</td>\n",
       "      <td>2.0</td>\n",
       "      <td>NaN</td>\n",
       "      <td>NaN</td>\n",
       "      <td>NaN</td>\n",
       "      <td>963.0</td>\n",
       "      <td>NaN</td>\n",
       "      <td>11091.csv</td>\n",
       "    </tr>\n",
       "    <tr>\n",
       "      <th>1</th>\n",
       "      <td>2001-01-22 14:00:00</td>\n",
       "      <td>NaN</td>\n",
       "      <td>2.222222</td>\n",
       "      <td>1.9</td>\n",
       "      <td>NaN</td>\n",
       "      <td>NaN</td>\n",
       "      <td>NaN</td>\n",
       "      <td>NaN</td>\n",
       "      <td>960.0</td>\n",
       "      <td>NaN</td>\n",
       "      <td>11091.csv</td>\n",
       "    </tr>\n",
       "    <tr>\n",
       "      <th>2</th>\n",
       "      <td>2001-01-22 15:00:00</td>\n",
       "      <td>NaN</td>\n",
       "      <td>2.222222</td>\n",
       "      <td>1.4</td>\n",
       "      <td>NaN</td>\n",
       "      <td>NaN</td>\n",
       "      <td>NaN</td>\n",
       "      <td>NaN</td>\n",
       "      <td>960.0</td>\n",
       "      <td>NaN</td>\n",
       "      <td>11091.csv</td>\n",
       "    </tr>\n",
       "    <tr>\n",
       "      <th>3</th>\n",
       "      <td>2001-01-22 16:00:00</td>\n",
       "      <td>NaN</td>\n",
       "      <td>2.222222</td>\n",
       "      <td>0.4</td>\n",
       "      <td>-1.0</td>\n",
       "      <td>NaN</td>\n",
       "      <td>NaN</td>\n",
       "      <td>NaN</td>\n",
       "      <td>960.0</td>\n",
       "      <td>NaN</td>\n",
       "      <td>11091.csv</td>\n",
       "    </tr>\n",
       "    <tr>\n",
       "      <th>4</th>\n",
       "      <td>2001-01-22 17:00:00</td>\n",
       "      <td>NaN</td>\n",
       "      <td>2.777778</td>\n",
       "      <td>-0.5</td>\n",
       "      <td>NaN</td>\n",
       "      <td>NaN</td>\n",
       "      <td>NaN</td>\n",
       "      <td>NaN</td>\n",
       "      <td>960.0</td>\n",
       "      <td>NaN</td>\n",
       "      <td>11091.csv</td>\n",
       "    </tr>\n",
       "    <tr>\n",
       "      <th>5</th>\n",
       "      <td>2001-01-22 18:00:00</td>\n",
       "      <td>NaN</td>\n",
       "      <td>2.500000</td>\n",
       "      <td>-1.1</td>\n",
       "      <td>-2.5</td>\n",
       "      <td>NaN</td>\n",
       "      <td>NaN</td>\n",
       "      <td>NaN</td>\n",
       "      <td>960.0</td>\n",
       "      <td>NaN</td>\n",
       "      <td>11091.csv</td>\n",
       "    </tr>\n",
       "    <tr>\n",
       "      <th>6</th>\n",
       "      <td>2001-01-22 19:00:00</td>\n",
       "      <td>NaN</td>\n",
       "      <td>2.222222</td>\n",
       "      <td>-1.2</td>\n",
       "      <td>-2.5</td>\n",
       "      <td>NaN</td>\n",
       "      <td>NaN</td>\n",
       "      <td>NaN</td>\n",
       "      <td>960.0</td>\n",
       "      <td>NaN</td>\n",
       "      <td>11091.csv</td>\n",
       "    </tr>\n",
       "    <tr>\n",
       "      <th>7</th>\n",
       "      <td>2001-01-22 20:00:00</td>\n",
       "      <td>NaN</td>\n",
       "      <td>2.500000</td>\n",
       "      <td>-1.6</td>\n",
       "      <td>NaN</td>\n",
       "      <td>NaN</td>\n",
       "      <td>NaN</td>\n",
       "      <td>NaN</td>\n",
       "      <td>960.0</td>\n",
       "      <td>NaN</td>\n",
       "      <td>11091.csv</td>\n",
       "    </tr>\n",
       "    <tr>\n",
       "      <th>8</th>\n",
       "      <td>2001-01-22 21:00:00</td>\n",
       "      <td>NaN</td>\n",
       "      <td>2.500000</td>\n",
       "      <td>-1.8</td>\n",
       "      <td>-3.0</td>\n",
       "      <td>NaN</td>\n",
       "      <td>NaN</td>\n",
       "      <td>NaN</td>\n",
       "      <td>960.0</td>\n",
       "      <td>NaN</td>\n",
       "      <td>11091.csv</td>\n",
       "    </tr>\n",
       "    <tr>\n",
       "      <th>9</th>\n",
       "      <td>2001-01-22 22:00:00</td>\n",
       "      <td>NaN</td>\n",
       "      <td>2.777778</td>\n",
       "      <td>-1.9</td>\n",
       "      <td>-3.0</td>\n",
       "      <td>NaN</td>\n",
       "      <td>NaN</td>\n",
       "      <td>NaN</td>\n",
       "      <td>960.0</td>\n",
       "      <td>NaN</td>\n",
       "      <td>11091.csv</td>\n",
       "    </tr>\n",
       "    <tr>\n",
       "      <th>10</th>\n",
       "      <td>2001-01-22 23:00:00</td>\n",
       "      <td>NaN</td>\n",
       "      <td>2.500000</td>\n",
       "      <td>-2.1</td>\n",
       "      <td>-3.5</td>\n",
       "      <td>NaN</td>\n",
       "      <td>NaN</td>\n",
       "      <td>NaN</td>\n",
       "      <td>960.0</td>\n",
       "      <td>NaN</td>\n",
       "      <td>11091.csv</td>\n",
       "    </tr>\n",
       "    <tr>\n",
       "      <th>11</th>\n",
       "      <td>2001-01-23 00:00:00</td>\n",
       "      <td>NaN</td>\n",
       "      <td>2.500000</td>\n",
       "      <td>-1.9</td>\n",
       "      <td>-3.0</td>\n",
       "      <td>NaN</td>\n",
       "      <td>NaN</td>\n",
       "      <td>NaN</td>\n",
       "      <td>959.0</td>\n",
       "      <td>NaN</td>\n",
       "      <td>11091.csv</td>\n",
       "    </tr>\n",
       "    <tr>\n",
       "      <th>12</th>\n",
       "      <td>2001-01-23 01:00:00</td>\n",
       "      <td>NaN</td>\n",
       "      <td>2.777778</td>\n",
       "      <td>-1.8</td>\n",
       "      <td>-3.0</td>\n",
       "      <td>NaN</td>\n",
       "      <td>NaN</td>\n",
       "      <td>NaN</td>\n",
       "      <td>959.0</td>\n",
       "      <td>NaN</td>\n",
       "      <td>11091.csv</td>\n",
       "    </tr>\n",
       "    <tr>\n",
       "      <th>13</th>\n",
       "      <td>2001-01-23 02:00:00</td>\n",
       "      <td>NaN</td>\n",
       "      <td>2.500000</td>\n",
       "      <td>-1.8</td>\n",
       "      <td>-3.0</td>\n",
       "      <td>NaN</td>\n",
       "      <td>NaN</td>\n",
       "      <td>NaN</td>\n",
       "      <td>959.0</td>\n",
       "      <td>NaN</td>\n",
       "      <td>11091.csv</td>\n",
       "    </tr>\n",
       "    <tr>\n",
       "      <th>14</th>\n",
       "      <td>2001-01-23 03:00:00</td>\n",
       "      <td>NaN</td>\n",
       "      <td>2.777778</td>\n",
       "      <td>-1.9</td>\n",
       "      <td>-3.0</td>\n",
       "      <td>NaN</td>\n",
       "      <td>NaN</td>\n",
       "      <td>NaN</td>\n",
       "      <td>957.0</td>\n",
       "      <td>NaN</td>\n",
       "      <td>11091.csv</td>\n",
       "    </tr>\n",
       "  </tbody>\n",
       "</table>\n",
       "</div>"
      ],
      "text/plain": [
       "                    time   ACTUAL_WIND_SPEED   MEASURED_WIND_SPEED1  \\\n",
       "0    2001-01-22 13:00:00                 NaN               1.944444   \n",
       "1    2001-01-22 14:00:00                 NaN               2.222222   \n",
       "2    2001-01-22 15:00:00                 NaN               2.222222   \n",
       "3    2001-01-22 16:00:00                 NaN               2.222222   \n",
       "4    2001-01-22 17:00:00                 NaN               2.777778   \n",
       "5    2001-01-22 18:00:00                 NaN               2.500000   \n",
       "6    2001-01-22 19:00:00                 NaN               2.222222   \n",
       "7    2001-01-22 20:00:00                 NaN               2.500000   \n",
       "8    2001-01-22 21:00:00                 NaN               2.500000   \n",
       "9    2001-01-22 22:00:00                 NaN               2.777778   \n",
       "10   2001-01-22 23:00:00                 NaN               2.500000   \n",
       "11   2001-01-23 00:00:00                 NaN               2.500000   \n",
       "12   2001-01-23 01:00:00                 NaN               2.777778   \n",
       "13   2001-01-23 02:00:00                 NaN               2.500000   \n",
       "14   2001-01-23 03:00:00                 NaN               2.777778   \n",
       "\n",
       "     CURRENT_AIR_TEMPERATURE1   CURRENT_AIR_TEMPERATURE2  air_temp   rel_hum  \\\n",
       "0                         2.2                        2.0       NaN       NaN   \n",
       "1                         1.9                        NaN       NaN       NaN   \n",
       "2                         1.4                        NaN       NaN       NaN   \n",
       "3                         0.4                       -1.0       NaN       NaN   \n",
       "4                        -0.5                        NaN       NaN       NaN   \n",
       "5                        -1.1                       -2.5       NaN       NaN   \n",
       "6                        -1.2                       -2.5       NaN       NaN   \n",
       "7                        -1.6                        NaN       NaN       NaN   \n",
       "8                        -1.8                       -3.0       NaN       NaN   \n",
       "9                        -1.9                       -3.0       NaN       NaN   \n",
       "10                       -2.1                       -3.5       NaN       NaN   \n",
       "11                       -1.9                       -3.0       NaN       NaN   \n",
       "12                       -1.8                       -3.0       NaN       NaN   \n",
       "13                       -1.8                       -3.0       NaN       NaN   \n",
       "14                       -1.9                       -3.0       NaN       NaN   \n",
       "\n",
       "     RELATIVE_HUMIDITY1   ATMOSPHERIC_PRESSURE   stn_pres   filename  \n",
       "0                   NaN                  963.0        NaN  11091.csv  \n",
       "1                   NaN                  960.0        NaN  11091.csv  \n",
       "2                   NaN                  960.0        NaN  11091.csv  \n",
       "3                   NaN                  960.0        NaN  11091.csv  \n",
       "4                   NaN                  960.0        NaN  11091.csv  \n",
       "5                   NaN                  960.0        NaN  11091.csv  \n",
       "6                   NaN                  960.0        NaN  11091.csv  \n",
       "7                   NaN                  960.0        NaN  11091.csv  \n",
       "8                   NaN                  960.0        NaN  11091.csv  \n",
       "9                   NaN                  960.0        NaN  11091.csv  \n",
       "10                  NaN                  960.0        NaN  11091.csv  \n",
       "11                  NaN                  959.0        NaN  11091.csv  \n",
       "12                  NaN                  959.0        NaN  11091.csv  \n",
       "13                  NaN                  959.0        NaN  11091.csv  \n",
       "14                  NaN                  957.0        NaN  11091.csv  "
      ]
     },
     "execution_count": 24,
     "metadata": {},
     "output_type": "execute_result"
    }
   ],
   "source": [
    "# convert windspeed values from km/h to m/s by dividing values by 3.6\n",
    "MoTIe_data_wind_clean.loc[:,(' ACTUAL_WIND_SPEED', ' MEASURED_WIND_SPEED1')] = MoTIe_data_wind_clean.loc[:,(' ACTUAL_WIND_SPEED', ' MEASURED_WIND_SPEED1')].div(3.6)\n",
    "MoTIe_data_wind_clean.head(15)"
   ]
  },
  {
   "cell_type": "code",
   "execution_count": 25,
   "metadata": {},
   "outputs": [],
   "source": [
    "# save to csv\n",
    "MoTIe_data_wind_clean.to_csv(f'{path_2}/MoTIe_data_wind_clean.csv')"
   ]
  },
  {
   "cell_type": "markdown",
   "metadata": {},
   "source": [
    "#### MoTIm Data Cleaning"
   ]
  },
  {
   "cell_type": "code",
   "execution_count": 26,
   "metadata": {},
   "outputs": [],
   "source": [
    "MoTIm_data = functions.to_df('MoTIm_data.csv')"
   ]
  },
  {
   "cell_type": "code",
   "execution_count": 27,
   "metadata": {},
   "outputs": [],
   "source": [
    "column_names, column_nulls, duplicate_row_index = functions.start_cleaning(MoTIm_data)"
   ]
  },
  {
   "cell_type": "code",
   "execution_count": 28,
   "metadata": {},
   "outputs": [
    {
     "name": "stdout",
     "output_type": "stream",
     "text": [
      "column names: ['CURRENT_AIR_TEMPERATURE1', ' RELATIVE_HUMIDITY1', ' STORM_SNOW', ' STANDARD_SNOW', ' MINIMUM_AIR_TEMPERATURE', ' MAXIMUM_AIR_TEMPERATURE', ' time', ' PRECIPITATION_NEW', ' HEIGHT_OF_SNOW', 'filename', ' INTERVAL_SNOW', ' MEASURED_WIND_SPEED1', ' MEASURED_WIND_DIRECTION1']\n",
      "column nulls: CURRENT_AIR_TEMPERATURE1       9742\n",
      " RELATIVE_HUMIDITY1          409244\n",
      " STORM_SNOW                  466916\n",
      " STANDARD_SNOW               208950\n",
      " MINIMUM_AIR_TEMPERATURE      32973\n",
      " MAXIMUM_AIR_TEMPERATURE      33700\n",
      " time                             0\n",
      " PRECIPITATION_NEW           432471\n",
      " HEIGHT_OF_SNOW              106445\n",
      "filename                          0\n",
      " INTERVAL_SNOW               685431\n",
      " MEASURED_WIND_SPEED1        746336\n",
      " MEASURED_WIND_DIRECTION1    763853\n",
      "dtype: int64\n",
      "duplicate rows: Int64Index([], dtype='int64')\n"
     ]
    },
    {
     "data": {
      "text/plain": [
       "(769279, 13)"
      ]
     },
     "execution_count": 28,
     "metadata": {},
     "output_type": "execute_result"
    }
   ],
   "source": [
    "print(f'column names: {column_names}')\n",
    "print(f'column nulls: {column_nulls}')\n",
    "print(f'duplicate rows: {duplicate_row_index}')\n",
    "MoTIm_data.shape"
   ]
  },
  {
   "cell_type": "code",
   "execution_count": 29,
   "metadata": {},
   "outputs": [],
   "source": [
    "# only keep variables of interest\n",
    "# no solar data available from this network\n",
    "MoTIm_data_wind = MoTIm_data.loc[:,(' time', ' MEASURED_WIND_SPEED1', 'CURRENT_AIR_TEMPERATURE1', ' RELATIVE_HUMIDITY1', 'filename')] \n",
    "    # note that no air pressure value is available"
   ]
  },
  {
   "cell_type": "code",
   "execution_count": 30,
   "metadata": {},
   "outputs": [
    {
     "data": {
      "text/plain": [
       " time                            0\n",
       " MEASURED_WIND_SPEED1       746336\n",
       "CURRENT_AIR_TEMPERATURE1      9742\n",
       " RELATIVE_HUMIDITY1         409244\n",
       "filename                         0\n",
       "dtype: int64"
      ]
     },
     "execution_count": 30,
     "metadata": {},
     "output_type": "execute_result"
    }
   ],
   "source": [
    "# count null values in wind data\n",
    "MoTIm_data_wind.isna().sum()"
   ]
  },
  {
   "cell_type": "code",
   "execution_count": 31,
   "metadata": {},
   "outputs": [
    {
     "data": {
      "text/plain": [
       " time                         0\n",
       " MEASURED_WIND_SPEED1         0\n",
       "CURRENT_AIR_TEMPERATURE1    111\n",
       " RELATIVE_HUMIDITY1         392\n",
       "filename                      0\n",
       "dtype: int64"
      ]
     },
     "execution_count": 31,
     "metadata": {},
     "output_type": "execute_result"
    }
   ],
   "source": [
    "# drop rows in wind data that do not have WindSpeed values\n",
    "MoTIm_data_wind_clean = MoTIm_data_wind.dropna(subset=[' MEASURED_WIND_SPEED1'])\n",
    "MoTIm_data_wind_clean.isna().sum()"
   ]
  },
  {
   "cell_type": "code",
   "execution_count": 33,
   "metadata": {},
   "outputs": [
    {
     "data": {
      "text/plain": [
       "5667     5.0\n",
       "6865     5.0\n",
       "6867     5.0\n",
       "6872     1.0\n",
       "6875     1.0\n",
       "6881     5.0\n",
       "6889     5.0\n",
       "6893     5.0\n",
       "7318     5.0\n",
       "7326     2.0\n",
       "7327     2.0\n",
       "7329    12.0\n",
       "7340    30.0\n",
       "7343     2.0\n",
       "7347     5.0\n",
       "Name:  MEASURED_WIND_SPEED1, dtype: float64"
      ]
     },
     "execution_count": 33,
     "metadata": {},
     "output_type": "execute_result"
    }
   ],
   "source": [
    "MoTIm_data_wind_clean[' MEASURED_WIND_SPEED1'].head(15)"
   ]
  },
  {
   "cell_type": "code",
   "execution_count": 34,
   "metadata": {},
   "outputs": [
    {
     "name": "stderr",
     "output_type": "stream",
     "text": [
      "C:\\Users\\maddy\\AppData\\Local\\Temp\\ipykernel_15012\\3504751675.py:2: SettingWithCopyWarning: \n",
      "A value is trying to be set on a copy of a slice from a DataFrame.\n",
      "Try using .loc[row_indexer,col_indexer] = value instead\n",
      "\n",
      "See the caveats in the documentation: https://pandas.pydata.org/pandas-docs/stable/user_guide/indexing.html#returning-a-view-versus-a-copy\n",
      "  MoTIm_data_wind_clean.loc[:,' MEASURED_WIND_SPEED1'] = MoTIm_data_wind_clean.loc[:,' MEASURED_WIND_SPEED1'].div(3.6)\n"
     ]
    },
    {
     "data": {
      "text/html": [
       "<div>\n",
       "<style scoped>\n",
       "    .dataframe tbody tr th:only-of-type {\n",
       "        vertical-align: middle;\n",
       "    }\n",
       "\n",
       "    .dataframe tbody tr th {\n",
       "        vertical-align: top;\n",
       "    }\n",
       "\n",
       "    .dataframe thead th {\n",
       "        text-align: right;\n",
       "    }\n",
       "</style>\n",
       "<table border=\"1\" class=\"dataframe\">\n",
       "  <thead>\n",
       "    <tr style=\"text-align: right;\">\n",
       "      <th></th>\n",
       "      <th>time</th>\n",
       "      <th>MEASURED_WIND_SPEED1</th>\n",
       "      <th>CURRENT_AIR_TEMPERATURE1</th>\n",
       "      <th>RELATIVE_HUMIDITY1</th>\n",
       "      <th>filename</th>\n",
       "    </tr>\n",
       "  </thead>\n",
       "  <tbody>\n",
       "    <tr>\n",
       "      <th>5667</th>\n",
       "      <td>1980-01-30 05:30:00</td>\n",
       "      <td>1.388889</td>\n",
       "      <td>11.5</td>\n",
       "      <td>75.0</td>\n",
       "      <td>11101.csv</td>\n",
       "    </tr>\n",
       "    <tr>\n",
       "      <th>6865</th>\n",
       "      <td>1986-03-09 16:00:00</td>\n",
       "      <td>1.388889</td>\n",
       "      <td>10.0</td>\n",
       "      <td>63.0</td>\n",
       "      <td>11101.csv</td>\n",
       "    </tr>\n",
       "    <tr>\n",
       "      <th>6867</th>\n",
       "      <td>1986-03-10 16:00:00</td>\n",
       "      <td>1.388889</td>\n",
       "      <td>11.0</td>\n",
       "      <td>61.0</td>\n",
       "      <td>11101.csv</td>\n",
       "    </tr>\n",
       "    <tr>\n",
       "      <th>6872</th>\n",
       "      <td>1986-03-13 06:00:00</td>\n",
       "      <td>0.277778</td>\n",
       "      <td>5.0</td>\n",
       "      <td>75.0</td>\n",
       "      <td>11101.csv</td>\n",
       "    </tr>\n",
       "    <tr>\n",
       "      <th>6875</th>\n",
       "      <td>1986-03-14 16:00:00</td>\n",
       "      <td>0.277778</td>\n",
       "      <td>8.5</td>\n",
       "      <td>60.0</td>\n",
       "      <td>11101.csv</td>\n",
       "    </tr>\n",
       "    <tr>\n",
       "      <th>6881</th>\n",
       "      <td>1986-03-17 16:45:00</td>\n",
       "      <td>1.388889</td>\n",
       "      <td>9.0</td>\n",
       "      <td>61.0</td>\n",
       "      <td>11101.csv</td>\n",
       "    </tr>\n",
       "    <tr>\n",
       "      <th>6889</th>\n",
       "      <td>1986-03-21 16:30:00</td>\n",
       "      <td>1.388889</td>\n",
       "      <td>10.5</td>\n",
       "      <td>65.0</td>\n",
       "      <td>11101.csv</td>\n",
       "    </tr>\n",
       "    <tr>\n",
       "      <th>6893</th>\n",
       "      <td>1986-03-23 18:00:00</td>\n",
       "      <td>1.388889</td>\n",
       "      <td>6.5</td>\n",
       "      <td>94.0</td>\n",
       "      <td>11101.csv</td>\n",
       "    </tr>\n",
       "    <tr>\n",
       "      <th>7318</th>\n",
       "      <td>1987-10-30 06:00:00</td>\n",
       "      <td>1.388889</td>\n",
       "      <td>11.5</td>\n",
       "      <td>95.0</td>\n",
       "      <td>11101.csv</td>\n",
       "    </tr>\n",
       "    <tr>\n",
       "      <th>7326</th>\n",
       "      <td>1987-11-03 17:00:00</td>\n",
       "      <td>0.555556</td>\n",
       "      <td>9.0</td>\n",
       "      <td>98.0</td>\n",
       "      <td>11101.csv</td>\n",
       "    </tr>\n",
       "    <tr>\n",
       "      <th>7327</th>\n",
       "      <td>1987-11-04 06:00:00</td>\n",
       "      <td>0.555556</td>\n",
       "      <td>10.0</td>\n",
       "      <td>95.0</td>\n",
       "      <td>11101.csv</td>\n",
       "    </tr>\n",
       "    <tr>\n",
       "      <th>7329</th>\n",
       "      <td>1987-11-05 06:00:00</td>\n",
       "      <td>3.333333</td>\n",
       "      <td>7.0</td>\n",
       "      <td>95.0</td>\n",
       "      <td>11101.csv</td>\n",
       "    </tr>\n",
       "    <tr>\n",
       "      <th>7340</th>\n",
       "      <td>1987-11-10 10:05:00</td>\n",
       "      <td>8.333333</td>\n",
       "      <td>13.5</td>\n",
       "      <td>65.0</td>\n",
       "      <td>11101.csv</td>\n",
       "    </tr>\n",
       "    <tr>\n",
       "      <th>7343</th>\n",
       "      <td>1987-11-11 17:00:00</td>\n",
       "      <td>0.555556</td>\n",
       "      <td>12.0</td>\n",
       "      <td>80.0</td>\n",
       "      <td>11101.csv</td>\n",
       "    </tr>\n",
       "    <tr>\n",
       "      <th>7347</th>\n",
       "      <td>1987-11-13 17:00:00</td>\n",
       "      <td>1.388889</td>\n",
       "      <td>9.0</td>\n",
       "      <td>68.0</td>\n",
       "      <td>11101.csv</td>\n",
       "    </tr>\n",
       "  </tbody>\n",
       "</table>\n",
       "</div>"
      ],
      "text/plain": [
       "                      time   MEASURED_WIND_SPEED1  CURRENT_AIR_TEMPERATURE1  \\\n",
       "5667   1980-01-30 05:30:00               1.388889                      11.5   \n",
       "6865   1986-03-09 16:00:00               1.388889                      10.0   \n",
       "6867   1986-03-10 16:00:00               1.388889                      11.0   \n",
       "6872   1986-03-13 06:00:00               0.277778                       5.0   \n",
       "6875   1986-03-14 16:00:00               0.277778                       8.5   \n",
       "6881   1986-03-17 16:45:00               1.388889                       9.0   \n",
       "6889   1986-03-21 16:30:00               1.388889                      10.5   \n",
       "6893   1986-03-23 18:00:00               1.388889                       6.5   \n",
       "7318   1987-10-30 06:00:00               1.388889                      11.5   \n",
       "7326   1987-11-03 17:00:00               0.555556                       9.0   \n",
       "7327   1987-11-04 06:00:00               0.555556                      10.0   \n",
       "7329   1987-11-05 06:00:00               3.333333                       7.0   \n",
       "7340   1987-11-10 10:05:00               8.333333                      13.5   \n",
       "7343   1987-11-11 17:00:00               0.555556                      12.0   \n",
       "7347   1987-11-13 17:00:00               1.388889                       9.0   \n",
       "\n",
       "       RELATIVE_HUMIDITY1   filename  \n",
       "5667                 75.0  11101.csv  \n",
       "6865                 63.0  11101.csv  \n",
       "6867                 61.0  11101.csv  \n",
       "6872                 75.0  11101.csv  \n",
       "6875                 60.0  11101.csv  \n",
       "6881                 61.0  11101.csv  \n",
       "6889                 65.0  11101.csv  \n",
       "6893                 94.0  11101.csv  \n",
       "7318                 95.0  11101.csv  \n",
       "7326                 98.0  11101.csv  \n",
       "7327                 95.0  11101.csv  \n",
       "7329                 95.0  11101.csv  \n",
       "7340                 65.0  11101.csv  \n",
       "7343                 80.0  11101.csv  \n",
       "7347                 68.0  11101.csv  "
      ]
     },
     "execution_count": 34,
     "metadata": {},
     "output_type": "execute_result"
    }
   ],
   "source": [
    "# convert windspeed values from km/h to m/s by dividing values by 3.6\n",
    "MoTIm_data_wind_clean.loc[:,' MEASURED_WIND_SPEED1'] = MoTIm_data_wind_clean.loc[:,' MEASURED_WIND_SPEED1'].div(3.6)\n",
    "MoTIm_data_wind_clean.head(15)"
   ]
  },
  {
   "cell_type": "code",
   "execution_count": 35,
   "metadata": {},
   "outputs": [],
   "source": [
    "# save to csv\n",
    "MoTIm_data_wind_clean.to_csv(f'{path_2}/MoTIm_data_wind_clean.csv')"
   ]
  },
  {
   "cell_type": "markdown",
   "metadata": {},
   "source": [
    "#### MVan Data Cleaning"
   ]
  },
  {
   "cell_type": "code",
   "execution_count": 36,
   "metadata": {},
   "outputs": [],
   "source": [
    "MVan_data = functions.to_df('MVan_data.csv')"
   ]
  },
  {
   "cell_type": "code",
   "execution_count": 37,
   "metadata": {},
   "outputs": [],
   "source": [
    "column_names, column_nulls, duplicate_row_index = functions.start_cleaning(MVan_data)"
   ]
  },
  {
   "cell_type": "code",
   "execution_count": 38,
   "metadata": {},
   "outputs": [
    {
     "name": "stdout",
     "output_type": "stream",
     "text": [
      "column names: ['WDIR_VECT', ' time', ' WSPD_SCLR', ' HUMIDITY', 'filename']\n",
      "column nulls: WDIR_VECT       6022\n",
      " time              0\n",
      " WSPD_SCLR    157014\n",
      " HUMIDITY     104506\n",
      "filename           0\n",
      "dtype: int64\n",
      "duplicate rows: Int64Index([], dtype='int64')\n"
     ]
    },
    {
     "data": {
      "text/plain": [
       "(283907, 5)"
      ]
     },
     "execution_count": 38,
     "metadata": {},
     "output_type": "execute_result"
    }
   ],
   "source": [
    "print(f'column names: {column_names}')\n",
    "print(f'column nulls: {column_nulls}')\n",
    "print(f'duplicate rows: {duplicate_row_index}')\n",
    "MVan_data.shape"
   ]
  },
  {
   "cell_type": "code",
   "execution_count": 39,
   "metadata": {},
   "outputs": [],
   "source": [
    "# only keep variables of interest\n",
    "# no solar data available from this network\n",
    "MVan_data_wind = MVan_data.loc[:,(' time', ' WSPD_SCLR', ' HUMIDITY', 'filename')] \n",
    "    # note that no air pressure or air temperature values are available"
   ]
  },
  {
   "cell_type": "code",
   "execution_count": 40,
   "metadata": {},
   "outputs": [
    {
     "data": {
      "text/plain": [
       " time              0\n",
       " WSPD_SCLR    157014\n",
       " HUMIDITY     104506\n",
       "filename           0\n",
       "dtype: int64"
      ]
     },
     "execution_count": 40,
     "metadata": {},
     "output_type": "execute_result"
    }
   ],
   "source": [
    "# count null values in wind data\n",
    "MVan_data_wind.isna().sum()"
   ]
  },
  {
   "cell_type": "code",
   "execution_count": 41,
   "metadata": {},
   "outputs": [
    {
     "data": {
      "text/plain": [
       " time             0\n",
       " WSPD_SCLR        0\n",
       " HUMIDITY     56876\n",
       "filename          0\n",
       "dtype: int64"
      ]
     },
     "execution_count": 41,
     "metadata": {},
     "output_type": "execute_result"
    }
   ],
   "source": [
    "# drop rows in wind data that do not have WindSpeed values\n",
    "MVan_data_wind_clean = MVan_data_wind.dropna(subset=[' WSPD_SCLR'])\n",
    "MVan_data_wind_clean.isna().sum()"
   ]
  },
  {
   "cell_type": "code",
   "execution_count": 43,
   "metadata": {},
   "outputs": [
    {
     "data": {
      "text/plain": [
       "0     1.38889\n",
       "1     3.33334\n",
       "2     1.66667\n",
       "3     2.22222\n",
       "4     1.94445\n",
       "5     1.38889\n",
       "6     2.22222\n",
       "7     1.38889\n",
       "8     1.66667\n",
       "9     1.38889\n",
       "10    2.22222\n",
       "11    3.33334\n",
       "12    3.61111\n",
       "13    4.16667\n",
       "14    3.05556\n",
       "Name:  WSPD_SCLR, dtype: float64"
      ]
     },
     "execution_count": 43,
     "metadata": {},
     "output_type": "execute_result"
    }
   ],
   "source": [
    "MVan_data_wind_clean[' WSPD_SCLR'].head(15)"
   ]
  },
  {
   "cell_type": "code",
   "execution_count": 45,
   "metadata": {},
   "outputs": [
    {
     "name": "stderr",
     "output_type": "stream",
     "text": [
      "C:\\Users\\maddy\\AppData\\Local\\Temp\\ipykernel_15012\\215389386.py:2: SettingWithCopyWarning: \n",
      "A value is trying to be set on a copy of a slice from a DataFrame.\n",
      "Try using .loc[row_indexer,col_indexer] = value instead\n",
      "\n",
      "See the caveats in the documentation: https://pandas.pydata.org/pandas-docs/stable/user_guide/indexing.html#returning-a-view-versus-a-copy\n",
      "  MVan_data_wind_clean.loc[:,' WSPD_SCLR'] = MVan_data_wind_clean.loc[:,' WSPD_SCLR'].div(3.6)\n"
     ]
    },
    {
     "data": {
      "text/html": [
       "<div>\n",
       "<style scoped>\n",
       "    .dataframe tbody tr th:only-of-type {\n",
       "        vertical-align: middle;\n",
       "    }\n",
       "\n",
       "    .dataframe tbody tr th {\n",
       "        vertical-align: top;\n",
       "    }\n",
       "\n",
       "    .dataframe thead th {\n",
       "        text-align: right;\n",
       "    }\n",
       "</style>\n",
       "<table border=\"1\" class=\"dataframe\">\n",
       "  <thead>\n",
       "    <tr style=\"text-align: right;\">\n",
       "      <th></th>\n",
       "      <th>time</th>\n",
       "      <th>WSPD_SCLR</th>\n",
       "      <th>HUMIDITY</th>\n",
       "      <th>filename</th>\n",
       "    </tr>\n",
       "  </thead>\n",
       "  <tbody>\n",
       "    <tr>\n",
       "      <th>0</th>\n",
       "      <td>2000-01-01 00:00:00</td>\n",
       "      <td>0.385803</td>\n",
       "      <td>NaN</td>\n",
       "      <td>T12.csv</td>\n",
       "    </tr>\n",
       "    <tr>\n",
       "      <th>1</th>\n",
       "      <td>2000-01-01 01:00:00</td>\n",
       "      <td>0.925928</td>\n",
       "      <td>NaN</td>\n",
       "      <td>T12.csv</td>\n",
       "    </tr>\n",
       "    <tr>\n",
       "      <th>2</th>\n",
       "      <td>2000-01-01 02:00:00</td>\n",
       "      <td>0.462964</td>\n",
       "      <td>NaN</td>\n",
       "      <td>T12.csv</td>\n",
       "    </tr>\n",
       "    <tr>\n",
       "      <th>3</th>\n",
       "      <td>2000-01-01 03:00:00</td>\n",
       "      <td>0.617283</td>\n",
       "      <td>NaN</td>\n",
       "      <td>T12.csv</td>\n",
       "    </tr>\n",
       "    <tr>\n",
       "      <th>4</th>\n",
       "      <td>2000-01-01 04:00:00</td>\n",
       "      <td>0.540125</td>\n",
       "      <td>NaN</td>\n",
       "      <td>T12.csv</td>\n",
       "    </tr>\n",
       "    <tr>\n",
       "      <th>5</th>\n",
       "      <td>2000-01-01 05:00:00</td>\n",
       "      <td>0.385803</td>\n",
       "      <td>NaN</td>\n",
       "      <td>T12.csv</td>\n",
       "    </tr>\n",
       "    <tr>\n",
       "      <th>6</th>\n",
       "      <td>2000-01-01 06:00:00</td>\n",
       "      <td>0.617283</td>\n",
       "      <td>NaN</td>\n",
       "      <td>T12.csv</td>\n",
       "    </tr>\n",
       "    <tr>\n",
       "      <th>7</th>\n",
       "      <td>2000-01-01 07:00:00</td>\n",
       "      <td>0.385803</td>\n",
       "      <td>NaN</td>\n",
       "      <td>T12.csv</td>\n",
       "    </tr>\n",
       "    <tr>\n",
       "      <th>8</th>\n",
       "      <td>2000-01-01 08:00:00</td>\n",
       "      <td>0.462964</td>\n",
       "      <td>NaN</td>\n",
       "      <td>T12.csv</td>\n",
       "    </tr>\n",
       "    <tr>\n",
       "      <th>9</th>\n",
       "      <td>2000-01-01 09:00:00</td>\n",
       "      <td>0.385803</td>\n",
       "      <td>NaN</td>\n",
       "      <td>T12.csv</td>\n",
       "    </tr>\n",
       "    <tr>\n",
       "      <th>10</th>\n",
       "      <td>2000-01-01 10:00:00</td>\n",
       "      <td>0.617283</td>\n",
       "      <td>NaN</td>\n",
       "      <td>T12.csv</td>\n",
       "    </tr>\n",
       "    <tr>\n",
       "      <th>11</th>\n",
       "      <td>2000-01-01 11:00:00</td>\n",
       "      <td>0.925928</td>\n",
       "      <td>NaN</td>\n",
       "      <td>T12.csv</td>\n",
       "    </tr>\n",
       "    <tr>\n",
       "      <th>12</th>\n",
       "      <td>2000-01-01 12:00:00</td>\n",
       "      <td>1.003086</td>\n",
       "      <td>NaN</td>\n",
       "      <td>T12.csv</td>\n",
       "    </tr>\n",
       "    <tr>\n",
       "      <th>13</th>\n",
       "      <td>2000-01-01 13:00:00</td>\n",
       "      <td>1.157408</td>\n",
       "      <td>NaN</td>\n",
       "      <td>T12.csv</td>\n",
       "    </tr>\n",
       "    <tr>\n",
       "      <th>14</th>\n",
       "      <td>2000-01-01 14:00:00</td>\n",
       "      <td>0.848767</td>\n",
       "      <td>NaN</td>\n",
       "      <td>T12.csv</td>\n",
       "    </tr>\n",
       "  </tbody>\n",
       "</table>\n",
       "</div>"
      ],
      "text/plain": [
       "                    time   WSPD_SCLR   HUMIDITY filename\n",
       "0    2000-01-01 00:00:00    0.385803        NaN  T12.csv\n",
       "1    2000-01-01 01:00:00    0.925928        NaN  T12.csv\n",
       "2    2000-01-01 02:00:00    0.462964        NaN  T12.csv\n",
       "3    2000-01-01 03:00:00    0.617283        NaN  T12.csv\n",
       "4    2000-01-01 04:00:00    0.540125        NaN  T12.csv\n",
       "5    2000-01-01 05:00:00    0.385803        NaN  T12.csv\n",
       "6    2000-01-01 06:00:00    0.617283        NaN  T12.csv\n",
       "7    2000-01-01 07:00:00    0.385803        NaN  T12.csv\n",
       "8    2000-01-01 08:00:00    0.462964        NaN  T12.csv\n",
       "9    2000-01-01 09:00:00    0.385803        NaN  T12.csv\n",
       "10   2000-01-01 10:00:00    0.617283        NaN  T12.csv\n",
       "11   2000-01-01 11:00:00    0.925928        NaN  T12.csv\n",
       "12   2000-01-01 12:00:00    1.003086        NaN  T12.csv\n",
       "13   2000-01-01 13:00:00    1.157408        NaN  T12.csv\n",
       "14   2000-01-01 14:00:00    0.848767        NaN  T12.csv"
      ]
     },
     "execution_count": 45,
     "metadata": {},
     "output_type": "execute_result"
    }
   ],
   "source": [
    "# convert windspeed values from km/h to m/s by dividing values by 3.6\n",
    "MVan_data_wind_clean.loc[:,' WSPD_SCLR'] = MVan_data_wind_clean.loc[:,' WSPD_SCLR'].div(3.6)\n",
    "MVan_data_wind_clean.head(15)"
   ]
  },
  {
   "cell_type": "code",
   "execution_count": 46,
   "metadata": {},
   "outputs": [],
   "source": [
    "# save to csv\n",
    "MVan_data_wind_clean.to_csv(f'{path_2}/MVan_data_wind_clean.csv')"
   ]
  },
  {
   "cell_type": "markdown",
   "metadata": {},
   "source": [
    "#### UNBC_CAM Data Cleaning"
   ]
  },
  {
   "cell_type": "code",
   "execution_count": 47,
   "metadata": {},
   "outputs": [],
   "source": [
    "UNBC_CAM_data = functions.to_df('UNBC_CAM_data.csv')"
   ]
  },
  {
   "cell_type": "code",
   "execution_count": 48,
   "metadata": {},
   "outputs": [],
   "source": [
    "column_names, column_nulls, duplicate_row_index = functions.start_cleaning(UNBC_CAM_data)"
   ]
  },
  {
   "cell_type": "code",
   "execution_count": 49,
   "metadata": {},
   "outputs": [
    {
     "name": "stdout",
     "output_type": "stream",
     "text": [
      "column names: ['Rain_Tot', ' Solar_Avg', ' Solar_Std', ' WS_Std', ' AirTC', ' time', ' RH', ' WindDir_Avg', ' DBTCDT', 'filename', ' Pressure', 'WS_Std', ' WindDir_Std', ' WS_Avg', 'Solar_Avg', 'K_Dn_Avg', ' Rain_Tot', ' L_Dn_Avg', ' L_Up_Avg', ' K_Up_Avg']\n",
      "column nulls: Rain_Tot        1022965\n",
      " Solar_Avg      1988163\n",
      " Solar_Std      2097928\n",
      " WS_Std          482661\n",
      " AirTC           178388\n",
      " time                 0\n",
      " RH              145556\n",
      " WindDir_Avg     780710\n",
      " DBTCDT          307674\n",
      "filename              0\n",
      " Pressure        811623\n",
      "WS_Std          2427244\n",
      " WindDir_Std    2392832\n",
      " WS_Avg         2045467\n",
      "Solar_Avg       2596682\n",
      "K_Dn_Avg        2305685\n",
      " Rain_Tot       2305689\n",
      " L_Dn_Avg       2305685\n",
      " L_Up_Avg       2305685\n",
      " K_Up_Avg       2305685\n",
      "dtype: int64\n",
      "duplicate rows: Int64Index([], dtype='int64')\n"
     ]
    },
    {
     "data": {
      "text/plain": [
       "(2634998, 20)"
      ]
     },
     "execution_count": 49,
     "metadata": {},
     "output_type": "execute_result"
    }
   ],
   "source": [
    "print(f'column names: {column_names}')\n",
    "print(f'column nulls: {column_nulls}')\n",
    "print(f'duplicate rows: {duplicate_row_index}')\n",
    "UNBC_CAM_data.shape"
   ]
  },
  {
   "cell_type": "code",
   "execution_count": 50,
   "metadata": {},
   "outputs": [],
   "source": [
    "# only keep variables of interest\n",
    "UNBC_CAM_data_solar = UNBC_CAM_data.loc[:,(' time', 'Solar_Avg', ' Solar_Avg', 'filename')]\n",
    "UNBC_CAM_data_wind = UNBC_CAM_data.loc[:,(' time', ' WS_Avg', ' AirTC', ' RH', ' Pressure', 'filename')]"
   ]
  },
  {
   "cell_type": "code",
   "execution_count": 53,
   "metadata": {},
   "outputs": [
    {
     "data": {
      "text/plain": [
       " time               0\n",
       "Solar_Avg     2596682\n",
       " Solar_Avg    1988163\n",
       "filename            0\n",
       "dtype: int64"
      ]
     },
     "execution_count": 53,
     "metadata": {},
     "output_type": "execute_result"
    }
   ],
   "source": [
    "# count null values in solar data\n",
    "UNBC_CAM_data_solar.isna().sum()\n"
   ]
  },
  {
   "cell_type": "code",
   "execution_count": 54,
   "metadata": {},
   "outputs": [
    {
     "data": {
      "text/plain": [
       "(2634998, 4)"
      ]
     },
     "execution_count": 54,
     "metadata": {},
     "output_type": "execute_result"
    }
   ],
   "source": [
    "# compare with overall size of solar data\n",
    "UNBC_CAM_data_solar.shape"
   ]
  },
  {
   "cell_type": "code",
   "execution_count": 55,
   "metadata": {},
   "outputs": [
    {
     "data": {
      "text/plain": [
       " time              0\n",
       "Solar_Avg     646835\n",
       " Solar_Avg     38316\n",
       "filename           0\n",
       "dtype: int64"
      ]
     },
     "execution_count": 55,
     "metadata": {},
     "output_type": "execute_result"
    }
   ],
   "source": [
    "# drop rows in solar data that do not have SolarRadiation values\n",
    "UNBC_CAM_data_solar_clean = UNBC_CAM_data_solar.dropna(subset=['Solar_Avg', ' Solar_Avg'], how='all')\n",
    "UNBC_CAM_data_solar_clean.isna().sum()"
   ]
  },
  {
   "cell_type": "code",
   "execution_count": 56,
   "metadata": {},
   "outputs": [],
   "source": [
    "UNBC_CAM_data_solar_clean.to_csv(f'{path_2}/UNBC_CAM_data_solar_clean.csv')"
   ]
  },
  {
   "cell_type": "code",
   "execution_count": 57,
   "metadata": {},
   "outputs": [
    {
     "data": {
      "text/plain": [
       " time              0\n",
       " WS_Avg      2045467\n",
       " AirTC        178388\n",
       " RH           145556\n",
       " Pressure     811623\n",
       "filename           0\n",
       "dtype: int64"
      ]
     },
     "execution_count": 57,
     "metadata": {},
     "output_type": "execute_result"
    }
   ],
   "source": [
    "# count null values in wind data\n",
    "UNBC_CAM_data_wind.isna().sum()"
   ]
  },
  {
   "cell_type": "code",
   "execution_count": 58,
   "metadata": {},
   "outputs": [
    {
     "data": {
      "text/plain": [
       " time            0\n",
       " WS_Avg          0\n",
       " AirTC       17648\n",
       " RH              0\n",
       " Pressure    18052\n",
       "filename         0\n",
       "dtype: int64"
      ]
     },
     "execution_count": 58,
     "metadata": {},
     "output_type": "execute_result"
    }
   ],
   "source": [
    "# drop rows in wind data that do not have WindSpeed values\n",
    "UNBC_CAM_data_wind_clean = UNBC_CAM_data_wind.dropna(subset=[' WS_Avg'])\n",
    "UNBC_CAM_data_wind_clean.isna().sum()"
   ]
  },
  {
   "cell_type": "code",
   "execution_count": 62,
   "metadata": {},
   "outputs": [],
   "source": [
    "# save to csv\n",
    "UNBC_CAM_data_wind_clean.to_csv(f'{path_2}/UNBC_CAM_data_wind_clean.csv')"
   ]
  }
 ],
 "metadata": {
  "kernelspec": {
   "display_name": "lhl_env",
   "language": "python",
   "name": "python3"
  },
  "language_info": {
   "codemirror_mode": {
    "name": "ipython",
    "version": 3
   },
   "file_extension": ".py",
   "mimetype": "text/x-python",
   "name": "python",
   "nbconvert_exporter": "python",
   "pygments_lexer": "ipython3",
   "version": "3.11.4"
  },
  "orig_nbformat": 4
 },
 "nbformat": 4,
 "nbformat_minor": 2
}
